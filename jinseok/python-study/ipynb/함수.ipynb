{
 "cells": [
  {
   "cell_type": "code",
   "id": "initial_id",
   "metadata": {
    "collapsed": true,
    "ExecuteTime": {
     "end_time": "2025-04-03T01:13:42.833909Z",
     "start_time": "2025-04-03T01:13:38.540927Z"
    }
   },
   "source": [
    "num1 = int(input('첫 번째 정수 입력 >> '))\n",
    "num2 = int(input('두 번째 정수 입력 >> '))\n",
    "\n",
    "def number_sub(num1, num2):\n",
    "    return num1 - num2\n",
    "# 빼기 기능을 하는 함수 두 인자값을 입력하여 호출\n",
    "result = number_sub(num1, num2)\n",
    "print(result)"
   ],
   "outputs": [
    {
     "name": "stdout",
     "output_type": "stream",
     "text": [
      "-10\n"
     ]
    }
   ],
   "execution_count": 4
  },
  {
   "metadata": {
    "ExecuteTime": {
     "end_time": "2025-04-03T01:17:07.081918Z",
     "start_time": "2025-04-03T01:17:05.126985Z"
    }
   },
   "cell_type": "code",
   "source": [
    "s = input(\"문자열 입력 >> \")\n",
    "\n",
    "def s_replace(s):\n",
    "    result = ''\n",
    "    for i in range(len(s)):\n",
    "        if(s[i] != 'ㅋ'):\n",
    "            result += s[i]\n",
    "\n",
    "    return result\n",
    "\n",
    "result = s_replace(s)\n",
    "result\n"
   ],
   "id": "a77bbfcd7d1c49f6",
   "outputs": [
    {
     "data": {
      "text/plain": [
       "'ㄴㄹㅇㄴㅇㄴ'"
      ]
     },
     "execution_count": 7,
     "metadata": {},
     "output_type": "execute_result"
    }
   ],
   "execution_count": 7
  },
  {
   "metadata": {
    "ExecuteTime": {
     "end_time": "2025-04-03T01:28:24.390614Z",
     "start_time": "2025-04-03T01:28:17.144760Z"
    }
   },
   "cell_type": "code",
   "source": [
    "num1 = int(input(\"첫 번째 정수 입력 >> \"))\n",
    "num2 = int(input(\"두 번째 정수 입력 >> \"))\n",
    "op = input(\"연산자 입력(+,-) >> \")\n",
    "\n",
    "def cal(num1, num2, op):\n",
    "    if op == '+':\n",
    "        return num1 + num2\n",
    "    else:\n",
    "        return num1 - num2\n",
    "\n",
    "result = cal(num1, num2, op)\n",
    "print(\"결과 : {}\".format(result))"
   ],
   "id": "cfb390db4e284296",
   "outputs": [
    {
     "name": "stdout",
     "output_type": "stream",
     "text": [
      "결과 : 8\n"
     ]
    }
   ],
   "execution_count": 8
  },
  {
   "metadata": {
    "ExecuteTime": {
     "end_time": "2025-04-03T01:45:02.072832Z",
     "start_time": "2025-04-03T01:45:01.791447Z"
    }
   },
   "cell_type": "code",
   "source": "import pandas as pd",
   "id": "f125315850960db1",
   "outputs": [],
   "execution_count": 9
  },
  {
   "metadata": {
    "ExecuteTime": {
     "end_time": "2025-04-03T01:45:47.761505Z",
     "start_time": "2025-04-03T01:45:47.757148Z"
    }
   },
   "cell_type": "code",
   "source": "pop = pd.Series([9600000, 3340100, 1480100, 2410100], index = ['서울','부산','광주', '대구'])",
   "id": "abbb098f1e4b285c",
   "outputs": [],
   "execution_count": 10
  },
  {
   "metadata": {
    "ExecuteTime": {
     "end_time": "2025-04-03T01:46:41.324732Z",
     "start_time": "2025-04-03T01:46:41.319435Z"
    }
   },
   "cell_type": "code",
   "source": [
    "pop.name = '인구수'\n",
    "\n",
    "pop"
   ],
   "id": "d38b72531fd79de7",
   "outputs": [
    {
     "data": {
      "text/plain": [
       "서울    9600000\n",
       "부산    3340100\n",
       "광주    1480100\n",
       "대구    2410100\n",
       "Name: 인구수, dtype: int64"
      ]
     },
     "execution_count": 13,
     "metadata": {},
     "output_type": "execute_result"
    }
   ],
   "execution_count": 13
  },
  {
   "metadata": {
    "ExecuteTime": {
     "end_time": "2025-04-03T01:46:53.489862Z",
     "start_time": "2025-04-03T01:46:53.487173Z"
    }
   },
   "cell_type": "code",
   "source": [
    "def plus_100(x):\n",
    "    return x + 100\n",
    "\n",
    "plus_100(5)"
   ],
   "id": "6144328b862dff6b",
   "outputs": [
    {
     "data": {
      "text/plain": [
       "105"
      ]
     },
     "execution_count": 14,
     "metadata": {},
     "output_type": "execute_result"
    }
   ],
   "execution_count": 14
  },
  {
   "metadata": {
    "ExecuteTime": {
     "end_time": "2025-04-03T01:48:06.156822Z",
     "start_time": "2025-04-03T01:48:06.152960Z"
    }
   },
   "cell_type": "code",
   "source": [
    "# apply 함수 사용\n",
    "# Series의 개별적 요소에 적용\n",
    "\n",
    "pop.apply(plus_100)"
   ],
   "id": "3d88d50396ddfbc2",
   "outputs": [
    {
     "data": {
      "text/plain": [
       "서울    9600100\n",
       "부산    3340200\n",
       "광주    1480200\n",
       "대구    2410200\n",
       "Name: 인구수, dtype: int64"
      ]
     },
     "execution_count": 16,
     "metadata": {},
     "output_type": "execute_result"
    }
   ],
   "execution_count": 16
  },
  {
   "metadata": {
    "ExecuteTime": {
     "end_time": "2025-04-03T01:49:22.869559Z",
     "start_time": "2025-04-03T01:49:22.865876Z"
    }
   },
   "cell_type": "code",
   "source": [
    "# 함수에 인수로 pop를 넣어보자\n",
    "plus_100(pop)\n",
    "\n",
    "# pop가 함수에 들어가서\n",
    "# return 값 :"
   ],
   "id": "f9d963b4bc1558c8",
   "outputs": [
    {
     "data": {
      "text/plain": [
       "서울    9600100\n",
       "부산    3340200\n",
       "광주    1480200\n",
       "대구    2410200\n",
       "Name: 인구수, dtype: int64"
      ]
     },
     "execution_count": 18,
     "metadata": {},
     "output_type": "execute_result"
    }
   ],
   "execution_count": 18
  },
  {
   "metadata": {
    "ExecuteTime": {
     "end_time": "2025-04-03T01:52:39.271094Z",
     "start_time": "2025-04-03T01:52:39.267367Z"
    }
   },
   "cell_type": "code",
   "source": "pop.iloc[0 : 2].apply(plus_100)\n",
   "id": "18bc1aac9279135",
   "outputs": [
    {
     "data": {
      "text/plain": [
       "서울    9600100\n",
       "부산    3340200\n",
       "Name: 인구수, dtype: int64"
      ]
     },
     "execution_count": 23,
     "metadata": {},
     "output_type": "execute_result"
    }
   ],
   "execution_count": 23
  },
  {
   "metadata": {},
   "cell_type": "markdown",
   "source": [
    "차이점\n",
    "1. plus_100(pop) : pop 자체를 함수의 인수로서(입력값) 전달 -> 반환값 : pop + 100\n",
    "2. pop.apply(plus_100) : 함수가 각각 pop의 요소에 개별적으로 접근\n",
    "-> 9600000+ 100, 3340000 + 100, ..."
   ],
   "id": "25a729db9b1124ba"
  },
  {
   "metadata": {
    "ExecuteTime": {
     "end_time": "2025-04-03T02:15:15.161112Z",
     "start_time": "2025-04-03T02:15:15.157242Z"
    }
   },
   "cell_type": "code",
   "source": [
    "def con_return(x):\n",
    "    if x >= 3000000:\n",
    "        return x\n",
    "    else:\n",
    "        return 0\n",
    "\n",
    "pop.apply(con_return)"
   ],
   "id": "dbeba17b46027c23",
   "outputs": [
    {
     "data": {
      "text/plain": [
       "서울    9600000\n",
       "부산    3340100\n",
       "광주          0\n",
       "대구          0\n",
       "Name: 인구수, dtype: int64"
      ]
     },
     "execution_count": 27,
     "metadata": {},
     "output_type": "execute_result"
    }
   ],
   "execution_count": 27
  },
  {
   "metadata": {
    "ExecuteTime": {
     "end_time": "2025-04-03T02:15:16.523695Z",
     "start_time": "2025-04-03T02:15:16.491170Z"
    }
   },
   "cell_type": "code",
   "source": "con_return(pop)",
   "id": "93546c334ebe45b",
   "outputs": [
    {
     "ename": "ValueError",
     "evalue": "The truth value of a Series is ambiguous. Use a.empty, a.bool(), a.item(), a.any() or a.all().",
     "output_type": "error",
     "traceback": [
      "\u001B[31m---------------------------------------------------------------------------\u001B[39m",
      "\u001B[31mValueError\u001B[39m                                Traceback (most recent call last)",
      "\u001B[36mCell\u001B[39m\u001B[36m \u001B[39m\u001B[32mIn[28]\u001B[39m\u001B[32m, line 1\u001B[39m\n\u001B[32m----> \u001B[39m\u001B[32m1\u001B[39m \u001B[43mcon_return\u001B[49m\u001B[43m(\u001B[49m\u001B[43mpop\u001B[49m\u001B[43m)\u001B[49m\n",
      "\u001B[36mCell\u001B[39m\u001B[36m \u001B[39m\u001B[32mIn[27]\u001B[39m\u001B[32m, line 2\u001B[39m, in \u001B[36mcon_return\u001B[39m\u001B[34m(x)\u001B[39m\n\u001B[32m      1\u001B[39m \u001B[38;5;28;01mdef\u001B[39;00m\u001B[38;5;250m \u001B[39m\u001B[34mcon_return\u001B[39m(x):\n\u001B[32m----> \u001B[39m\u001B[32m2\u001B[39m     \u001B[38;5;28;01mif\u001B[39;00m \u001B[43mx\u001B[49m\u001B[43m \u001B[49m\u001B[43m>\u001B[49m\u001B[43m=\u001B[49m\u001B[43m \u001B[49m\u001B[32;43m3000000\u001B[39;49m:\n\u001B[32m      3\u001B[39m         \u001B[38;5;28;01mreturn\u001B[39;00m x\n\u001B[32m      4\u001B[39m     \u001B[38;5;28;01melse\u001B[39;00m:\n",
      "\u001B[36mFile \u001B[39m\u001B[32m~\\AppData\\Local\\Programs\\Python\\Python313\\Lib\\site-packages\\pandas\\core\\generic.py:1577\u001B[39m, in \u001B[36mNDFrame.__nonzero__\u001B[39m\u001B[34m(self)\u001B[39m\n\u001B[32m   1575\u001B[39m \u001B[38;5;129m@final\u001B[39m\n\u001B[32m   1576\u001B[39m \u001B[38;5;28;01mdef\u001B[39;00m\u001B[38;5;250m \u001B[39m\u001B[34m__nonzero__\u001B[39m(\u001B[38;5;28mself\u001B[39m) -> NoReturn:\n\u001B[32m-> \u001B[39m\u001B[32m1577\u001B[39m     \u001B[38;5;28;01mraise\u001B[39;00m \u001B[38;5;167;01mValueError\u001B[39;00m(\n\u001B[32m   1578\u001B[39m         \u001B[33mf\u001B[39m\u001B[33m\"\u001B[39m\u001B[33mThe truth value of a \u001B[39m\u001B[38;5;132;01m{\u001B[39;00m\u001B[38;5;28mtype\u001B[39m(\u001B[38;5;28mself\u001B[39m).\u001B[34m__name__\u001B[39m\u001B[38;5;132;01m}\u001B[39;00m\u001B[33m is ambiguous. \u001B[39m\u001B[33m\"\u001B[39m\n\u001B[32m   1579\u001B[39m         \u001B[33m\"\u001B[39m\u001B[33mUse a.empty, a.bool(), a.item(), a.any() or a.all().\u001B[39m\u001B[33m\"\u001B[39m\n\u001B[32m   1580\u001B[39m     )\n",
      "\u001B[31mValueError\u001B[39m: The truth value of a Series is ambiguous. Use a.empty, a.bool(), a.item(), a.any() or a.all()."
     ]
    }
   ],
   "execution_count": 28
  },
  {
   "metadata": {
    "ExecuteTime": {
     "end_time": "2025-04-03T02:20:05.432293Z",
     "start_time": "2025-04-03T02:20:05.428822Z"
    }
   },
   "cell_type": "code",
   "source": [
    "# lambda x : 익명함수 정의(잠깐 사용 할 함수)\n",
    "\n",
    "pop.apply(lambda x : x + 200)"
   ],
   "id": "c4794ab7d835d592",
   "outputs": [
    {
     "data": {
      "text/plain": [
       "서울    9600200\n",
       "부산    3340300\n",
       "광주    1480300\n",
       "대구    2410300\n",
       "Name: 인구수, dtype: int64"
      ]
     },
     "execution_count": 31,
     "metadata": {},
     "output_type": "execute_result"
    }
   ],
   "execution_count": 31
  },
  {
   "metadata": {
    "ExecuteTime": {
     "end_time": "2025-04-03T02:21:38.644437Z",
     "start_time": "2025-04-03T02:21:38.636528Z"
    }
   },
   "cell_type": "code",
   "source": [
    "# 숫자에 천 단위 구분 기호 추가\n",
    "pop.apply(lambda x : f'{x:,}')\n",
    "\n",
    "# 문자열 포멧팅 f'(x:}' x라는 변수에 특정 포멧팅을 적용시키고 싶을때 적용"
   ],
   "id": "e9a0ae33a3a40743",
   "outputs": [
    {
     "data": {
      "text/plain": [
       "서울    9,600,000\n",
       "부산    3,340,100\n",
       "광주    1,480,100\n",
       "대구    2,410,100\n",
       "Name: 인구수, dtype: object"
      ]
     },
     "execution_count": 33,
     "metadata": {},
     "output_type": "execute_result"
    }
   ],
   "execution_count": 33
  },
  {
   "metadata": {
    "ExecuteTime": {
     "end_time": "2025-04-03T02:22:37.261509Z",
     "start_time": "2025-04-03T02:22:37.257847Z"
    }
   },
   "cell_type": "code",
   "source": [
    "# 레이블링\n",
    "pop.apply(lambda x: '대도시' if x > 3000000 else '중소도시')\n"
   ],
   "id": "58312bb8db0d15d7",
   "outputs": [
    {
     "data": {
      "text/plain": [
       "서울     대도시\n",
       "부산     대도시\n",
       "광주    중소도시\n",
       "대구    중소도시\n",
       "Name: 인구수, dtype: object"
      ]
     },
     "execution_count": 34,
     "metadata": {},
     "output_type": "execute_result"
    }
   ],
   "execution_count": 34
  },
  {
   "metadata": {
    "ExecuteTime": {
     "end_time": "2025-04-03T02:22:41.350992Z",
     "start_time": "2025-04-03T02:22:41.347126Z"
    }
   },
   "cell_type": "code",
   "source": [
    "# 제곱\n",
    "pop.apply(lambda x: x ** 2)\n"
   ],
   "id": "e1dee514f406f649",
   "outputs": [
    {
     "data": {
      "text/plain": [
       "서울    92160000000000\n",
       "부산    11156268010000\n",
       "광주     2190696010000\n",
       "대구     5808582010000\n",
       "Name: 인구수, dtype: int64"
      ]
     },
     "execution_count": 35,
     "metadata": {},
     "output_type": "execute_result"
    }
   ],
   "execution_count": 35
  },
  {
   "metadata": {
    "ExecuteTime": {
     "end_time": "2025-04-03T02:23:15.863833Z",
     "start_time": "2025-04-03T02:23:15.859778Z"
    }
   },
   "cell_type": "code",
   "source": [
    "# 백분율\n",
    "pop.apply(lambda x: f'{x / 10000:.2f}만 명')\n"
   ],
   "id": "4bbdba4216943143",
   "outputs": [
    {
     "data": {
      "text/plain": [
       "서울    960.00만 명\n",
       "부산    334.01만 명\n",
       "광주    148.01만 명\n",
       "대구    241.01만 명\n",
       "Name: 인구수, dtype: object"
      ]
     },
     "execution_count": 36,
     "metadata": {},
     "output_type": "execute_result"
    }
   ],
   "execution_count": 36
  },
  {
   "metadata": {
    "ExecuteTime": {
     "end_time": "2025-04-03T02:23:43.079158Z",
     "start_time": "2025-04-03T02:23:43.075252Z"
    }
   },
   "cell_type": "code",
   "source": [
    "# 로그\n",
    "import numpy as np\n",
    "pop.apply(lambda x: np.log10(x))\n"
   ],
   "id": "2447072c4b7aa280",
   "outputs": [
    {
     "data": {
      "text/plain": [
       "서울    6.982271\n",
       "부산    6.523759\n",
       "광주    6.170291\n",
       "대구    6.382035\n",
       "Name: 인구수, dtype: float64"
      ]
     },
     "execution_count": 39,
     "metadata": {},
     "output_type": "execute_result"
    }
   ],
   "execution_count": 39
  },
  {
   "metadata": {
    "ExecuteTime": {
     "end_time": "2025-04-03T02:23:54.960318Z",
     "start_time": "2025-04-03T02:23:54.956379Z"
    }
   },
   "cell_type": "code",
   "source": [
    "# 순위, 등급\n",
    "pop.apply(lambda x: '1등급' if x > 5000000 else ('2등급' if x > 3000000 else '3등급'))\n",
    "\n"
   ],
   "id": "8f2ae095b757a281",
   "outputs": [
    {
     "data": {
      "text/plain": [
       "서울    1등급\n",
       "부산    2등급\n",
       "광주    3등급\n",
       "대구    3등급\n",
       "Name: 인구수, dtype: object"
      ]
     },
     "execution_count": 40,
     "metadata": {},
     "output_type": "execute_result"
    }
   ],
   "execution_count": 40
  },
  {
   "metadata": {
    "ExecuteTime": {
     "end_time": "2025-04-03T02:24:03.337528Z",
     "start_time": "2025-04-03T02:24:03.333054Z"
    }
   },
   "cell_type": "code",
   "source": [
    "# 패딩\n",
    "pop.apply(lambda x: f'{x:010d}')  # 10자리로 0으로 채움\n"
   ],
   "id": "2a9e69d8d6a60d14",
   "outputs": [
    {
     "data": {
      "text/plain": [
       "서울    0009600000\n",
       "부산    0003340100\n",
       "광주    0001480100\n",
       "대구    0002410100\n",
       "Name: 인구수, dtype: object"
      ]
     },
     "execution_count": 41,
     "metadata": {},
     "output_type": "execute_result"
    }
   ],
   "execution_count": 41
  },
  {
   "metadata": {},
   "cell_type": "code",
   "outputs": [],
   "execution_count": null,
   "source": "",
   "id": "3fe92c5baac08c41"
  }
 ],
 "metadata": {
  "kernelspec": {
   "display_name": "Python 3",
   "language": "python",
   "name": "python3"
  },
  "language_info": {
   "codemirror_mode": {
    "name": "ipython",
    "version": 2
   },
   "file_extension": ".py",
   "mimetype": "text/x-python",
   "name": "python",
   "nbconvert_exporter": "python",
   "pygments_lexer": "ipython2",
   "version": "2.7.6"
  }
 },
 "nbformat": 4,
 "nbformat_minor": 5
}
