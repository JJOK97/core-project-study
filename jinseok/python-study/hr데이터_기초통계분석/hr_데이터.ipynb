{
 "cells": [
  {
   "cell_type": "code",
   "execution_count": null,
   "id": "initial_id",
   "metadata": {
    "collapsed": true
   },
   "outputs": [],
   "source": ""
  },
  {
   "metadata": {},
   "cell_type": "markdown",
   "source": [
    "#### 데이터 탐색을 위한 기술 통계 분석 실습\n",
    "#### 1. 기술 통계량 확인하기\n"
   ],
   "id": "4d93b19d8bfa2df3"
  },
  {
   "metadata": {
    "ExecuteTime": {
     "end_time": "2025-04-04T02:23:11.855460Z",
     "start_time": "2025-04-04T02:23:11.853561Z"
    }
   },
   "cell_type": "code",
   "source": "# 데이터 로드",
   "id": "8dfce8a17a506582",
   "outputs": [],
   "execution_count": 1
  },
  {
   "metadata": {
    "ExecuteTime": {
     "end_time": "2025-04-04T02:26:22.543721Z",
     "start_time": "2025-04-04T02:26:22.541415Z"
    }
   },
   "cell_type": "code",
   "source": [
    "from itertools import groupby\n",
    "\n",
    "import pandas as pd\n",
    "import os"
   ],
   "id": "a01fa6758d5874d2",
   "outputs": [],
   "execution_count": 2
  },
  {
   "metadata": {
    "ExecuteTime": {
     "end_time": "2025-04-04T02:26:27.428509Z",
     "start_time": "2025-04-04T02:26:27.425838Z"
    }
   },
   "cell_type": "code",
   "source": "print(os.getcwd())",
   "id": "124792629bc27711",
   "outputs": [
    {
     "name": "stdout",
     "output_type": "stream",
     "text": [
      "C:\\Users\\1\\Desktop\\workspace\\core-project-study\\jinseok\\python-study\\hr데이터_기초통계분석\n"
     ]
    }
   ],
   "execution_count": 3
  },
  {
   "metadata": {
    "ExecuteTime": {
     "end_time": "2025-04-04T02:28:18.936735Z",
     "start_time": "2025-04-04T02:28:18.933197Z"
    }
   },
   "cell_type": "code",
   "source": [
    "# 작업 디렉토리 변경\n",
    "os.chdir('C:\\\\Users\\\\1\\\\Desktop\\\\workspace\\\\core-project-study\\\\jinseok\\\\python-study\\\\data')"
   ],
   "id": "3ceb6621589bff46",
   "outputs": [],
   "execution_count": 5
  },
  {
   "metadata": {
    "ExecuteTime": {
     "end_time": "2025-04-04T02:28:40.902277Z",
     "start_time": "2025-04-04T02:28:40.898754Z"
    }
   },
   "cell_type": "code",
   "source": "print(os.getcwd())",
   "id": "aeb4d836186cba2a",
   "outputs": [
    {
     "name": "stdout",
     "output_type": "stream",
     "text": [
      "C:\\Users\\1\\Desktop\\workspace\\core-project-study\\jinseok\\python-study\\data\n"
     ]
    }
   ],
   "execution_count": 7
  },
  {
   "metadata": {
    "ExecuteTime": {
     "end_time": "2025-04-04T02:36:02.313187Z",
     "start_time": "2025-04-04T02:36:02.296256Z"
    }
   },
   "cell_type": "code",
   "source": [
    "hr_info = pd.read_csv('hr-info.csv', encoding='euc-kr')\n",
    "hr_info"
   ],
   "id": "7c404c1b24b5c3ec",
   "outputs": [
    {
     "data": {
      "text/plain": [
       "        EID ENAME GENDER  ORG_CD POS_CD  AGE  SERVICE_YEAR EDU_LEVEL  \\\n",
       "0    E00206   시이오      M     NaN   P001   49            25     박사 학위   \n",
       "1    E00181   나사장      F     NaN   P002   49            24     박사 학위   \n",
       "2    E00164  난부사장      M     NaN   P003   48            22     박사 학위   \n",
       "3    E00190   판라다      F  ORG007   P004   47            18     박사 학위   \n",
       "4    E00209   누훈봉      M  ORG023   P004   47            19     박사 학위   \n",
       "..      ...   ...    ...     ...    ...  ...           ...       ...   \n",
       "195  E00322   부탐회      F  ORG014   P009   23             0     학사 학위   \n",
       "196  E00389   초두반      F  ORG012   P009   23             0     학사 학위   \n",
       "197  E00438   권개득      M  ORG024   P009   23             0     학사 학위   \n",
       "198  E00304   탐출조      M  ORG009   P009   24             0     학사 학위   \n",
       "199  E00428   을충나      F  ORG003   P009   24             0     학사 학위   \n",
       "\n",
       "     PERFORMANCE_SCORE  SALARY LAST_PROMO_DT  TRAINING_HOURS  \\\n",
       "0                 4.50   10200    2024-03-01             240   \n",
       "1                 4.60    9500    2024-03-01             236   \n",
       "2                 4.60    9100    2024-03-01             240   \n",
       "3                 3.51    8500    2024-03-01              96   \n",
       "4                 3.38    8600    2023-03-01              66   \n",
       "..                 ...     ...           ...             ...   \n",
       "195               0.00    4500           NaN               4   \n",
       "196               0.00    4500           NaN               4   \n",
       "197               0.00    4500           NaN               4   \n",
       "198               0.00    4500           NaN               4   \n",
       "199               0.00    4500           NaN               4   \n",
       "\n",
       "                               SKILLS ACTIVE_STATE   HIRE_DATE RETIRE_DATE  \\\n",
       "0               Marketing, Salesforce            Y  1999-03-01         NaN   \n",
       "1       Project Management, Marketing            Y  2000-03-01         NaN   \n",
       "2     Salesforce, Data Analysis, Java            Y  2002-03-01         NaN   \n",
       "3     Java, Data Analysis, Salesforce            Y  2006-03-01         NaN   \n",
       "4                    Java, Salesforce            Y  2005-03-01         NaN   \n",
       "..                                ...          ...         ...         ...   \n",
       "195                              Java            Y  2024-09-01         NaN   \n",
       "196                  Salesforce, Java            Y  2024-09-01         NaN   \n",
       "197                            Python            Y  2024-09-01         NaN   \n",
       "198                        Salesforce            Y  2024-09-01         NaN   \n",
       "199  Data Analysis, Python, Marketing            Y  2024-09-01         NaN   \n",
       "\n",
       "    RETIRE_REASON REHIRE_YN NATION ROUNDING_DEDUCTION  \n",
       "0             NaN       NaN  KOREA                  Y  \n",
       "1             NaN       NaN  KOREA                  Y  \n",
       "2             NaN       NaN  KOREA                  Y  \n",
       "3             NaN       NaN  KOREA                  Y  \n",
       "4             NaN       NaN  KOREA                  Y  \n",
       "..            ...       ...    ...                ...  \n",
       "195           NaN       NaN  KOREA                  N  \n",
       "196           NaN       NaN  KOREA                  N  \n",
       "197           NaN       NaN  KOREA                  N  \n",
       "198           NaN       NaN  KOREA                  N  \n",
       "199           NaN       NaN  KOREA                  N  \n",
       "\n",
       "[200 rows x 20 columns]"
      ],
      "text/html": [
       "<div>\n",
       "<style scoped>\n",
       "    .dataframe tbody tr th:only-of-type {\n",
       "        vertical-align: middle;\n",
       "    }\n",
       "\n",
       "    .dataframe tbody tr th {\n",
       "        vertical-align: top;\n",
       "    }\n",
       "\n",
       "    .dataframe thead th {\n",
       "        text-align: right;\n",
       "    }\n",
       "</style>\n",
       "<table border=\"1\" class=\"dataframe\">\n",
       "  <thead>\n",
       "    <tr style=\"text-align: right;\">\n",
       "      <th></th>\n",
       "      <th>EID</th>\n",
       "      <th>ENAME</th>\n",
       "      <th>GENDER</th>\n",
       "      <th>ORG_CD</th>\n",
       "      <th>POS_CD</th>\n",
       "      <th>AGE</th>\n",
       "      <th>SERVICE_YEAR</th>\n",
       "      <th>EDU_LEVEL</th>\n",
       "      <th>PERFORMANCE_SCORE</th>\n",
       "      <th>SALARY</th>\n",
       "      <th>LAST_PROMO_DT</th>\n",
       "      <th>TRAINING_HOURS</th>\n",
       "      <th>SKILLS</th>\n",
       "      <th>ACTIVE_STATE</th>\n",
       "      <th>HIRE_DATE</th>\n",
       "      <th>RETIRE_DATE</th>\n",
       "      <th>RETIRE_REASON</th>\n",
       "      <th>REHIRE_YN</th>\n",
       "      <th>NATION</th>\n",
       "      <th>ROUNDING_DEDUCTION</th>\n",
       "    </tr>\n",
       "  </thead>\n",
       "  <tbody>\n",
       "    <tr>\n",
       "      <th>0</th>\n",
       "      <td>E00206</td>\n",
       "      <td>시이오</td>\n",
       "      <td>M</td>\n",
       "      <td>NaN</td>\n",
       "      <td>P001</td>\n",
       "      <td>49</td>\n",
       "      <td>25</td>\n",
       "      <td>박사 학위</td>\n",
       "      <td>4.50</td>\n",
       "      <td>10200</td>\n",
       "      <td>2024-03-01</td>\n",
       "      <td>240</td>\n",
       "      <td>Marketing, Salesforce</td>\n",
       "      <td>Y</td>\n",
       "      <td>1999-03-01</td>\n",
       "      <td>NaN</td>\n",
       "      <td>NaN</td>\n",
       "      <td>NaN</td>\n",
       "      <td>KOREA</td>\n",
       "      <td>Y</td>\n",
       "    </tr>\n",
       "    <tr>\n",
       "      <th>1</th>\n",
       "      <td>E00181</td>\n",
       "      <td>나사장</td>\n",
       "      <td>F</td>\n",
       "      <td>NaN</td>\n",
       "      <td>P002</td>\n",
       "      <td>49</td>\n",
       "      <td>24</td>\n",
       "      <td>박사 학위</td>\n",
       "      <td>4.60</td>\n",
       "      <td>9500</td>\n",
       "      <td>2024-03-01</td>\n",
       "      <td>236</td>\n",
       "      <td>Project Management, Marketing</td>\n",
       "      <td>Y</td>\n",
       "      <td>2000-03-01</td>\n",
       "      <td>NaN</td>\n",
       "      <td>NaN</td>\n",
       "      <td>NaN</td>\n",
       "      <td>KOREA</td>\n",
       "      <td>Y</td>\n",
       "    </tr>\n",
       "    <tr>\n",
       "      <th>2</th>\n",
       "      <td>E00164</td>\n",
       "      <td>난부사장</td>\n",
       "      <td>M</td>\n",
       "      <td>NaN</td>\n",
       "      <td>P003</td>\n",
       "      <td>48</td>\n",
       "      <td>22</td>\n",
       "      <td>박사 학위</td>\n",
       "      <td>4.60</td>\n",
       "      <td>9100</td>\n",
       "      <td>2024-03-01</td>\n",
       "      <td>240</td>\n",
       "      <td>Salesforce, Data Analysis, Java</td>\n",
       "      <td>Y</td>\n",
       "      <td>2002-03-01</td>\n",
       "      <td>NaN</td>\n",
       "      <td>NaN</td>\n",
       "      <td>NaN</td>\n",
       "      <td>KOREA</td>\n",
       "      <td>Y</td>\n",
       "    </tr>\n",
       "    <tr>\n",
       "      <th>3</th>\n",
       "      <td>E00190</td>\n",
       "      <td>판라다</td>\n",
       "      <td>F</td>\n",
       "      <td>ORG007</td>\n",
       "      <td>P004</td>\n",
       "      <td>47</td>\n",
       "      <td>18</td>\n",
       "      <td>박사 학위</td>\n",
       "      <td>3.51</td>\n",
       "      <td>8500</td>\n",
       "      <td>2024-03-01</td>\n",
       "      <td>96</td>\n",
       "      <td>Java, Data Analysis, Salesforce</td>\n",
       "      <td>Y</td>\n",
       "      <td>2006-03-01</td>\n",
       "      <td>NaN</td>\n",
       "      <td>NaN</td>\n",
       "      <td>NaN</td>\n",
       "      <td>KOREA</td>\n",
       "      <td>Y</td>\n",
       "    </tr>\n",
       "    <tr>\n",
       "      <th>4</th>\n",
       "      <td>E00209</td>\n",
       "      <td>누훈봉</td>\n",
       "      <td>M</td>\n",
       "      <td>ORG023</td>\n",
       "      <td>P004</td>\n",
       "      <td>47</td>\n",
       "      <td>19</td>\n",
       "      <td>박사 학위</td>\n",
       "      <td>3.38</td>\n",
       "      <td>8600</td>\n",
       "      <td>2023-03-01</td>\n",
       "      <td>66</td>\n",
       "      <td>Java, Salesforce</td>\n",
       "      <td>Y</td>\n",
       "      <td>2005-03-01</td>\n",
       "      <td>NaN</td>\n",
       "      <td>NaN</td>\n",
       "      <td>NaN</td>\n",
       "      <td>KOREA</td>\n",
       "      <td>Y</td>\n",
       "    </tr>\n",
       "    <tr>\n",
       "      <th>...</th>\n",
       "      <td>...</td>\n",
       "      <td>...</td>\n",
       "      <td>...</td>\n",
       "      <td>...</td>\n",
       "      <td>...</td>\n",
       "      <td>...</td>\n",
       "      <td>...</td>\n",
       "      <td>...</td>\n",
       "      <td>...</td>\n",
       "      <td>...</td>\n",
       "      <td>...</td>\n",
       "      <td>...</td>\n",
       "      <td>...</td>\n",
       "      <td>...</td>\n",
       "      <td>...</td>\n",
       "      <td>...</td>\n",
       "      <td>...</td>\n",
       "      <td>...</td>\n",
       "      <td>...</td>\n",
       "      <td>...</td>\n",
       "    </tr>\n",
       "    <tr>\n",
       "      <th>195</th>\n",
       "      <td>E00322</td>\n",
       "      <td>부탐회</td>\n",
       "      <td>F</td>\n",
       "      <td>ORG014</td>\n",
       "      <td>P009</td>\n",
       "      <td>23</td>\n",
       "      <td>0</td>\n",
       "      <td>학사 학위</td>\n",
       "      <td>0.00</td>\n",
       "      <td>4500</td>\n",
       "      <td>NaN</td>\n",
       "      <td>4</td>\n",
       "      <td>Java</td>\n",
       "      <td>Y</td>\n",
       "      <td>2024-09-01</td>\n",
       "      <td>NaN</td>\n",
       "      <td>NaN</td>\n",
       "      <td>NaN</td>\n",
       "      <td>KOREA</td>\n",
       "      <td>N</td>\n",
       "    </tr>\n",
       "    <tr>\n",
       "      <th>196</th>\n",
       "      <td>E00389</td>\n",
       "      <td>초두반</td>\n",
       "      <td>F</td>\n",
       "      <td>ORG012</td>\n",
       "      <td>P009</td>\n",
       "      <td>23</td>\n",
       "      <td>0</td>\n",
       "      <td>학사 학위</td>\n",
       "      <td>0.00</td>\n",
       "      <td>4500</td>\n",
       "      <td>NaN</td>\n",
       "      <td>4</td>\n",
       "      <td>Salesforce, Java</td>\n",
       "      <td>Y</td>\n",
       "      <td>2024-09-01</td>\n",
       "      <td>NaN</td>\n",
       "      <td>NaN</td>\n",
       "      <td>NaN</td>\n",
       "      <td>KOREA</td>\n",
       "      <td>N</td>\n",
       "    </tr>\n",
       "    <tr>\n",
       "      <th>197</th>\n",
       "      <td>E00438</td>\n",
       "      <td>권개득</td>\n",
       "      <td>M</td>\n",
       "      <td>ORG024</td>\n",
       "      <td>P009</td>\n",
       "      <td>23</td>\n",
       "      <td>0</td>\n",
       "      <td>학사 학위</td>\n",
       "      <td>0.00</td>\n",
       "      <td>4500</td>\n",
       "      <td>NaN</td>\n",
       "      <td>4</td>\n",
       "      <td>Python</td>\n",
       "      <td>Y</td>\n",
       "      <td>2024-09-01</td>\n",
       "      <td>NaN</td>\n",
       "      <td>NaN</td>\n",
       "      <td>NaN</td>\n",
       "      <td>KOREA</td>\n",
       "      <td>N</td>\n",
       "    </tr>\n",
       "    <tr>\n",
       "      <th>198</th>\n",
       "      <td>E00304</td>\n",
       "      <td>탐출조</td>\n",
       "      <td>M</td>\n",
       "      <td>ORG009</td>\n",
       "      <td>P009</td>\n",
       "      <td>24</td>\n",
       "      <td>0</td>\n",
       "      <td>학사 학위</td>\n",
       "      <td>0.00</td>\n",
       "      <td>4500</td>\n",
       "      <td>NaN</td>\n",
       "      <td>4</td>\n",
       "      <td>Salesforce</td>\n",
       "      <td>Y</td>\n",
       "      <td>2024-09-01</td>\n",
       "      <td>NaN</td>\n",
       "      <td>NaN</td>\n",
       "      <td>NaN</td>\n",
       "      <td>KOREA</td>\n",
       "      <td>N</td>\n",
       "    </tr>\n",
       "    <tr>\n",
       "      <th>199</th>\n",
       "      <td>E00428</td>\n",
       "      <td>을충나</td>\n",
       "      <td>F</td>\n",
       "      <td>ORG003</td>\n",
       "      <td>P009</td>\n",
       "      <td>24</td>\n",
       "      <td>0</td>\n",
       "      <td>학사 학위</td>\n",
       "      <td>0.00</td>\n",
       "      <td>4500</td>\n",
       "      <td>NaN</td>\n",
       "      <td>4</td>\n",
       "      <td>Data Analysis, Python, Marketing</td>\n",
       "      <td>Y</td>\n",
       "      <td>2024-09-01</td>\n",
       "      <td>NaN</td>\n",
       "      <td>NaN</td>\n",
       "      <td>NaN</td>\n",
       "      <td>KOREA</td>\n",
       "      <td>N</td>\n",
       "    </tr>\n",
       "  </tbody>\n",
       "</table>\n",
       "<p>200 rows × 20 columns</p>\n",
       "</div>"
      ]
     },
     "execution_count": 10,
     "metadata": {},
     "output_type": "execute_result"
    }
   ],
   "execution_count": 10
  },
  {
   "metadata": {
    "ExecuteTime": {
     "end_time": "2025-04-04T02:37:14.120360Z",
     "start_time": "2025-04-04T02:37:14.108482Z"
    }
   },
   "cell_type": "code",
   "source": [
    "# 기술 통계량 확인\n",
    "hr_info.describe()"
   ],
   "id": "ad323252c89d0a1b",
   "outputs": [
    {
     "data": {
      "text/plain": [
       "              AGE  SERVICE_YEAR  PERFORMANCE_SCORE        SALARY  \\\n",
       "count  200.000000    200.000000         200.000000    200.000000   \n",
       "mean    31.930000      4.660000           1.919900   5987.000000   \n",
       "std      7.111114      6.183492           1.748062   1182.676889   \n",
       "min     22.000000      0.000000           0.000000   4500.000000   \n",
       "25%     27.000000      0.000000           0.000000   5000.000000   \n",
       "50%     30.000000      1.000000           1.795000   5600.000000   \n",
       "75%     37.000000      8.000000           3.412500   6825.000000   \n",
       "max     49.000000     25.000000           4.960000  10200.000000   \n",
       "\n",
       "       TRAINING_HOURS  \n",
       "count      200.000000  \n",
       "mean        34.745000  \n",
       "std         40.470971  \n",
       "min          0.000000  \n",
       "25%          4.000000  \n",
       "50%         21.000000  \n",
       "75%         56.750000  \n",
       "max        240.000000  "
      ],
      "text/html": [
       "<div>\n",
       "<style scoped>\n",
       "    .dataframe tbody tr th:only-of-type {\n",
       "        vertical-align: middle;\n",
       "    }\n",
       "\n",
       "    .dataframe tbody tr th {\n",
       "        vertical-align: top;\n",
       "    }\n",
       "\n",
       "    .dataframe thead th {\n",
       "        text-align: right;\n",
       "    }\n",
       "</style>\n",
       "<table border=\"1\" class=\"dataframe\">\n",
       "  <thead>\n",
       "    <tr style=\"text-align: right;\">\n",
       "      <th></th>\n",
       "      <th>AGE</th>\n",
       "      <th>SERVICE_YEAR</th>\n",
       "      <th>PERFORMANCE_SCORE</th>\n",
       "      <th>SALARY</th>\n",
       "      <th>TRAINING_HOURS</th>\n",
       "    </tr>\n",
       "  </thead>\n",
       "  <tbody>\n",
       "    <tr>\n",
       "      <th>count</th>\n",
       "      <td>200.000000</td>\n",
       "      <td>200.000000</td>\n",
       "      <td>200.000000</td>\n",
       "      <td>200.000000</td>\n",
       "      <td>200.000000</td>\n",
       "    </tr>\n",
       "    <tr>\n",
       "      <th>mean</th>\n",
       "      <td>31.930000</td>\n",
       "      <td>4.660000</td>\n",
       "      <td>1.919900</td>\n",
       "      <td>5987.000000</td>\n",
       "      <td>34.745000</td>\n",
       "    </tr>\n",
       "    <tr>\n",
       "      <th>std</th>\n",
       "      <td>7.111114</td>\n",
       "      <td>6.183492</td>\n",
       "      <td>1.748062</td>\n",
       "      <td>1182.676889</td>\n",
       "      <td>40.470971</td>\n",
       "    </tr>\n",
       "    <tr>\n",
       "      <th>min</th>\n",
       "      <td>22.000000</td>\n",
       "      <td>0.000000</td>\n",
       "      <td>0.000000</td>\n",
       "      <td>4500.000000</td>\n",
       "      <td>0.000000</td>\n",
       "    </tr>\n",
       "    <tr>\n",
       "      <th>25%</th>\n",
       "      <td>27.000000</td>\n",
       "      <td>0.000000</td>\n",
       "      <td>0.000000</td>\n",
       "      <td>5000.000000</td>\n",
       "      <td>4.000000</td>\n",
       "    </tr>\n",
       "    <tr>\n",
       "      <th>50%</th>\n",
       "      <td>30.000000</td>\n",
       "      <td>1.000000</td>\n",
       "      <td>1.795000</td>\n",
       "      <td>5600.000000</td>\n",
       "      <td>21.000000</td>\n",
       "    </tr>\n",
       "    <tr>\n",
       "      <th>75%</th>\n",
       "      <td>37.000000</td>\n",
       "      <td>8.000000</td>\n",
       "      <td>3.412500</td>\n",
       "      <td>6825.000000</td>\n",
       "      <td>56.750000</td>\n",
       "    </tr>\n",
       "    <tr>\n",
       "      <th>max</th>\n",
       "      <td>49.000000</td>\n",
       "      <td>25.000000</td>\n",
       "      <td>4.960000</td>\n",
       "      <td>10200.000000</td>\n",
       "      <td>240.000000</td>\n",
       "    </tr>\n",
       "  </tbody>\n",
       "</table>\n",
       "</div>"
      ]
     },
     "execution_count": 11,
     "metadata": {},
     "output_type": "execute_result"
    }
   ],
   "execution_count": 11
  },
  {
   "metadata": {
    "ExecuteTime": {
     "end_time": "2025-04-04T02:40:22.980942Z",
     "start_time": "2025-04-04T02:40:22.977099Z"
    }
   },
   "cell_type": "code",
   "source": "hr_info.columns",
   "id": "8e082901e6b287b7",
   "outputs": [
    {
     "data": {
      "text/plain": [
       "Index(['EID', 'ENAME', 'GENDER', 'ORG_CD', 'POS_CD', 'AGE', 'SERVICE_YEAR',\n",
       "       'EDU_LEVEL', 'PERFORMANCE_SCORE', 'SALARY', 'LAST_PROMO_DT',\n",
       "       'TRAINING_HOURS', 'SKILLS', 'ACTIVE_STATE', 'HIRE_DATE', 'RETIRE_DATE',\n",
       "       'RETIRE_REASON', 'REHIRE_YN', 'NATION', 'ROUNDING_DEDUCTION'],\n",
       "      dtype='object')"
      ]
     },
     "execution_count": 12,
     "metadata": {},
     "output_type": "execute_result"
    }
   ],
   "execution_count": 12
  },
  {
   "metadata": {
    "ExecuteTime": {
     "end_time": "2025-04-04T02:40:54.718808Z",
     "start_time": "2025-04-04T02:40:54.702426Z"
    }
   },
   "cell_type": "code",
   "source": "hr_info.describe(include=['object'])",
   "id": "b9f28b822512574d",
   "outputs": [
    {
     "data": {
      "text/plain": [
       "           EID ENAME GENDER  ORG_CD POS_CD EDU_LEVEL LAST_PROMO_DT  \\\n",
       "count      200   200    200     197    200       200           182   \n",
       "unique     200   200      2      30      9         5             4   \n",
       "top     E00206   시이오      M  ORG023   P008     학사 학위    2024-03-01   \n",
       "freq         1     1    117      12     55       159           111   \n",
       "\n",
       "            SKILLS ACTIVE_STATE   HIRE_DATE RETIRE_DATE RETIRE_REASON  \\\n",
       "count          200          200         200          49            49   \n",
       "unique          91            2          16           8             6   \n",
       "top     Salesforce            Y  2024-03-01  2024-03-01            이직   \n",
       "freq            24          151          64          19            28   \n",
       "\n",
       "       REHIRE_YN NATION ROUNDING_DEDUCTION  \n",
       "count         49    200                200  \n",
       "unique         2      6                  2  \n",
       "top            N  KOREA                  Y  \n",
       "freq          45    102                150  "
      ],
      "text/html": [
       "<div>\n",
       "<style scoped>\n",
       "    .dataframe tbody tr th:only-of-type {\n",
       "        vertical-align: middle;\n",
       "    }\n",
       "\n",
       "    .dataframe tbody tr th {\n",
       "        vertical-align: top;\n",
       "    }\n",
       "\n",
       "    .dataframe thead th {\n",
       "        text-align: right;\n",
       "    }\n",
       "</style>\n",
       "<table border=\"1\" class=\"dataframe\">\n",
       "  <thead>\n",
       "    <tr style=\"text-align: right;\">\n",
       "      <th></th>\n",
       "      <th>EID</th>\n",
       "      <th>ENAME</th>\n",
       "      <th>GENDER</th>\n",
       "      <th>ORG_CD</th>\n",
       "      <th>POS_CD</th>\n",
       "      <th>EDU_LEVEL</th>\n",
       "      <th>LAST_PROMO_DT</th>\n",
       "      <th>SKILLS</th>\n",
       "      <th>ACTIVE_STATE</th>\n",
       "      <th>HIRE_DATE</th>\n",
       "      <th>RETIRE_DATE</th>\n",
       "      <th>RETIRE_REASON</th>\n",
       "      <th>REHIRE_YN</th>\n",
       "      <th>NATION</th>\n",
       "      <th>ROUNDING_DEDUCTION</th>\n",
       "    </tr>\n",
       "  </thead>\n",
       "  <tbody>\n",
       "    <tr>\n",
       "      <th>count</th>\n",
       "      <td>200</td>\n",
       "      <td>200</td>\n",
       "      <td>200</td>\n",
       "      <td>197</td>\n",
       "      <td>200</td>\n",
       "      <td>200</td>\n",
       "      <td>182</td>\n",
       "      <td>200</td>\n",
       "      <td>200</td>\n",
       "      <td>200</td>\n",
       "      <td>49</td>\n",
       "      <td>49</td>\n",
       "      <td>49</td>\n",
       "      <td>200</td>\n",
       "      <td>200</td>\n",
       "    </tr>\n",
       "    <tr>\n",
       "      <th>unique</th>\n",
       "      <td>200</td>\n",
       "      <td>200</td>\n",
       "      <td>2</td>\n",
       "      <td>30</td>\n",
       "      <td>9</td>\n",
       "      <td>5</td>\n",
       "      <td>4</td>\n",
       "      <td>91</td>\n",
       "      <td>2</td>\n",
       "      <td>16</td>\n",
       "      <td>8</td>\n",
       "      <td>6</td>\n",
       "      <td>2</td>\n",
       "      <td>6</td>\n",
       "      <td>2</td>\n",
       "    </tr>\n",
       "    <tr>\n",
       "      <th>top</th>\n",
       "      <td>E00206</td>\n",
       "      <td>시이오</td>\n",
       "      <td>M</td>\n",
       "      <td>ORG023</td>\n",
       "      <td>P008</td>\n",
       "      <td>학사 학위</td>\n",
       "      <td>2024-03-01</td>\n",
       "      <td>Salesforce</td>\n",
       "      <td>Y</td>\n",
       "      <td>2024-03-01</td>\n",
       "      <td>2024-03-01</td>\n",
       "      <td>이직</td>\n",
       "      <td>N</td>\n",
       "      <td>KOREA</td>\n",
       "      <td>Y</td>\n",
       "    </tr>\n",
       "    <tr>\n",
       "      <th>freq</th>\n",
       "      <td>1</td>\n",
       "      <td>1</td>\n",
       "      <td>117</td>\n",
       "      <td>12</td>\n",
       "      <td>55</td>\n",
       "      <td>159</td>\n",
       "      <td>111</td>\n",
       "      <td>24</td>\n",
       "      <td>151</td>\n",
       "      <td>64</td>\n",
       "      <td>19</td>\n",
       "      <td>28</td>\n",
       "      <td>45</td>\n",
       "      <td>102</td>\n",
       "      <td>150</td>\n",
       "    </tr>\n",
       "  </tbody>\n",
       "</table>\n",
       "</div>"
      ]
     },
     "execution_count": 13,
     "metadata": {},
     "output_type": "execute_result"
    }
   ],
   "execution_count": 13
  },
  {
   "metadata": {},
   "cell_type": "code",
   "outputs": [],
   "execution_count": null,
   "source": "",
   "id": "fcdaadd47360621b"
  },
  {
   "metadata": {},
   "cell_type": "markdown",
   "source": "#### 2. 통계 값 개별로 확인",
   "id": "7fc72d976d3c3519"
  },
  {
   "metadata": {
    "ExecuteTime": {
     "end_time": "2025-04-04T02:43:45.131116Z",
     "start_time": "2025-04-04T02:43:45.125713Z"
    }
   },
   "cell_type": "code",
   "source": [
    "# 전체 총 지출 인건비를 확인\n",
    "hr_info['SALARY'].sum()"
   ],
   "id": "623f2cdd0fdc85b5",
   "outputs": [
    {
     "data": {
      "text/plain": [
       "np.int64(1197400)"
      ]
     },
     "execution_count": 14,
     "metadata": {},
     "output_type": "execute_result"
    }
   ],
   "execution_count": 14
  },
  {
   "metadata": {
    "ExecuteTime": {
     "end_time": "2025-04-04T02:44:34.470402Z",
     "start_time": "2025-04-04T02:44:34.466160Z"
    }
   },
   "cell_type": "code",
   "source": [
    "# 평균 연봉\n",
    "hr_info['SALARY'].mean()"
   ],
   "id": "630d7d36cb88624f",
   "outputs": [
    {
     "data": {
      "text/plain": [
       "np.float64(5987.0)"
      ]
     },
     "execution_count": 15,
     "metadata": {},
     "output_type": "execute_result"
    }
   ],
   "execution_count": 15
  },
  {
   "metadata": {
    "ExecuteTime": {
     "end_time": "2025-04-04T02:45:59.930797Z",
     "start_time": "2025-04-04T02:45:59.927365Z"
    }
   },
   "cell_type": "code",
   "source": [
    "# 퇴사한 사람 수 확인\n",
    "# count()\n",
    "# 결측치는 계산에 포함하지 않음\n",
    "hr_info['RETIRE_DATE'].count()"
   ],
   "id": "438012e9cc09fcb3",
   "outputs": [
    {
     "data": {
      "text/plain": [
       "np.int64(49)"
      ]
     },
     "execution_count": 19,
     "metadata": {},
     "output_type": "execute_result"
    }
   ],
   "execution_count": 19
  },
  {
   "metadata": {
    "ExecuteTime": {
     "end_time": "2025-04-04T02:46:48.538163Z",
     "start_time": "2025-04-04T02:46:48.533141Z"
    }
   },
   "cell_type": "code",
   "source": [
    "# 남 / 여 비율 확인\n",
    "hr_info['GENDER'].value_counts()"
   ],
   "id": "febd4134d2a5a0f4",
   "outputs": [
    {
     "data": {
      "text/plain": [
       "GENDER\n",
       "M    117\n",
       "F     83\n",
       "Name: count, dtype: int64"
      ]
     },
     "execution_count": 21,
     "metadata": {},
     "output_type": "execute_result"
    }
   ],
   "execution_count": 21
  },
  {
   "metadata": {
    "ExecuteTime": {
     "end_time": "2025-04-04T02:48:08.113042Z",
     "start_time": "2025-04-04T02:48:08.109818Z"
    }
   },
   "cell_type": "code",
   "source": [
    "# 직원들의 국적 종류\n",
    "hr_info['NATION'].unique()\n",
    "\n",
    "# 어레이에 담아줌"
   ],
   "id": "900f853eaac672ba",
   "outputs": [
    {
     "data": {
      "text/plain": [
       "array(['KOREA', 'Japan', 'USA', 'India', 'China', 'UK'], dtype=object)"
      ]
     },
     "execution_count": 27,
     "metadata": {},
     "output_type": "execute_result"
    }
   ],
   "execution_count": 27
  },
  {
   "metadata": {
    "ExecuteTime": {
     "end_time": "2025-04-04T02:48:53.366315Z",
     "start_time": "2025-04-04T02:48:53.363209Z"
    }
   },
   "cell_type": "code",
   "source": [
    "# 최대 근속 년수\n",
    "hr_info['SERVICE_YEAR'].max()"
   ],
   "id": "2c1b743963534034",
   "outputs": [
    {
     "data": {
      "text/plain": [
       "np.int64(25)"
      ]
     },
     "execution_count": 29,
     "metadata": {},
     "output_type": "execute_result"
    }
   ],
   "execution_count": 29
  },
  {
   "metadata": {
    "ExecuteTime": {
     "end_time": "2025-04-04T02:49:19.865823Z",
     "start_time": "2025-04-04T02:49:19.862904Z"
    }
   },
   "cell_type": "code",
   "source": [
    "# 최소 근속 년수\n",
    "hr_info['SERVICE_YEAR'].min()"
   ],
   "id": "37142e2010267651",
   "outputs": [
    {
     "data": {
      "text/plain": [
       "np.int64(0)"
      ]
     },
     "execution_count": 30,
     "metadata": {},
     "output_type": "execute_result"
    }
   ],
   "execution_count": 30
  },
  {
   "metadata": {
    "ExecuteTime": {
     "end_time": "2025-04-04T02:49:42.378360Z",
     "start_time": "2025-04-04T02:49:42.374375Z"
    }
   },
   "cell_type": "code",
   "source": "hr_info['SERVICE_YEAR'].median()",
   "id": "d2e31286c44ddf30",
   "outputs": [
    {
     "data": {
      "text/plain": [
       "np.float64(1.0)"
      ]
     },
     "execution_count": 32,
     "metadata": {},
     "output_type": "execute_result"
    }
   ],
   "execution_count": 32
  },
  {
   "metadata": {
    "ExecuteTime": {
     "end_time": "2025-04-04T03:07:00.715427Z",
     "start_time": "2025-04-04T03:07:00.711324Z"
    }
   },
   "cell_type": "code",
   "source": "edu_list = hr_info['EDU_LEVEL'].unique()",
   "id": "51bee52b69d0d2ba",
   "outputs": [],
   "execution_count": 41
  },
  {
   "metadata": {
    "ExecuteTime": {
     "end_time": "2025-04-04T03:04:43.268961Z",
     "start_time": "2025-04-04T03:04:43.263910Z"
    }
   },
   "cell_type": "code",
   "source": [
    "# 박사 학위 취득자의 평균 연봉을 알아보자\n",
    "hr_info[hr_info['EDU_LEVEL'] == '박사 학위']['SALARY'].mean()"
   ],
   "id": "672d3fd665057ebb",
   "outputs": [
    {
     "data": {
      "text/plain": [
       "np.float64(8166.666666666667)"
      ]
     },
     "execution_count": 39,
     "metadata": {},
     "output_type": "execute_result"
    }
   ],
   "execution_count": 39
  },
  {
   "metadata": {
    "ExecuteTime": {
     "end_time": "2025-04-04T03:13:20.390558Z",
     "start_time": "2025-04-04T03:13:20.383536Z"
    }
   },
   "cell_type": "code",
   "source": [
    "# 교육수준별 연봉을 출력(반복문)\n",
    "for edu_level in edu_list:\n",
    "    print(edu_level, ' : ',  hr_info[hr_info['EDU_LEVEL']== edu_level]['SALARY'].mean())"
   ],
   "id": "9114a4c0792098eb",
   "outputs": [
    {
     "name": "stdout",
     "output_type": "stream",
     "text": [
      "박사 학위  :  8166.666666666667\n",
      "학사 학위  :  5727.044025157233\n",
      "석사 학위  :  6900.0\n",
      "고등학교 졸업  :  6140.0\n",
      "전문대 학위  :  5050.0\n"
     ]
    }
   ],
   "execution_count": 52
  },
  {
   "metadata": {},
   "cell_type": "markdown",
   "source": [
    "#### 3. 데이터 그룹화를 이용한 통계분석\n",
    "- groupby"
   ],
   "id": "59319e6694f377da"
  },
  {
   "metadata": {
    "ExecuteTime": {
     "end_time": "2025-04-04T03:14:42.668182Z",
     "start_time": "2025-04-04T03:14:42.659826Z"
    }
   },
   "cell_type": "code",
   "source": [
    "# 교육 수준별 연봉\n",
    "hr_info[['SALARY', 'EDU_LEVEL']].groupby(['EDU_LEVEL']).mean()"
   ],
   "id": "a1a0e72e411a90b2",
   "outputs": [
    {
     "data": {
      "text/plain": [
       "                SALARY\n",
       "EDU_LEVEL             \n",
       "고등학교 졸업    6140.000000\n",
       "박사 학위      8166.666667\n",
       "석사 학위      6900.000000\n",
       "전문대 학위     5050.000000\n",
       "학사 학위      5727.044025"
      ],
      "text/html": [
       "<div>\n",
       "<style scoped>\n",
       "    .dataframe tbody tr th:only-of-type {\n",
       "        vertical-align: middle;\n",
       "    }\n",
       "\n",
       "    .dataframe tbody tr th {\n",
       "        vertical-align: top;\n",
       "    }\n",
       "\n",
       "    .dataframe thead th {\n",
       "        text-align: right;\n",
       "    }\n",
       "</style>\n",
       "<table border=\"1\" class=\"dataframe\">\n",
       "  <thead>\n",
       "    <tr style=\"text-align: right;\">\n",
       "      <th></th>\n",
       "      <th>SALARY</th>\n",
       "    </tr>\n",
       "    <tr>\n",
       "      <th>EDU_LEVEL</th>\n",
       "      <th></th>\n",
       "    </tr>\n",
       "  </thead>\n",
       "  <tbody>\n",
       "    <tr>\n",
       "      <th>고등학교 졸업</th>\n",
       "      <td>6140.000000</td>\n",
       "    </tr>\n",
       "    <tr>\n",
       "      <th>박사 학위</th>\n",
       "      <td>8166.666667</td>\n",
       "    </tr>\n",
       "    <tr>\n",
       "      <th>석사 학위</th>\n",
       "      <td>6900.000000</td>\n",
       "    </tr>\n",
       "    <tr>\n",
       "      <th>전문대 학위</th>\n",
       "      <td>5050.000000</td>\n",
       "    </tr>\n",
       "    <tr>\n",
       "      <th>학사 학위</th>\n",
       "      <td>5727.044025</td>\n",
       "    </tr>\n",
       "  </tbody>\n",
       "</table>\n",
       "</div>"
      ]
     },
     "execution_count": 56,
     "metadata": {},
     "output_type": "execute_result"
    }
   ],
   "execution_count": 56
  },
  {
   "metadata": {
    "ExecuteTime": {
     "end_time": "2025-04-04T03:19:45.230745Z",
     "start_time": "2025-04-04T03:19:45.223105Z"
    }
   },
   "cell_type": "code",
   "source": "hr_info[['SALARY', 'EDU_LEVEL', 'GENDER']].groupby(['EDU_LEVEL', 'GENDER']).mean()",
   "id": "7cbfc8725cd58d1c",
   "outputs": [
    {
     "data": {
      "text/plain": [
       "                       SALARY\n",
       "EDU_LEVEL GENDER             \n",
       "고등학교 졸업   F       6200.000000\n",
       "          M       6100.000000\n",
       "박사 학위     F       8425.000000\n",
       "          M       8037.500000\n",
       "석사 학위     F       7233.333333\n",
       "          M       6525.000000\n",
       "전문대 학위    F       5600.000000\n",
       "          M       4500.000000\n",
       "학사 학위     F       5643.076923\n",
       "          M       5785.106383"
      ],
      "text/html": [
       "<div>\n",
       "<style scoped>\n",
       "    .dataframe tbody tr th:only-of-type {\n",
       "        vertical-align: middle;\n",
       "    }\n",
       "\n",
       "    .dataframe tbody tr th {\n",
       "        vertical-align: top;\n",
       "    }\n",
       "\n",
       "    .dataframe thead th {\n",
       "        text-align: right;\n",
       "    }\n",
       "</style>\n",
       "<table border=\"1\" class=\"dataframe\">\n",
       "  <thead>\n",
       "    <tr style=\"text-align: right;\">\n",
       "      <th></th>\n",
       "      <th></th>\n",
       "      <th>SALARY</th>\n",
       "    </tr>\n",
       "    <tr>\n",
       "      <th>EDU_LEVEL</th>\n",
       "      <th>GENDER</th>\n",
       "      <th></th>\n",
       "    </tr>\n",
       "  </thead>\n",
       "  <tbody>\n",
       "    <tr>\n",
       "      <th rowspan=\"2\" valign=\"top\">고등학교 졸업</th>\n",
       "      <th>F</th>\n",
       "      <td>6200.000000</td>\n",
       "    </tr>\n",
       "    <tr>\n",
       "      <th>M</th>\n",
       "      <td>6100.000000</td>\n",
       "    </tr>\n",
       "    <tr>\n",
       "      <th rowspan=\"2\" valign=\"top\">박사 학위</th>\n",
       "      <th>F</th>\n",
       "      <td>8425.000000</td>\n",
       "    </tr>\n",
       "    <tr>\n",
       "      <th>M</th>\n",
       "      <td>8037.500000</td>\n",
       "    </tr>\n",
       "    <tr>\n",
       "      <th rowspan=\"2\" valign=\"top\">석사 학위</th>\n",
       "      <th>F</th>\n",
       "      <td>7233.333333</td>\n",
       "    </tr>\n",
       "    <tr>\n",
       "      <th>M</th>\n",
       "      <td>6525.000000</td>\n",
       "    </tr>\n",
       "    <tr>\n",
       "      <th rowspan=\"2\" valign=\"top\">전문대 학위</th>\n",
       "      <th>F</th>\n",
       "      <td>5600.000000</td>\n",
       "    </tr>\n",
       "    <tr>\n",
       "      <th>M</th>\n",
       "      <td>4500.000000</td>\n",
       "    </tr>\n",
       "    <tr>\n",
       "      <th rowspan=\"2\" valign=\"top\">학사 학위</th>\n",
       "      <th>F</th>\n",
       "      <td>5643.076923</td>\n",
       "    </tr>\n",
       "    <tr>\n",
       "      <th>M</th>\n",
       "      <td>5785.106383</td>\n",
       "    </tr>\n",
       "  </tbody>\n",
       "</table>\n",
       "</div>"
      ]
     },
     "execution_count": 57,
     "metadata": {},
     "output_type": "execute_result"
    }
   ],
   "execution_count": 57
  },
  {
   "metadata": {
    "ExecuteTime": {
     "end_time": "2025-04-04T03:23:27.779193Z",
     "start_time": "2025-04-04T03:23:27.775316Z"
    }
   },
   "cell_type": "code",
   "source": "hr_info.columns",
   "id": "a515119b43430d33",
   "outputs": [
    {
     "data": {
      "text/plain": [
       "Index(['EID', 'ENAME', 'GENDER', 'ORG_CD', 'POS_CD', 'AGE', 'SERVICE_YEAR',\n",
       "       'EDU_LEVEL', 'PERFORMANCE_SCORE', 'SALARY', 'LAST_PROMO_DT',\n",
       "       'TRAINING_HOURS', 'SKILLS', 'ACTIVE_STATE', 'HIRE_DATE', 'RETIRE_DATE',\n",
       "       'RETIRE_REASON', 'REHIRE_YN', 'NATION', 'ROUNDING_DEDUCTION'],\n",
       "      dtype='object')"
      ]
     },
     "execution_count": 59,
     "metadata": {},
     "output_type": "execute_result"
    }
   ],
   "execution_count": 59
  },
  {
   "metadata": {},
   "cell_type": "markdown",
   "source": "#### 그룹화 후 컬럼별로 다른 연산",
   "id": "2dbed241d6d77eb2"
  },
  {
   "metadata": {
    "ExecuteTime": {
     "end_time": "2025-04-04T03:26:16.849866Z",
     "start_time": "2025-04-04T03:26:16.841810Z"
    }
   },
   "cell_type": "code",
   "source": "hr_info.groupby('NATION').agg({'PERFORMANCE_SCORE' : 'mean', 'SALARY' : 'max'})",
   "id": "af2827ab02e3949f",
   "outputs": [
    {
     "data": {
      "text/plain": [
       "        PERFORMANCE_SCORE  SALARY\n",
       "NATION                           \n",
       "China            2.550000    7400\n",
       "India            1.854545    8300\n",
       "Japan            2.672381    8600\n",
       "KOREA            1.461765   10200\n",
       "UK               2.692778    7300\n",
       "USA              2.329091    8500"
      ],
      "text/html": [
       "<div>\n",
       "<style scoped>\n",
       "    .dataframe tbody tr th:only-of-type {\n",
       "        vertical-align: middle;\n",
       "    }\n",
       "\n",
       "    .dataframe tbody tr th {\n",
       "        vertical-align: top;\n",
       "    }\n",
       "\n",
       "    .dataframe thead th {\n",
       "        text-align: right;\n",
       "    }\n",
       "</style>\n",
       "<table border=\"1\" class=\"dataframe\">\n",
       "  <thead>\n",
       "    <tr style=\"text-align: right;\">\n",
       "      <th></th>\n",
       "      <th>PERFORMANCE_SCORE</th>\n",
       "      <th>SALARY</th>\n",
       "    </tr>\n",
       "    <tr>\n",
       "      <th>NATION</th>\n",
       "      <th></th>\n",
       "      <th></th>\n",
       "    </tr>\n",
       "  </thead>\n",
       "  <tbody>\n",
       "    <tr>\n",
       "      <th>China</th>\n",
       "      <td>2.550000</td>\n",
       "      <td>7400</td>\n",
       "    </tr>\n",
       "    <tr>\n",
       "      <th>India</th>\n",
       "      <td>1.854545</td>\n",
       "      <td>8300</td>\n",
       "    </tr>\n",
       "    <tr>\n",
       "      <th>Japan</th>\n",
       "      <td>2.672381</td>\n",
       "      <td>8600</td>\n",
       "    </tr>\n",
       "    <tr>\n",
       "      <th>KOREA</th>\n",
       "      <td>1.461765</td>\n",
       "      <td>10200</td>\n",
       "    </tr>\n",
       "    <tr>\n",
       "      <th>UK</th>\n",
       "      <td>2.692778</td>\n",
       "      <td>7300</td>\n",
       "    </tr>\n",
       "    <tr>\n",
       "      <th>USA</th>\n",
       "      <td>2.329091</td>\n",
       "      <td>8500</td>\n",
       "    </tr>\n",
       "  </tbody>\n",
       "</table>\n",
       "</div>"
      ]
     },
     "execution_count": 60,
     "metadata": {},
     "output_type": "execute_result"
    }
   ],
   "execution_count": 60
  },
  {
   "metadata": {},
   "cell_type": "code",
   "outputs": [],
   "execution_count": null,
   "source": "",
   "id": "346f66e5949f5022"
  },
  {
   "metadata": {},
   "cell_type": "markdown",
   "source": [
    "#### 4. 상관계수 분석\n",
    "- 두 변수 사이의 관계를 수치화 하여 보는 방법"
   ],
   "id": "416ae31e8bf5e347"
  },
  {
   "metadata": {},
   "cell_type": "code",
   "outputs": [],
   "execution_count": null,
   "source": "",
   "id": "edc117abb6b06c57"
  },
  {
   "metadata": {},
   "cell_type": "markdown",
   "source": [
    "분산\n",
    "- 확률 변수가 기댓값으로부터 얼마나 떨어진 곳에 분포하는지 가늠하는 숫자\n",
    "- 편차 제곱의 평균\n",
    "\n",
    "표준 편차\n",
    " - 분산의 제곱근"
   ],
   "id": "3595256f577c0462"
  },
  {
   "metadata": {},
   "cell_type": "code",
   "outputs": [],
   "execution_count": null,
   "source": "",
   "id": "6f10944546281381"
  },
  {
   "metadata": {},
   "cell_type": "markdown",
   "source": [
    "• 데이터 : x1,x2,…,Xn\n",
    "\n",
    "• 평균 : x̄\n",
    "\n",
    "• 편차 : (x1 - x̄), (x2 - x̄), ... , (xn - x̄)\n",
    "• 편차들의 합 : (x1 -x̄) + (x2 - x̄) + …+ (xn -x̄) = ?\n",
    "\n",
    "• 분산 : (x1-x̄)^2+(x2-x̄)^2+…+(xn-x̄)^2 / n-1\n"
   ],
   "id": "383e74a8ea7793ea"
  },
  {
   "metadata": {},
   "cell_type": "code",
   "outputs": [],
   "execution_count": null,
   "source": "",
   "id": "6d2ac015c11d5389"
  },
  {
   "metadata": {},
   "cell_type": "markdown",
   "source": [
    "공분산\n",
    "- 하나의 변수가 아닌, 두개의 변수로 구한 분산 값\n",
    "\n",
    "공분산 = Cov[X, Y] = E[(X-X̄)(Y- Ȳ)] = 0XY\n",
    "\n",
    "= Σ (xi - X̄)(Yi - Ȳ) / n\n",
    "\n",
    "##### 공분산 값의 문제\n",
    "##### 공분산은 데이터의 스케일에 영향을 받음\n",
    "\n",
    "##### ex) 키(cm), 몸무게(kg)의 공분산 200\n",
    "##### ex) 시력, 눈의 굴절률의 공분산 2\n",
    "\n",
    "##### 공분산을 정규화 (스케일링을 함) -> 상관계수\n",
    "\n",
    "참고 : 상관계수 해석의 일반적인 가이드\n",
    "Irl = 절대값\n",
    "0.0 <= |r| < 0.2 : 상관관계가 없다. = 선형의 관계가 없다.\n",
    "0.2 <= |r] < 0.4 : 약한 상관관계가 있다.\n",
    "0.4 <= |r| < 0.6 : 보통의 상관관계가 있다.\n",
    "0.6 <= |r| < 0.8 : 강한 (높은) 상관관계가 있다.\n",
    "0.8 <= |r| <= 1.0 : 매우 강한 (매우 높은) 상관관계가 있다.\n"
   ],
   "id": "7722d3e9bf901eb1"
  },
  {
   "metadata": {
    "ExecuteTime": {
     "end_time": "2025-04-04T03:47:15.146900Z",
     "start_time": "2025-04-04T03:47:15.144066Z"
    }
   },
   "cell_type": "code",
   "source": [
    "# 상관계수가 1에 가깝다 : 강한 선형관계, A형 변수 증가하면 B 변수도 증가 ( 양의 선형 상관관계 )\n",
    "# 상관계수가 -1에 가깝다 : 강한 선형관계, A변수가 증가하면 B 변수 감소 ( 음의 선형 상관관계 )\n"
   ],
   "id": "586be811d59f4203",
   "outputs": [],
   "execution_count": 62
  },
  {
   "metadata": {
    "ExecuteTime": {
     "end_time": "2025-04-04T03:48:24.358040Z",
     "start_time": "2025-04-04T03:48:24.351939Z"
    }
   },
   "cell_type": "code",
   "source": [
    "# 직원 성과 평가 점수와 연봉의 상관계수 확인\n",
    "hr_info[['PERFORMANCE_SCORE', 'SALARY']].corr()"
   ],
   "id": "81bf148eef35c2f2",
   "outputs": [
    {
     "data": {
      "text/plain": [
       "                   PERFORMANCE_SCORE    SALARY\n",
       "PERFORMANCE_SCORE           1.000000  0.609152\n",
       "SALARY                      0.609152  1.000000"
      ],
      "text/html": [
       "<div>\n",
       "<style scoped>\n",
       "    .dataframe tbody tr th:only-of-type {\n",
       "        vertical-align: middle;\n",
       "    }\n",
       "\n",
       "    .dataframe tbody tr th {\n",
       "        vertical-align: top;\n",
       "    }\n",
       "\n",
       "    .dataframe thead th {\n",
       "        text-align: right;\n",
       "    }\n",
       "</style>\n",
       "<table border=\"1\" class=\"dataframe\">\n",
       "  <thead>\n",
       "    <tr style=\"text-align: right;\">\n",
       "      <th></th>\n",
       "      <th>PERFORMANCE_SCORE</th>\n",
       "      <th>SALARY</th>\n",
       "    </tr>\n",
       "  </thead>\n",
       "  <tbody>\n",
       "    <tr>\n",
       "      <th>PERFORMANCE_SCORE</th>\n",
       "      <td>1.000000</td>\n",
       "      <td>0.609152</td>\n",
       "    </tr>\n",
       "    <tr>\n",
       "      <th>SALARY</th>\n",
       "      <td>0.609152</td>\n",
       "      <td>1.000000</td>\n",
       "    </tr>\n",
       "  </tbody>\n",
       "</table>\n",
       "</div>"
      ]
     },
     "execution_count": 66,
     "metadata": {},
     "output_type": "execute_result"
    }
   ],
   "execution_count": 66
  },
  {
   "metadata": {
    "ExecuteTime": {
     "end_time": "2025-04-04T05:12:45.381215Z",
     "start_time": "2025-04-04T05:12:45.373867Z"
    }
   },
   "cell_type": "code",
   "source": [
    "# 수치데이터들의 상관계수 확인\n",
    "hr_info[ [ 'PERFORMANCE_SCORE', 'SALARY', 'AGE', 'SERVICE_YEAR', 'TRAINING_HOURS' ]]. corr()"
   ],
   "id": "d9e18c23549c758f",
   "outputs": [
    {
     "data": {
      "text/plain": [
       "                   PERFORMANCE_SCORE    SALARY       AGE  SERVICE_YEAR  \\\n",
       "PERFORMANCE_SCORE           1.000000  0.609152  0.582203      0.492801   \n",
       "SALARY                      0.609152  1.000000  0.961699      0.970875   \n",
       "AGE                         0.582203  0.961699  1.000000      0.932563   \n",
       "SERVICE_YEAR                0.492801  0.970875  0.932563      1.000000   \n",
       "TRAINING_HOURS              0.551200  0.628931  0.575867      0.559911   \n",
       "\n",
       "                   TRAINING_HOURS  \n",
       "PERFORMANCE_SCORE        0.551200  \n",
       "SALARY                   0.628931  \n",
       "AGE                      0.575867  \n",
       "SERVICE_YEAR             0.559911  \n",
       "TRAINING_HOURS           1.000000  "
      ],
      "text/html": [
       "<div>\n",
       "<style scoped>\n",
       "    .dataframe tbody tr th:only-of-type {\n",
       "        vertical-align: middle;\n",
       "    }\n",
       "\n",
       "    .dataframe tbody tr th {\n",
       "        vertical-align: top;\n",
       "    }\n",
       "\n",
       "    .dataframe thead th {\n",
       "        text-align: right;\n",
       "    }\n",
       "</style>\n",
       "<table border=\"1\" class=\"dataframe\">\n",
       "  <thead>\n",
       "    <tr style=\"text-align: right;\">\n",
       "      <th></th>\n",
       "      <th>PERFORMANCE_SCORE</th>\n",
       "      <th>SALARY</th>\n",
       "      <th>AGE</th>\n",
       "      <th>SERVICE_YEAR</th>\n",
       "      <th>TRAINING_HOURS</th>\n",
       "    </tr>\n",
       "  </thead>\n",
       "  <tbody>\n",
       "    <tr>\n",
       "      <th>PERFORMANCE_SCORE</th>\n",
       "      <td>1.000000</td>\n",
       "      <td>0.609152</td>\n",
       "      <td>0.582203</td>\n",
       "      <td>0.492801</td>\n",
       "      <td>0.551200</td>\n",
       "    </tr>\n",
       "    <tr>\n",
       "      <th>SALARY</th>\n",
       "      <td>0.609152</td>\n",
       "      <td>1.000000</td>\n",
       "      <td>0.961699</td>\n",
       "      <td>0.970875</td>\n",
       "      <td>0.628931</td>\n",
       "    </tr>\n",
       "    <tr>\n",
       "      <th>AGE</th>\n",
       "      <td>0.582203</td>\n",
       "      <td>0.961699</td>\n",
       "      <td>1.000000</td>\n",
       "      <td>0.932563</td>\n",
       "      <td>0.575867</td>\n",
       "    </tr>\n",
       "    <tr>\n",
       "      <th>SERVICE_YEAR</th>\n",
       "      <td>0.492801</td>\n",
       "      <td>0.970875</td>\n",
       "      <td>0.932563</td>\n",
       "      <td>1.000000</td>\n",
       "      <td>0.559911</td>\n",
       "    </tr>\n",
       "    <tr>\n",
       "      <th>TRAINING_HOURS</th>\n",
       "      <td>0.551200</td>\n",
       "      <td>0.628931</td>\n",
       "      <td>0.575867</td>\n",
       "      <td>0.559911</td>\n",
       "      <td>1.000000</td>\n",
       "    </tr>\n",
       "  </tbody>\n",
       "</table>\n",
       "</div>"
      ]
     },
     "execution_count": 67,
     "metadata": {},
     "output_type": "execute_result"
    }
   ],
   "execution_count": 67
  },
  {
   "metadata": {},
   "cell_type": "code",
   "outputs": [],
   "execution_count": null,
   "source": [
    "# 연봉과, 나이 / 연봉과 근속년수는 강한 양의 선형 상관관계가 잇구나\n",
    "# 나이와 근속 연수가 클수록 연봉이 크다."
   ],
   "id": "2dd5d1c24f592106"
  }
 ],
 "metadata": {
  "kernelspec": {
   "display_name": "Python 3",
   "language": "python",
   "name": "python3"
  },
  "language_info": {
   "codemirror_mode": {
    "name": "ipython",
    "version": 2
   },
   "file_extension": ".py",
   "mimetype": "text/x-python",
   "name": "python",
   "nbconvert_exporter": "python",
   "pygments_lexer": "ipython2",
   "version": "2.7.6"
  }
 },
 "nbformat": 4,
 "nbformat_minor": 5
}
