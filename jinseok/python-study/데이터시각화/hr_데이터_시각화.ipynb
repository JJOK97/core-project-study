{
 "cells": [
  {
   "metadata": {},
   "cell_type": "markdown",
   "source": [
    "### Pandas를 이용한 시각화\n",
    "- matplotlib을 이용한 시각화 : 여러 옵션들 설정해서 직접 그려볼 수 잇다. 커스터마이징에 용이\n",
    "- pandas, seaborn을 이용한 시각화 : 손쉽게 차트를 그려볼 수 있다."
   ],
   "id": "e848c9cdbf39db24"
  },
  {
   "metadata": {
    "ExecuteTime": {
     "end_time": "2025-04-07T02:13:06.104323Z",
     "start_time": "2025-04-07T02:13:06.101594Z"
    }
   },
   "cell_type": "code",
   "source": [
    "import pandas as pd\n",
    "import numpy as np"
   ],
   "id": "7b7a9d3bfc925353",
   "outputs": [],
   "execution_count": 8
  },
  {
   "metadata": {},
   "cell_type": "markdown",
   "source": [
    "### 1. line chart\n",
    "연도별 입사자 추세 확인"
   ],
   "id": "a32506ed04679f22"
  },
  {
   "metadata": {
    "ExecuteTime": {
     "end_time": "2025-04-07T02:13:07.944805Z",
     "start_time": "2025-04-07T02:13:07.916149Z"
    }
   },
   "cell_type": "code",
   "source": [
    "# hr 데이터\n",
    "hr_info = pd.read_csv('C:\\\\Users\\\\1\\\\Desktop\\\\workspace\\\\core-project-study\\\\jinseok\\\\python-study\\\\data\\\\hr-info.csv', encoding='euc-kr', parse_dates=['HIRE_DATE'])\n",
    "# parse_date\n",
    "\n",
    "hr_info.head()"
   ],
   "id": "8d4dd99b4770661c",
   "outputs": [
    {
     "data": {
      "text/plain": [
       "      EID ENAME GENDER  ORG_CD POS_CD  AGE  SERVICE_YEAR EDU_LEVEL  \\\n",
       "0  E00206   시이오      M     NaN   P001   49            25     박사 학위   \n",
       "1  E00181   나사장      F     NaN   P002   49            24     박사 학위   \n",
       "2  E00164  난부사장      M     NaN   P003   48            22     박사 학위   \n",
       "3  E00190   판라다      F  ORG007   P004   47            18     박사 학위   \n",
       "4  E00209   누훈봉      M  ORG023   P004   47            19     박사 학위   \n",
       "\n",
       "   PERFORMANCE_SCORE  SALARY LAST_PROMO_DT  TRAINING_HOURS  \\\n",
       "0               4.50   10200    2024-03-01             240   \n",
       "1               4.60    9500    2024-03-01             236   \n",
       "2               4.60    9100    2024-03-01             240   \n",
       "3               3.51    8500    2024-03-01              96   \n",
       "4               3.38    8600    2023-03-01              66   \n",
       "\n",
       "                            SKILLS ACTIVE_STATE  HIRE_DATE RETIRE_DATE  \\\n",
       "0            Marketing, Salesforce            Y 1999-03-01         NaN   \n",
       "1    Project Management, Marketing            Y 2000-03-01         NaN   \n",
       "2  Salesforce, Data Analysis, Java            Y 2002-03-01         NaN   \n",
       "3  Java, Data Analysis, Salesforce            Y 2006-03-01         NaN   \n",
       "4                 Java, Salesforce            Y 2005-03-01         NaN   \n",
       "\n",
       "  RETIRE_REASON REHIRE_YN NATION ROUNDING_DEDUCTION  \n",
       "0           NaN       NaN  KOREA                  Y  \n",
       "1           NaN       NaN  KOREA                  Y  \n",
       "2           NaN       NaN  KOREA                  Y  \n",
       "3           NaN       NaN  KOREA                  Y  \n",
       "4           NaN       NaN  KOREA                  Y  "
      ],
      "text/html": [
       "<div>\n",
       "<style scoped>\n",
       "    .dataframe tbody tr th:only-of-type {\n",
       "        vertical-align: middle;\n",
       "    }\n",
       "\n",
       "    .dataframe tbody tr th {\n",
       "        vertical-align: top;\n",
       "    }\n",
       "\n",
       "    .dataframe thead th {\n",
       "        text-align: right;\n",
       "    }\n",
       "</style>\n",
       "<table border=\"1\" class=\"dataframe\">\n",
       "  <thead>\n",
       "    <tr style=\"text-align: right;\">\n",
       "      <th></th>\n",
       "      <th>EID</th>\n",
       "      <th>ENAME</th>\n",
       "      <th>GENDER</th>\n",
       "      <th>ORG_CD</th>\n",
       "      <th>POS_CD</th>\n",
       "      <th>AGE</th>\n",
       "      <th>SERVICE_YEAR</th>\n",
       "      <th>EDU_LEVEL</th>\n",
       "      <th>PERFORMANCE_SCORE</th>\n",
       "      <th>SALARY</th>\n",
       "      <th>LAST_PROMO_DT</th>\n",
       "      <th>TRAINING_HOURS</th>\n",
       "      <th>SKILLS</th>\n",
       "      <th>ACTIVE_STATE</th>\n",
       "      <th>HIRE_DATE</th>\n",
       "      <th>RETIRE_DATE</th>\n",
       "      <th>RETIRE_REASON</th>\n",
       "      <th>REHIRE_YN</th>\n",
       "      <th>NATION</th>\n",
       "      <th>ROUNDING_DEDUCTION</th>\n",
       "    </tr>\n",
       "  </thead>\n",
       "  <tbody>\n",
       "    <tr>\n",
       "      <th>0</th>\n",
       "      <td>E00206</td>\n",
       "      <td>시이오</td>\n",
       "      <td>M</td>\n",
       "      <td>NaN</td>\n",
       "      <td>P001</td>\n",
       "      <td>49</td>\n",
       "      <td>25</td>\n",
       "      <td>박사 학위</td>\n",
       "      <td>4.50</td>\n",
       "      <td>10200</td>\n",
       "      <td>2024-03-01</td>\n",
       "      <td>240</td>\n",
       "      <td>Marketing, Salesforce</td>\n",
       "      <td>Y</td>\n",
       "      <td>1999-03-01</td>\n",
       "      <td>NaN</td>\n",
       "      <td>NaN</td>\n",
       "      <td>NaN</td>\n",
       "      <td>KOREA</td>\n",
       "      <td>Y</td>\n",
       "    </tr>\n",
       "    <tr>\n",
       "      <th>1</th>\n",
       "      <td>E00181</td>\n",
       "      <td>나사장</td>\n",
       "      <td>F</td>\n",
       "      <td>NaN</td>\n",
       "      <td>P002</td>\n",
       "      <td>49</td>\n",
       "      <td>24</td>\n",
       "      <td>박사 학위</td>\n",
       "      <td>4.60</td>\n",
       "      <td>9500</td>\n",
       "      <td>2024-03-01</td>\n",
       "      <td>236</td>\n",
       "      <td>Project Management, Marketing</td>\n",
       "      <td>Y</td>\n",
       "      <td>2000-03-01</td>\n",
       "      <td>NaN</td>\n",
       "      <td>NaN</td>\n",
       "      <td>NaN</td>\n",
       "      <td>KOREA</td>\n",
       "      <td>Y</td>\n",
       "    </tr>\n",
       "    <tr>\n",
       "      <th>2</th>\n",
       "      <td>E00164</td>\n",
       "      <td>난부사장</td>\n",
       "      <td>M</td>\n",
       "      <td>NaN</td>\n",
       "      <td>P003</td>\n",
       "      <td>48</td>\n",
       "      <td>22</td>\n",
       "      <td>박사 학위</td>\n",
       "      <td>4.60</td>\n",
       "      <td>9100</td>\n",
       "      <td>2024-03-01</td>\n",
       "      <td>240</td>\n",
       "      <td>Salesforce, Data Analysis, Java</td>\n",
       "      <td>Y</td>\n",
       "      <td>2002-03-01</td>\n",
       "      <td>NaN</td>\n",
       "      <td>NaN</td>\n",
       "      <td>NaN</td>\n",
       "      <td>KOREA</td>\n",
       "      <td>Y</td>\n",
       "    </tr>\n",
       "    <tr>\n",
       "      <th>3</th>\n",
       "      <td>E00190</td>\n",
       "      <td>판라다</td>\n",
       "      <td>F</td>\n",
       "      <td>ORG007</td>\n",
       "      <td>P004</td>\n",
       "      <td>47</td>\n",
       "      <td>18</td>\n",
       "      <td>박사 학위</td>\n",
       "      <td>3.51</td>\n",
       "      <td>8500</td>\n",
       "      <td>2024-03-01</td>\n",
       "      <td>96</td>\n",
       "      <td>Java, Data Analysis, Salesforce</td>\n",
       "      <td>Y</td>\n",
       "      <td>2006-03-01</td>\n",
       "      <td>NaN</td>\n",
       "      <td>NaN</td>\n",
       "      <td>NaN</td>\n",
       "      <td>KOREA</td>\n",
       "      <td>Y</td>\n",
       "    </tr>\n",
       "    <tr>\n",
       "      <th>4</th>\n",
       "      <td>E00209</td>\n",
       "      <td>누훈봉</td>\n",
       "      <td>M</td>\n",
       "      <td>ORG023</td>\n",
       "      <td>P004</td>\n",
       "      <td>47</td>\n",
       "      <td>19</td>\n",
       "      <td>박사 학위</td>\n",
       "      <td>3.38</td>\n",
       "      <td>8600</td>\n",
       "      <td>2023-03-01</td>\n",
       "      <td>66</td>\n",
       "      <td>Java, Salesforce</td>\n",
       "      <td>Y</td>\n",
       "      <td>2005-03-01</td>\n",
       "      <td>NaN</td>\n",
       "      <td>NaN</td>\n",
       "      <td>NaN</td>\n",
       "      <td>KOREA</td>\n",
       "      <td>Y</td>\n",
       "    </tr>\n",
       "  </tbody>\n",
       "</table>\n",
       "</div>"
      ]
     },
     "execution_count": 9,
     "metadata": {},
     "output_type": "execute_result"
    }
   ],
   "execution_count": 9
  },
  {
   "metadata": {
    "ExecuteTime": {
     "end_time": "2025-04-07T01:06:21.278878Z",
     "start_time": "2025-04-07T01:06:21.267386Z"
    }
   },
   "cell_type": "code",
   "source": [
    "hr_info['HIRE_YEAR'] = hr_info['HIRE_DATE'].dt.year\n",
    "\n",
    "hr_info"
   ],
   "id": "326ba39289917ce4",
   "outputs": [
    {
     "data": {
      "text/plain": [
       "        EID ENAME GENDER  ORG_CD POS_CD  AGE  SERVICE_YEAR EDU_LEVEL  \\\n",
       "0    E00206   시이오      M     NaN   P001   49            25     박사 학위   \n",
       "1    E00181   나사장      F     NaN   P002   49            24     박사 학위   \n",
       "2    E00164  난부사장      M     NaN   P003   48            22     박사 학위   \n",
       "3    E00190   판라다      F  ORG007   P004   47            18     박사 학위   \n",
       "4    E00209   누훈봉      M  ORG023   P004   47            19     박사 학위   \n",
       "..      ...   ...    ...     ...    ...  ...           ...       ...   \n",
       "195  E00322   부탐회      F  ORG014   P009   23             0     학사 학위   \n",
       "196  E00389   초두반      F  ORG012   P009   23             0     학사 학위   \n",
       "197  E00438   권개득      M  ORG024   P009   23             0     학사 학위   \n",
       "198  E00304   탐출조      M  ORG009   P009   24             0     학사 학위   \n",
       "199  E00428   을충나      F  ORG003   P009   24             0     학사 학위   \n",
       "\n",
       "     PERFORMANCE_SCORE  SALARY  ... TRAINING_HOURS  \\\n",
       "0                 4.50   10200  ...            240   \n",
       "1                 4.60    9500  ...            236   \n",
       "2                 4.60    9100  ...            240   \n",
       "3                 3.51    8500  ...             96   \n",
       "4                 3.38    8600  ...             66   \n",
       "..                 ...     ...  ...            ...   \n",
       "195               0.00    4500  ...              4   \n",
       "196               0.00    4500  ...              4   \n",
       "197               0.00    4500  ...              4   \n",
       "198               0.00    4500  ...              4   \n",
       "199               0.00    4500  ...              4   \n",
       "\n",
       "                               SKILLS ACTIVE_STATE  HIRE_DATE RETIRE_DATE  \\\n",
       "0               Marketing, Salesforce            Y 1999-03-01         NaN   \n",
       "1       Project Management, Marketing            Y 2000-03-01         NaN   \n",
       "2     Salesforce, Data Analysis, Java            Y 2002-03-01         NaN   \n",
       "3     Java, Data Analysis, Salesforce            Y 2006-03-01         NaN   \n",
       "4                    Java, Salesforce            Y 2005-03-01         NaN   \n",
       "..                                ...          ...        ...         ...   \n",
       "195                              Java            Y 2024-09-01         NaN   \n",
       "196                  Salesforce, Java            Y 2024-09-01         NaN   \n",
       "197                            Python            Y 2024-09-01         NaN   \n",
       "198                        Salesforce            Y 2024-09-01         NaN   \n",
       "199  Data Analysis, Python, Marketing            Y 2024-09-01         NaN   \n",
       "\n",
       "    RETIRE_REASON REHIRE_YN NATION ROUNDING_DEDUCTION HIRE_YEAR  \n",
       "0             NaN       NaN  KOREA                  Y      1999  \n",
       "1             NaN       NaN  KOREA                  Y      2000  \n",
       "2             NaN       NaN  KOREA                  Y      2002  \n",
       "3             NaN       NaN  KOREA                  Y      2006  \n",
       "4             NaN       NaN  KOREA                  Y      2005  \n",
       "..            ...       ...    ...                ...       ...  \n",
       "195           NaN       NaN  KOREA                  N      2024  \n",
       "196           NaN       NaN  KOREA                  N      2024  \n",
       "197           NaN       NaN  KOREA                  N      2024  \n",
       "198           NaN       NaN  KOREA                  N      2024  \n",
       "199           NaN       NaN  KOREA                  N      2024  \n",
       "\n",
       "[200 rows x 21 columns]"
      ],
      "text/html": [
       "<div>\n",
       "<style scoped>\n",
       "    .dataframe tbody tr th:only-of-type {\n",
       "        vertical-align: middle;\n",
       "    }\n",
       "\n",
       "    .dataframe tbody tr th {\n",
       "        vertical-align: top;\n",
       "    }\n",
       "\n",
       "    .dataframe thead th {\n",
       "        text-align: right;\n",
       "    }\n",
       "</style>\n",
       "<table border=\"1\" class=\"dataframe\">\n",
       "  <thead>\n",
       "    <tr style=\"text-align: right;\">\n",
       "      <th></th>\n",
       "      <th>EID</th>\n",
       "      <th>ENAME</th>\n",
       "      <th>GENDER</th>\n",
       "      <th>ORG_CD</th>\n",
       "      <th>POS_CD</th>\n",
       "      <th>AGE</th>\n",
       "      <th>SERVICE_YEAR</th>\n",
       "      <th>EDU_LEVEL</th>\n",
       "      <th>PERFORMANCE_SCORE</th>\n",
       "      <th>SALARY</th>\n",
       "      <th>...</th>\n",
       "      <th>TRAINING_HOURS</th>\n",
       "      <th>SKILLS</th>\n",
       "      <th>ACTIVE_STATE</th>\n",
       "      <th>HIRE_DATE</th>\n",
       "      <th>RETIRE_DATE</th>\n",
       "      <th>RETIRE_REASON</th>\n",
       "      <th>REHIRE_YN</th>\n",
       "      <th>NATION</th>\n",
       "      <th>ROUNDING_DEDUCTION</th>\n",
       "      <th>HIRE_YEAR</th>\n",
       "    </tr>\n",
       "  </thead>\n",
       "  <tbody>\n",
       "    <tr>\n",
       "      <th>0</th>\n",
       "      <td>E00206</td>\n",
       "      <td>시이오</td>\n",
       "      <td>M</td>\n",
       "      <td>NaN</td>\n",
       "      <td>P001</td>\n",
       "      <td>49</td>\n",
       "      <td>25</td>\n",
       "      <td>박사 학위</td>\n",
       "      <td>4.50</td>\n",
       "      <td>10200</td>\n",
       "      <td>...</td>\n",
       "      <td>240</td>\n",
       "      <td>Marketing, Salesforce</td>\n",
       "      <td>Y</td>\n",
       "      <td>1999-03-01</td>\n",
       "      <td>NaN</td>\n",
       "      <td>NaN</td>\n",
       "      <td>NaN</td>\n",
       "      <td>KOREA</td>\n",
       "      <td>Y</td>\n",
       "      <td>1999</td>\n",
       "    </tr>\n",
       "    <tr>\n",
       "      <th>1</th>\n",
       "      <td>E00181</td>\n",
       "      <td>나사장</td>\n",
       "      <td>F</td>\n",
       "      <td>NaN</td>\n",
       "      <td>P002</td>\n",
       "      <td>49</td>\n",
       "      <td>24</td>\n",
       "      <td>박사 학위</td>\n",
       "      <td>4.60</td>\n",
       "      <td>9500</td>\n",
       "      <td>...</td>\n",
       "      <td>236</td>\n",
       "      <td>Project Management, Marketing</td>\n",
       "      <td>Y</td>\n",
       "      <td>2000-03-01</td>\n",
       "      <td>NaN</td>\n",
       "      <td>NaN</td>\n",
       "      <td>NaN</td>\n",
       "      <td>KOREA</td>\n",
       "      <td>Y</td>\n",
       "      <td>2000</td>\n",
       "    </tr>\n",
       "    <tr>\n",
       "      <th>2</th>\n",
       "      <td>E00164</td>\n",
       "      <td>난부사장</td>\n",
       "      <td>M</td>\n",
       "      <td>NaN</td>\n",
       "      <td>P003</td>\n",
       "      <td>48</td>\n",
       "      <td>22</td>\n",
       "      <td>박사 학위</td>\n",
       "      <td>4.60</td>\n",
       "      <td>9100</td>\n",
       "      <td>...</td>\n",
       "      <td>240</td>\n",
       "      <td>Salesforce, Data Analysis, Java</td>\n",
       "      <td>Y</td>\n",
       "      <td>2002-03-01</td>\n",
       "      <td>NaN</td>\n",
       "      <td>NaN</td>\n",
       "      <td>NaN</td>\n",
       "      <td>KOREA</td>\n",
       "      <td>Y</td>\n",
       "      <td>2002</td>\n",
       "    </tr>\n",
       "    <tr>\n",
       "      <th>3</th>\n",
       "      <td>E00190</td>\n",
       "      <td>판라다</td>\n",
       "      <td>F</td>\n",
       "      <td>ORG007</td>\n",
       "      <td>P004</td>\n",
       "      <td>47</td>\n",
       "      <td>18</td>\n",
       "      <td>박사 학위</td>\n",
       "      <td>3.51</td>\n",
       "      <td>8500</td>\n",
       "      <td>...</td>\n",
       "      <td>96</td>\n",
       "      <td>Java, Data Analysis, Salesforce</td>\n",
       "      <td>Y</td>\n",
       "      <td>2006-03-01</td>\n",
       "      <td>NaN</td>\n",
       "      <td>NaN</td>\n",
       "      <td>NaN</td>\n",
       "      <td>KOREA</td>\n",
       "      <td>Y</td>\n",
       "      <td>2006</td>\n",
       "    </tr>\n",
       "    <tr>\n",
       "      <th>4</th>\n",
       "      <td>E00209</td>\n",
       "      <td>누훈봉</td>\n",
       "      <td>M</td>\n",
       "      <td>ORG023</td>\n",
       "      <td>P004</td>\n",
       "      <td>47</td>\n",
       "      <td>19</td>\n",
       "      <td>박사 학위</td>\n",
       "      <td>3.38</td>\n",
       "      <td>8600</td>\n",
       "      <td>...</td>\n",
       "      <td>66</td>\n",
       "      <td>Java, Salesforce</td>\n",
       "      <td>Y</td>\n",
       "      <td>2005-03-01</td>\n",
       "      <td>NaN</td>\n",
       "      <td>NaN</td>\n",
       "      <td>NaN</td>\n",
       "      <td>KOREA</td>\n",
       "      <td>Y</td>\n",
       "      <td>2005</td>\n",
       "    </tr>\n",
       "    <tr>\n",
       "      <th>...</th>\n",
       "      <td>...</td>\n",
       "      <td>...</td>\n",
       "      <td>...</td>\n",
       "      <td>...</td>\n",
       "      <td>...</td>\n",
       "      <td>...</td>\n",
       "      <td>...</td>\n",
       "      <td>...</td>\n",
       "      <td>...</td>\n",
       "      <td>...</td>\n",
       "      <td>...</td>\n",
       "      <td>...</td>\n",
       "      <td>...</td>\n",
       "      <td>...</td>\n",
       "      <td>...</td>\n",
       "      <td>...</td>\n",
       "      <td>...</td>\n",
       "      <td>...</td>\n",
       "      <td>...</td>\n",
       "      <td>...</td>\n",
       "      <td>...</td>\n",
       "    </tr>\n",
       "    <tr>\n",
       "      <th>195</th>\n",
       "      <td>E00322</td>\n",
       "      <td>부탐회</td>\n",
       "      <td>F</td>\n",
       "      <td>ORG014</td>\n",
       "      <td>P009</td>\n",
       "      <td>23</td>\n",
       "      <td>0</td>\n",
       "      <td>학사 학위</td>\n",
       "      <td>0.00</td>\n",
       "      <td>4500</td>\n",
       "      <td>...</td>\n",
       "      <td>4</td>\n",
       "      <td>Java</td>\n",
       "      <td>Y</td>\n",
       "      <td>2024-09-01</td>\n",
       "      <td>NaN</td>\n",
       "      <td>NaN</td>\n",
       "      <td>NaN</td>\n",
       "      <td>KOREA</td>\n",
       "      <td>N</td>\n",
       "      <td>2024</td>\n",
       "    </tr>\n",
       "    <tr>\n",
       "      <th>196</th>\n",
       "      <td>E00389</td>\n",
       "      <td>초두반</td>\n",
       "      <td>F</td>\n",
       "      <td>ORG012</td>\n",
       "      <td>P009</td>\n",
       "      <td>23</td>\n",
       "      <td>0</td>\n",
       "      <td>학사 학위</td>\n",
       "      <td>0.00</td>\n",
       "      <td>4500</td>\n",
       "      <td>...</td>\n",
       "      <td>4</td>\n",
       "      <td>Salesforce, Java</td>\n",
       "      <td>Y</td>\n",
       "      <td>2024-09-01</td>\n",
       "      <td>NaN</td>\n",
       "      <td>NaN</td>\n",
       "      <td>NaN</td>\n",
       "      <td>KOREA</td>\n",
       "      <td>N</td>\n",
       "      <td>2024</td>\n",
       "    </tr>\n",
       "    <tr>\n",
       "      <th>197</th>\n",
       "      <td>E00438</td>\n",
       "      <td>권개득</td>\n",
       "      <td>M</td>\n",
       "      <td>ORG024</td>\n",
       "      <td>P009</td>\n",
       "      <td>23</td>\n",
       "      <td>0</td>\n",
       "      <td>학사 학위</td>\n",
       "      <td>0.00</td>\n",
       "      <td>4500</td>\n",
       "      <td>...</td>\n",
       "      <td>4</td>\n",
       "      <td>Python</td>\n",
       "      <td>Y</td>\n",
       "      <td>2024-09-01</td>\n",
       "      <td>NaN</td>\n",
       "      <td>NaN</td>\n",
       "      <td>NaN</td>\n",
       "      <td>KOREA</td>\n",
       "      <td>N</td>\n",
       "      <td>2024</td>\n",
       "    </tr>\n",
       "    <tr>\n",
       "      <th>198</th>\n",
       "      <td>E00304</td>\n",
       "      <td>탐출조</td>\n",
       "      <td>M</td>\n",
       "      <td>ORG009</td>\n",
       "      <td>P009</td>\n",
       "      <td>24</td>\n",
       "      <td>0</td>\n",
       "      <td>학사 학위</td>\n",
       "      <td>0.00</td>\n",
       "      <td>4500</td>\n",
       "      <td>...</td>\n",
       "      <td>4</td>\n",
       "      <td>Salesforce</td>\n",
       "      <td>Y</td>\n",
       "      <td>2024-09-01</td>\n",
       "      <td>NaN</td>\n",
       "      <td>NaN</td>\n",
       "      <td>NaN</td>\n",
       "      <td>KOREA</td>\n",
       "      <td>N</td>\n",
       "      <td>2024</td>\n",
       "    </tr>\n",
       "    <tr>\n",
       "      <th>199</th>\n",
       "      <td>E00428</td>\n",
       "      <td>을충나</td>\n",
       "      <td>F</td>\n",
       "      <td>ORG003</td>\n",
       "      <td>P009</td>\n",
       "      <td>24</td>\n",
       "      <td>0</td>\n",
       "      <td>학사 학위</td>\n",
       "      <td>0.00</td>\n",
       "      <td>4500</td>\n",
       "      <td>...</td>\n",
       "      <td>4</td>\n",
       "      <td>Data Analysis, Python, Marketing</td>\n",
       "      <td>Y</td>\n",
       "      <td>2024-09-01</td>\n",
       "      <td>NaN</td>\n",
       "      <td>NaN</td>\n",
       "      <td>NaN</td>\n",
       "      <td>KOREA</td>\n",
       "      <td>N</td>\n",
       "      <td>2024</td>\n",
       "    </tr>\n",
       "  </tbody>\n",
       "</table>\n",
       "<p>200 rows × 21 columns</p>\n",
       "</div>"
      ]
     },
     "execution_count": 9,
     "metadata": {},
     "output_type": "execute_result"
    }
   ],
   "execution_count": 9
  },
  {
   "metadata": {
    "ExecuteTime": {
     "end_time": "2025-04-07T01:07:03.266272Z",
     "start_time": "2025-04-07T01:07:03.260442Z"
    }
   },
   "cell_type": "code",
   "source": [
    "# 연도별 입사자 수 파악\n",
    "hr_info['HIRE_YEAR'].value_counts().sort_index()"
   ],
   "id": "fd05796067880c40",
   "outputs": [
    {
     "data": {
      "text/plain": [
       "HIRE_YEAR\n",
       "1999     1\n",
       "2000     1\n",
       "2002     1\n",
       "2004     4\n",
       "2005     4\n",
       "2006     4\n",
       "2010     7\n",
       "2011     7\n",
       "2012     8\n",
       "2015    12\n",
       "2016    12\n",
       "2017    12\n",
       "2022    25\n",
       "2023    29\n",
       "2024    73\n",
       "Name: count, dtype: int64"
      ]
     },
     "execution_count": 11,
     "metadata": {},
     "output_type": "execute_result"
    }
   ],
   "execution_count": 11
  },
  {
   "metadata": {
    "ExecuteTime": {
     "end_time": "2025-04-07T01:10:47.562199Z",
     "start_time": "2025-04-07T01:10:47.492775Z"
    }
   },
   "cell_type": "code",
   "source": [
    "# 연도별로 입사자 수 선 그래프로 파악하기\n",
    "hr_info['HIRE_YEAR'].value_counts().sort_index().plot(kind='line', # 그래프 종류\n",
    "                                                        xlabel = 'HIRE_YEAR',\n",
    "                                                        ylabel = 'HIRE_COUNT',\n",
    "                                                        grid = True,)"
   ],
   "id": "12586588bc663f41",
   "outputs": [
    {
     "data": {
      "text/plain": [
       "<Axes: xlabel='HIRE_YEAR', ylabel='HIRE_COUNT'>"
      ]
     },
     "execution_count": 18,
     "metadata": {},
     "output_type": "execute_result"
    },
    {
     "data": {
      "text/plain": [
       "<Figure size 640x480 with 1 Axes>"
      ],
      "image/png": "[encoded data removed]"
     },
     "metadata": {},
     "output_type": "display_data"
    }
   ],
   "execution_count": 18
  },
  {
   "metadata": {},
   "cell_type": "code",
   "outputs": [],
   "execution_count": null,
   "source": "",
   "id": "580a261194b188ef"
  },
  {
   "metadata": {},
   "cell_type": "markdown",
   "source": "### 2. bar chart",
   "id": "e45e2a72b34a108e"
  },
  {
   "metadata": {
    "ExecuteTime": {
     "end_time": "2025-04-07T02:14:01.934026Z",
     "start_time": "2025-04-07T02:14:01.931532Z"
    }
   },
   "cell_type": "code",
   "source": [
    "# 한글 폰트 적용\n",
    "import matplotlib.pyplot as plt\n",
    "\n",
    "plt.rc('font', family='Malgun Gothic')"
   ],
   "id": "18d1f1efe8ddd93b",
   "outputs": [],
   "execution_count": 12
  },
  {
   "metadata": {},
   "cell_type": "code",
   "outputs": [],
   "execution_count": null,
   "source": "",
   "id": "9ba3755379583a0a"
  },
  {
   "metadata": {},
   "cell_type": "markdown",
   "source": "#### 학위별 평균 연봉 비교\n",
   "id": "645925bbc1be4fb8"
  },
  {
   "metadata": {
    "ExecuteTime": {
     "end_time": "2025-04-07T01:16:16.277Z",
     "start_time": "2025-04-07T01:16:16.268155Z"
    }
   },
   "cell_type": "code",
   "source": [
    "# 데이터 집계\n",
    "hr_info.head(1)"
   ],
   "id": "3a5a74b20af6eac8",
   "outputs": [
    {
     "data": {
      "text/plain": [
       "      EID ENAME GENDER ORG_CD POS_CD  AGE  SERVICE_YEAR EDU_LEVEL  \\\n",
       "0  E00206   시이오      M    NaN   P001   49            25     박사 학위   \n",
       "\n",
       "   PERFORMANCE_SCORE  SALARY  ... TRAINING_HOURS                 SKILLS  \\\n",
       "0                4.5   10200  ...            240  Marketing, Salesforce   \n",
       "\n",
       "  ACTIVE_STATE  HIRE_DATE RETIRE_DATE RETIRE_REASON REHIRE_YN NATION  \\\n",
       "0            Y 1999-03-01         NaN           NaN       NaN  KOREA   \n",
       "\n",
       "  ROUNDING_DEDUCTION HIRE_YEAR  \n",
       "0                  Y      1999  \n",
       "\n",
       "[1 rows x 21 columns]"
      ],
      "text/html": [
       "<div>\n",
       "<style scoped>\n",
       "    .dataframe tbody tr th:only-of-type {\n",
       "        vertical-align: middle;\n",
       "    }\n",
       "\n",
       "    .dataframe tbody tr th {\n",
       "        vertical-align: top;\n",
       "    }\n",
       "\n",
       "    .dataframe thead th {\n",
       "        text-align: right;\n",
       "    }\n",
       "</style>\n",
       "<table border=\"1\" class=\"dataframe\">\n",
       "  <thead>\n",
       "    <tr style=\"text-align: right;\">\n",
       "      <th></th>\n",
       "      <th>EID</th>\n",
       "      <th>ENAME</th>\n",
       "      <th>GENDER</th>\n",
       "      <th>ORG_CD</th>\n",
       "      <th>POS_CD</th>\n",
       "      <th>AGE</th>\n",
       "      <th>SERVICE_YEAR</th>\n",
       "      <th>EDU_LEVEL</th>\n",
       "      <th>PERFORMANCE_SCORE</th>\n",
       "      <th>SALARY</th>\n",
       "      <th>...</th>\n",
       "      <th>TRAINING_HOURS</th>\n",
       "      <th>SKILLS</th>\n",
       "      <th>ACTIVE_STATE</th>\n",
       "      <th>HIRE_DATE</th>\n",
       "      <th>RETIRE_DATE</th>\n",
       "      <th>RETIRE_REASON</th>\n",
       "      <th>REHIRE_YN</th>\n",
       "      <th>NATION</th>\n",
       "      <th>ROUNDING_DEDUCTION</th>\n",
       "      <th>HIRE_YEAR</th>\n",
       "    </tr>\n",
       "  </thead>\n",
       "  <tbody>\n",
       "    <tr>\n",
       "      <th>0</th>\n",
       "      <td>E00206</td>\n",
       "      <td>시이오</td>\n",
       "      <td>M</td>\n",
       "      <td>NaN</td>\n",
       "      <td>P001</td>\n",
       "      <td>49</td>\n",
       "      <td>25</td>\n",
       "      <td>박사 학위</td>\n",
       "      <td>4.5</td>\n",
       "      <td>10200</td>\n",
       "      <td>...</td>\n",
       "      <td>240</td>\n",
       "      <td>Marketing, Salesforce</td>\n",
       "      <td>Y</td>\n",
       "      <td>1999-03-01</td>\n",
       "      <td>NaN</td>\n",
       "      <td>NaN</td>\n",
       "      <td>NaN</td>\n",
       "      <td>KOREA</td>\n",
       "      <td>Y</td>\n",
       "      <td>1999</td>\n",
       "    </tr>\n",
       "  </tbody>\n",
       "</table>\n",
       "<p>1 rows × 21 columns</p>\n",
       "</div>"
      ]
     },
     "execution_count": 23,
     "metadata": {},
     "output_type": "execute_result"
    }
   ],
   "execution_count": 23
  },
  {
   "metadata": {
    "ExecuteTime": {
     "end_time": "2025-04-07T01:17:51.595364Z",
     "start_time": "2025-04-07T01:17:51.587600Z"
    }
   },
   "cell_type": "code",
   "source": "hr_info[['EDU_LEVEL', 'SALARY']].groupby('EDU_LEVEL').mean()",
   "id": "219a1f130f242cae",
   "outputs": [
    {
     "data": {
      "text/plain": [
       "                SALARY\n",
       "EDU_LEVEL             \n",
       "고등학교 졸업    6140.000000\n",
       "박사 학위      8166.666667\n",
       "석사 학위      6900.000000\n",
       "전문대 학위     5050.000000\n",
       "학사 학위      5727.044025"
      ],
      "text/html": [
       "<div>\n",
       "<style scoped>\n",
       "    .dataframe tbody tr th:only-of-type {\n",
       "        vertical-align: middle;\n",
       "    }\n",
       "\n",
       "    .dataframe tbody tr th {\n",
       "        vertical-align: top;\n",
       "    }\n",
       "\n",
       "    .dataframe thead th {\n",
       "        text-align: right;\n",
       "    }\n",
       "</style>\n",
       "<table border=\"1\" class=\"dataframe\">\n",
       "  <thead>\n",
       "    <tr style=\"text-align: right;\">\n",
       "      <th></th>\n",
       "      <th>SALARY</th>\n",
       "    </tr>\n",
       "    <tr>\n",
       "      <th>EDU_LEVEL</th>\n",
       "      <th></th>\n",
       "    </tr>\n",
       "  </thead>\n",
       "  <tbody>\n",
       "    <tr>\n",
       "      <th>고등학교 졸업</th>\n",
       "      <td>6140.000000</td>\n",
       "    </tr>\n",
       "    <tr>\n",
       "      <th>박사 학위</th>\n",
       "      <td>8166.666667</td>\n",
       "    </tr>\n",
       "    <tr>\n",
       "      <th>석사 학위</th>\n",
       "      <td>6900.000000</td>\n",
       "    </tr>\n",
       "    <tr>\n",
       "      <th>전문대 학위</th>\n",
       "      <td>5050.000000</td>\n",
       "    </tr>\n",
       "    <tr>\n",
       "      <th>학사 학위</th>\n",
       "      <td>5727.044025</td>\n",
       "    </tr>\n",
       "  </tbody>\n",
       "</table>\n",
       "</div>"
      ]
     },
     "execution_count": 28,
     "metadata": {},
     "output_type": "execute_result"
    }
   ],
   "execution_count": 28
  },
  {
   "metadata": {
    "ExecuteTime": {
     "end_time": "2025-04-07T01:20:41.549313Z",
     "start_time": "2025-04-07T01:20:41.464016Z"
    }
   },
   "cell_type": "code",
   "source": [
    "# 데이터 집계 및 시각화\n",
    "hr_info[['EDU_LEVEL', 'SALARY']].groupby('EDU_LEVEL').mean().plot(kind='bar', xlabel = 'EDU_LEVEL', rot = 45 , ylabel = 'SALARY', title = '학위별 평균')"
   ],
   "id": "dab6c44551cfd25d",
   "outputs": [
    {
     "data": {
      "text/plain": [
       "<Axes: title={'center': '학위별 평균'}, xlabel='EDU_LEVEL', ylabel='SALARY'>"
      ]
     },
     "execution_count": 33,
     "metadata": {},
     "output_type": "execute_result"
    },
    {
     "data": {
      "text/plain": [
       "<Figure size 640x480 with 1 Axes>"
      ],
      "image/png": "[encoded data removed]"
     },
     "metadata": {},
     "output_type": "display_data"
    }
   ],
   "execution_count": 33
  },
  {
   "metadata": {},
   "cell_type": "code",
   "outputs": [],
   "execution_count": null,
   "source": "",
   "id": "6cb8a41ad46b11bd"
  },
  {
   "metadata": {},
   "cell_type": "markdown",
   "source": "#### 학위, 성별에 따른 평균연봉 시각화\n",
   "id": "e6a8956d1fc53e13"
  },
  {
   "metadata": {
    "ExecuteTime": {
     "end_time": "2025-04-07T01:29:51.631968Z",
     "start_time": "2025-04-07T01:29:51.533556Z"
    }
   },
   "cell_type": "code",
   "source": "hr_info[['EDU_LEVEL', 'GENDER', 'SALARY']].groupby(['EDU_LEVEL', 'GENDER']).mean().plot(kind='bar', xlabel = 'EDU_LEVEL & gender', ylabel = 'salary', colormap = 'Set3', rot = 45)",
   "id": "f9cb0465796f20e",
   "outputs": [
    {
     "data": {
      "text/plain": [
       "<Axes: xlabel='EDU_LEVEL & gender', ylabel='salary'>"
      ]
     },
     "execution_count": 37,
     "metadata": {},
     "output_type": "execute_result"
    },
    {
     "data": {
      "text/plain": [
       "<Figure size 640x480 with 1 Axes>"
      ],
      "image/png": "[encoded data removed]"
     },
     "metadata": {},
     "output_type": "display_data"
    }
   ],
   "execution_count": 37
  },
  {
   "metadata": {
    "ExecuteTime": {
     "end_time": "2025-04-07T02:14:08.134204Z",
     "start_time": "2025-04-07T02:14:08.129968Z"
    }
   },
   "cell_type": "code",
   "source": "salary_mean = hr_info[['EDU_LEVEL', 'GENDER', 'SALARY']].groupby(['EDU_LEVEL', 'GENDER']).mean()",
   "id": "248ff35d8b2cfc21",
   "outputs": [],
   "execution_count": 13
  },
  {
   "metadata": {
    "ExecuteTime": {
     "end_time": "2025-04-07T02:14:09.118653Z",
     "start_time": "2025-04-07T02:14:09.110778Z"
    }
   },
   "cell_type": "code",
   "source": [
    "salary_mean2 = salary_mean.reset_index().pivot(index='EDU_LEVEL', columns='GENDER', values='SALARY')\n",
    "# 인덱스 : 교윣준\n",
    "# 컬럼: 성별(F, M)\n",
    "# 들어갈 값 : 연봉\n",
    "\n",
    "salary_mean2"
   ],
   "id": "d763ada1f1c9dbe2",
   "outputs": [
    {
     "data": {
      "text/plain": [
       "GENDER               F            M\n",
       "EDU_LEVEL                          \n",
       "고등학교 졸업    6200.000000  6100.000000\n",
       "박사 학위      8425.000000  8037.500000\n",
       "석사 학위      7233.333333  6525.000000\n",
       "전문대 학위     5600.000000  4500.000000\n",
       "학사 학위      5643.076923  5785.106383"
      ],
      "text/html": [
       "<div>\n",
       "<style scoped>\n",
       "    .dataframe tbody tr th:only-of-type {\n",
       "        vertical-align: middle;\n",
       "    }\n",
       "\n",
       "    .dataframe tbody tr th {\n",
       "        vertical-align: top;\n",
       "    }\n",
       "\n",
       "    .dataframe thead th {\n",
       "        text-align: right;\n",
       "    }\n",
       "</style>\n",
       "<table border=\"1\" class=\"dataframe\">\n",
       "  <thead>\n",
       "    <tr style=\"text-align: right;\">\n",
       "      <th>GENDER</th>\n",
       "      <th>F</th>\n",
       "      <th>M</th>\n",
       "    </tr>\n",
       "    <tr>\n",
       "      <th>EDU_LEVEL</th>\n",
       "      <th></th>\n",
       "      <th></th>\n",
       "    </tr>\n",
       "  </thead>\n",
       "  <tbody>\n",
       "    <tr>\n",
       "      <th>고등학교 졸업</th>\n",
       "      <td>6200.000000</td>\n",
       "      <td>6100.000000</td>\n",
       "    </tr>\n",
       "    <tr>\n",
       "      <th>박사 학위</th>\n",
       "      <td>8425.000000</td>\n",
       "      <td>8037.500000</td>\n",
       "    </tr>\n",
       "    <tr>\n",
       "      <th>석사 학위</th>\n",
       "      <td>7233.333333</td>\n",
       "      <td>6525.000000</td>\n",
       "    </tr>\n",
       "    <tr>\n",
       "      <th>전문대 학위</th>\n",
       "      <td>5600.000000</td>\n",
       "      <td>4500.000000</td>\n",
       "    </tr>\n",
       "    <tr>\n",
       "      <th>학사 학위</th>\n",
       "      <td>5643.076923</td>\n",
       "      <td>5785.106383</td>\n",
       "    </tr>\n",
       "  </tbody>\n",
       "</table>\n",
       "</div>"
      ]
     },
     "execution_count": 14,
     "metadata": {},
     "output_type": "execute_result"
    }
   ],
   "execution_count": 14
  },
  {
   "metadata": {
    "ExecuteTime": {
     "end_time": "2025-04-07T01:42:26.319244Z",
     "start_time": "2025-04-07T01:42:26.211254Z"
    }
   },
   "cell_type": "code",
   "source": [
    "# 시각화\n",
    "# barh : 막대그래프 ( 수평 )\n",
    "salary_mean2.plot(kind='barh', colormap='Set3', xlabel = '평균 연봉', ylabel = '교육 수준', title = '교육 수준과 성별에 다른 평균 연봉 비교')"
   ],
   "id": "a2d50edb20f150cd",
   "outputs": [
    {
     "data": {
      "text/plain": [
       "<Axes: title={'center': '교육 수준과 성별에 다른 평균 연봉 비교'}, xlabel='평균 연봉', ylabel='교육 수준'>"
      ]
     },
     "execution_count": 42,
     "metadata": {},
     "output_type": "execute_result"
    },
    {
     "data": {
      "text/plain": [
       "<Figure size 640x480 with 1 Axes>"
      ],
      "image/png": "[encoded data removed]"
     },
     "metadata": {},
     "output_type": "display_data"
    }
   ],
   "execution_count": 42
  },
  {
   "metadata": {},
   "cell_type": "code",
   "outputs": [],
   "execution_count": null,
   "source": "",
   "id": "1eab231088d85d9e"
  },
  {
   "metadata": {},
   "cell_type": "markdown",
   "source": "#### 팀별 평균 연봉 비교하기",
   "id": "bbef54249034d467"
  },
  {
   "metadata": {
    "ExecuteTime": {
     "end_time": "2025-04-07T02:14:21.602786Z",
     "start_time": "2025-04-07T02:14:21.594733Z"
    }
   },
   "cell_type": "code",
   "source": [
    "# 조직정보 데이터 로딩\n",
    "org_info = pd.read_csv('C:\\\\Users\\\\1\\\\Desktop\\\\workspace\\\\core-project-study\\\\jinseok\\\\python-study\\\\data\\\\org-info.csv', encoding='euc-kr')\n",
    "org_info"
   ],
   "id": "ae2e9beb66ef4e3",
   "outputs": [
    {
     "data": {
      "text/plain": [
       "    ORG_CD                               ENG_DIVISION KOR_DIVISION  \\\n",
       "0   ORG001                Home Entertainment Division       HE사업본부   \n",
       "1   ORG002                Home Entertainment Division       HE사업본부   \n",
       "2   ORG003                Home Entertainment Division       HE사업본부   \n",
       "3   ORG004                Home Entertainment Division       HE사업본부   \n",
       "4   ORG005                Home Entertainment Division       HE사업본부   \n",
       "5   ORG006                Home Entertainment Division       HE사업본부   \n",
       "6   ORG007                 Vehicle Solutions Division       VS사업본부   \n",
       "7   ORG008                 Vehicle Solutions Division       VS사업본부   \n",
       "8   ORG009                 Vehicle Solutions Division       VS사업본부   \n",
       "9   ORG010                 Vehicle Solutions Division       VS사업본부   \n",
       "10  ORG011                 Vehicle Solutions Division       VS사업본부   \n",
       "11  ORG012                 Vehicle Solutions Division       VS사업본부   \n",
       "12  ORG013   Home Appliance and Air Solution Division       HA사업본부   \n",
       "13  ORG014   Home Appliance and Air Solution Division       HA사업본부   \n",
       "14  ORG015   Home Appliance and Air Solution Division       HA사업본부   \n",
       "15  ORG016                Business Solutions Division       BS사업본부   \n",
       "16  ORG017                Business Solutions Division       BS사업본부   \n",
       "17  ORG018                Business Solutions Division       BS사업본부   \n",
       "18  ORG019                Business Solutions Division       BS사업본부   \n",
       "19  ORG020                Business Solutions Division       BS사업본부   \n",
       "20  ORG021                Business Solutions Division       BS사업본부   \n",
       "21  ORG022  Production Engineering Research Institute        생산기술원   \n",
       "22  ORG023  Production Engineering Research Institute        생산기술원   \n",
       "23  ORG024  Production Engineering Research Institute        생산기술원   \n",
       "24  ORG025                            Human Resources           HR   \n",
       "25  ORG026                            Human Resources           HR   \n",
       "26  ORG027                            Human Resources           HR   \n",
       "27  ORG028                Home Entertainment Division       HE사업본부   \n",
       "28  ORG029                Home Entertainment Division       HE사업본부   \n",
       "29  ORG030                Home Entertainment Division       HE사업본부   \n",
       "\n",
       "                              ENG_DEPARTMENT   KOR_DEPARTMENT  \\\n",
       "0          TV Business Operations Department         TV사업운영센터   \n",
       "1          TV Business Operations Department         TV사업운영센터   \n",
       "2          TV Business Operations Department         TV사업운영센터   \n",
       "3      webOS Software Development Department     webOS SW개발그룹   \n",
       "4      webOS Software Development Department     webOS SW개발그룹   \n",
       "5      webOS Software Development Department     webOS SW개발그룹   \n",
       "6        Global Customer Strategy Department        글로벌고객전략담당   \n",
       "7        Global Customer Strategy Department        글로벌고객전략담당   \n",
       "8        Global Customer Strategy Department        글로벌고객전략담당   \n",
       "9                VS Asia Sales/PM Department     VS아시아영업/PM담당   \n",
       "10               VS Asia Sales/PM Department     VS아시아영업/PM담당   \n",
       "11               VS Asia Sales/PM Department     VS아시아영업/PM담당   \n",
       "12              Kitchen Solutions Department         키친솔루션사업부   \n",
       "13              Kitchen Solutions Department         키친솔루션사업부   \n",
       "14              Kitchen Solutions Department         키친솔루션사업부   \n",
       "15             B2B India Business Department        B2B인도사업담당   \n",
       "16             B2B India Business Department        B2B인도사업담당   \n",
       "17             B2B India Business Department        B2B인도사업담당   \n",
       "18           North America Innovation Center        북미이노베이션센터   \n",
       "19           North America Innovation Center        북미이노베이션센터   \n",
       "20           North America Innovation Center        북미이노베이션센터   \n",
       "21    Production Technology Development Team          생산기술개발팀   \n",
       "22    Production Technology Development Team          생산기술개발팀   \n",
       "23    Production Technology Development Team          생산기술개발팀   \n",
       "24  Chief Human Resources Officer Department  최고인사책임자(CHO) 부서   \n",
       "25  Chief Human Resources Officer Department  최고인사책임자(CHO) 부서   \n",
       "26  Chief Human Resources Officer Department  최고인사책임자(CHO) 부서   \n",
       "27     Washing Machine Operations Department          세탁기운영센터   \n",
       "28     Washing Machine Operations Department          세탁기운영센터   \n",
       "29     Washing Machine Operations Department          세탁기운영센터   \n",
       "\n",
       "                                   Team           KOR_TEAM  \\\n",
       "0            TV Product Management Team         TV 제품 관리 팀   \n",
       "1                     TV Marketing Team           TV 마케팅 팀   \n",
       "2              TV Customer Support Team         TV 고객 지원 팀   \n",
       "3           webOS Core Development Team      webOS 핵심 개발 팀   \n",
       "4             webOS User Interface Team  webOS 사용자 인터페이스 팀   \n",
       "5          webOS Quality Assurance Team      webOS 품질 보증 팀   \n",
       "6            Global Sales Strategy Team        글로벌 판매 전략 팀   \n",
       "7           Key Account Management Team         주요 고객 관리 팀   \n",
       "8                Customer Insights Team            고객 통찰 팀   \n",
       "9              Asia Regional Sales Team        아시아 지역 판매 팀   \n",
       "10              Project Management Team          프로젝트 관리 팀   \n",
       "11         Technical Sales Support Team         기술 영업 지원 팀   \n",
       "12   Kitchen Appliance Development Team         주방 가전 개발 팀   \n",
       "13       Kitchen Product Marketing Team        주방 제품 마케팅 팀   \n",
       "14        Kitchen Customer Service Team        주방 고객 서비스 팀   \n",
       "15                 India B2B Sales Team        인도 B2B 판매 팀   \n",
       "16           India Market Analysis Team         인도 시장 분석 팀   \n",
       "17          India Customer Support Team         인도 고객 지원 팀   \n",
       "18             Innovation Research Team            혁신 연구 팀   \n",
       "19        New Business Development Team           신사업 개발 팀   \n",
       "20             North America Sales Team            북미 판매 팀   \n",
       "21  Production Process Improvement Team         생산 공정 개선 팀   \n",
       "22          Advanced Manufacturing Team            첨단 제조 팀   \n",
       "23      Production Quality Control Team         생산 품질 관리 팀   \n",
       "24              Talent Acquisition Team            인재 채용 팀   \n",
       "25            Employee Development Team            직원 개발 팀   \n",
       "26       Compensation and Benefits Team        보상 및 복리후생 팀   \n",
       "27               Parts Development Team              부품개발팀   \n",
       "28                        Analysis Team                분석팀   \n",
       "29          Information Management Team              정보관리팀   \n",
       "\n",
       "                                                 Role  \n",
       "0         관리 및 마케팅 전략 수립을 통해 TV 제품의 전체 라이프사이클을 관리합니다.  \n",
       "1         TV 제품의 시장 진입 전략을 수립하고, 광고 및 프로모션 활동을 기획합니다.  \n",
       "2        TV 고객 지원 서비스 제공 및 고객 만족도를 높이기 위한 해결책을 제공합니다.  \n",
       "3                  webOS 플랫폼의 핵심 기능 개발 및 유지보수를 담당합니다.  \n",
       "4                   webOS의 사용자 인터페이스 디자인 및 개선을 담당합니다.  \n",
       "5                    webOS 소프트웨어의 품질 검증 및 테스트를 수행합니다.  \n",
       "6             글로벌 판매 전략을 수립하고, 주요 시장에서의 판매 목표를 설정합니다.  \n",
       "7                   주요 고객과의 관계를 관리하고, 맞춤형 솔루션을 제공합니다.  \n",
       "8   고객 데이터를 분석하여 인사이트를 도출하고, 이를 기반으로 제품 및 서비스 개선안을...  \n",
       "9             아시아 지역에서의 판매 활동을 관리하고, 시장 진입 전략을 수립합니다.  \n",
       "10            프로젝트 계획 수립 및 실행, 리소스 관리 및 일정 관리를 담당합니다.  \n",
       "11    기술적 지원을 제공하여 고객의 요구사항을 해결하고, 제품의 기술적 장점을 설명합니다.  \n",
       "12                          주방 가전 제품의 개발 및 설계를 담당합니다.  \n",
       "13                      주방 제품의 마케팅 전략 수립 및 실행을 담당합니다.  \n",
       "14                주방 가전 제품에 대한 고객 지원 및 서비스 제공을 담당합니다.  \n",
       "15          인도 지역 B2B 판매 활동을 관리하고, 고객 맞춤형 솔루션을 제공합니다.  \n",
       "16                     인도 시장에 대한 분석을 통해 시장 전략을 수립합니다.  \n",
       "17                      인도 지역 고객에 대한 지원 및 서비스를 제공합니다.  \n",
       "18                        신기술 연구 및 혁신적인 제품 개발을 주도합니다.  \n",
       "19                     새로운 비즈니스 기회를 발굴하고, 사업화를 추진합니다.  \n",
       "20                        북미 지역 판매 전략 수립 및 실행을 담당합니다.  \n",
       "21                  생산 공정의 효율성을 개선하고 최적화하는 작업을 수행합니다.  \n",
       "22                    첨단 제조 기술 개발 및 생산성 향상 작업을 수행합니다.  \n",
       "23                         생산 품질을 관리하고, 품질 문제를 해결합니다.  \n",
       "24                      인재 채용 전략 수립 및 실행, 채용 프로세스 관리.  \n",
       "25                           직원 교육 및 개발 프로그램 기획 및 실행.  \n",
       "26                                직원 보상 및 복리후생 제도 관리.  \n",
       "27                            세탁기 부품의 개발 및 개선을 담당합니다.  \n",
       "28              세탁기 성능 및 사용자 로그 데이터를 분석하고 보고서를 작성합니다.  \n",
       "29                 세탁기 관련 정보의 수집, 저장, 관리 및 배포를 담당합니다.  "
      ],
      "text/html": [
       "<div>\n",
       "<style scoped>\n",
       "    .dataframe tbody tr th:only-of-type {\n",
       "        vertical-align: middle;\n",
       "    }\n",
       "\n",
       "    .dataframe tbody tr th {\n",
       "        vertical-align: top;\n",
       "    }\n",
       "\n",
       "    .dataframe thead th {\n",
       "        text-align: right;\n",
       "    }\n",
       "</style>\n",
       "<table border=\"1\" class=\"dataframe\">\n",
       "  <thead>\n",
       "    <tr style=\"text-align: right;\">\n",
       "      <th></th>\n",
       "      <th>ORG_CD</th>\n",
       "      <th>ENG_DIVISION</th>\n",
       "      <th>KOR_DIVISION</th>\n",
       "      <th>ENG_DEPARTMENT</th>\n",
       "      <th>KOR_DEPARTMENT</th>\n",
       "      <th>Team</th>\n",
       "      <th>KOR_TEAM</th>\n",
       "      <th>Role</th>\n",
       "    </tr>\n",
       "  </thead>\n",
       "  <tbody>\n",
       "    <tr>\n",
       "      <th>0</th>\n",
       "      <td>ORG001</td>\n",
       "      <td>Home Entertainment Division</td>\n",
       "      <td>HE사업본부</td>\n",
       "      <td>TV Business Operations Department</td>\n",
       "      <td>TV사업운영센터</td>\n",
       "      <td>TV Product Management Team</td>\n",
       "      <td>TV 제품 관리 팀</td>\n",
       "      <td>관리 및 마케팅 전략 수립을 통해 TV 제품의 전체 라이프사이클을 관리합니다.</td>\n",
       "    </tr>\n",
       "    <tr>\n",
       "      <th>1</th>\n",
       "      <td>ORG002</td>\n",
       "      <td>Home Entertainment Division</td>\n",
       "      <td>HE사업본부</td>\n",
       "      <td>TV Business Operations Department</td>\n",
       "      <td>TV사업운영센터</td>\n",
       "      <td>TV Marketing Team</td>\n",
       "      <td>TV 마케팅 팀</td>\n",
       "      <td>TV 제품의 시장 진입 전략을 수립하고, 광고 및 프로모션 활동을 기획합니다.</td>\n",
       "    </tr>\n",
       "    <tr>\n",
       "      <th>2</th>\n",
       "      <td>ORG003</td>\n",
       "      <td>Home Entertainment Division</td>\n",
       "      <td>HE사업본부</td>\n",
       "      <td>TV Business Operations Department</td>\n",
       "      <td>TV사업운영센터</td>\n",
       "      <td>TV Customer Support Team</td>\n",
       "      <td>TV 고객 지원 팀</td>\n",
       "      <td>TV 고객 지원 서비스 제공 및 고객 만족도를 높이기 위한 해결책을 제공합니다.</td>\n",
       "    </tr>\n",
       "    <tr>\n",
       "      <th>3</th>\n",
       "      <td>ORG004</td>\n",
       "      <td>Home Entertainment Division</td>\n",
       "      <td>HE사업본부</td>\n",
       "      <td>webOS Software Development Department</td>\n",
       "      <td>webOS SW개발그룹</td>\n",
       "      <td>webOS Core Development Team</td>\n",
       "      <td>webOS 핵심 개발 팀</td>\n",
       "      <td>webOS 플랫폼의 핵심 기능 개발 및 유지보수를 담당합니다.</td>\n",
       "    </tr>\n",
       "    <tr>\n",
       "      <th>4</th>\n",
       "      <td>ORG005</td>\n",
       "      <td>Home Entertainment Division</td>\n",
       "      <td>HE사업본부</td>\n",
       "      <td>webOS Software Development Department</td>\n",
       "      <td>webOS SW개발그룹</td>\n",
       "      <td>webOS User Interface Team</td>\n",
       "      <td>webOS 사용자 인터페이스 팀</td>\n",
       "      <td>webOS의 사용자 인터페이스 디자인 및 개선을 담당합니다.</td>\n",
       "    </tr>\n",
       "    <tr>\n",
       "      <th>5</th>\n",
       "      <td>ORG006</td>\n",
       "      <td>Home Entertainment Division</td>\n",
       "      <td>HE사업본부</td>\n",
       "      <td>webOS Software Development Department</td>\n",
       "      <td>webOS SW개발그룹</td>\n",
       "      <td>webOS Quality Assurance Team</td>\n",
       "      <td>webOS 품질 보증 팀</td>\n",
       "      <td>webOS 소프트웨어의 품질 검증 및 테스트를 수행합니다.</td>\n",
       "    </tr>\n",
       "    <tr>\n",
       "      <th>6</th>\n",
       "      <td>ORG007</td>\n",
       "      <td>Vehicle Solutions Division</td>\n",
       "      <td>VS사업본부</td>\n",
       "      <td>Global Customer Strategy Department</td>\n",
       "      <td>글로벌고객전략담당</td>\n",
       "      <td>Global Sales Strategy Team</td>\n",
       "      <td>글로벌 판매 전략 팀</td>\n",
       "      <td>글로벌 판매 전략을 수립하고, 주요 시장에서의 판매 목표를 설정합니다.</td>\n",
       "    </tr>\n",
       "    <tr>\n",
       "      <th>7</th>\n",
       "      <td>ORG008</td>\n",
       "      <td>Vehicle Solutions Division</td>\n",
       "      <td>VS사업본부</td>\n",
       "      <td>Global Customer Strategy Department</td>\n",
       "      <td>글로벌고객전략담당</td>\n",
       "      <td>Key Account Management Team</td>\n",
       "      <td>주요 고객 관리 팀</td>\n",
       "      <td>주요 고객과의 관계를 관리하고, 맞춤형 솔루션을 제공합니다.</td>\n",
       "    </tr>\n",
       "    <tr>\n",
       "      <th>8</th>\n",
       "      <td>ORG009</td>\n",
       "      <td>Vehicle Solutions Division</td>\n",
       "      <td>VS사업본부</td>\n",
       "      <td>Global Customer Strategy Department</td>\n",
       "      <td>글로벌고객전략담당</td>\n",
       "      <td>Customer Insights Team</td>\n",
       "      <td>고객 통찰 팀</td>\n",
       "      <td>고객 데이터를 분석하여 인사이트를 도출하고, 이를 기반으로 제품 및 서비스 개선안을...</td>\n",
       "    </tr>\n",
       "    <tr>\n",
       "      <th>9</th>\n",
       "      <td>ORG010</td>\n",
       "      <td>Vehicle Solutions Division</td>\n",
       "      <td>VS사업본부</td>\n",
       "      <td>VS Asia Sales/PM Department</td>\n",
       "      <td>VS아시아영업/PM담당</td>\n",
       "      <td>Asia Regional Sales Team</td>\n",
       "      <td>아시아 지역 판매 팀</td>\n",
       "      <td>아시아 지역에서의 판매 활동을 관리하고, 시장 진입 전략을 수립합니다.</td>\n",
       "    </tr>\n",
       "    <tr>\n",
       "      <th>10</th>\n",
       "      <td>ORG011</td>\n",
       "      <td>Vehicle Solutions Division</td>\n",
       "      <td>VS사업본부</td>\n",
       "      <td>VS Asia Sales/PM Department</td>\n",
       "      <td>VS아시아영업/PM담당</td>\n",
       "      <td>Project Management Team</td>\n",
       "      <td>프로젝트 관리 팀</td>\n",
       "      <td>프로젝트 계획 수립 및 실행, 리소스 관리 및 일정 관리를 담당합니다.</td>\n",
       "    </tr>\n",
       "    <tr>\n",
       "      <th>11</th>\n",
       "      <td>ORG012</td>\n",
       "      <td>Vehicle Solutions Division</td>\n",
       "      <td>VS사업본부</td>\n",
       "      <td>VS Asia Sales/PM Department</td>\n",
       "      <td>VS아시아영업/PM담당</td>\n",
       "      <td>Technical Sales Support Team</td>\n",
       "      <td>기술 영업 지원 팀</td>\n",
       "      <td>기술적 지원을 제공하여 고객의 요구사항을 해결하고, 제품의 기술적 장점을 설명합니다.</td>\n",
       "    </tr>\n",
       "    <tr>\n",
       "      <th>12</th>\n",
       "      <td>ORG013</td>\n",
       "      <td>Home Appliance and Air Solution Division</td>\n",
       "      <td>HA사업본부</td>\n",
       "      <td>Kitchen Solutions Department</td>\n",
       "      <td>키친솔루션사업부</td>\n",
       "      <td>Kitchen Appliance Development Team</td>\n",
       "      <td>주방 가전 개발 팀</td>\n",
       "      <td>주방 가전 제품의 개발 및 설계를 담당합니다.</td>\n",
       "    </tr>\n",
       "    <tr>\n",
       "      <th>13</th>\n",
       "      <td>ORG014</td>\n",
       "      <td>Home Appliance and Air Solution Division</td>\n",
       "      <td>HA사업본부</td>\n",
       "      <td>Kitchen Solutions Department</td>\n",
       "      <td>키친솔루션사업부</td>\n",
       "      <td>Kitchen Product Marketing Team</td>\n",
       "      <td>주방 제품 마케팅 팀</td>\n",
       "      <td>주방 제품의 마케팅 전략 수립 및 실행을 담당합니다.</td>\n",
       "    </tr>\n",
       "    <tr>\n",
       "      <th>14</th>\n",
       "      <td>ORG015</td>\n",
       "      <td>Home Appliance and Air Solution Division</td>\n",
       "      <td>HA사업본부</td>\n",
       "      <td>Kitchen Solutions Department</td>\n",
       "      <td>키친솔루션사업부</td>\n",
       "      <td>Kitchen Customer Service Team</td>\n",
       "      <td>주방 고객 서비스 팀</td>\n",
       "      <td>주방 가전 제품에 대한 고객 지원 및 서비스 제공을 담당합니다.</td>\n",
       "    </tr>\n",
       "    <tr>\n",
       "      <th>15</th>\n",
       "      <td>ORG016</td>\n",
       "      <td>Business Solutions Division</td>\n",
       "      <td>BS사업본부</td>\n",
       "      <td>B2B India Business Department</td>\n",
       "      <td>B2B인도사업담당</td>\n",
       "      <td>India B2B Sales Team</td>\n",
       "      <td>인도 B2B 판매 팀</td>\n",
       "      <td>인도 지역 B2B 판매 활동을 관리하고, 고객 맞춤형 솔루션을 제공합니다.</td>\n",
       "    </tr>\n",
       "    <tr>\n",
       "      <th>16</th>\n",
       "      <td>ORG017</td>\n",
       "      <td>Business Solutions Division</td>\n",
       "      <td>BS사업본부</td>\n",
       "      <td>B2B India Business Department</td>\n",
       "      <td>B2B인도사업담당</td>\n",
       "      <td>India Market Analysis Team</td>\n",
       "      <td>인도 시장 분석 팀</td>\n",
       "      <td>인도 시장에 대한 분석을 통해 시장 전략을 수립합니다.</td>\n",
       "    </tr>\n",
       "    <tr>\n",
       "      <th>17</th>\n",
       "      <td>ORG018</td>\n",
       "      <td>Business Solutions Division</td>\n",
       "      <td>BS사업본부</td>\n",
       "      <td>B2B India Business Department</td>\n",
       "      <td>B2B인도사업담당</td>\n",
       "      <td>India Customer Support Team</td>\n",
       "      <td>인도 고객 지원 팀</td>\n",
       "      <td>인도 지역 고객에 대한 지원 및 서비스를 제공합니다.</td>\n",
       "    </tr>\n",
       "    <tr>\n",
       "      <th>18</th>\n",
       "      <td>ORG019</td>\n",
       "      <td>Business Solutions Division</td>\n",
       "      <td>BS사업본부</td>\n",
       "      <td>North America Innovation Center</td>\n",
       "      <td>북미이노베이션센터</td>\n",
       "      <td>Innovation Research Team</td>\n",
       "      <td>혁신 연구 팀</td>\n",
       "      <td>신기술 연구 및 혁신적인 제품 개발을 주도합니다.</td>\n",
       "    </tr>\n",
       "    <tr>\n",
       "      <th>19</th>\n",
       "      <td>ORG020</td>\n",
       "      <td>Business Solutions Division</td>\n",
       "      <td>BS사업본부</td>\n",
       "      <td>North America Innovation Center</td>\n",
       "      <td>북미이노베이션센터</td>\n",
       "      <td>New Business Development Team</td>\n",
       "      <td>신사업 개발 팀</td>\n",
       "      <td>새로운 비즈니스 기회를 발굴하고, 사업화를 추진합니다.</td>\n",
       "    </tr>\n",
       "    <tr>\n",
       "      <th>20</th>\n",
       "      <td>ORG021</td>\n",
       "      <td>Business Solutions Division</td>\n",
       "      <td>BS사업본부</td>\n",
       "      <td>North America Innovation Center</td>\n",
       "      <td>북미이노베이션센터</td>\n",
       "      <td>North America Sales Team</td>\n",
       "      <td>북미 판매 팀</td>\n",
       "      <td>북미 지역 판매 전략 수립 및 실행을 담당합니다.</td>\n",
       "    </tr>\n",
       "    <tr>\n",
       "      <th>21</th>\n",
       "      <td>ORG022</td>\n",
       "      <td>Production Engineering Research Institute</td>\n",
       "      <td>생산기술원</td>\n",
       "      <td>Production Technology Development Team</td>\n",
       "      <td>생산기술개발팀</td>\n",
       "      <td>Production Process Improvement Team</td>\n",
       "      <td>생산 공정 개선 팀</td>\n",
       "      <td>생산 공정의 효율성을 개선하고 최적화하는 작업을 수행합니다.</td>\n",
       "    </tr>\n",
       "    <tr>\n",
       "      <th>22</th>\n",
       "      <td>ORG023</td>\n",
       "      <td>Production Engineering Research Institute</td>\n",
       "      <td>생산기술원</td>\n",
       "      <td>Production Technology Development Team</td>\n",
       "      <td>생산기술개발팀</td>\n",
       "      <td>Advanced Manufacturing Team</td>\n",
       "      <td>첨단 제조 팀</td>\n",
       "      <td>첨단 제조 기술 개발 및 생산성 향상 작업을 수행합니다.</td>\n",
       "    </tr>\n",
       "    <tr>\n",
       "      <th>23</th>\n",
       "      <td>ORG024</td>\n",
       "      <td>Production Engineering Research Institute</td>\n",
       "      <td>생산기술원</td>\n",
       "      <td>Production Technology Development Team</td>\n",
       "      <td>생산기술개발팀</td>\n",
       "      <td>Production Quality Control Team</td>\n",
       "      <td>생산 품질 관리 팀</td>\n",
       "      <td>생산 품질을 관리하고, 품질 문제를 해결합니다.</td>\n",
       "    </tr>\n",
       "    <tr>\n",
       "      <th>24</th>\n",
       "      <td>ORG025</td>\n",
       "      <td>Human Resources</td>\n",
       "      <td>HR</td>\n",
       "      <td>Chief Human Resources Officer Department</td>\n",
       "      <td>최고인사책임자(CHO) 부서</td>\n",
       "      <td>Talent Acquisition Team</td>\n",
       "      <td>인재 채용 팀</td>\n",
       "      <td>인재 채용 전략 수립 및 실행, 채용 프로세스 관리.</td>\n",
       "    </tr>\n",
       "    <tr>\n",
       "      <th>25</th>\n",
       "      <td>ORG026</td>\n",
       "      <td>Human Resources</td>\n",
       "      <td>HR</td>\n",
       "      <td>Chief Human Resources Officer Department</td>\n",
       "      <td>최고인사책임자(CHO) 부서</td>\n",
       "      <td>Employee Development Team</td>\n",
       "      <td>직원 개발 팀</td>\n",
       "      <td>직원 교육 및 개발 프로그램 기획 및 실행.</td>\n",
       "    </tr>\n",
       "    <tr>\n",
       "      <th>26</th>\n",
       "      <td>ORG027</td>\n",
       "      <td>Human Resources</td>\n",
       "      <td>HR</td>\n",
       "      <td>Chief Human Resources Officer Department</td>\n",
       "      <td>최고인사책임자(CHO) 부서</td>\n",
       "      <td>Compensation and Benefits Team</td>\n",
       "      <td>보상 및 복리후생 팀</td>\n",
       "      <td>직원 보상 및 복리후생 제도 관리.</td>\n",
       "    </tr>\n",
       "    <tr>\n",
       "      <th>27</th>\n",
       "      <td>ORG028</td>\n",
       "      <td>Home Entertainment Division</td>\n",
       "      <td>HE사업본부</td>\n",
       "      <td>Washing Machine Operations Department</td>\n",
       "      <td>세탁기운영센터</td>\n",
       "      <td>Parts Development Team</td>\n",
       "      <td>부품개발팀</td>\n",
       "      <td>세탁기 부품의 개발 및 개선을 담당합니다.</td>\n",
       "    </tr>\n",
       "    <tr>\n",
       "      <th>28</th>\n",
       "      <td>ORG029</td>\n",
       "      <td>Home Entertainment Division</td>\n",
       "      <td>HE사업본부</td>\n",
       "      <td>Washing Machine Operations Department</td>\n",
       "      <td>세탁기운영센터</td>\n",
       "      <td>Analysis Team</td>\n",
       "      <td>분석팀</td>\n",
       "      <td>세탁기 성능 및 사용자 로그 데이터를 분석하고 보고서를 작성합니다.</td>\n",
       "    </tr>\n",
       "    <tr>\n",
       "      <th>29</th>\n",
       "      <td>ORG030</td>\n",
       "      <td>Home Entertainment Division</td>\n",
       "      <td>HE사업본부</td>\n",
       "      <td>Washing Machine Operations Department</td>\n",
       "      <td>세탁기운영센터</td>\n",
       "      <td>Information Management Team</td>\n",
       "      <td>정보관리팀</td>\n",
       "      <td>세탁기 관련 정보의 수집, 저장, 관리 및 배포를 담당합니다.</td>\n",
       "    </tr>\n",
       "  </tbody>\n",
       "</table>\n",
       "</div>"
      ]
     },
     "execution_count": 18,
     "metadata": {},
     "output_type": "execute_result"
    }
   ],
   "execution_count": 18
  },
  {
   "metadata": {},
   "cell_type": "code",
   "outputs": [],
   "execution_count": null,
   "source": "",
   "id": "d3b2e5cae36cf6e9"
  },
  {
   "metadata": {
    "ExecuteTime": {
     "end_time": "2025-04-07T02:14:42.736242Z",
     "start_time": "2025-04-07T02:14:42.730701Z"
    }
   },
   "cell_type": "code",
   "source": [
    "# 조직 정보 (org_info)와 인사 정보 (hr_info)를 merge\n",
    "# 팀별 평균연봉을 구하는 목적 -> 팀정보는 조직 df, 연봉정보는 인사 df\n",
    "# ORG_CD(조직번호)를 중심으로 진행\n",
    "\n",
    "org_hr_merge = pd.merge(hr_info, org_info, on='ORG_CD')\n",
    "org_hr_merge.shape"
   ],
   "id": "47664955d8a185c5",
   "outputs": [
    {
     "data": {
      "text/plain": [
       "(197, 27)"
      ]
     },
     "execution_count": 20,
     "metadata": {},
     "output_type": "execute_result"
    }
   ],
   "execution_count": 20
  },
  {
   "metadata": {
    "ExecuteTime": {
     "end_time": "2025-04-07T02:15:03.074456Z",
     "start_time": "2025-04-07T02:15:03.071909Z"
    }
   },
   "cell_type": "code",
   "source": "team_salary_mean =",
   "id": "170e906d0226e2f0",
   "outputs": [],
   "execution_count": null
  },
  {
   "metadata": {
    "ExecuteTime": {
     "end_time": "2025-04-07T02:18:34.981823Z",
     "start_time": "2025-04-07T02:18:34.947995Z"
    }
   },
   "cell_type": "code",
   "source": "team_salary_mean.plot(kind='bar', figsize=(20, 5), rot = 45, ylim = (4000, 7000))",
   "id": "8353e8d02778d114",
   "outputs": [
    {
     "ename": "NameError",
     "evalue": "name 'team_salary_mean' is not defined",
     "output_type": "error",
     "traceback": [
      "\u001B[31m---------------------------------------------------------------------------\u001B[39m",
      "\u001B[31mNameError\u001B[39m                                 Traceback (most recent call last)",
      "\u001B[36mCell\u001B[39m\u001B[36m \u001B[39m\u001B[32mIn[21]\u001B[39m\u001B[32m, line 1\u001B[39m\n\u001B[32m----> \u001B[39m\u001B[32m1\u001B[39m \u001B[43mteam_salary_mean\u001B[49m.plot(kind=\u001B[33m'\u001B[39m\u001B[33mbar\u001B[39m\u001B[33m'\u001B[39m, figsize=(\u001B[32m20\u001B[39m, \u001B[32m5\u001B[39m), rot = \u001B[32m45\u001B[39m, ylim = (\u001B[32m4000\u001B[39m, \u001B[32m7000\u001B[39m))\n",
      "\u001B[31mNameError\u001B[39m: name 'team_salary_mean' is not defined"
     ]
    }
   ],
   "execution_count": 21
  },
  {
   "metadata": {},
   "cell_type": "markdown",
   "source": [
    "#### 3. pie chart\n",
    "values\n",
    "- 원 그래프에 들어갈 데이터\n",
    "\n",
    "labels\n",
    "- 원 그래프 바깥에 표시되는 데이터의 이름\n",
    "\n",
    "autopct\n",
    "- 소수점 자리표시 설정\n",
    "- %.1f%% : 소수점 첫째자리까지 표시하고 뒤에 % 표시\n",
    "\n",
    "startangle\n",
    "- 원 그래프에서 첫 데이터 시작위치를 설정\n",
    "- 90 : 원 그래프의 첫 데이터 시작을 12시 기준\n",
    "\n",
    "counterclock\n",
    "- False : 원 그래프 출력을 시계방향으로\n",
    "- True : 원 그래프 출력 시계 반대방향으로"
   ],
   "id": "95031f7421001be7"
  },
  {
   "metadata": {
    "ExecuteTime": {
     "end_time": "2025-04-07T02:27:22.652600Z",
     "start_time": "2025-04-07T02:27:22.646315Z"
    }
   },
   "cell_type": "code",
   "source": "org_hr_merge['KOR_DIVISION'].value_counts()",
   "id": "9fcb1a3615bb1986",
   "outputs": [
    {
     "data": {
      "text/plain": [
       "KOR_DIVISION\n",
       "HE사업본부    58\n",
       "BS사업본부    49\n",
       "VS사업본부    30\n",
       "생산기술원     21\n",
       "HR        20\n",
       "HA사업본부    19\n",
       "Name: count, dtype: int64"
      ]
     },
     "execution_count": 22,
     "metadata": {},
     "output_type": "execute_result"
    }
   ],
   "execution_count": 22
  },
  {
   "metadata": {
    "ExecuteTime": {
     "end_time": "2025-04-07T02:28:09.636656Z",
     "start_time": "2025-04-07T02:28:09.498622Z"
    }
   },
   "cell_type": "code",
   "source": "org_hr_merge['KOR_DIVISION'].value_counts().plot(kind='pie', startangle = 90, counterclock = False)\n",
   "id": "95ae6a54f8267968",
   "outputs": [
    {
     "data": {
      "text/plain": [
       "<Axes: ylabel='count'>"
      ]
     },
     "execution_count": 24,
     "metadata": {},
     "output_type": "execute_result"
    },
    {
     "data": {
      "text/plain": [
       "<Figure size 640x480 with 1 Axes>"
      ],
      "image/png": "[encoded data removed]"
     },
     "metadata": {},
     "output_type": "display_data"
    }
   ],
   "execution_count": 24
  },
  {
   "metadata": {
    "ExecuteTime": {
     "end_time": "2025-04-07T02:32:31.135284Z",
     "start_time": "2025-04-07T02:32:31.063271Z"
    }
   },
   "cell_type": "code",
   "source": "hr_info.plot(kind='scatter', x ='AGE', y='SALARY')",
   "id": "7ad1ac733dabfd9b",
   "outputs": [
    {
     "data": {
      "text/plain": [
       "<Axes: xlabel='AGE', ylabel='SALARY'>"
      ]
     },
     "execution_count": 27,
     "metadata": {},
     "output_type": "execute_result"
    },
    {
     "data": {
      "text/plain": [
       "<Figure size 640x480 with 1 Axes>"
      ],
      "image/png": "[encoded data removed]"
     },
     "metadata": {},
     "output_type": "display_data"
    }
   ],
   "execution_count": 27
  },
  {
   "metadata": {},
   "cell_type": "code",
   "outputs": [],
   "execution_count": null,
   "source": "",
   "id": "74f1718244821a62"
  },
  {
   "metadata": {},
   "cell_type": "markdown",
   "source": "####",
   "id": "bf9beaf5a44f38dc"
  },
  {
   "metadata": {},
   "cell_type": "markdown",
   "source": "#### Seaborn 패키지를 이용한 차트",
   "id": "afa88224cde55ff5"
  },
  {
   "metadata": {},
   "cell_type": "code",
   "outputs": [],
   "execution_count": null,
   "source": "",
   "id": "9b6435dc931cc030"
  },
  {
   "metadata": {},
   "cell_type": "markdown",
   "source": "#### 1. 히스토그램\n",
   "id": "d0c2535874ee1848"
  },
  {
   "metadata": {
    "ExecuteTime": {
     "end_time": "2025-04-07T02:38:56.368100Z",
     "start_time": "2025-04-07T02:38:56.177965Z"
    }
   },
   "cell_type": "code",
   "source": [
    "# 성별에 따른 연봉 히스토그램\n",
    "\n",
    "import seaborn as sns"
   ],
   "id": "b453da46433c578d",
   "outputs": [],
   "execution_count": 30
  },
  {
   "metadata": {
    "ExecuteTime": {
     "end_time": "2025-04-07T02:41:28.869063Z",
     "start_time": "2025-04-07T02:41:28.771727Z"
    }
   },
   "cell_type": "code",
   "source": [
    "sns.histplot( # Seaborn의 히스토그램을 생성하는 함수\n",
    "    hr_info, # 사용할 데이터\n",
    "    x = 'SALARY',\n",
    "    hue = 'GENDER', # 분류 기준\n",
    "    multiple = 'stack',\n",
    "    palette = 'pastel',\n",
    "    # Set1, Set2 등\n",
    "    linewidth = 0.5,\n",
    ")"
   ],
   "id": "1719868644d77c60",
   "outputs": [
    {
     "data": {
      "text/plain": [
       "<Axes: xlabel='SALARY', ylabel='Count'>"
      ]
     },
     "execution_count": 41,
     "metadata": {},
     "output_type": "execute_result"
    },
    {
     "data": {
      "text/plain": [
       "<Figure size 640x480 with 1 Axes>"
      ],
      "image/png": "[encoded data removed]"
     },
     "metadata": {},
     "output_type": "display_data"
    }
   ],
   "execution_count": 41
  },
  {
   "metadata": {},
   "cell_type": "code",
   "outputs": [],
   "execution_count": null,
   "source": "",
   "id": "ebcca749c0f1077a"
  },
  {
   "metadata": {},
   "cell_type": "markdown",
   "source": [
    "#### 2. 버블차트\n",
    "나이와 근속연수에 따른 부서별 연봉"
   ],
   "id": "4e74d0d1a766eaa3"
  },
  {
   "metadata": {
    "ExecuteTime": {
     "end_time": "2025-04-07T03:12:00.456011Z",
     "start_time": "2025-04-07T03:12:00.193096Z"
    }
   },
   "cell_type": "code",
   "source": [
    "sns.relplot(data = hr_info,\n",
    "            x = 'AGE',\n",
    "            y = 'SERVICE_YEAR',\n",
    "            hue = 'POS_CD',\n",
    "            size = 'SALARY',\n",
    "            sizes = (40, 1200),\n",
    "            alpha = 0.5,\n",
    "            palette = 'muted',\n",
    "            height = 6)"
   ],
   "id": "db106116a07901a9",
   "outputs": [
    {
     "data": {
      "text/plain": [
       "<seaborn.axisgrid.FacetGrid at 0x17db078f9d0>"
      ]
     },
     "execution_count": 43,
     "metadata": {},
     "output_type": "execute_result"
    },
    {
     "data": {
      "text/plain": [
       "<Figure size 700.75x600 with 1 Axes>"
      ],
      "image/png": "[encoded data removed]"
     },
     "metadata": {},
     "output_type": "display_data"
    }
   ],
   "execution_count": 43
  },
  {
   "metadata": {},
   "cell_type": "code",
   "outputs": [],
   "execution_count": null,
   "source": "",
   "id": "340e162caec88a74"
  },
  {
   "metadata": {},
   "cell_type": "markdown",
   "source": "#### 3. 히트맵\n",
   "id": "2b807f6083b82a3a"
  },
  {
   "metadata": {
    "ExecuteTime": {
     "end_time": "2025-04-07T03:16:15.016143Z",
     "start_time": "2025-04-07T03:16:15.010179Z"
    }
   },
   "cell_type": "code",
   "source": [
    "hr_corr = hr_info[['PERFORMANCE_SCORE','SALARY','AGE','SERVICE_YEAR','TRAINING_HOURS']].corr()\n",
    "hr_corr"
   ],
   "id": "42b808c640f9257",
   "outputs": [
    {
     "data": {
      "text/plain": [
       "                   PERFORMANCE_SCORE    SALARY       AGE  SERVICE_YEAR  \\\n",
       "PERFORMANCE_SCORE           1.000000  0.609152  0.582203      0.492801   \n",
       "SALARY                      0.609152  1.000000  0.961699      0.970875   \n",
       "AGE                         0.582203  0.961699  1.000000      0.932563   \n",
       "SERVICE_YEAR                0.492801  0.970875  0.932563      1.000000   \n",
       "TRAINING_HOURS              0.551200  0.628931  0.575867      0.559911   \n",
       "\n",
       "                   TRAINING_HOURS  \n",
       "PERFORMANCE_SCORE        0.551200  \n",
       "SALARY                   0.628931  \n",
       "AGE                      0.575867  \n",
       "SERVICE_YEAR             0.559911  \n",
       "TRAINING_HOURS           1.000000  "
      ],
      "text/html": [
       "<div>\n",
       "<style scoped>\n",
       "    .dataframe tbody tr th:only-of-type {\n",
       "        vertical-align: middle;\n",
       "    }\n",
       "\n",
       "    .dataframe tbody tr th {\n",
       "        vertical-align: top;\n",
       "    }\n",
       "\n",
       "    .dataframe thead th {\n",
       "        text-align: right;\n",
       "    }\n",
       "</style>\n",
       "<table border=\"1\" class=\"dataframe\">\n",
       "  <thead>\n",
       "    <tr style=\"text-align: right;\">\n",
       "      <th></th>\n",
       "      <th>PERFORMANCE_SCORE</th>\n",
       "      <th>SALARY</th>\n",
       "      <th>AGE</th>\n",
       "      <th>SERVICE_YEAR</th>\n",
       "      <th>TRAINING_HOURS</th>\n",
       "    </tr>\n",
       "  </thead>\n",
       "  <tbody>\n",
       "    <tr>\n",
       "      <th>PERFORMANCE_SCORE</th>\n",
       "      <td>1.000000</td>\n",
       "      <td>0.609152</td>\n",
       "      <td>0.582203</td>\n",
       "      <td>0.492801</td>\n",
       "      <td>0.551200</td>\n",
       "    </tr>\n",
       "    <tr>\n",
       "      <th>SALARY</th>\n",
       "      <td>0.609152</td>\n",
       "      <td>1.000000</td>\n",
       "      <td>0.961699</td>\n",
       "      <td>0.970875</td>\n",
       "      <td>0.628931</td>\n",
       "    </tr>\n",
       "    <tr>\n",
       "      <th>AGE</th>\n",
       "      <td>0.582203</td>\n",
       "      <td>0.961699</td>\n",
       "      <td>1.000000</td>\n",
       "      <td>0.932563</td>\n",
       "      <td>0.575867</td>\n",
       "    </tr>\n",
       "    <tr>\n",
       "      <th>SERVICE_YEAR</th>\n",
       "      <td>0.492801</td>\n",
       "      <td>0.970875</td>\n",
       "      <td>0.932563</td>\n",
       "      <td>1.000000</td>\n",
       "      <td>0.559911</td>\n",
       "    </tr>\n",
       "    <tr>\n",
       "      <th>TRAINING_HOURS</th>\n",
       "      <td>0.551200</td>\n",
       "      <td>0.628931</td>\n",
       "      <td>0.575867</td>\n",
       "      <td>0.559911</td>\n",
       "      <td>1.000000</td>\n",
       "    </tr>\n",
       "  </tbody>\n",
       "</table>\n",
       "</div>"
      ]
     },
     "execution_count": 49,
     "metadata": {},
     "output_type": "execute_result"
    }
   ],
   "execution_count": 49
  },
  {
   "metadata": {
    "ExecuteTime": {
     "end_time": "2025-04-07T03:16:19.536116Z",
     "start_time": "2025-04-07T03:16:19.531494Z"
    }
   },
   "cell_type": "code",
   "source": "hr_info.info()",
   "id": "b545f837b78bbe77",
   "outputs": [
    {
     "name": "stdout",
     "output_type": "stream",
     "text": [
      "<class 'pandas.core.frame.DataFrame'>\n",
      "RangeIndex: 200 entries, 0 to 199\n",
      "Data columns (total 20 columns):\n",
      " #   Column              Non-Null Count  Dtype         \n",
      "---  ------              --------------  -----         \n",
      " 0   EID                 200 non-null    object        \n",
      " 1   ENAME               200 non-null    object        \n",
      " 2   GENDER              200 non-null    object        \n",
      " 3   ORG_CD              197 non-null    object        \n",
      " 4   POS_CD              200 non-null    object        \n",
      " 5   AGE                 200 non-null    int64         \n",
      " 6   SERVICE_YEAR        200 non-null    int64         \n",
      " 7   EDU_LEVEL           200 non-null    object        \n",
      " 8   PERFORMANCE_SCORE   200 non-null    float64       \n",
      " 9   SALARY              200 non-null    int64         \n",
      " 10  LAST_PROMO_DT       182 non-null    object        \n",
      " 11  TRAINING_HOURS      200 non-null    int64         \n",
      " 12  SKILLS              200 non-null    object        \n",
      " 13  ACTIVE_STATE        200 non-null    object        \n",
      " 14  HIRE_DATE           200 non-null    datetime64[ns]\n",
      " 15  RETIRE_DATE         49 non-null     object        \n",
      " 16  RETIRE_REASON       49 non-null     object        \n",
      " 17  REHIRE_YN           49 non-null     object        \n",
      " 18  NATION              200 non-null    object        \n",
      " 19  ROUNDING_DEDUCTION  200 non-null    object        \n",
      "dtypes: datetime64[ns](1), float64(1), int64(4), object(14)\n",
      "memory usage: 31.4+ KB\n"
     ]
    }
   ],
   "execution_count": 50
  },
  {
   "metadata": {
    "ExecuteTime": {
     "end_time": "2025-04-07T03:17:23.318942Z",
     "start_time": "2025-04-07T03:17:23.198695Z"
    }
   },
   "cell_type": "code",
   "source": "sns.heatmap(hr_corr, annot=True, fmt = '.2f', linewidths=0.5)",
   "id": "b25bd3e7ac6646c1",
   "outputs": [
    {
     "data": {
      "text/plain": [
       "<Axes: >"
      ]
     },
     "execution_count": 54,
     "metadata": {},
     "output_type": "execute_result"
    },
    {
     "data": {
      "text/plain": [
       "<Figure size 640x480 with 2 Axes>"
      ],
      "image/png": "[encoded data removed]"
     },
     "metadata": {},
     "output_type": "display_data"
    }
   ],
   "execution_count": 54
  },
  {
   "metadata": {},
   "cell_type": "code",
   "outputs": [],
   "execution_count": null,
   "source": "",
   "id": "50223b005a082ce8"
  }
 ],
 "metadata": {
  "kernelspec": {
   "display_name": "Python 3",
   "language": "python",
   "name": "python3"
  },
  "language_info": {
   "codemirror_mode": {
    "name": "ipython",
    "version": 2
   },
   "file_extension": ".py",
   "mimetype": "text/x-python",
   "name": "python",
   "nbconvert_exporter": "python",
   "pygments_lexer": "ipython2",
   "version": "2.7.6"
  }
 },
 "nbformat": 4,
 "nbformat_minor": 5
}
