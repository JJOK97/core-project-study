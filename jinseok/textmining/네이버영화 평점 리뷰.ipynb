{
 "cells": [
  {
   "metadata": {},
   "cell_type": "markdown",
   "source": [
    "### 목표 설정\n",
    "- 네이버 영화 리뷰 데이터셋을 이용해서 긍정/부정을 판별하는 분류기를 만들어보자.\n",
    "- TF-IDF 방법을 이용해서 토큰화를 진행해보자.\n",
    "- Konlpy 한국어 형태소 분석기를 이용해보자.\n",
    "- 단어별 긍/부정 정보를 시각화"
   ],
   "id": "3300b8264766d493"
  },
  {
   "metadata": {
    "ExecuteTime": {
     "end_time": "2025-04-21T01:19:29.063561Z",
     "start_time": "2025-04-21T01:19:28.805680Z"
    }
   },
   "cell_type": "code",
   "source": [
    "# 내 경로 설정\n",
    "!pwd\n",
    "\n",
    "from google.colab  import drive\n",
    "drive.mount('/content/drive')\n"
   ],
   "id": "206eb28c2ba0c953",
   "outputs": [
    {
     "name": "stderr",
     "output_type": "stream",
     "text": [
      "'pwd'은(는) 내부 또는 외부 명령, 실행할 수 있는 프로그램, 또는\n",
      "배치 파일이 아닙니다.\n"
     ]
    },
    {
     "ename": "ModuleNotFoundError",
     "evalue": "No module named 'google'",
     "output_type": "error",
     "traceback": [
      "\u001B[31m---------------------------------------------------------------------------\u001B[39m",
      "\u001B[31mModuleNotFoundError\u001B[39m                       Traceback (most recent call last)",
      "\u001B[36mCell\u001B[39m\u001B[36m \u001B[39m\u001B[32mIn[9]\u001B[39m\u001B[32m, line 4\u001B[39m\n\u001B[32m      1\u001B[39m \u001B[38;5;66;03m# 내 경로 설정\u001B[39;00m\n\u001B[32m      2\u001B[39m get_ipython().system(\u001B[33m'\u001B[39m\u001B[33mpwd\u001B[39m\u001B[33m'\u001B[39m)\n\u001B[32m----> \u001B[39m\u001B[32m4\u001B[39m \u001B[38;5;28;01mfrom\u001B[39;00m\u001B[38;5;250m \u001B[39m\u001B[34;01mgoogle\u001B[39;00m\u001B[34;01m.\u001B[39;00m\u001B[34;01mcolab\u001B[39;00m\u001B[38;5;250m  \u001B[39m\u001B[38;5;28;01mimport\u001B[39;00m drive\n\u001B[32m      5\u001B[39m drive.mount(\u001B[33m'\u001B[39m\u001B[33m/content/drive\u001B[39m\u001B[33m'\u001B[39m)\n",
      "\u001B[31mModuleNotFoundError\u001B[39m: No module named 'google'"
     ]
    }
   ],
   "execution_count": 9
  },
  {
   "metadata": {},
   "cell_type": "markdown",
   "source": [
    "\n",
    "\n",
    "\n",
    "#라이브러리 설치\n",
    "!pip install konlpy\n",
    "\n",
    "#형태소 분석기 불러오기\n",
    "from konlpy.tag import Kkma\n",
    "\n",
    "## Kkma(꼬꼬마)\n",
    "- 서울대학교 IDS연구실 개발\n",
    "\n",
    "\n",
    "# 꼬꼬마 객체 생성\n",
    "kkma = Kkma()\n",
    "\n",
    "sugar\n",
    "\n",
    "kkma.nouns(sugar)"
   ],
   "id": "140806755d21c640"
  }
 ],
 "metadata": {
  "kernelspec": {
   "display_name": "Python 3",
   "language": "python",
   "name": "python3"
  },
  "language_info": {
   "codemirror_mode": {
    "name": "ipython",
    "version": 2
   },
   "file_extension": ".py",
   "mimetype": "text/x-python",
   "name": "python",
   "nbconvert_exporter": "python",
   "pygments_lexer": "ipython2",
   "version": "2.7.6"
  }
 },
 "nbformat": 4,
 "nbformat_minor": 5
}
