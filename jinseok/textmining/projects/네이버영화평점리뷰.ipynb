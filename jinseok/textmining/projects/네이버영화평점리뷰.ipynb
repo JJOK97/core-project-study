{
 "cells": [
  {
   "cell_type": "markdown",
   "metadata": {
    "colab_type": "text",
    "id": "view-in-github"
   },
   "source": [
    "<a href=\"https://colab.research.google.com/github/JJOK97/core-project-study/blob/js%2Ftext-mining/jinseok/textmining/%EB%84%A4%EC%9D%B4%EB%B2%84%EC%98%81%ED%99%94%ED%8F%89%EC%A0%90%EB%A6%AC%EB%B7%B0.ipynb\" target=\"_parent\"><img src=\"https://colab.research.google.com/assets/colab-badge.svg\" alt=\"Open In Colab\"/></a>"
   ]
  },
  {
   "cell_type": "code",
   "execution_count": 7,
   "metadata": {},
   "outputs": [
    {
     "name": "stdout",
     "output_type": "stream",
     "text": [
      "현재 작업 경로: /home/jsock/projects\n"
     ]
    }
   ],
   "source": [
    "# 목표 설정\n",
    "# 네이버 영화 리뷰 데이터셋을 이용해서 긍정/부정을 판별하는 분류기를 만들어보자.\n",
    "# TF-IDF 방법을 이용해서 토큰화를 진행해보자.\n",
    "# Konlpy 한국어 형태소 분석기를 이용해보자.\n",
    "# 단어별 긍/부정 정보를 시각화\n",
    "\n",
    "# 경로 확인\n",
    "import os\n",
    "print(\"현재 작업 경로:\", os.getcwd())\n",
    "\n",
    "# 필요한 라이브러리 불러오기\n",
    "import pandas as pd\n",
    "import numpy as np\n",
    "import matplotlib.pyplot as plt\n",
    "import seaborn as sns\n",
    "\n",
    "# 데이터 불러오기 - WSL 환경에 맞게 경로 수정\n",
    "# 데이터 파일은 ~/projects/data 폴더에 있다고 가정\n",
    "train = pd.read_csv('../data/ratings_train.csv', encoding='utf-8')\n",
    "test = pd.read_csv('../data/ratings_test.csv', encoding='utf-8')"
   ]
  },
  {
   "cell_type": "code",
   "execution_count": 8,
   "metadata": {},
   "outputs": [
    {
     "name": "stdout",
     "output_type": "stream",
     "text": [
      "학습 데이터 미리보기:\n",
      "         id                                           document  label\n",
      "0   9976970                                아 더빙.. 진짜 짜증나네요 목소리      0\n",
      "1   3819312                  흠...포스터보고 초딩영화줄....오버연기조차 가볍지 않구나      1\n",
      "2  10265843                                  너무재밓었다그래서보는것을추천한다      0\n",
      "3   9045019                      교도소 이야기구먼 ..솔직히 재미는 없다..평점 조정      0\n",
      "4   6483659  사이몬페그의 익살스런 연기가 돋보였던 영화!스파이더맨에서 늙어보이기만 했던 커스틴 ...      1\n",
      "\n",
      "테스트 데이터 미리보기:\n",
      "        id                                           document  label\n",
      "0  6270596                                                굳 ㅋ      1\n",
      "1  9274899                               GDNTOPCLASSINTHECLUB      0\n",
      "2  8544678             뭐야 이 평점들은.... 나쁘진 않지만 10점 짜리는 더더욱 아니잖아      0\n",
      "3  6825595                   지루하지는 않은데 완전 막장임... 돈주고 보기에는....      0\n",
      "4  6723715  3D만 아니었어도 별 다섯 개 줬을텐데.. 왜 3D로 나와서 제 심기를 불편하게 하죠??      0\n",
      "\n",
      "학습 데이터 정보:\n",
      "<class 'pandas.core.frame.DataFrame'>\n",
      "RangeIndex: 150000 entries, 0 to 149999\n",
      "Data columns (total 3 columns):\n",
      " #   Column    Non-Null Count   Dtype \n",
      "---  ------    --------------   ----- \n",
      " 0   id        150000 non-null  int64 \n",
      " 1   document  149995 non-null  object\n",
      " 2   label     150000 non-null  int64 \n",
      "dtypes: int64(2), object(1)\n",
      "memory usage: 3.4+ MB\n",
      "\n",
      "테스트 데이터 정보:\n",
      "<class 'pandas.core.frame.DataFrame'>\n",
      "RangeIndex: 50000 entries, 0 to 49999\n",
      "Data columns (total 3 columns):\n",
      " #   Column    Non-Null Count  Dtype \n",
      "---  ------    --------------  ----- \n",
      " 0   id        50000 non-null  int64 \n",
      " 1   document  49997 non-null  object\n",
      " 2   label     50000 non-null  int64 \n",
      "dtypes: int64(2), object(1)\n",
      "memory usage: 1.1+ MB\n",
      "\n",
      "결측치가 있는 행:\n",
      "             id document  label\n",
      "25857   2172111      NaN      1\n",
      "55737   6369843      NaN      1\n",
      "110014  1034280      NaN      0\n",
      "126782  5942978      NaN      0\n",
      "140721  1034283      NaN      0\n",
      "\n",
      "결측치 제거 후 학습 데이터 정보:\n",
      "<class 'pandas.core.frame.DataFrame'>\n",
      "Index: 149995 entries, 0 to 149999\n",
      "Data columns (total 3 columns):\n",
      " #   Column    Non-Null Count   Dtype \n",
      "---  ------    --------------   ----- \n",
      " 0   id        149995 non-null  int64 \n",
      " 1   document  149995 non-null  object\n",
      " 2   label     149995 non-null  int64 \n",
      "dtypes: int64(2), object(1)\n",
      "memory usage: 4.6+ MB\n",
      "\n",
      "결측치 제거 후 테스트 데이터 정보:\n",
      "<class 'pandas.core.frame.DataFrame'>\n",
      "Index: 49997 entries, 0 to 49999\n",
      "Data columns (total 3 columns):\n",
      " #   Column    Non-Null Count  Dtype \n",
      "---  ------    --------------  ----- \n",
      " 0   id        49997 non-null  int64 \n",
      " 1   document  49997 non-null  object\n",
      " 2   label     49997 non-null  int64 \n",
      "dtypes: int64(2), object(1)\n",
      "memory usage: 1.5+ MB\n"
     ]
    }
   ],
   "source": [
    "# 데이터 확인\n",
    "print(\"학습 데이터 미리보기:\")\n",
    "print(train.head())\n",
    "\n",
    "print(\"\\n테스트 데이터 미리보기:\")\n",
    "print(test.head())\n",
    "\n",
    "# train df의 대한 정보를 확인해보자\n",
    "print(\"\\n학습 데이터 정보:\")\n",
    "train.info()\n",
    "\n",
    "# test df도 확인\n",
    "print(\"\\n테스트 데이터 정보:\")\n",
    "test.info()\n",
    "\n",
    "# 결측치 확인\n",
    "print(\"\\n결측치가 있는 행:\")\n",
    "print(train[train['document'].isnull()])\n",
    "\n",
    "# .dropna : 결측치가 있는 행을 삭제해주는 함수\n",
    "train.dropna(inplace=True)\n",
    "test.dropna(inplace=True)\n",
    "\n",
    "# 결측치 제거 후 데이터 확인\n",
    "print(\"\\n결측치 제거 후 학습 데이터 정보:\")\n",
    "train.info()\n",
    "\n",
    "print(\"\\n결측치 제거 후 테스트 데이터 정보:\")\n",
    "test.info()"
   ]
  },
  {
   "cell_type": "code",
   "execution_count": 9,
   "metadata": {},
   "outputs": [
    {
     "name": "stdout",
     "output_type": "stream",
     "text": [
      "\n",
      "데이터 shape 확인:\n",
      "x_train: (149995,), x_test: (49997,)\n",
      "y_train: (149995,), y_test: (49997,)\n",
      "\n",
      "형태소 분석 테스트:\n",
      "원문: 영화가 정말 재미있었어요\n",
      "명사 추출: ['영화']\n",
      "형태소 추출: ['영화', '가', '정말', '재미있', '었', '어요']\n",
      "품사 태그: [('영화', 'NNG'), ('가', 'JKS'), ('정말', 'MAG'), ('재미있', 'VA'), ('었', 'EPT'), ('어요', 'EFN')]\n"
     ]
    }
   ],
   "source": [
    "# 문제 데이터와 정답 데이터 지정\n",
    "x_train = train['document']  # 문제 데이터 (영화 리뷰)\n",
    "x_test = test['document']    # 테스트 문제 데이터\n",
    "y_train = train['label']     # 정답 데이터 (긍정/부정 라벨)\n",
    "y_test = test['label']       # 테스트 정답 데이터\n",
    "\n",
    "print(\"\\n데이터 shape 확인:\")\n",
    "print(f\"x_train: {x_train.shape}, x_test: {x_test.shape}\")\n",
    "print(f\"y_train: {y_train.shape}, y_test: {y_test.shape}\")\n",
    "\n",
    "# TF-IDF 기법 사용\n",
    "from sklearn.feature_extraction.text import TfidfVectorizer\n",
    "\n",
    "# 한국어 형태소 분석기 불러오기\n",
    "from konlpy.tag import Kkma\n",
    "\n",
    "# 꼬꼬마 객체 생성\n",
    "kkma = Kkma()\n",
    "\n",
    "# 테스트용 예시 문장으로 형태소 분석 확인\n",
    "example = \"영화가 정말 재미있었어요\"\n",
    "print(\"\\n형태소 분석 테스트:\")\n",
    "print(f\"원문: {example}\")\n",
    "print(f\"명사 추출: {kkma.nouns(example)}\")\n",
    "print(f\"형태소 추출: {kkma.morphs(example)}\")\n",
    "print(f\"품사 태그: {kkma.pos(example)}\")"
   ]
  },
  {
   "cell_type": "code",
   "execution_count": 10,
   "metadata": {},
   "outputs": [],
   "source": [
    "# tfidf + Kkma 명사 추출기 연결해서 사용\n",
    "# 명사 추출기를 함수화\n",
    "def myTokenizer(text):\n",
    "    return kkma.nouns(text)\n",
    "\n",
    "# 동사/형용사/보통명사만 추출하는 함수\n",
    "def myTokenizer2(text):\n",
    "    # 필요한 품사만 뽑아보기\n",
    "    try:\n",
    "        d = pd.DataFrame(kkma.pos(text), columns=['morph', 'tag'])\n",
    "        \n",
    "        # 인덱스를 태그로 지정\n",
    "        d.set_index('tag', inplace=True)\n",
    "        \n",
    "        # 동사 / 형용사 / 보통명사만 뽑아서 문자열 리스트 반환\n",
    "        if ('VV' in d.index) or ('VA' in d.index) or ('NNG' in d.index):\n",
    "            # .values 대신 .tolist()를 사용하여 리스트 반환\n",
    "            return d.loc[d.index.isin(['VV', 'VA', 'NNG'])]['morph'].tolist()\n",
    "        else:\n",
    "            return []\n",
    "    except:\n",
    "        return []  # 오류 발생 시 빈 리스트 반환"
   ]
  },
  {
   "cell_type": "code",
   "execution_count": 11,
   "metadata": {},
   "outputs": [
    {
     "name": "stdout",
     "output_type": "stream",
     "text": [
      "\n",
      "데이터 벡터화 시작...\n"
     ]
    },
    {
     "name": "stderr",
     "output_type": "stream",
     "text": [
      "/home/jsock/datascience_env/lib/python3.12/site-packages/sklearn/feature_extraction/text.py:517: UserWarning: The parameter 'token_pattern' will not be used since 'tokenizer' is not None'\n",
      "  warnings.warn(\n"
     ]
    },
    {
     "name": "stdout",
     "output_type": "stream",
     "text": [
      "문서를 벡터로 변환 중...\n",
      "\n",
      "단어사전 크기: 1628개 단어\n"
     ]
    }
   ],
   "source": [
    "# 샘플 크기 설정 - 더 적은 데이터로 시작\n",
    "sample_size = 500  # 처음에는 샘플 크기를 작게 설정\n",
    "\n",
    "# TF-IDF Vectorizer에 연결\n",
    "print(\"\\n데이터 벡터화 시작...\")\n",
    "tfidf_final = TfidfVectorizer(tokenizer=myTokenizer2)\n",
    "\n",
    "# 단어사전 구축 (샘플 데이터로)\n",
    "tfidf_final.fit(x_train[:sample_size])\n",
    "\n",
    "# 벡터화 (문서를 수치 벡터로 변환)\n",
    "print(\"문서를 벡터로 변환 중...\")\n",
    "x_train_vec = tfidf_final.transform(x_train[:sample_size])\n",
    "x_test_vec = tfidf_final.transform(x_test[:sample_size])\n",
    "\n",
    "# 단어사전 크기 확인\n",
    "vocab_size = len(tfidf_final.vocabulary_)\n",
    "print(f\"\\n단어사전 크기: {vocab_size}개 단어\")"
   ]
  },
  {
   "cell_type": "code",
   "execution_count": 12,
   "metadata": {},
   "outputs": [
    {
     "name": "stdout",
     "output_type": "stream",
     "text": [
      "\n",
      "로지스틱 회귀 모델 학습 시작...\n",
      "학습 데이터 정확도: 0.9520\n",
      "테스트 데이터 정확도: 0.7140\n"
     ]
    }
   ],
   "source": [
    "# 로지스틱 회귀 모델 학습\n",
    "from sklearn.linear_model import LogisticRegression\n",
    "print(\"\\n로지스틱 회귀 모델 학습 시작...\")\n",
    "\n",
    "# 로지스틱 회귀 객체 생성\n",
    "logi = LogisticRegression(max_iter=1000)  # 반복 횟수 증가\n",
    "\n",
    "# 모델 학습\n",
    "logi.fit(x_train_vec, y_train[:sample_size])\n",
    "\n",
    "# 모델 평가\n",
    "train_score = logi.score(x_train_vec, y_train[:sample_size])\n",
    "test_score = logi.score(x_test_vec, y_test[:sample_size])\n",
    "\n",
    "print(f\"학습 데이터 정확도: {train_score:.4f}\")\n",
    "print(f\"테스트 데이터 정확도: {test_score:.4f}\")"
   ]
  },
  {
   "cell_type": "code",
   "execution_count": 13,
   "metadata": {},
   "outputs": [
    {
     "name": "stdout",
     "output_type": "stream",
     "text": [
      "\n",
      "예측 테스트:\n",
      "리뷰: '정말 재미있는 영화였어요!' -> 감성: 긍정\n",
      "리뷰: '시간 낭비였습니다. 정말 별로예요.' -> 감성: 부정\n",
      "리뷰: '배우들의 연기가 너무 좋았습니다.' -> 감성: 긍정\n"
     ]
    }
   ],
   "source": [
    "# 예측 테스트\n",
    "def predict_sentiment(text):\n",
    "    # 텍스트 벡터화\n",
    "    text_vec = tfidf_final.transform([text])\n",
    "    # 예측\n",
    "    prediction = logi.predict(text_vec)[0]\n",
    "    sentiment = \"긍정\" if prediction == 1 else \"부정\"\n",
    "    return sentiment\n",
    "\n",
    "# 예시 문장으로 테스트\n",
    "test_reviews = [\n",
    "    \"정말 재미있는 영화였어요!\",\n",
    "    \"시간 낭비였습니다. 정말 별로예요.\",\n",
    "    \"배우들의 연기가 너무 좋았습니다.\"\n",
    "]\n",
    "\n",
    "print(\"\\n예측 테스트:\")\n",
    "for review in test_reviews:\n",
    "    sentiment = predict_sentiment(review)\n",
    "    print(f\"리뷰: '{review}' -> 감성: {sentiment}\")"
   ]
  },
  {
   "cell_type": "code",
   "execution_count": null,
   "metadata": {},
   "outputs": [],
   "source": []
  },
  {
   "cell_type": "code",
   "execution_count": 14,
   "metadata": {},
   "outputs": [
    {
     "name": "stdin",
     "output_type": "stream",
     "text": [
      "리뷰를 입력해 주세요 :  22\n"
     ]
    },
    {
     "name": "stdout",
     "output_type": "stream",
     "text": [
      "22 문장은  51.07%로 부정 리뷰입니다.\n",
      "단어사전 크기: 1628개 단어\n",
      "\n",
      "단어사전 상위 20개:\n"
     ]
    },
    {
     "data": {
      "text/html": [
       "<div>\n",
       "<style scoped>\n",
       "    .dataframe tbody tr th:only-of-type {\n",
       "        vertical-align: middle;\n",
       "    }\n",
       "\n",
       "    .dataframe tbody tr th {\n",
       "        vertical-align: top;\n",
       "    }\n",
       "\n",
       "    .dataframe thead th {\n",
       "        text-align: right;\n",
       "    }\n",
       "</style>\n",
       "<table border=\"1\" class=\"dataframe\">\n",
       "  <thead>\n",
       "    <tr style=\"text-align: right;\">\n",
       "      <th></th>\n",
       "      <th>word</th>\n",
       "    </tr>\n",
       "  </thead>\n",
       "  <tbody>\n",
       "    <tr>\n",
       "      <th>887</th>\n",
       "      <td>아</td>\n",
       "    </tr>\n",
       "    <tr>\n",
       "      <th>332</th>\n",
       "      <td>더빙</td>\n",
       "    </tr>\n",
       "    <tr>\n",
       "      <th>1359</th>\n",
       "      <td>짜증나</td>\n",
       "    </tr>\n",
       "    <tr>\n",
       "      <th>509</th>\n",
       "      <td>목소리</td>\n",
       "    </tr>\n",
       "    <tr>\n",
       "      <th>1618</th>\n",
       "      <td>흠</td>\n",
       "    </tr>\n",
       "    <tr>\n",
       "      <th>1506</th>\n",
       "      <td>포스터</td>\n",
       "    </tr>\n",
       "    <tr>\n",
       "      <th>619</th>\n",
       "      <td>보고</td>\n",
       "    </tr>\n",
       "    <tr>\n",
       "      <th>1012</th>\n",
       "      <td>영화</td>\n",
       "    </tr>\n",
       "    <tr>\n",
       "      <th>1309</th>\n",
       "      <td>줄</td>\n",
       "    </tr>\n",
       "    <tr>\n",
       "      <th>1029</th>\n",
       "      <td>오버</td>\n",
       "    </tr>\n",
       "    <tr>\n",
       "      <th>987</th>\n",
       "      <td>연기</td>\n",
       "    </tr>\n",
       "    <tr>\n",
       "      <th>11</th>\n",
       "      <td>가볍</td>\n",
       "    </tr>\n",
       "    <tr>\n",
       "      <th>1217</th>\n",
       "      <td>재</td>\n",
       "    </tr>\n",
       "    <tr>\n",
       "      <th>938</th>\n",
       "      <td>어</td>\n",
       "    </tr>\n",
       "    <tr>\n",
       "      <th>618</th>\n",
       "      <td>보</td>\n",
       "    </tr>\n",
       "    <tr>\n",
       "      <th>1407</th>\n",
       "      <td>추천</td>\n",
       "    </tr>\n",
       "    <tr>\n",
       "      <th>124</th>\n",
       "      <td>교도소</td>\n",
       "    </tr>\n",
       "    <tr>\n",
       "      <th>1136</th>\n",
       "      <td>이야기</td>\n",
       "    </tr>\n",
       "    <tr>\n",
       "      <th>485</th>\n",
       "      <td>멀</td>\n",
       "    </tr>\n",
       "    <tr>\n",
       "      <th>1220</th>\n",
       "      <td>재미</td>\n",
       "    </tr>\n",
       "  </tbody>\n",
       "</table>\n",
       "</div>"
      ],
      "text/plain": [
       "     word\n",
       "887     아\n",
       "332    더빙\n",
       "1359  짜증나\n",
       "509   목소리\n",
       "1618    흠\n",
       "1506  포스터\n",
       "619    보고\n",
       "1012   영화\n",
       "1309    줄\n",
       "1029   오버\n",
       "987    연기\n",
       "11     가볍\n",
       "1217    재\n",
       "938     어\n",
       "618     보\n",
       "1407   추천\n",
       "124   교도소\n",
       "1136  이야기\n",
       "485     멀\n",
       "1220   재미"
      ]
     },
     "metadata": {},
     "output_type": "display_data"
    }
   ],
   "source": [
    "# 사용자 리뷰 감성 분석\n",
    "# 정답의 구조: 0(부정), 1(긍정)\n",
    "review = [input('리뷰를 입력해 주세요 : ')]\n",
    "target_names = ['부정', '긍정']  # 0번 인덱스 접근시 부정, 1번 인덱스 접근시 긍정\n",
    "\n",
    "# 토큰화 변환 진행 (모델은 숫자벡터만 이해하기 때문)\n",
    "vect_review = tfidf_final.transform(review)\n",
    "\n",
    "# predict_proba\n",
    "# 클래스에 대한 확률 반환 [0.2, 0.8]\n",
    "pro = logi.predict_proba(vect_review)  # max() 값으로 더 큰값을 받아오면 -> 신뢰도\n",
    "\n",
    "# predict\n",
    "# 하나의 정답(0 또는 1) 반환\n",
    "pre = logi.predict(vect_review)\n",
    "\n",
    "print(f'{review[0]} 문장은 {pro.max()*100: .2f}%로 {target_names[pre[0]]} 리뷰입니다.')\n",
    "\n",
    "# 단어사전 가져오기\n",
    "vocabulary = tfidf_final.vocabulary_\n",
    "print(f\"단어사전 크기: {len(vocabulary)}개 단어\")\n",
    "\n",
    "# 단어사전 정리\n",
    "from operator import index\n",
    "voc = pd.DataFrame(tfidf_final.vocabulary_.keys(),\n",
    "                  index=tfidf_final.vocabulary_.values(),\n",
    "                  columns=['word'])\n",
    "\n",
    "# 단어사전 상위 20개 확인\n",
    "print(\"\\n단어사전 상위 20개:\")\n",
    "display(voc.head(20))"
   ]
  },
  {
   "cell_type": "code",
   "execution_count": 16,
   "metadata": {},
   "outputs": [
    {
     "name": "stdout",
     "output_type": "stream",
     "text": [
      "            w\n",
      "없   -1.528701\n",
      "재미없 -1.044672\n",
      "하   -0.933072\n",
      "실망  -0.873569\n",
      "내용  -0.873382\n",
      "돈   -0.873296\n",
      "스토리 -0.735479\n",
      "쓰레기 -0.734027\n",
      "나오  -0.716290\n",
      "무엇  -0.668544\n",
      "최악  -0.665468\n",
      "짜증  -0.642620\n",
      "발   -0.622454\n",
      "아깝  -0.621994\n",
      "모르  -0.608189\n",
      "짜증나 -0.596914\n",
      "티비  -0.586240\n",
      "끝나  -0.575305\n",
      "낳   -0.551690\n",
      "망   -0.548727\n",
      "웃    0.556559\n",
      "슬픔   0.559345\n",
      "생각   0.578402\n",
      "재    0.582256\n",
      "인생   0.632036\n",
      "아쉽   0.638030\n",
      "영화   0.647404\n",
      "느끼   0.669755\n",
      "명작   0.758802\n",
      "멋지   0.913536\n",
      "슬프   0.915180\n",
      "좋    0.936951\n",
      "감동적  0.956112\n",
      "괜찮   0.991118\n",
      "드라마  1.003569\n",
      "재미있  1.180498\n",
      "있    1.187215\n",
      "보    1.274137\n",
      "최고   1.400241\n",
      "재밌   1.819250\n"
     ]
    }
   ],
   "source": [
    "from sklearn.linear_model import LogisticRegression\n",
    "\n",
    "# 모델 훈련 (X, y 길이 일치!)\n",
    "model = LogisticRegression(max_iter=1000)\n",
    "model.fit(x_train_vec, y_train[:sample_size])\n",
    "\n",
    "# 단어 목록 추출\n",
    "vocab = tfidf_final.get_feature_names_out()\n",
    "\n",
    "# 가중치 데이터프레임 생성\n",
    "learning_result = pd.DataFrame(model.coef_.T, index=vocab, columns=['w'])\n",
    "\n",
    "# 정렬\n",
    "learning_result = learning_result.sort_values(by='w')\n",
    "\n",
    "# 부정/긍정 단어 추출\n",
    "bad = learning_result.head(20)\n",
    "good = learning_result.tail(20)\n",
    "top20 = pd.concat([bad, good])\n",
    "\n",
    "print(top20)\n"
   ]
  },
  {
   "cell_type": "code",
   "execution_count": 17,
   "metadata": {},
   "outputs": [],
   "source": [
    "import matplotlib.pyplot as plt\n",
    "plt.rc('font', family='NanumBarunGothic') # 나눔 폰트 설정"
   ]
  },
  {
   "cell_type": "code",
   "execution_count": 18,
   "metadata": {},
   "outputs": [],
   "source": [
    "# 마이너스 기호 사용\n",
    "plt.rcParams['axes.unicode_minus'] = False"
   ]
  },
  {
   "cell_type": "code",
   "execution_count": 20,
   "metadata": {},
   "outputs": [
    {
     "data": {
      "image/png": "[encoded data removed]",
      "text/plain": [
       "<Figure size 1200x800 with 1 Axes>"
      ]
     },
     "metadata": {},
     "output_type": "display_data"
    }
   ],
   "source": [
    "plt.figure(figsize=(12, 8))\n",
    "plt.title('긍정/부정 단어 가중치')\n",
    "plt.xlabel('단어')\n",
    "plt.ylabel('가중치')\n",
    "\n",
    "plt.bar(top20.index, top20['w'])\n",
    "plt.xticks(rotation = 60)\n",
    "\n",
    "plt.show()"
   ]
  },
  {
   "cell_type": "code",
   "execution_count": null,
   "metadata": {},
   "outputs": [],
   "source": []
  },
  {
   "cell_type": "code",
   "execution_count": null,
   "metadata": {},
   "outputs": [],
   "source": []
  },
  {
   "cell_type": "code",
   "execution_count": null,
   "metadata": {},
   "outputs": [],
   "source": []
  },
  {
   "cell_type": "code",
   "execution_count": null,
   "metadata": {},
   "outputs": [],
   "source": []
  },
  {
   "cell_type": "code",
   "execution_count": null,
   "metadata": {},
   "outputs": [],
   "source": []
  }
 ],
 "metadata": {
  "colab": {
   "authorship_tag": "ABX9TyOj58ULbj6Jx2mxhOREEuOz",
   "include_colab_link": true,
   "provenance": [],
   "toc_visible": true
  },
  "kernelspec": {
   "display_name": "Python 3 (ipykernel)",
   "language": "python",
   "name": "python3"
  },
  "language_info": {
   "codemirror_mode": {
    "name": "ipython",
    "version": 3
   },
   "file_extension": ".py",
   "mimetype": "text/x-python",
   "name": "python",
   "nbconvert_exporter": "python",
   "pygments_lexer": "ipython3",
   "version": "3.12.3"
  }
 },
 "nbformat": 4,
 "nbformat_minor": 4
}
