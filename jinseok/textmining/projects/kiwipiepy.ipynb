{
 "cells": [
  {
   "cell_type": "markdown",
   "id": "d71209ef-7499-45fc-96bb-5c84db0af9ed",
   "metadata": {},
   "source": [
    "#### 목표 설정\n",
    "- kiwipiepy 형태소 분석기를 사용해보고 Konlpy와는 어떤점이 다른지 확인"
   ]
  },
  {
   "cell_type": "markdown",
   "id": "303f86ba-3336-4603-aa0c-ffba685ba20c",
   "metadata": {},
   "source": [
    "#### Kiwi 라이브러리\n",
    "- 빠른속도와 범용적인 성능을 지향하는 형태소 분석기\n",
    "- C++로 구현된 코어를 래핑해서 다양한 프로그래밍 언어에서 사용하도록 만들었다. / 오픈소스 공개\n",
    "- 세종 품사 태그셋을 사용한다.\n",
    "- 웹 텍스트 약 87% / 문어체 텍스튼느 94% 정확도로 형태소 분석이 가능하다. ( 공식 GitHub 참조 )\n",
    "- Konlpy보다 속도가 더 빠르다.\n",
    "- 간단한 오타나 띄어쓰기는 스스로 교정 할 수 있는 기능을 제공, 신조어나 오타에 강"
   ]
  },
  {
   "cell_type": "code",
   "execution_count": 1,
   "id": "d7d58243-ac3d-4c04-8b8d-fbe18a94c4fb",
   "metadata": {},
   "outputs": [
    {
     "name": "stdout",
     "output_type": "stream",
     "text": [
      "현재 작업 경로: /home/jsock/projects\n",
      "학습 데이터 미리보기:\n",
      "         id                                           document  label\n",
      "0   9976970                                아 더빙.. 진짜 짜증나네요 목소리      0\n",
      "1   3819312                  흠...포스터보고 초딩영화줄....오버연기조차 가볍지 않구나      1\n",
      "2  10265843                                  너무재밓었다그래서보는것을추천한다      0\n",
      "3   9045019                      교도소 이야기구먼 ..솔직히 재미는 없다..평점 조정      0\n",
      "4   6483659  사이몬페그의 익살스런 연기가 돋보였던 영화!스파이더맨에서 늙어보이기만 했던 커스틴 ...      1\n",
      "\n",
      "테스트 데이터 미리보기:\n",
      "        id                                           document  label\n",
      "0  6270596                                                굳 ㅋ      1\n",
      "1  9274899                               GDNTOPCLASSINTHECLUB      0\n",
      "2  8544678             뭐야 이 평점들은.... 나쁘진 않지만 10점 짜리는 더더욱 아니잖아      0\n",
      "3  6825595                   지루하지는 않은데 완전 막장임... 돈주고 보기에는....      0\n",
      "4  6723715  3D만 아니었어도 별 다섯 개 줬을텐데.. 왜 3D로 나와서 제 심기를 불편하게 하죠??      0\n"
     ]
    }
   ],
   "source": [
    "# 경로 확인\n",
    "import os\n",
    "print(\"현재 작업 경로:\", os.getcwd())\n",
    "\n",
    "# 필요한 라이브러리 불러오기\n",
    "import pandas as pd\n",
    "import numpy as np\n",
    "import matplotlib.pyplot as plt\n",
    "import seaborn as sns\n",
    "\n",
    "# 데이터 불러오기 - WSL 환경에 맞게 경로 수정\n",
    "# 데이터 파일은 ~/projects/data 폴더에 있다고 가정\n",
    "train = pd.read_csv('../data/ratings_train.csv', encoding='utf-8')\n",
    "test = pd.read_csv('../data/ratings_test.csv', encoding='utf-8')\n",
    "\n",
    "# 데이터 확인\n",
    "print(\"학습 데이터 미리보기:\")\n",
    "print(train.head())\n",
    "\n",
    "print(\"\\n테스트 데이터 미리보기:\")\n",
    "print(test.head())"
   ]
  },
  {
   "cell_type": "code",
   "execution_count": 3,
   "id": "f8953dd3-b2e8-45f1-8965-e325f52aad8c",
   "metadata": {},
   "outputs": [],
   "source": [
    "X_train = train['document']\n",
    "X_test = test['document']\n",
    "y_train = train['label']\n",
    "y_test = test['label']"
   ]
  },
  {
   "cell_type": "code",
   "execution_count": 5,
   "id": "cff5b2d5-e704-41ff-8b00-ee19d5e03179",
   "metadata": {},
   "outputs": [
    {
     "data": {
      "text/plain": [
       "((150000,), (50000,), (150000,), (50000,))"
      ]
     },
     "execution_count": 5,
     "metadata": {},
     "output_type": "execute_result"
    }
   ],
   "source": [
    "# 데이터 shape 확인\n",
    "X_train.shape, X_test.shape, y_train.shape, y_test.shape"
   ]
  },
  {
   "cell_type": "markdown",
   "id": "3035dd62-0bc7-4fdf-9167-1c0ee91ec1cc",
   "metadata": {},
   "source": [
    "Kiwipiepy 라이브러리 설치\n",
    "- Kiwipiepy 라이브러리는 의존성이 없음. 편리하게 환경 구축이 가능하다."
   ]
  },
  {
   "cell_type": "code",
   "execution_count": 6,
   "id": "7a79dad4-180c-4d88-9f06-4a816d3c9b4c",
   "metadata": {},
   "outputs": [
    {
     "name": "stdout",
     "output_type": "stream",
     "text": [
      "Collecting kiwipiepy\n",
      "  Downloading kiwipiepy-0.20.4-cp312-cp312-manylinux_2_17_x86_64.manylinux2014_x86_64.whl.metadata (1.3 kB)\n",
      "Collecting kiwipiepy_model<0.21,>=0.20 (from kiwipiepy)\n",
      "  Downloading kiwipiepy_model-0.20.0.tar.gz (34.7 MB)\n",
      "\u001b[2K     \u001b[90m━━━━━━━━━━━━━━━━━━━━━━━━━━━━━━━━━━━━━━━━\u001b[0m \u001b[32m34.7/34.7 MB\u001b[0m \u001b[31m55.8 MB/s\u001b[0m eta \u001b[36m0:00:00\u001b[0m00:01\u001b[0m00:01\u001b[0m\n",
      "\u001b[?25h  Installing build dependencies ... \u001b[?25ldone\n",
      "\u001b[?25h  Getting requirements to build wheel ... \u001b[?25ldone\n",
      "\u001b[?25h  Preparing metadata (pyproject.toml) ... \u001b[?25ldone\n",
      "\u001b[?25hRequirement already satisfied: numpy in /home/jsock/datascience_env/lib/python3.12/site-packages (from kiwipiepy) (2.2.5)\n",
      "Collecting tqdm (from kiwipiepy)\n",
      "  Downloading tqdm-4.67.1-py3-none-any.whl.metadata (57 kB)\n",
      "\u001b[2K     \u001b[90m━━━━━━━━━━━━━━━━━━━━━━━━━━━━━━━━━━━━━━━━\u001b[0m \u001b[32m57.7/57.7 kB\u001b[0m \u001b[31m8.8 MB/s\u001b[0m eta \u001b[36m0:00:00\u001b[0m\n",
      "\u001b[?25hDownloading kiwipiepy-0.20.4-cp312-cp312-manylinux_2_17_x86_64.manylinux2014_x86_64.whl (3.6 MB)\n",
      "\u001b[2K   \u001b[90m━━━━━━━━━━━━━━━━━━━━━━━━━━━━━━━━━━━━━━━━\u001b[0m \u001b[32m3.6/3.6 MB\u001b[0m \u001b[31m65.4 MB/s\u001b[0m eta \u001b[36m0:00:00\u001b[0ma \u001b[36m0:00:01\u001b[0m\n",
      "\u001b[?25hDownloading tqdm-4.67.1-py3-none-any.whl (78 kB)\n",
      "\u001b[2K   \u001b[90m━━━━━━━━━━━━━━━━━━━━━━━━━━━━━━━━━━━━━━━━\u001b[0m \u001b[32m78.5/78.5 kB\u001b[0m \u001b[31m10.9 MB/s\u001b[0m eta \u001b[36m0:00:00\u001b[0m\n",
      "\u001b[?25hBuilding wheels for collected packages: kiwipiepy_model\n",
      "  Building wheel for kiwipiepy_model (pyproject.toml) ... \u001b[?25ldone\n",
      "\u001b[?25h  Created wheel for kiwipiepy_model: filename=kiwipiepy_model-0.20.0-py3-none-any.whl size=34818072 sha256=40f4b10e94f56ce4e5971815aeeef5f78028d791857b355c49e879d62290d1b4\n",
      "  Stored in directory: /home/jsock/.cache/pip/wheels/f3/14/24/bd3e0c3aa06df12afcb35447b07840213644855333f33bfce5\n",
      "Successfully built kiwipiepy_model\n",
      "Installing collected packages: kiwipiepy_model, tqdm, kiwipiepy\n",
      "Successfully installed kiwipiepy-0.20.4 kiwipiepy_model-0.20.0 tqdm-4.67.1\n",
      "Note: you may need to restart the kernel to use updated packages.\n"
     ]
    }
   ],
   "source": [
    "pip install kiwipiepy"
   ]
  },
  {
   "cell_type": "code",
   "execution_count": 3,
   "id": "244177c8-e520-4a74-88e7-34796cb0ff65",
   "metadata": {},
   "outputs": [],
   "source": [
    "# 라이브러리 import\n",
    "# 사이킷런 Tfidf Vectorizer\n",
    "from sklearn.feature_extraction.text import TfidfVectorizer\n",
    "\n",
    "# Kiwipiepy 형태소 분석기 import\n",
    "from kiwipiepy import Kiwi, basic_typos_with_continual"
   ]
  },
  {
   "cell_type": "code",
   "execution_count": 5,
   "id": "f400948a-8514-45a4-99fd-3b6201dc435f",
   "metadata": {},
   "outputs": [
    {
     "data": {
      "text/plain": [
       "Kiwi(num_workers=1, model_path=None, integrate_allomorph=True, load_default_dict=True, load_typo_dict=True, model_type='knlm', typos=TypoTransformer([('\\x00가', '까', 1.0, 'applosive'), ('\\x00개', '깨', 1.0, 'applosive'), ('\\x00갸', '꺄', 1.0, 'applosive'), ('\\x00걔', '꺠', 1.0, 'applosive'), ('\\x00거', '꺼', 1.0, 'applosive'), ... (11241 more)], continual_typo_cost=1.0, lengthening_typo_cost=inf), typo_cost_threshold=2.5)"
      ]
     },
     "execution_count": 5,
     "metadata": {},
     "output_type": "execute_result"
    }
   ],
   "source": [
    "# 객체 생성\n",
    "kiwi = Kiwi(typos = basic_typos_with_continual)\n",
    "kiwi"
   ]
  },
  {
   "cell_type": "markdown",
   "id": "7d35b21d-0577-4107-9ae8-04632ed950a5",
   "metadata": {},
   "source": [
    "- Kiwipiepy는 간단한 오타 교정도구를 제공\n",
    "  - basic_typos : 형태소 내에 오타를 교정하는 기본적인 오타 교정 도구\n",
    "  - continual_typos : 형태소간의 연철 오타를 교정하는 교정 도구\n",
    "  - basic_typos_with_continual : 위의 두가지 오타 교정도구를 하나로 합친 기능"
   ]
  },
  {
   "cell_type": "code",
   "execution_count": 6,
   "id": "e2486c69-b889-496e-9b37-6ea5fd8b80a1",
   "metadata": {},
   "outputs": [
    {
     "data": {
      "text/plain": [
       "[Token(form='아버지', tag='NNG', start=0, len=3),\n",
       " Token(form='가', tag='JKS', start=3, len=1),\n",
       " Token(form='방', tag='NNG', start=4, len=1),\n",
       " Token(form='에', tag='JKB', start=5, len=1),\n",
       " Token(form='들어가', tag='VV', start=6, len=3),\n",
       " Token(form='시', tag='EP', start=9, len=1),\n",
       " Token(form='ᆫ다', tag='EF', start=9, len=2)]"
      ]
     },
     "execution_count": 6,
     "metadata": {},
     "output_type": "execute_result"
    }
   ],
   "source": [
    "# 형태소 분석 - tokenize\n",
    "token = kiwi.tokenize('아버지가방에들어가신다')\n",
    "token\n",
    "\n",
    "# form : 실제 형태소\n",
    "# tag : 품사 태그\n",
    "# start : 형태소의 시작 인덱스\n",
    "# len : 형태소의 길"
   ]
  },
  {
   "cell_type": "code",
   "execution_count": null,
   "id": "91a78ade-0656-40c1-af33-c02809222876",
   "metadata": {},
   "outputs": [],
   "source": []
  }
 ],
 "metadata": {
  "kernelspec": {
   "display_name": "Python 3 (ipykernel)",
   "language": "python",
   "name": "python3"
  },
  "language_info": {
   "codemirror_mode": {
    "name": "ipython",
    "version": 3
   },
   "file_extension": ".py",
   "mimetype": "text/x-python",
   "name": "python",
   "nbconvert_exporter": "python",
   "pygments_lexer": "ipython3",
   "version": "3.12.3"
  }
 },
 "nbformat": 4,
 "nbformat_minor": 5
}
