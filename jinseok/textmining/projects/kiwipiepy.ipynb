{
 "cells": [
  {
   "cell_type": "markdown",
   "id": "d71209ef-7499-45fc-96bb-5c84db0af9ed",
   "metadata": {},
   "source": [
    "#### 목표 설정\n",
    "- kiwipiepy 형태소 분석기를 사용해보고 Konlpy와는 어떤점이 다른지 확인"
   ]
  },
  {
   "cell_type": "markdown",
   "id": "303f86ba-3336-4603-aa0c-ffba685ba20c",
   "metadata": {},
   "source": [
    "#### Kiwi 라이브러리\n",
    "- 빠른속도와 범용적인 성능을 지향하는 형태소 분석기\n",
    "- C++로 구현된 코어를 래핑해서 다양한 프로그래밍 언어에서 사용하도록 만들었다. / 오픈소스 공개\n",
    "- 세종 품사 태그셋을 사용한다.\n",
    "- 웹 텍스트 약 87% / 문어체 텍스튼느 94% 정확도로 형태소 분석이 가능하다. ( 공식 GitHub 참조 )\n",
    "- Konlpy보다 속도가 더 빠르다.\n",
    "- 간단한 오타나 띄어쓰기는 스스로 교정 할 수 있는 기능을 제공, 신조어나 오타에 강"
   ]
  },
  {
   "cell_type": "code",
   "execution_count": 91,
   "id": "d7d58243-ac3d-4c04-8b8d-fbe18a94c4fb",
   "metadata": {},
   "outputs": [
    {
     "name": "stdout",
     "output_type": "stream",
     "text": [
      "현재 작업 경로: /home/jsock/core-project-study/jinseok/textmining/projects\n",
      "학습 데이터 미리보기:\n",
      "         id                                           document  label\n",
      "0   9976970                                아 더빙.. 진짜 짜증나네요 목소리      0\n",
      "1   3819312                  흠...포스터보고 초딩영화줄....오버연기조차 가볍지 않구나      1\n",
      "2  10265843                                  너무재밓었다그래서보는것을추천한다      0\n",
      "3   9045019                      교도소 이야기구먼 ..솔직히 재미는 없다..평점 조정      0\n",
      "4   6483659  사이몬페그의 익살스런 연기가 돋보였던 영화!스파이더맨에서 늙어보이기만 했던 커스틴 ...      1\n",
      "\n",
      "테스트 데이터 미리보기:\n",
      "        id                                           document  label\n",
      "0  6270596                                                굳 ㅋ      1\n",
      "1  9274899                               GDNTOPCLASSINTHECLUB      0\n",
      "2  8544678             뭐야 이 평점들은.... 나쁘진 않지만 10점 짜리는 더더욱 아니잖아      0\n",
      "3  6825595                   지루하지는 않은데 완전 막장임... 돈주고 보기에는....      0\n",
      "4  6723715  3D만 아니었어도 별 다섯 개 줬을텐데.. 왜 3D로 나와서 제 심기를 불편하게 하죠??      0\n"
     ]
    }
   ],
   "source": [
    "# 경로 확인\n",
    "import os\n",
    "print(\"현재 작업 경로:\", os.getcwd())\n",
    "\n",
    "# 필요한 라이브러리 불러오기\n",
    "import pandas as pd\n",
    "import numpy as np\n",
    "import matplotlib.pyplot as plt\n",
    "import seaborn as sns\n",
    "\n",
    "# 데이터 불러오기 - WSL 환경에 맞게 경로 수정\n",
    "# 데이터 파일은 ~/projects/data 폴더에 있다고 가정\n",
    "train = pd.read_csv('../data/ratings_train.csv', encoding='utf-8')\n",
    "test = pd.read_csv('../data/ratings_test.csv', encoding='utf-8')\n",
    "\n",
    "# 데이터 확인\n",
    "print(\"학습 데이터 미리보기:\")\n",
    "print(train.head())\n",
    "\n",
    "print(\"\\n테스트 데이터 미리보기:\")\n",
    "print(test.head())"
   ]
  },
  {
   "cell_type": "code",
   "execution_count": 92,
   "id": "df5b425a-61f2-4a36-87c5-03316aa4e57b",
   "metadata": {},
   "outputs": [],
   "source": [
    "train = train.dropna()\n",
    "test = test.dropna()"
   ]
  },
  {
   "cell_type": "code",
   "execution_count": 93,
   "id": "7f945cf4-2145-4da9-86de-663a54191ec5",
   "metadata": {},
   "outputs": [
    {
     "name": "stdout",
     "output_type": "stream",
     "text": [
      "<class 'pandas.core.frame.DataFrame'>\n",
      "Index: 149995 entries, 0 to 149999\n",
      "Data columns (total 3 columns):\n",
      " #   Column    Non-Null Count   Dtype \n",
      "---  ------    --------------   ----- \n",
      " 0   id        149995 non-null  int64 \n",
      " 1   document  149995 non-null  object\n",
      " 2   label     149995 non-null  int64 \n",
      "dtypes: int64(2), object(1)\n",
      "memory usage: 4.6+ MB\n"
     ]
    }
   ],
   "source": [
    "train.info()"
   ]
  },
  {
   "cell_type": "code",
   "execution_count": 94,
   "id": "4d8f27c4-b0b8-463f-85d3-9bd4fe25596d",
   "metadata": {},
   "outputs": [
    {
     "name": "stdout",
     "output_type": "stream",
     "text": [
      "<class 'pandas.core.frame.DataFrame'>\n",
      "Index: 49997 entries, 0 to 49999\n",
      "Data columns (total 3 columns):\n",
      " #   Column    Non-Null Count  Dtype \n",
      "---  ------    --------------  ----- \n",
      " 0   id        49997 non-null  int64 \n",
      " 1   document  49997 non-null  object\n",
      " 2   label     49997 non-null  int64 \n",
      "dtypes: int64(2), object(1)\n",
      "memory usage: 1.5+ MB\n"
     ]
    }
   ],
   "source": [
    "test.info()"
   ]
  },
  {
   "cell_type": "code",
   "execution_count": 95,
   "id": "f8953dd3-b2e8-45f1-8965-e325f52aad8c",
   "metadata": {},
   "outputs": [],
   "source": [
    "X_train = train['document']\n",
    "X_test = test['document']\n",
    "y_train = train['label']\n",
    "y_test = test['label']"
   ]
  },
  {
   "cell_type": "code",
   "execution_count": 96,
   "id": "cff5b2d5-e704-41ff-8b00-ee19d5e03179",
   "metadata": {},
   "outputs": [
    {
     "data": {
      "text/plain": [
       "((149995,), (49997,), (149995,), (49997,))"
      ]
     },
     "execution_count": 96,
     "metadata": {},
     "output_type": "execute_result"
    }
   ],
   "source": [
    "# 데이터 shape 확인\n",
    "X_train.shape, X_test.shape, y_train.shape, y_test.shape"
   ]
  },
  {
   "cell_type": "markdown",
   "id": "3035dd62-0bc7-4fdf-9167-1c0ee91ec1cc",
   "metadata": {},
   "source": [
    "Kiwipiepy 라이브러리 설치\n",
    "- Kiwipiepy 라이브러리는 의존성이 없음. 편리하게 환경 구축이 가능하다."
   ]
  },
  {
   "cell_type": "code",
   "execution_count": 97,
   "id": "7a79dad4-180c-4d88-9f06-4a816d3c9b4c",
   "metadata": {},
   "outputs": [
    {
     "name": "stdout",
     "output_type": "stream",
     "text": [
      "Requirement already satisfied: kiwipiepy in /home/jsock/datascience_env/lib/python3.12/site-packages (0.20.4)\n",
      "Requirement already satisfied: kiwipiepy_model<0.21,>=0.20 in /home/jsock/datascience_env/lib/python3.12/site-packages (from kiwipiepy) (0.20.0)\n",
      "Requirement already satisfied: numpy in /home/jsock/datascience_env/lib/python3.12/site-packages (from kiwipiepy) (2.2.5)\n",
      "Requirement already satisfied: tqdm in /home/jsock/datascience_env/lib/python3.12/site-packages (from kiwipiepy) (4.67.1)\n",
      "Note: you may need to restart the kernel to use updated packages.\n"
     ]
    }
   ],
   "source": [
    "pip install kiwipiepy"
   ]
  },
  {
   "cell_type": "code",
   "execution_count": 98,
   "id": "244177c8-e520-4a74-88e7-34796cb0ff65",
   "metadata": {},
   "outputs": [],
   "source": [
    "# 라이브러리 import\n",
    "# 사이킷런 Tfidf Vectorizer\n",
    "from sklearn.feature_extraction.text import TfidfVectorizer\n",
    "\n",
    "# Kiwipiepy 형태소 분석기 import\n",
    "from kiwipiepy import Kiwi, basic_typos_with_continual"
   ]
  },
  {
   "cell_type": "code",
   "execution_count": 99,
   "id": "f400948a-8514-45a4-99fd-3b6201dc435f",
   "metadata": {},
   "outputs": [
    {
     "data": {
      "text/plain": [
       "Kiwi(num_workers=1, model_path=None, integrate_allomorph=True, load_default_dict=True, load_typo_dict=True, model_type='knlm', typos=TypoTransformer([('\\x00가', '까', 1.0, 'applosive'), ('\\x00개', '깨', 1.0, 'applosive'), ('\\x00갸', '꺄', 1.0, 'applosive'), ('\\x00걔', '꺠', 1.0, 'applosive'), ('\\x00거', '꺼', 1.0, 'applosive'), ... (11241 more)], continual_typo_cost=1.0, lengthening_typo_cost=inf), typo_cost_threshold=2.5)"
      ]
     },
     "execution_count": 99,
     "metadata": {},
     "output_type": "execute_result"
    }
   ],
   "source": [
    "# 객체 생성\n",
    "kiwi = Kiwi(typos = basic_typos_with_continual)\n",
    "kiwi"
   ]
  },
  {
   "cell_type": "markdown",
   "id": "7d35b21d-0577-4107-9ae8-04632ed950a5",
   "metadata": {},
   "source": [
    "- Kiwipiepy는 간단한 오타 교정도구를 제공\n",
    "  - basic_typos : 형태소 내에 오타를 교정하는 기본적인 오타 교정 도구\n",
    "  - continual_typos : 형태소간의 연철 오타를 교정하는 교정 도구\n",
    "  - basic_typos_with_continual : 위의 두가지 오타 교정도구를 하나로 합친 기능"
   ]
  },
  {
   "cell_type": "code",
   "execution_count": 100,
   "id": "e2486c69-b889-496e-9b37-6ea5fd8b80a1",
   "metadata": {},
   "outputs": [
    {
     "data": {
      "text/plain": [
       "[Token(form='아버지', tag='NNG', start=0, len=3),\n",
       " Token(form='가', tag='JKS', start=3, len=1),\n",
       " Token(form='방', tag='NNG', start=4, len=1),\n",
       " Token(form='에', tag='JKB', start=5, len=1),\n",
       " Token(form='들어가', tag='VV', start=6, len=3),\n",
       " Token(form='시', tag='EP', start=9, len=1),\n",
       " Token(form='ᆫ다', tag='EF', start=9, len=2)]"
      ]
     },
     "execution_count": 100,
     "metadata": {},
     "output_type": "execute_result"
    }
   ],
   "source": [
    "# 형태소 분석 - tokenize\n",
    "token = kiwi.tokenize('아버지가방에들어가신다')\n",
    "token\n",
    "\n",
    "# form : 실제 형태소\n",
    "# tag : 품사 태그\n",
    "# start : 형태소의 시작 인덱스\n",
    "# len : 형태소의 길"
   ]
  },
  {
   "cell_type": "code",
   "execution_count": 101,
   "id": "91a78ade-0656-40c1-af33-c02809222876",
   "metadata": {},
   "outputs": [
    {
     "data": {
      "text/plain": [
       "'NNG'"
      ]
     },
     "execution_count": 101,
     "metadata": {},
     "output_type": "execute_result"
    }
   ],
   "source": [
    "token[0].tag"
   ]
  },
  {
   "cell_type": "code",
   "execution_count": 102,
   "id": "6f812179-193f-4e7c-8801-f441f8f63160",
   "metadata": {},
   "outputs": [
    {
     "data": {
      "text/plain": [
       "[Token(form='오늘', tag='NNG', start=0, len=2),\n",
       " Token(form='은', tag='JX', start=2, len=1),\n",
       " Token(form='수요일', tag='NNG', start=4, len=3),\n",
       " Token(form='이', tag='VCP', start=7, len=1),\n",
       " Token(form='ᆸ니다', tag='EF', start=7, len=3),\n",
       " Token(form='ᆼ', tag='Z_CODA', start=9, len=1),\n",
       " Token(form='.', tag='SF', start=10, len=1),\n",
       " Token(form='금요일', tag='NNG', start=12, len=3),\n",
       " Token(form='이', tag='JKS', start=15, len=1),\n",
       " Token(form='오', tag='VV', start=17, len=1),\n",
       " Token(form='기', tag='ETN', start=18, len=1),\n",
       " Token(form='는', tag='JX', start=19, len=1),\n",
       " Token(form='오', tag='VV', start=21, len=1),\n",
       " Token(form='ᆯ까요', tag='EF', start=21, len=3),\n",
       " Token(form='ᆿ', tag='Z_CODA', start=23, len=1),\n",
       " Token(form='ㅋㅋㅋㅋ', tag='SW', start=24, len=4)]"
      ]
     },
     "execution_count": 102,
     "metadata": {},
     "output_type": "execute_result"
    }
   ],
   "source": [
    "# 형태소 분석된 곳에서 실제 형태소만 가져오자\n",
    "text = '오늘은 수요일입니당. 금요일이 오기는 올까욬ㅋㅋㅋㅋ'\n",
    "\n",
    "# 형태소 분석 시작\n",
    "token = kiwi.tokenize(text)\n",
    "token"
   ]
  },
  {
   "cell_type": "code",
   "execution_count": 103,
   "id": "bc516108-e579-4012-a2b7-1a04e5048124",
   "metadata": {},
   "outputs": [],
   "source": [
    "# 오타 교정도구 옵션 수정하기\n",
    "from kiwipiepy import basic_typos\n",
    "\n",
    "kiwi2 = Kiwi(typos=basic_typos)"
   ]
  },
  {
   "cell_type": "code",
   "execution_count": 104,
   "id": "76ae2c28-37ab-40cc-ba40-6a09a6ac516e",
   "metadata": {},
   "outputs": [
    {
     "data": {
      "text/plain": [
       "[Token(form='오늘', tag='NNG', start=0, len=2),\n",
       " Token(form='은', tag='JX', start=2, len=1),\n",
       " Token(form='수요일', tag='NNG', start=4, len=3),\n",
       " Token(form='이', tag='VCP', start=7, len=1),\n",
       " Token(form='ᆸ니다', tag='EF', start=7, len=3),\n",
       " Token(form='ᆼ', tag='Z_CODA', start=9, len=1),\n",
       " Token(form='.', tag='SF', start=10, len=1),\n",
       " Token(form='금요일', tag='NNG', start=12, len=3),\n",
       " Token(form='이', tag='JKS', start=15, len=1),\n",
       " Token(form='오', tag='VV', start=17, len=1),\n",
       " Token(form='기', tag='ETN', start=18, len=1),\n",
       " Token(form='는', tag='JX', start=19, len=1),\n",
       " Token(form='오', tag='VV', start=21, len=1),\n",
       " Token(form='ᆯ까요', tag='EF', start=21, len=3),\n",
       " Token(form='ㅋㅋㅋㅋㅋ', tag='SW', start=23, len=5)]"
      ]
     },
     "execution_count": 104,
     "metadata": {},
     "output_type": "execute_result"
    }
   ],
   "source": [
    "# '욬'에 있는 'ㅋ' wpdhl\n",
    "\n",
    "# 더미 문장 데이터를 이용해서, kiwi 라이브러리 사용법 익혀보기\n",
    "# 형태소 분석 시작\n",
    "\n",
    "# nomalize_coda\n",
    "# 초성체가 어절 뒤에 붙는 경우, 초성체를 분리해주는 기능\n",
    "kiwi2 = Kiwi()\n",
    "\n",
    "text = '오늘은 수요일입니당. 금요일이 오기는 올까욬ㅋㅋㅋㅋ'\n",
    "\n",
    "# tokenize()에만 normalize_coda=True 옵션을 전달합니다 (스펠링 주의!)\n",
    "token = kiwi2.tokenize(text, normalize_coda=True)\n",
    "token"
   ]
  },
  {
   "cell_type": "code",
   "execution_count": 105,
   "id": "1acc20b3-a7e5-4f52-90ca-1db3ac80fe2e",
   "metadata": {},
   "outputs": [
    {
     "data": {
      "text/plain": [
       "[Token(form='오늘', tag='NNG', start=0, len=2),\n",
       " Token(form='은', tag='JX', start=2, len=1),\n",
       " Token(form='수요일', tag='NNG', start=4, len=3),\n",
       " Token(form='이', tag='VCP', start=7, len=1),\n",
       " Token(form='ᆸ니다', tag='EF', start=7, len=3),\n",
       " Token(form='ᆼ', tag='Z_CODA', start=9, len=1),\n",
       " Token(form='.', tag='SF', start=10, len=1),\n",
       " Token(form='금요일', tag='NNG', start=12, len=3),\n",
       " Token(form='이', tag='JKS', start=15, len=1),\n",
       " Token(form='오', tag='VV', start=17, len=1),\n",
       " Token(form='기', tag='ETN', start=18, len=1),\n",
       " Token(form='는', tag='JX', start=19, len=1),\n",
       " Token(form='오', tag='VV', start=21, len=1),\n",
       " Token(form='ᆯ까요', tag='EF', start=21, len=3),\n",
       " Token(form='ᆿ', tag='Z_CODA', start=23, len=1),\n",
       " Token(form='ㅋㅋㅋㅋ', tag='SW', start=24, len=4)]"
      ]
     },
     "execution_count": 105,
     "metadata": {},
     "output_type": "execute_result"
    }
   ],
   "source": [
    "token2 = kiwi2.tokenize(text, normalize_coda=False)\n",
    "token2"
   ]
  },
  {
   "cell_type": "code",
   "execution_count": 106,
   "id": "d4c23fb1-c933-40d5-a44a-6b8c80a5b542",
   "metadata": {},
   "outputs": [
    {
     "data": {
      "text/plain": [
       "[Token(form='얼마', tag='NNG', start=0, len=2),\n",
       " Token(form='전', tag='NNG', start=2, len=1),\n",
       " Token(form='국수', tag='NNG', start=4, len=2),\n",
       " Token(form='집', tag='NNG', start=6, len=1),\n",
       " Token(form='에', tag='JKB', start=7, len=1),\n",
       " Token(form='방문', tag='NNG', start=9, len=2),\n",
       " Token(form='하', tag='XSV', start=11, len=1),\n",
       " Token(form='었', tag='EP', start=11, len=1),\n",
       " Token(form='더니', tag='EC', start=12, len=2),\n",
       " Token(form=',', tag='SP', start=14, len=1),\n",
       " Token(form='설탕', tag='NNG', start=16, len=2),\n",
       " Token(form='통', tag='NNG', start=18, len=1),\n",
       " Token(form='이', tag='JKS', start=19, len=1),\n",
       " Token(form='번쩍', tag='MAG', start=21, len=2),\n",
       " Token(form='거리', tag='XSV', start=23, len=2),\n",
       " Token(form='며', tag='EC', start=25, len=1),\n",
       " Token(form='눈', tag='NNG', start=27, len=1),\n",
       " Token(form='에', tag='JKB', start=28, len=1),\n",
       " Token(form='들', tag='VV', start=30, len=1),\n",
       " Token(form='어', tag='EC', start=31, len=1),\n",
       " Token(form='오', tag='VX', start=32, len=1),\n",
       " Token(form='었', tag='EP', start=32, len=1),\n",
       " Token(form='다', tag='EF', start=33, len=1),\n",
       " Token(form='.', tag='SF', start=34, len=1)]"
      ]
     },
     "execution_count": 106,
     "metadata": {},
     "output_type": "execute_result"
    }
   ],
   "source": [
    "# split_complex\n",
    "# 합성어를 분리하는 기능 - (기본값 : Fasle)\n",
    "# 형태소 : 의미를 가진 가장 작은 언어의 단위\n",
    "kiwi2.tokenize('얼마전 국수집에 방문했더니, 설탕통이 번쩍거리며 눈에 들어왔다.', split_complex = True)\n",
    "\n",
    "# 형태소를 최대한 잘게 분할하는 기능"
   ]
  },
  {
   "cell_type": "code",
   "execution_count": 107,
   "id": "482d0529-eb05-4cfa-af80-c2bfda670b20",
   "metadata": {},
   "outputs": [
    {
     "data": {
      "text/plain": [
       "[Token(form='왜', tag='MAG', start=0, len=1),\n",
       " Token(form='안', tag='MAG', start=1, len=1),\n",
       " Token(form='되', tag='VV', start=2, len=1),\n",
       " Token(form='ᆫ대', tag='EF', start=2, len=2),\n",
       " Token(form='?', tag='SF', start=4, len=1)]"
      ]
     },
     "execution_count": 107,
     "metadata": {},
     "output_type": "execute_result"
    }
   ],
   "source": [
    "kiwi.tokenize('외않됀대?')"
   ]
  },
  {
   "cell_type": "code",
   "execution_count": 108,
   "id": "43859e4f-a663-469a-9b97-b8a885d2a665",
   "metadata": {},
   "outputs": [],
   "source": [
    "# 위의 기능을 함수화 시켜서 토큰화 도구에 연결해보자\n",
    "def myTokenizer(text):\n",
    "    result = kiwi.tokenize(text)\n",
    "    for token in result :\n",
    "        if token.tag in ['NNG','NNP']: # 보통명사, \n",
    "            yield token.form"
   ]
  },
  {
   "cell_type": "markdown",
   "id": "bcab2b9e-2d88-47f6-82b9-3c688690e53d",
   "metadata": {},
   "source": [
    "#### return이 아닌 yield를 쓰는 이유\n",
    "- yeild : 반환값을 제너레이터로 변환\n",
    "- 제너레이터 : 여러개의 데이터를 미리 만들어 두는 것이 아닌, 필요할때마다 즉석으로 하나씩 만들어주는 객체 -> for문에 사용 가능"
   ]
  },
  {
   "cell_type": "code",
   "execution_count": 109,
   "id": "63143a89-ba9c-4b45-afb7-7d46d7e8cc12",
   "metadata": {},
   "outputs": [],
   "source": [
    "# 함수 정의\n",
    "def return_abc():\n",
    "    return 'A'\n",
    "    return 'B'\n",
    "    return 'C'\n",
    "\n",
    "def yield_abc():\n",
    "    yield 'A'\n",
    "    yield 'B'\n",
    "    yield 'C'"
   ]
  },
  {
   "cell_type": "code",
   "execution_count": 110,
   "id": "a01c89bc-e099-4e36-9b4a-dcd4b59f9839",
   "metadata": {},
   "outputs": [
    {
     "name": "stdout",
     "output_type": "stream",
     "text": [
      "A\n"
     ]
    }
   ],
   "source": [
    "print(return_abc())"
   ]
  },
  {
   "cell_type": "code",
   "execution_count": 111,
   "id": "32359d4e-ec37-4aa6-894a-a4b2a0eeffd1",
   "metadata": {},
   "outputs": [
    {
     "name": "stdout",
     "output_type": "stream",
     "text": [
      "<generator object yield_abc at 0x7fea110c0930>\n"
     ]
    }
   ],
   "source": [
    "print(yield_abc())"
   ]
  },
  {
   "cell_type": "code",
   "execution_count": 112,
   "id": "e322cf62-689c-40b6-97fe-bd2fb14419ce",
   "metadata": {},
   "outputs": [
    {
     "name": "stdout",
     "output_type": "stream",
     "text": [
      "A\n"
     ]
    }
   ],
   "source": [
    "for ch in return_abc():\n",
    "    print(ch)"
   ]
  },
  {
   "cell_type": "code",
   "execution_count": 113,
   "id": "1bc870dd-aa0f-496b-a8ea-43740a9456d3",
   "metadata": {},
   "outputs": [],
   "source": [
    "import time"
   ]
  },
  {
   "cell_type": "code",
   "execution_count": 114,
   "id": "165b6f10-ae74-4e35-a6f8-64dddf5d4159",
   "metadata": {},
   "outputs": [],
   "source": [
    "# 함수 정의시 반복분\n",
    "def return_abc():\n",
    "    for ch in 'ABC':\n",
    "        time.sleep(1)\n",
    "        return ch"
   ]
  },
  {
   "cell_type": "code",
   "execution_count": 115,
   "id": "9a5319db-38af-4acc-947b-5f4adb0b18e1",
   "metadata": {},
   "outputs": [
    {
     "name": "stdout",
     "output_type": "stream",
     "text": [
      "A\n"
     ]
    }
   ],
   "source": [
    "for ch in return_abc():\n",
    "    print(ch)"
   ]
  },
  {
   "cell_type": "code",
   "execution_count": 116,
   "id": "a36e5cb1-2c98-47d4-b154-403bc3b12592",
   "metadata": {},
   "outputs": [],
   "source": [
    "# 함수 정의시 반복분\n",
    "def yield_abc():\n",
    "    for ch in 'ABC':\n",
    "        time.sleep(1)\n",
    "        yield ch"
   ]
  },
  {
   "cell_type": "code",
   "execution_count": 117,
   "id": "a1551b93-fc11-4226-baac-7073c2003bb4",
   "metadata": {},
   "outputs": [
    {
     "name": "stdout",
     "output_type": "stream",
     "text": [
      "A\n",
      "B\n",
      "C\n"
     ]
    }
   ],
   "source": [
    "for ch in yield_abc():\n",
    "    print(ch)"
   ]
  },
  {
   "cell_type": "code",
   "execution_count": 118,
   "id": "0fb5841f-d68c-4652-b0dc-d9224d2e63d4",
   "metadata": {},
   "outputs": [
    {
     "data": {
      "text/plain": [
       "['어제', '커피', '오늘', '지코']"
      ]
     },
     "execution_count": 118,
     "metadata": {},
     "output_type": "execute_result"
    }
   ],
   "source": [
    "# 더미문장 입력해보기\n",
    "list(myTokenizer('어제는 커피를 마셨고, 오늘은 지코를 마실겁니다.'))\n"
   ]
  },
  {
   "cell_type": "code",
   "execution_count": 119,
   "id": "080533fc-42b4-4320-b8e7-4c033fbe8379",
   "metadata": {},
   "outputs": [
    {
     "data": {
      "text/plain": [
       "0                  아 더빙.. 진짜 짜증나네요 목소리\n",
       "1    흠...포스터보고 초딩영화줄....오버연기조차 가볍지 않구나\n",
       "2                    너무재밓었다그래서보는것을추천한다\n",
       "Name: document, dtype: object"
      ]
     },
     "execution_count": 119,
     "metadata": {},
     "output_type": "execute_result"
    }
   ],
   "source": [
    "X_train[:3]"
   ]
  },
  {
   "cell_type": "code",
   "execution_count": 120,
   "id": "605e613e-9ed0-4cde-89dd-d6262da8d9d3",
   "metadata": {},
   "outputs": [],
   "source": [
    "# tfidf vectorizer + mytokenizer\n",
    "tfidf = TfidfVectorizer(tokenizer = myTokenizer )"
   ]
  },
  {
   "cell_type": "code",
   "execution_count": 121,
   "id": "9993645b-b07a-47b5-97a2-51523cb1bede",
   "metadata": {},
   "outputs": [
    {
     "name": "stderr",
     "output_type": "stream",
     "text": [
      "/home/jsock/datascience_env/lib/python3.12/site-packages/sklearn/feature_extraction/text.py:517: UserWarning: The parameter 'token_pattern' will not be used since 'tokenizer' is not None'\n",
      "  warnings.warn(\n"
     ]
    },
    {
     "data": {
      "text/plain": [
       "{'더빙': 1,\n",
       " '짜증': 7,\n",
       " '목소리': 2,\n",
       " '포스터': 10,\n",
       " '초딩': 8,\n",
       " '영화': 4,\n",
       " '줄': 6,\n",
       " '오버': 5,\n",
       " '연기': 3,\n",
       " '너무재밓': 0,\n",
       " '추천': 9}"
      ]
     },
     "execution_count": 121,
     "metadata": {},
     "output_type": "execute_result"
    }
   ],
   "source": [
    "tfidf.fit(X_train[0:3])\n",
    "tfidf.vocabulary_"
   ]
  },
  {
   "cell_type": "code",
   "execution_count": 122,
   "id": "394c8ce7-ab41-4d96-a9d8-5e442c375936",
   "metadata": {},
   "outputs": [],
   "source": [
    "# 감성분석을 위해 동사/형용사/보통명사만 가져오자\n",
    "def myTokenizer2(text):\n",
    "    # 띄어쓰기 교정\n",
    "    # space\n",
    "    text_space = kiwi.space(text, reset_whitespace = True)\n",
    "    # reset_whitespace = False : 원래 문장들의 공백을 최대한 유지하면서, 필요한 부분만 수정\n",
    "    # reset_whitespace = True : 원래 문장들의 공백정보를 무시하고, 새롭게 띄어쓰기 재구성\n",
    "\n",
    "    result = kiwi.tokenize(text_space, split_complex=True)\n",
    "\n",
    "    for token in result:\n",
    "        if token.tag in ['NNG', 'VV', 'VA']:\n",
    "            yield token.form"
   ]
  },
  {
   "cell_type": "code",
   "execution_count": 123,
   "id": "cd1cce4f-03ec-40f7-856c-3aa95f9261e2",
   "metadata": {},
   "outputs": [
    {
     "data": {
      "text/plain": [
       "{'더빙': 1,\n",
       " '짜증': 8,\n",
       " '나': 0,\n",
       " '목소리': 2,\n",
       " '포스터': 10,\n",
       " '보': 3,\n",
       " '영화': 5,\n",
       " '줄': 7,\n",
       " '오버': 6,\n",
       " '연기': 4,\n",
       " '추천': 9}"
      ]
     },
     "execution_count": 123,
     "metadata": {},
     "output_type": "execute_result"
    }
   ],
   "source": [
    "tfidf = TfidfVectorizer(tokenizer = myTokenizer2)\n",
    "tfidf.fit(X_train[0:3])\n",
    "tfidf.vocabulary_"
   ]
  },
  {
   "cell_type": "code",
   "execution_count": 124,
   "id": "25c29496-b2a0-4853-a03c-f2de73cfe98f",
   "metadata": {},
   "outputs": [
    {
     "data": {
      "text/html": [
       "<style>#sk-container-id-2 {\n",
       "  /* Definition of color scheme common for light and dark mode */\n",
       "  --sklearn-color-text: #000;\n",
       "  --sklearn-color-text-muted: #666;\n",
       "  --sklearn-color-line: gray;\n",
       "  /* Definition of color scheme for unfitted estimators */\n",
       "  --sklearn-color-unfitted-level-0: #fff5e6;\n",
       "  --sklearn-color-unfitted-level-1: #f6e4d2;\n",
       "  --sklearn-color-unfitted-level-2: #ffe0b3;\n",
       "  --sklearn-color-unfitted-level-3: chocolate;\n",
       "  /* Definition of color scheme for fitted estimators */\n",
       "  --sklearn-color-fitted-level-0: #f0f8ff;\n",
       "  --sklearn-color-fitted-level-1: #d4ebff;\n",
       "  --sklearn-color-fitted-level-2: #b3dbfd;\n",
       "  --sklearn-color-fitted-level-3: cornflowerblue;\n",
       "\n",
       "  /* Specific color for light theme */\n",
       "  --sklearn-color-text-on-default-background: var(--sg-text-color, var(--theme-code-foreground, var(--jp-content-font-color1, black)));\n",
       "  --sklearn-color-background: var(--sg-background-color, var(--theme-background, var(--jp-layout-color0, white)));\n",
       "  --sklearn-color-border-box: var(--sg-text-color, var(--theme-code-foreground, var(--jp-content-font-color1, black)));\n",
       "  --sklearn-color-icon: #696969;\n",
       "\n",
       "  @media (prefers-color-scheme: dark) {\n",
       "    /* Redefinition of color scheme for dark theme */\n",
       "    --sklearn-color-text-on-default-background: var(--sg-text-color, var(--theme-code-foreground, var(--jp-content-font-color1, white)));\n",
       "    --sklearn-color-background: var(--sg-background-color, var(--theme-background, var(--jp-layout-color0, #111)));\n",
       "    --sklearn-color-border-box: var(--sg-text-color, var(--theme-code-foreground, var(--jp-content-font-color1, white)));\n",
       "    --sklearn-color-icon: #878787;\n",
       "  }\n",
       "}\n",
       "\n",
       "#sk-container-id-2 {\n",
       "  color: var(--sklearn-color-text);\n",
       "}\n",
       "\n",
       "#sk-container-id-2 pre {\n",
       "  padding: 0;\n",
       "}\n",
       "\n",
       "#sk-container-id-2 input.sk-hidden--visually {\n",
       "  border: 0;\n",
       "  clip: rect(1px 1px 1px 1px);\n",
       "  clip: rect(1px, 1px, 1px, 1px);\n",
       "  height: 1px;\n",
       "  margin: -1px;\n",
       "  overflow: hidden;\n",
       "  padding: 0;\n",
       "  position: absolute;\n",
       "  width: 1px;\n",
       "}\n",
       "\n",
       "#sk-container-id-2 div.sk-dashed-wrapped {\n",
       "  border: 1px dashed var(--sklearn-color-line);\n",
       "  margin: 0 0.4em 0.5em 0.4em;\n",
       "  box-sizing: border-box;\n",
       "  padding-bottom: 0.4em;\n",
       "  background-color: var(--sklearn-color-background);\n",
       "}\n",
       "\n",
       "#sk-container-id-2 div.sk-container {\n",
       "  /* jupyter's `normalize.less` sets `[hidden] { display: none; }`\n",
       "     but bootstrap.min.css set `[hidden] { display: none !important; }`\n",
       "     so we also need the `!important` here to be able to override the\n",
       "     default hidden behavior on the sphinx rendered scikit-learn.org.\n",
       "     See: https://github.com/scikit-learn/scikit-learn/issues/21755 */\n",
       "  display: inline-block !important;\n",
       "  position: relative;\n",
       "}\n",
       "\n",
       "#sk-container-id-2 div.sk-text-repr-fallback {\n",
       "  display: none;\n",
       "}\n",
       "\n",
       "div.sk-parallel-item,\n",
       "div.sk-serial,\n",
       "div.sk-item {\n",
       "  /* draw centered vertical line to link estimators */\n",
       "  background-image: linear-gradient(var(--sklearn-color-text-on-default-background), var(--sklearn-color-text-on-default-background));\n",
       "  background-size: 2px 100%;\n",
       "  background-repeat: no-repeat;\n",
       "  background-position: center center;\n",
       "}\n",
       "\n",
       "/* Parallel-specific style estimator block */\n",
       "\n",
       "#sk-container-id-2 div.sk-parallel-item::after {\n",
       "  content: \"\";\n",
       "  width: 100%;\n",
       "  border-bottom: 2px solid var(--sklearn-color-text-on-default-background);\n",
       "  flex-grow: 1;\n",
       "}\n",
       "\n",
       "#sk-container-id-2 div.sk-parallel {\n",
       "  display: flex;\n",
       "  align-items: stretch;\n",
       "  justify-content: center;\n",
       "  background-color: var(--sklearn-color-background);\n",
       "  position: relative;\n",
       "}\n",
       "\n",
       "#sk-container-id-2 div.sk-parallel-item {\n",
       "  display: flex;\n",
       "  flex-direction: column;\n",
       "}\n",
       "\n",
       "#sk-container-id-2 div.sk-parallel-item:first-child::after {\n",
       "  align-self: flex-end;\n",
       "  width: 50%;\n",
       "}\n",
       "\n",
       "#sk-container-id-2 div.sk-parallel-item:last-child::after {\n",
       "  align-self: flex-start;\n",
       "  width: 50%;\n",
       "}\n",
       "\n",
       "#sk-container-id-2 div.sk-parallel-item:only-child::after {\n",
       "  width: 0;\n",
       "}\n",
       "\n",
       "/* Serial-specific style estimator block */\n",
       "\n",
       "#sk-container-id-2 div.sk-serial {\n",
       "  display: flex;\n",
       "  flex-direction: column;\n",
       "  align-items: center;\n",
       "  background-color: var(--sklearn-color-background);\n",
       "  padding-right: 1em;\n",
       "  padding-left: 1em;\n",
       "}\n",
       "\n",
       "\n",
       "/* Toggleable style: style used for estimator/Pipeline/ColumnTransformer box that is\n",
       "clickable and can be expanded/collapsed.\n",
       "- Pipeline and ColumnTransformer use this feature and define the default style\n",
       "- Estimators will overwrite some part of the style using the `sk-estimator` class\n",
       "*/\n",
       "\n",
       "/* Pipeline and ColumnTransformer style (default) */\n",
       "\n",
       "#sk-container-id-2 div.sk-toggleable {\n",
       "  /* Default theme specific background. It is overwritten whether we have a\n",
       "  specific estimator or a Pipeline/ColumnTransformer */\n",
       "  background-color: var(--sklearn-color-background);\n",
       "}\n",
       "\n",
       "/* Toggleable label */\n",
       "#sk-container-id-2 label.sk-toggleable__label {\n",
       "  cursor: pointer;\n",
       "  display: flex;\n",
       "  width: 100%;\n",
       "  margin-bottom: 0;\n",
       "  padding: 0.5em;\n",
       "  box-sizing: border-box;\n",
       "  text-align: center;\n",
       "  align-items: start;\n",
       "  justify-content: space-between;\n",
       "  gap: 0.5em;\n",
       "}\n",
       "\n",
       "#sk-container-id-2 label.sk-toggleable__label .caption {\n",
       "  font-size: 0.6rem;\n",
       "  font-weight: lighter;\n",
       "  color: var(--sklearn-color-text-muted);\n",
       "}\n",
       "\n",
       "#sk-container-id-2 label.sk-toggleable__label-arrow:before {\n",
       "  /* Arrow on the left of the label */\n",
       "  content: \"▸\";\n",
       "  float: left;\n",
       "  margin-right: 0.25em;\n",
       "  color: var(--sklearn-color-icon);\n",
       "}\n",
       "\n",
       "#sk-container-id-2 label.sk-toggleable__label-arrow:hover:before {\n",
       "  color: var(--sklearn-color-text);\n",
       "}\n",
       "\n",
       "/* Toggleable content - dropdown */\n",
       "\n",
       "#sk-container-id-2 div.sk-toggleable__content {\n",
       "  max-height: 0;\n",
       "  max-width: 0;\n",
       "  overflow: hidden;\n",
       "  text-align: left;\n",
       "  /* unfitted */\n",
       "  background-color: var(--sklearn-color-unfitted-level-0);\n",
       "}\n",
       "\n",
       "#sk-container-id-2 div.sk-toggleable__content.fitted {\n",
       "  /* fitted */\n",
       "  background-color: var(--sklearn-color-fitted-level-0);\n",
       "}\n",
       "\n",
       "#sk-container-id-2 div.sk-toggleable__content pre {\n",
       "  margin: 0.2em;\n",
       "  border-radius: 0.25em;\n",
       "  color: var(--sklearn-color-text);\n",
       "  /* unfitted */\n",
       "  background-color: var(--sklearn-color-unfitted-level-0);\n",
       "}\n",
       "\n",
       "#sk-container-id-2 div.sk-toggleable__content.fitted pre {\n",
       "  /* unfitted */\n",
       "  background-color: var(--sklearn-color-fitted-level-0);\n",
       "}\n",
       "\n",
       "#sk-container-id-2 input.sk-toggleable__control:checked~div.sk-toggleable__content {\n",
       "  /* Expand drop-down */\n",
       "  max-height: 200px;\n",
       "  max-width: 100%;\n",
       "  overflow: auto;\n",
       "}\n",
       "\n",
       "#sk-container-id-2 input.sk-toggleable__control:checked~label.sk-toggleable__label-arrow:before {\n",
       "  content: \"▾\";\n",
       "}\n",
       "\n",
       "/* Pipeline/ColumnTransformer-specific style */\n",
       "\n",
       "#sk-container-id-2 div.sk-label input.sk-toggleable__control:checked~label.sk-toggleable__label {\n",
       "  color: var(--sklearn-color-text);\n",
       "  background-color: var(--sklearn-color-unfitted-level-2);\n",
       "}\n",
       "\n",
       "#sk-container-id-2 div.sk-label.fitted input.sk-toggleable__control:checked~label.sk-toggleable__label {\n",
       "  background-color: var(--sklearn-color-fitted-level-2);\n",
       "}\n",
       "\n",
       "/* Estimator-specific style */\n",
       "\n",
       "/* Colorize estimator box */\n",
       "#sk-container-id-2 div.sk-estimator input.sk-toggleable__control:checked~label.sk-toggleable__label {\n",
       "  /* unfitted */\n",
       "  background-color: var(--sklearn-color-unfitted-level-2);\n",
       "}\n",
       "\n",
       "#sk-container-id-2 div.sk-estimator.fitted input.sk-toggleable__control:checked~label.sk-toggleable__label {\n",
       "  /* fitted */\n",
       "  background-color: var(--sklearn-color-fitted-level-2);\n",
       "}\n",
       "\n",
       "#sk-container-id-2 div.sk-label label.sk-toggleable__label,\n",
       "#sk-container-id-2 div.sk-label label {\n",
       "  /* The background is the default theme color */\n",
       "  color: var(--sklearn-color-text-on-default-background);\n",
       "}\n",
       "\n",
       "/* On hover, darken the color of the background */\n",
       "#sk-container-id-2 div.sk-label:hover label.sk-toggleable__label {\n",
       "  color: var(--sklearn-color-text);\n",
       "  background-color: var(--sklearn-color-unfitted-level-2);\n",
       "}\n",
       "\n",
       "/* Label box, darken color on hover, fitted */\n",
       "#sk-container-id-2 div.sk-label.fitted:hover label.sk-toggleable__label.fitted {\n",
       "  color: var(--sklearn-color-text);\n",
       "  background-color: var(--sklearn-color-fitted-level-2);\n",
       "}\n",
       "\n",
       "/* Estimator label */\n",
       "\n",
       "#sk-container-id-2 div.sk-label label {\n",
       "  font-family: monospace;\n",
       "  font-weight: bold;\n",
       "  display: inline-block;\n",
       "  line-height: 1.2em;\n",
       "}\n",
       "\n",
       "#sk-container-id-2 div.sk-label-container {\n",
       "  text-align: center;\n",
       "}\n",
       "\n",
       "/* Estimator-specific */\n",
       "#sk-container-id-2 div.sk-estimator {\n",
       "  font-family: monospace;\n",
       "  border: 1px dotted var(--sklearn-color-border-box);\n",
       "  border-radius: 0.25em;\n",
       "  box-sizing: border-box;\n",
       "  margin-bottom: 0.5em;\n",
       "  /* unfitted */\n",
       "  background-color: var(--sklearn-color-unfitted-level-0);\n",
       "}\n",
       "\n",
       "#sk-container-id-2 div.sk-estimator.fitted {\n",
       "  /* fitted */\n",
       "  background-color: var(--sklearn-color-fitted-level-0);\n",
       "}\n",
       "\n",
       "/* on hover */\n",
       "#sk-container-id-2 div.sk-estimator:hover {\n",
       "  /* unfitted */\n",
       "  background-color: var(--sklearn-color-unfitted-level-2);\n",
       "}\n",
       "\n",
       "#sk-container-id-2 div.sk-estimator.fitted:hover {\n",
       "  /* fitted */\n",
       "  background-color: var(--sklearn-color-fitted-level-2);\n",
       "}\n",
       "\n",
       "/* Specification for estimator info (e.g. \"i\" and \"?\") */\n",
       "\n",
       "/* Common style for \"i\" and \"?\" */\n",
       "\n",
       ".sk-estimator-doc-link,\n",
       "a:link.sk-estimator-doc-link,\n",
       "a:visited.sk-estimator-doc-link {\n",
       "  float: right;\n",
       "  font-size: smaller;\n",
       "  line-height: 1em;\n",
       "  font-family: monospace;\n",
       "  background-color: var(--sklearn-color-background);\n",
       "  border-radius: 1em;\n",
       "  height: 1em;\n",
       "  width: 1em;\n",
       "  text-decoration: none !important;\n",
       "  margin-left: 0.5em;\n",
       "  text-align: center;\n",
       "  /* unfitted */\n",
       "  border: var(--sklearn-color-unfitted-level-1) 1pt solid;\n",
       "  color: var(--sklearn-color-unfitted-level-1);\n",
       "}\n",
       "\n",
       ".sk-estimator-doc-link.fitted,\n",
       "a:link.sk-estimator-doc-link.fitted,\n",
       "a:visited.sk-estimator-doc-link.fitted {\n",
       "  /* fitted */\n",
       "  border: var(--sklearn-color-fitted-level-1) 1pt solid;\n",
       "  color: var(--sklearn-color-fitted-level-1);\n",
       "}\n",
       "\n",
       "/* On hover */\n",
       "div.sk-estimator:hover .sk-estimator-doc-link:hover,\n",
       ".sk-estimator-doc-link:hover,\n",
       "div.sk-label-container:hover .sk-estimator-doc-link:hover,\n",
       ".sk-estimator-doc-link:hover {\n",
       "  /* unfitted */\n",
       "  background-color: var(--sklearn-color-unfitted-level-3);\n",
       "  color: var(--sklearn-color-background);\n",
       "  text-decoration: none;\n",
       "}\n",
       "\n",
       "div.sk-estimator.fitted:hover .sk-estimator-doc-link.fitted:hover,\n",
       ".sk-estimator-doc-link.fitted:hover,\n",
       "div.sk-label-container:hover .sk-estimator-doc-link.fitted:hover,\n",
       ".sk-estimator-doc-link.fitted:hover {\n",
       "  /* fitted */\n",
       "  background-color: var(--sklearn-color-fitted-level-3);\n",
       "  color: var(--sklearn-color-background);\n",
       "  text-decoration: none;\n",
       "}\n",
       "\n",
       "/* Span, style for the box shown on hovering the info icon */\n",
       ".sk-estimator-doc-link span {\n",
       "  display: none;\n",
       "  z-index: 9999;\n",
       "  position: relative;\n",
       "  font-weight: normal;\n",
       "  right: .2ex;\n",
       "  padding: .5ex;\n",
       "  margin: .5ex;\n",
       "  width: min-content;\n",
       "  min-width: 20ex;\n",
       "  max-width: 50ex;\n",
       "  color: var(--sklearn-color-text);\n",
       "  box-shadow: 2pt 2pt 4pt #999;\n",
       "  /* unfitted */\n",
       "  background: var(--sklearn-color-unfitted-level-0);\n",
       "  border: .5pt solid var(--sklearn-color-unfitted-level-3);\n",
       "}\n",
       "\n",
       ".sk-estimator-doc-link.fitted span {\n",
       "  /* fitted */\n",
       "  background: var(--sklearn-color-fitted-level-0);\n",
       "  border: var(--sklearn-color-fitted-level-3);\n",
       "}\n",
       "\n",
       ".sk-estimator-doc-link:hover span {\n",
       "  display: block;\n",
       "}\n",
       "\n",
       "/* \"?\"-specific style due to the `<a>` HTML tag */\n",
       "\n",
       "#sk-container-id-2 a.estimator_doc_link {\n",
       "  float: right;\n",
       "  font-size: 1rem;\n",
       "  line-height: 1em;\n",
       "  font-family: monospace;\n",
       "  background-color: var(--sklearn-color-background);\n",
       "  border-radius: 1rem;\n",
       "  height: 1rem;\n",
       "  width: 1rem;\n",
       "  text-decoration: none;\n",
       "  /* unfitted */\n",
       "  color: var(--sklearn-color-unfitted-level-1);\n",
       "  border: var(--sklearn-color-unfitted-level-1) 1pt solid;\n",
       "}\n",
       "\n",
       "#sk-container-id-2 a.estimator_doc_link.fitted {\n",
       "  /* fitted */\n",
       "  border: var(--sklearn-color-fitted-level-1) 1pt solid;\n",
       "  color: var(--sklearn-color-fitted-level-1);\n",
       "}\n",
       "\n",
       "/* On hover */\n",
       "#sk-container-id-2 a.estimator_doc_link:hover {\n",
       "  /* unfitted */\n",
       "  background-color: var(--sklearn-color-unfitted-level-3);\n",
       "  color: var(--sklearn-color-background);\n",
       "  text-decoration: none;\n",
       "}\n",
       "\n",
       "#sk-container-id-2 a.estimator_doc_link.fitted:hover {\n",
       "  /* fitted */\n",
       "  background-color: var(--sklearn-color-fitted-level-3);\n",
       "}\n",
       "</style><div id=\"sk-container-id-2\" class=\"sk-top-container\"><div class=\"sk-text-repr-fallback\"><pre>TfidfVectorizer(tokenizer=&lt;function myTokenizer2 at 0x7fea100fa840&gt;)</pre><b>In a Jupyter environment, please rerun this cell to show the HTML representation or trust the notebook. <br />On GitHub, the HTML representation is unable to render, please try loading this page with nbviewer.org.</b></div><div class=\"sk-container\" hidden><div class=\"sk-item\"><div class=\"sk-estimator fitted sk-toggleable\"><input class=\"sk-toggleable__control sk-hidden--visually\" id=\"sk-estimator-id-2\" type=\"checkbox\" checked><label for=\"sk-estimator-id-2\" class=\"sk-toggleable__label fitted sk-toggleable__label-arrow\"><div><div>TfidfVectorizer</div></div><div><a class=\"sk-estimator-doc-link fitted\" rel=\"noreferrer\" target=\"_blank\" href=\"https://scikit-learn.org/1.6/modules/generated/sklearn.feature_extraction.text.TfidfVectorizer.html\">?<span>Documentation for TfidfVectorizer</span></a><span class=\"sk-estimator-doc-link fitted\">i<span>Fitted</span></span></div></label><div class=\"sk-toggleable__content fitted\"><pre>TfidfVectorizer(tokenizer=&lt;function myTokenizer2 at 0x7fea100fa840&gt;)</pre></div> </div></div></div></div>"
      ],
      "text/plain": [
       "TfidfVectorizer(tokenizer=<function myTokenizer2 at 0x7fea100fa840>)"
      ]
     },
     "execution_count": 124,
     "metadata": {},
     "output_type": "execute_result"
    }
   ],
   "source": [
    "final_tfidf = TfidfVectorizer(tokenizer = myTokenizer2)\n",
    "final_tfidf.fit(X_train[0:10000])"
   ]
  },
  {
   "cell_type": "code",
   "execution_count": 125,
   "id": "ef39cbbb-1fb6-42d3-a425-355794d5a08d",
   "metadata": {},
   "outputs": [
    {
     "data": {
      "text/plain": [
       "6845"
      ]
     },
     "execution_count": 125,
     "metadata": {},
     "output_type": "execute_result"
    }
   ],
   "source": [
    "# 실제 데이터 토큰화 시작\n",
    "# konly의 kkma보다 속도가 더 빠름\n",
    "len(final_tfidf.vocabulary_)"
   ]
  },
  {
   "cell_type": "code",
   "execution_count": 126,
   "id": "2fde2791-3765-4b45-9be9-0a10e1cc388f",
   "metadata": {},
   "outputs": [
    {
     "data": {
      "text/plain": [
       "6844"
      ]
     },
     "execution_count": 126,
     "metadata": {},
     "output_type": "execute_result"
    }
   ],
   "source": [
    "max(final_tfidf.vocabulary_.values())"
   ]
  },
  {
   "cell_type": "code",
   "execution_count": 127,
   "id": "6326bca3-1e6a-4af7-adbd-caa2a5080157",
   "metadata": {},
   "outputs": [
    {
     "name": "stdout",
     "output_type": "stream",
     "text": [
      "<class 'pandas.core.frame.DataFrame'>\n",
      "Index: 149995 entries, 0 to 149999\n",
      "Data columns (total 3 columns):\n",
      " #   Column    Non-Null Count   Dtype \n",
      "---  ------    --------------   ----- \n",
      " 0   id        149995 non-null  int64 \n",
      " 1   document  149995 non-null  object\n",
      " 2   label     149995 non-null  int64 \n",
      "dtypes: int64(2), object(1)\n",
      "memory usage: 4.6+ MB\n"
     ]
    }
   ],
   "source": [
    "train.info()"
   ]
  },
  {
   "cell_type": "code",
   "execution_count": 128,
   "id": "eda50eb4-3d49-408c-9885-c1bfb50d267f",
   "metadata": {},
   "outputs": [],
   "source": [
    "X_train_token = final_tfidf.transform(X_train[0:10000])\n",
    "X_test_token = final_tfidf.transform(X_test[0:10000])"
   ]
  },
  {
   "cell_type": "code",
   "execution_count": 135,
   "id": "4950f5d2-d80a-4c71-91ec-af606f12302a",
   "metadata": {},
   "outputs": [],
   "source": [
    "# fit_transform\n",
    "\n",
    "# X_train[:10000] 데이터를 가지고 단어사전을 구축한 후 문장을 토큰화(위의 과정 한번에 진행)\n",
    "# X_train_token = tfidf.fit_transform(X_train[0:10000])\n",
    "\n",
    "# 주의점 : test데이터에서는 사용하지 않음."
   ]
  },
  {
   "cell_type": "code",
   "execution_count": null,
   "id": "87a0acc5-9e2c-4635-9e4c-3cffe9ba78ba",
   "metadata": {},
   "outputs": [],
   "source": []
  },
  {
   "cell_type": "markdown",
   "id": "beef2bc5-3a71-451f-81d0-27c5ebd4df64",
   "metadata": {},
   "source": [
    "### 모델링"
   ]
  },
  {
   "cell_type": "code",
   "execution_count": 137,
   "id": "4933f9b2-99de-463b-8b12-b6ccb8275a37",
   "metadata": {},
   "outputs": [],
   "source": [
    "from sklearn.linear_model import LogisticRegression"
   ]
  },
  {
   "cell_type": "code",
   "execution_count": 138,
   "id": "d81a971c-fe6a-43d6-b635-4644ec416532",
   "metadata": {},
   "outputs": [],
   "source": [
    "logi = LogisticRegression()"
   ]
  },
  {
   "cell_type": "code",
   "execution_count": 140,
   "id": "d9622b0a-a3ae-4cb0-8abe-ca474a00d2d4",
   "metadata": {},
   "outputs": [
    {
     "data": {
      "text/html": [
       "<style>#sk-container-id-3 {\n",
       "  /* Definition of color scheme common for light and dark mode */\n",
       "  --sklearn-color-text: #000;\n",
       "  --sklearn-color-text-muted: #666;\n",
       "  --sklearn-color-line: gray;\n",
       "  /* Definition of color scheme for unfitted estimators */\n",
       "  --sklearn-color-unfitted-level-0: #fff5e6;\n",
       "  --sklearn-color-unfitted-level-1: #f6e4d2;\n",
       "  --sklearn-color-unfitted-level-2: #ffe0b3;\n",
       "  --sklearn-color-unfitted-level-3: chocolate;\n",
       "  /* Definition of color scheme for fitted estimators */\n",
       "  --sklearn-color-fitted-level-0: #f0f8ff;\n",
       "  --sklearn-color-fitted-level-1: #d4ebff;\n",
       "  --sklearn-color-fitted-level-2: #b3dbfd;\n",
       "  --sklearn-color-fitted-level-3: cornflowerblue;\n",
       "\n",
       "  /* Specific color for light theme */\n",
       "  --sklearn-color-text-on-default-background: var(--sg-text-color, var(--theme-code-foreground, var(--jp-content-font-color1, black)));\n",
       "  --sklearn-color-background: var(--sg-background-color, var(--theme-background, var(--jp-layout-color0, white)));\n",
       "  --sklearn-color-border-box: var(--sg-text-color, var(--theme-code-foreground, var(--jp-content-font-color1, black)));\n",
       "  --sklearn-color-icon: #696969;\n",
       "\n",
       "  @media (prefers-color-scheme: dark) {\n",
       "    /* Redefinition of color scheme for dark theme */\n",
       "    --sklearn-color-text-on-default-background: var(--sg-text-color, var(--theme-code-foreground, var(--jp-content-font-color1, white)));\n",
       "    --sklearn-color-background: var(--sg-background-color, var(--theme-background, var(--jp-layout-color0, #111)));\n",
       "    --sklearn-color-border-box: var(--sg-text-color, var(--theme-code-foreground, var(--jp-content-font-color1, white)));\n",
       "    --sklearn-color-icon: #878787;\n",
       "  }\n",
       "}\n",
       "\n",
       "#sk-container-id-3 {\n",
       "  color: var(--sklearn-color-text);\n",
       "}\n",
       "\n",
       "#sk-container-id-3 pre {\n",
       "  padding: 0;\n",
       "}\n",
       "\n",
       "#sk-container-id-3 input.sk-hidden--visually {\n",
       "  border: 0;\n",
       "  clip: rect(1px 1px 1px 1px);\n",
       "  clip: rect(1px, 1px, 1px, 1px);\n",
       "  height: 1px;\n",
       "  margin: -1px;\n",
       "  overflow: hidden;\n",
       "  padding: 0;\n",
       "  position: absolute;\n",
       "  width: 1px;\n",
       "}\n",
       "\n",
       "#sk-container-id-3 div.sk-dashed-wrapped {\n",
       "  border: 1px dashed var(--sklearn-color-line);\n",
       "  margin: 0 0.4em 0.5em 0.4em;\n",
       "  box-sizing: border-box;\n",
       "  padding-bottom: 0.4em;\n",
       "  background-color: var(--sklearn-color-background);\n",
       "}\n",
       "\n",
       "#sk-container-id-3 div.sk-container {\n",
       "  /* jupyter's `normalize.less` sets `[hidden] { display: none; }`\n",
       "     but bootstrap.min.css set `[hidden] { display: none !important; }`\n",
       "     so we also need the `!important` here to be able to override the\n",
       "     default hidden behavior on the sphinx rendered scikit-learn.org.\n",
       "     See: https://github.com/scikit-learn/scikit-learn/issues/21755 */\n",
       "  display: inline-block !important;\n",
       "  position: relative;\n",
       "}\n",
       "\n",
       "#sk-container-id-3 div.sk-text-repr-fallback {\n",
       "  display: none;\n",
       "}\n",
       "\n",
       "div.sk-parallel-item,\n",
       "div.sk-serial,\n",
       "div.sk-item {\n",
       "  /* draw centered vertical line to link estimators */\n",
       "  background-image: linear-gradient(var(--sklearn-color-text-on-default-background), var(--sklearn-color-text-on-default-background));\n",
       "  background-size: 2px 100%;\n",
       "  background-repeat: no-repeat;\n",
       "  background-position: center center;\n",
       "}\n",
       "\n",
       "/* Parallel-specific style estimator block */\n",
       "\n",
       "#sk-container-id-3 div.sk-parallel-item::after {\n",
       "  content: \"\";\n",
       "  width: 100%;\n",
       "  border-bottom: 2px solid var(--sklearn-color-text-on-default-background);\n",
       "  flex-grow: 1;\n",
       "}\n",
       "\n",
       "#sk-container-id-3 div.sk-parallel {\n",
       "  display: flex;\n",
       "  align-items: stretch;\n",
       "  justify-content: center;\n",
       "  background-color: var(--sklearn-color-background);\n",
       "  position: relative;\n",
       "}\n",
       "\n",
       "#sk-container-id-3 div.sk-parallel-item {\n",
       "  display: flex;\n",
       "  flex-direction: column;\n",
       "}\n",
       "\n",
       "#sk-container-id-3 div.sk-parallel-item:first-child::after {\n",
       "  align-self: flex-end;\n",
       "  width: 50%;\n",
       "}\n",
       "\n",
       "#sk-container-id-3 div.sk-parallel-item:last-child::after {\n",
       "  align-self: flex-start;\n",
       "  width: 50%;\n",
       "}\n",
       "\n",
       "#sk-container-id-3 div.sk-parallel-item:only-child::after {\n",
       "  width: 0;\n",
       "}\n",
       "\n",
       "/* Serial-specific style estimator block */\n",
       "\n",
       "#sk-container-id-3 div.sk-serial {\n",
       "  display: flex;\n",
       "  flex-direction: column;\n",
       "  align-items: center;\n",
       "  background-color: var(--sklearn-color-background);\n",
       "  padding-right: 1em;\n",
       "  padding-left: 1em;\n",
       "}\n",
       "\n",
       "\n",
       "/* Toggleable style: style used for estimator/Pipeline/ColumnTransformer box that is\n",
       "clickable and can be expanded/collapsed.\n",
       "- Pipeline and ColumnTransformer use this feature and define the default style\n",
       "- Estimators will overwrite some part of the style using the `sk-estimator` class\n",
       "*/\n",
       "\n",
       "/* Pipeline and ColumnTransformer style (default) */\n",
       "\n",
       "#sk-container-id-3 div.sk-toggleable {\n",
       "  /* Default theme specific background. It is overwritten whether we have a\n",
       "  specific estimator or a Pipeline/ColumnTransformer */\n",
       "  background-color: var(--sklearn-color-background);\n",
       "}\n",
       "\n",
       "/* Toggleable label */\n",
       "#sk-container-id-3 label.sk-toggleable__label {\n",
       "  cursor: pointer;\n",
       "  display: flex;\n",
       "  width: 100%;\n",
       "  margin-bottom: 0;\n",
       "  padding: 0.5em;\n",
       "  box-sizing: border-box;\n",
       "  text-align: center;\n",
       "  align-items: start;\n",
       "  justify-content: space-between;\n",
       "  gap: 0.5em;\n",
       "}\n",
       "\n",
       "#sk-container-id-3 label.sk-toggleable__label .caption {\n",
       "  font-size: 0.6rem;\n",
       "  font-weight: lighter;\n",
       "  color: var(--sklearn-color-text-muted);\n",
       "}\n",
       "\n",
       "#sk-container-id-3 label.sk-toggleable__label-arrow:before {\n",
       "  /* Arrow on the left of the label */\n",
       "  content: \"▸\";\n",
       "  float: left;\n",
       "  margin-right: 0.25em;\n",
       "  color: var(--sklearn-color-icon);\n",
       "}\n",
       "\n",
       "#sk-container-id-3 label.sk-toggleable__label-arrow:hover:before {\n",
       "  color: var(--sklearn-color-text);\n",
       "}\n",
       "\n",
       "/* Toggleable content - dropdown */\n",
       "\n",
       "#sk-container-id-3 div.sk-toggleable__content {\n",
       "  max-height: 0;\n",
       "  max-width: 0;\n",
       "  overflow: hidden;\n",
       "  text-align: left;\n",
       "  /* unfitted */\n",
       "  background-color: var(--sklearn-color-unfitted-level-0);\n",
       "}\n",
       "\n",
       "#sk-container-id-3 div.sk-toggleable__content.fitted {\n",
       "  /* fitted */\n",
       "  background-color: var(--sklearn-color-fitted-level-0);\n",
       "}\n",
       "\n",
       "#sk-container-id-3 div.sk-toggleable__content pre {\n",
       "  margin: 0.2em;\n",
       "  border-radius: 0.25em;\n",
       "  color: var(--sklearn-color-text);\n",
       "  /* unfitted */\n",
       "  background-color: var(--sklearn-color-unfitted-level-0);\n",
       "}\n",
       "\n",
       "#sk-container-id-3 div.sk-toggleable__content.fitted pre {\n",
       "  /* unfitted */\n",
       "  background-color: var(--sklearn-color-fitted-level-0);\n",
       "}\n",
       "\n",
       "#sk-container-id-3 input.sk-toggleable__control:checked~div.sk-toggleable__content {\n",
       "  /* Expand drop-down */\n",
       "  max-height: 200px;\n",
       "  max-width: 100%;\n",
       "  overflow: auto;\n",
       "}\n",
       "\n",
       "#sk-container-id-3 input.sk-toggleable__control:checked~label.sk-toggleable__label-arrow:before {\n",
       "  content: \"▾\";\n",
       "}\n",
       "\n",
       "/* Pipeline/ColumnTransformer-specific style */\n",
       "\n",
       "#sk-container-id-3 div.sk-label input.sk-toggleable__control:checked~label.sk-toggleable__label {\n",
       "  color: var(--sklearn-color-text);\n",
       "  background-color: var(--sklearn-color-unfitted-level-2);\n",
       "}\n",
       "\n",
       "#sk-container-id-3 div.sk-label.fitted input.sk-toggleable__control:checked~label.sk-toggleable__label {\n",
       "  background-color: var(--sklearn-color-fitted-level-2);\n",
       "}\n",
       "\n",
       "/* Estimator-specific style */\n",
       "\n",
       "/* Colorize estimator box */\n",
       "#sk-container-id-3 div.sk-estimator input.sk-toggleable__control:checked~label.sk-toggleable__label {\n",
       "  /* unfitted */\n",
       "  background-color: var(--sklearn-color-unfitted-level-2);\n",
       "}\n",
       "\n",
       "#sk-container-id-3 div.sk-estimator.fitted input.sk-toggleable__control:checked~label.sk-toggleable__label {\n",
       "  /* fitted */\n",
       "  background-color: var(--sklearn-color-fitted-level-2);\n",
       "}\n",
       "\n",
       "#sk-container-id-3 div.sk-label label.sk-toggleable__label,\n",
       "#sk-container-id-3 div.sk-label label {\n",
       "  /* The background is the default theme color */\n",
       "  color: var(--sklearn-color-text-on-default-background);\n",
       "}\n",
       "\n",
       "/* On hover, darken the color of the background */\n",
       "#sk-container-id-3 div.sk-label:hover label.sk-toggleable__label {\n",
       "  color: var(--sklearn-color-text);\n",
       "  background-color: var(--sklearn-color-unfitted-level-2);\n",
       "}\n",
       "\n",
       "/* Label box, darken color on hover, fitted */\n",
       "#sk-container-id-3 div.sk-label.fitted:hover label.sk-toggleable__label.fitted {\n",
       "  color: var(--sklearn-color-text);\n",
       "  background-color: var(--sklearn-color-fitted-level-2);\n",
       "}\n",
       "\n",
       "/* Estimator label */\n",
       "\n",
       "#sk-container-id-3 div.sk-label label {\n",
       "  font-family: monospace;\n",
       "  font-weight: bold;\n",
       "  display: inline-block;\n",
       "  line-height: 1.2em;\n",
       "}\n",
       "\n",
       "#sk-container-id-3 div.sk-label-container {\n",
       "  text-align: center;\n",
       "}\n",
       "\n",
       "/* Estimator-specific */\n",
       "#sk-container-id-3 div.sk-estimator {\n",
       "  font-family: monospace;\n",
       "  border: 1px dotted var(--sklearn-color-border-box);\n",
       "  border-radius: 0.25em;\n",
       "  box-sizing: border-box;\n",
       "  margin-bottom: 0.5em;\n",
       "  /* unfitted */\n",
       "  background-color: var(--sklearn-color-unfitted-level-0);\n",
       "}\n",
       "\n",
       "#sk-container-id-3 div.sk-estimator.fitted {\n",
       "  /* fitted */\n",
       "  background-color: var(--sklearn-color-fitted-level-0);\n",
       "}\n",
       "\n",
       "/* on hover */\n",
       "#sk-container-id-3 div.sk-estimator:hover {\n",
       "  /* unfitted */\n",
       "  background-color: var(--sklearn-color-unfitted-level-2);\n",
       "}\n",
       "\n",
       "#sk-container-id-3 div.sk-estimator.fitted:hover {\n",
       "  /* fitted */\n",
       "  background-color: var(--sklearn-color-fitted-level-2);\n",
       "}\n",
       "\n",
       "/* Specification for estimator info (e.g. \"i\" and \"?\") */\n",
       "\n",
       "/* Common style for \"i\" and \"?\" */\n",
       "\n",
       ".sk-estimator-doc-link,\n",
       "a:link.sk-estimator-doc-link,\n",
       "a:visited.sk-estimator-doc-link {\n",
       "  float: right;\n",
       "  font-size: smaller;\n",
       "  line-height: 1em;\n",
       "  font-family: monospace;\n",
       "  background-color: var(--sklearn-color-background);\n",
       "  border-radius: 1em;\n",
       "  height: 1em;\n",
       "  width: 1em;\n",
       "  text-decoration: none !important;\n",
       "  margin-left: 0.5em;\n",
       "  text-align: center;\n",
       "  /* unfitted */\n",
       "  border: var(--sklearn-color-unfitted-level-1) 1pt solid;\n",
       "  color: var(--sklearn-color-unfitted-level-1);\n",
       "}\n",
       "\n",
       ".sk-estimator-doc-link.fitted,\n",
       "a:link.sk-estimator-doc-link.fitted,\n",
       "a:visited.sk-estimator-doc-link.fitted {\n",
       "  /* fitted */\n",
       "  border: var(--sklearn-color-fitted-level-1) 1pt solid;\n",
       "  color: var(--sklearn-color-fitted-level-1);\n",
       "}\n",
       "\n",
       "/* On hover */\n",
       "div.sk-estimator:hover .sk-estimator-doc-link:hover,\n",
       ".sk-estimator-doc-link:hover,\n",
       "div.sk-label-container:hover .sk-estimator-doc-link:hover,\n",
       ".sk-estimator-doc-link:hover {\n",
       "  /* unfitted */\n",
       "  background-color: var(--sklearn-color-unfitted-level-3);\n",
       "  color: var(--sklearn-color-background);\n",
       "  text-decoration: none;\n",
       "}\n",
       "\n",
       "div.sk-estimator.fitted:hover .sk-estimator-doc-link.fitted:hover,\n",
       ".sk-estimator-doc-link.fitted:hover,\n",
       "div.sk-label-container:hover .sk-estimator-doc-link.fitted:hover,\n",
       ".sk-estimator-doc-link.fitted:hover {\n",
       "  /* fitted */\n",
       "  background-color: var(--sklearn-color-fitted-level-3);\n",
       "  color: var(--sklearn-color-background);\n",
       "  text-decoration: none;\n",
       "}\n",
       "\n",
       "/* Span, style for the box shown on hovering the info icon */\n",
       ".sk-estimator-doc-link span {\n",
       "  display: none;\n",
       "  z-index: 9999;\n",
       "  position: relative;\n",
       "  font-weight: normal;\n",
       "  right: .2ex;\n",
       "  padding: .5ex;\n",
       "  margin: .5ex;\n",
       "  width: min-content;\n",
       "  min-width: 20ex;\n",
       "  max-width: 50ex;\n",
       "  color: var(--sklearn-color-text);\n",
       "  box-shadow: 2pt 2pt 4pt #999;\n",
       "  /* unfitted */\n",
       "  background: var(--sklearn-color-unfitted-level-0);\n",
       "  border: .5pt solid var(--sklearn-color-unfitted-level-3);\n",
       "}\n",
       "\n",
       ".sk-estimator-doc-link.fitted span {\n",
       "  /* fitted */\n",
       "  background: var(--sklearn-color-fitted-level-0);\n",
       "  border: var(--sklearn-color-fitted-level-3);\n",
       "}\n",
       "\n",
       ".sk-estimator-doc-link:hover span {\n",
       "  display: block;\n",
       "}\n",
       "\n",
       "/* \"?\"-specific style due to the `<a>` HTML tag */\n",
       "\n",
       "#sk-container-id-3 a.estimator_doc_link {\n",
       "  float: right;\n",
       "  font-size: 1rem;\n",
       "  line-height: 1em;\n",
       "  font-family: monospace;\n",
       "  background-color: var(--sklearn-color-background);\n",
       "  border-radius: 1rem;\n",
       "  height: 1rem;\n",
       "  width: 1rem;\n",
       "  text-decoration: none;\n",
       "  /* unfitted */\n",
       "  color: var(--sklearn-color-unfitted-level-1);\n",
       "  border: var(--sklearn-color-unfitted-level-1) 1pt solid;\n",
       "}\n",
       "\n",
       "#sk-container-id-3 a.estimator_doc_link.fitted {\n",
       "  /* fitted */\n",
       "  border: var(--sklearn-color-fitted-level-1) 1pt solid;\n",
       "  color: var(--sklearn-color-fitted-level-1);\n",
       "}\n",
       "\n",
       "/* On hover */\n",
       "#sk-container-id-3 a.estimator_doc_link:hover {\n",
       "  /* unfitted */\n",
       "  background-color: var(--sklearn-color-unfitted-level-3);\n",
       "  color: var(--sklearn-color-background);\n",
       "  text-decoration: none;\n",
       "}\n",
       "\n",
       "#sk-container-id-3 a.estimator_doc_link.fitted:hover {\n",
       "  /* fitted */\n",
       "  background-color: var(--sklearn-color-fitted-level-3);\n",
       "}\n",
       "</style><div id=\"sk-container-id-3\" class=\"sk-top-container\"><div class=\"sk-text-repr-fallback\"><pre>LogisticRegression()</pre><b>In a Jupyter environment, please rerun this cell to show the HTML representation or trust the notebook. <br />On GitHub, the HTML representation is unable to render, please try loading this page with nbviewer.org.</b></div><div class=\"sk-container\" hidden><div class=\"sk-item\"><div class=\"sk-estimator fitted sk-toggleable\"><input class=\"sk-toggleable__control sk-hidden--visually\" id=\"sk-estimator-id-3\" type=\"checkbox\" checked><label for=\"sk-estimator-id-3\" class=\"sk-toggleable__label fitted sk-toggleable__label-arrow\"><div><div>LogisticRegression</div></div><div><a class=\"sk-estimator-doc-link fitted\" rel=\"noreferrer\" target=\"_blank\" href=\"https://scikit-learn.org/1.6/modules/generated/sklearn.linear_model.LogisticRegression.html\">?<span>Documentation for LogisticRegression</span></a><span class=\"sk-estimator-doc-link fitted\">i<span>Fitted</span></span></div></label><div class=\"sk-toggleable__content fitted\"><pre>LogisticRegression()</pre></div> </div></div></div></div>"
      ],
      "text/plain": [
       "LogisticRegression()"
      ]
     },
     "execution_count": 140,
     "metadata": {},
     "output_type": "execute_result"
    }
   ],
   "source": [
    "logi.fit(X_train_token, y_train[0:10000])"
   ]
  },
  {
   "cell_type": "code",
   "execution_count": 142,
   "id": "76334e9b-f39e-479f-97e2-bc7e9a86e763",
   "metadata": {},
   "outputs": [
    {
     "data": {
      "text/plain": [
       "0.7714"
      ]
     },
     "execution_count": 142,
     "metadata": {},
     "output_type": "execute_result"
    }
   ],
   "source": [
    "# 훈련데이터 예측 정확도\n",
    "logi.score(X_test_token, y_test[0:10000])"
   ]
  },
  {
   "cell_type": "code",
   "execution_count": 143,
   "id": "fe645ca4-22a5-41f8-ae6e-c610ce8d88d9",
   "metadata": {},
   "outputs": [
    {
     "name": "stdout",
     "output_type": "stream",
     "text": [
      "Collecting wordcloud\n",
      "  Downloading wordcloud-1.9.4-cp312-cp312-manylinux_2_17_x86_64.manylinux2014_x86_64.whl.metadata (3.4 kB)\n",
      "Requirement already satisfied: numpy>=1.6.1 in /home/jsock/datascience_env/lib/python3.12/site-packages (from wordcloud) (2.2.5)\n",
      "Requirement already satisfied: pillow in /home/jsock/datascience_env/lib/python3.12/site-packages (from wordcloud) (11.2.1)\n",
      "Requirement already satisfied: matplotlib in /home/jsock/datascience_env/lib/python3.12/site-packages (from wordcloud) (3.10.1)\n",
      "Requirement already satisfied: contourpy>=1.0.1 in /home/jsock/datascience_env/lib/python3.12/site-packages (from matplotlib->wordcloud) (1.3.2)\n",
      "Requirement already satisfied: cycler>=0.10 in /home/jsock/datascience_env/lib/python3.12/site-packages (from matplotlib->wordcloud) (0.12.1)\n",
      "Requirement already satisfied: fonttools>=4.22.0 in /home/jsock/datascience_env/lib/python3.12/site-packages (from matplotlib->wordcloud) (4.57.0)\n",
      "Requirement already satisfied: kiwisolver>=1.3.1 in /home/jsock/datascience_env/lib/python3.12/site-packages (from matplotlib->wordcloud) (1.4.8)\n",
      "Requirement already satisfied: packaging>=20.0 in /home/jsock/datascience_env/lib/python3.12/site-packages (from matplotlib->wordcloud) (25.0)\n",
      "Requirement already satisfied: pyparsing>=2.3.1 in /home/jsock/datascience_env/lib/python3.12/site-packages (from matplotlib->wordcloud) (3.2.3)\n",
      "Requirement already satisfied: python-dateutil>=2.7 in /home/jsock/datascience_env/lib/python3.12/site-packages (from matplotlib->wordcloud) (2.9.0.post0)\n",
      "Requirement already satisfied: six>=1.5 in /home/jsock/datascience_env/lib/python3.12/site-packages (from python-dateutil>=2.7->matplotlib->wordcloud) (1.17.0)\n",
      "Downloading wordcloud-1.9.4-cp312-cp312-manylinux_2_17_x86_64.manylinux2014_x86_64.whl (539 kB)\n",
      "\u001b[2K   \u001b[90m━━━━━━━━━━━━━━━━━━━━━━━━━━━━━━━━━━━━━━━━\u001b[0m \u001b[32m539.2/539.2 kB\u001b[0m \u001b[31m16.1 MB/s\u001b[0m eta \u001b[36m0:00:00\u001b[0m\n",
      "\u001b[?25hInstalling collected packages: wordcloud\n",
      "Successfully installed wordcloud-1.9.4\n",
      "Note: you may need to restart the kernel to use updated packages.\n"
     ]
    }
   ],
   "source": [
    "pip install wordcloud"
   ]
  },
  {
   "cell_type": "code",
   "execution_count": null,
   "id": "006ed77f-ac74-493d-93f4-42d6ff793487",
   "metadata": {},
   "outputs": [],
   "source": []
  },
  {
   "cell_type": "code",
   "execution_count": null,
   "id": "9e8675ab-726b-4c70-8840-55c6b8b90533",
   "metadata": {},
   "outputs": [],
   "source": []
  },
  {
   "cell_type": "code",
   "execution_count": null,
   "id": "b22b88e6-73a4-47c3-902e-1835161fb231",
   "metadata": {},
   "outputs": [],
   "source": []
  },
  {
   "cell_type": "code",
   "execution_count": null,
   "id": "bf80181e-da04-4f4d-9bf4-b8e15ae1babd",
   "metadata": {},
   "outputs": [],
   "source": []
  },
  {
   "cell_type": "code",
   "execution_count": null,
   "id": "29052190-54bd-44fd-801a-e18fe546cfaf",
   "metadata": {},
   "outputs": [],
   "source": []
  },
  {
   "cell_type": "code",
   "execution_count": null,
   "id": "c0d520ed-45ac-4bbc-86eb-b0b6e14d52ec",
   "metadata": {},
   "outputs": [],
   "source": []
  },
  {
   "cell_type": "code",
   "execution_count": null,
   "id": "ca9127aa-0658-4723-8a6c-1db02b65eb65",
   "metadata": {},
   "outputs": [],
   "source": []
  },
  {
   "cell_type": "code",
   "execution_count": null,
   "id": "d783c284-587d-40ac-92b7-b83a4719c223",
   "metadata": {},
   "outputs": [],
   "source": []
  },
  {
   "cell_type": "code",
   "execution_count": null,
   "id": "b9b7bfb0-8a7e-4d3e-bb26-97bf07babd29",
   "metadata": {},
   "outputs": [],
   "source": []
  }
 ],
 "metadata": {
  "kernelspec": {
   "display_name": "Python 3 (ipykernel)",
   "language": "python",
   "name": "python3"
  },
  "language_info": {
   "codemirror_mode": {
    "name": "ipython",
    "version": 3
   },
   "file_extension": ".py",
   "mimetype": "text/x-python",
   "name": "python",
   "nbconvert_exporter": "python",
   "pygments_lexer": "ipython3",
   "version": "3.12.3"
  }
 },
 "nbformat": 4,
 "nbformat_minor": 5
}
