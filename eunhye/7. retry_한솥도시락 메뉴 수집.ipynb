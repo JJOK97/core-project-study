{
 "cells": [
  {
   "cell_type": "code",
   "execution_count": null,
   "id": "4e5a710e-d8e2-4477-90fb-647405a7a532",
   "metadata": {},
   "outputs": [],
   "source": [
    "#전체 코드\n",
    "from selenium import webdriver as wb\n",
    "from selenium.webdriver.common.by import By\n",
    "from selenium.webdriver.common.keys import Keys\n",
    "import time\n",
    "\n",
    "driver = wb.Chrome()\n",
    "driver.get(\"https://www.hsd.co.kr/menu/menu_list\")\n",
    "\n",
    "btn = driver.find_element(By.CSS_SELECTOR, \"#btn_more > span > a\")\n",
    "for i in range(5) :\n",
    "    btn.click\n",
    "    time.sleep(1)\n",
    "\n",
    "menu = driver.find_elements(By.CSS_SELECTOR, \".h.fz_03\")\n",
    "price = driver.find_elements(By.CSS_SELECTOR, \"div.item-price>strong\")\n",
    "\n",
    "menu_list = []\n",
    "price_list = []\n",
    "\n",
    "for i in range(len(menu)) :\n",
    "    menu_list.append(menu[i].text)\n",
    "    price_list.append(price[i].text)"
   ]
  }
 ],
 "metadata": {
  "kernelspec": {
   "display_name": "Python 3 (ipykernel)",
   "language": "python",
   "name": "python3"
  },
  "language_info": {
   "codemirror_mode": {
    "name": "ipython",
    "version": 3
   },
   "file_extension": ".py",
   "mimetype": "text/x-python",
   "name": "python",
   "nbconvert_exporter": "python",
   "pygments_lexer": "ipython3",
   "version": "3.12.7"
  }
 },
 "nbformat": 4,
 "nbformat_minor": 5
}
