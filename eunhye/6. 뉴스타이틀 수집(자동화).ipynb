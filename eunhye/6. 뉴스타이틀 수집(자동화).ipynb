{
 "cells": [
  {
   "cell_type": "code",
   "execution_count": 5,
   "id": "436af1cc-cbd2-4599-9eb7-80e7cdf3fdcf",
   "metadata": {},
   "outputs": [
    {
     "name": "stdout",
     "output_type": "stream",
     "text": [
      "Requirement already satisfied: selenium in c:\\users\\smhrd1\\anaconda3\\lib\\site-packages (4.31.0)\n",
      "Requirement already satisfied: urllib3<3,>=1.26 in c:\\users\\smhrd1\\anaconda3\\lib\\site-packages (from urllib3[socks]<3,>=1.26->selenium) (2.2.3)\n",
      "Requirement already satisfied: trio~=0.17 in c:\\users\\smhrd1\\anaconda3\\lib\\site-packages (from selenium) (0.29.0)\n",
      "Requirement already satisfied: trio-websocket~=0.9 in c:\\users\\smhrd1\\anaconda3\\lib\\site-packages (from selenium) (0.12.2)\n",
      "Requirement already satisfied: certifi>=2021.10.8 in c:\\users\\smhrd1\\anaconda3\\lib\\site-packages (from selenium) (2024.8.30)\n",
      "Requirement already satisfied: typing_extensions~=4.9 in c:\\users\\smhrd1\\anaconda3\\lib\\site-packages (from selenium) (4.11.0)\n",
      "Requirement already satisfied: websocket-client~=1.8 in c:\\users\\smhrd1\\anaconda3\\lib\\site-packages (from selenium) (1.8.0)\n",
      "Requirement already satisfied: attrs>=23.2.0 in c:\\users\\smhrd1\\anaconda3\\lib\\site-packages (from trio~=0.17->selenium) (25.3.0)\n",
      "Requirement already satisfied: sortedcontainers in c:\\users\\smhrd1\\anaconda3\\lib\\site-packages (from trio~=0.17->selenium) (2.4.0)\n",
      "Requirement already satisfied: idna in c:\\users\\smhrd1\\anaconda3\\lib\\site-packages (from trio~=0.17->selenium) (3.7)\n",
      "Requirement already satisfied: outcome in c:\\users\\smhrd1\\anaconda3\\lib\\site-packages (from trio~=0.17->selenium) (1.3.0.post0)\n",
      "Requirement already satisfied: sniffio>=1.3.0 in c:\\users\\smhrd1\\anaconda3\\lib\\site-packages (from trio~=0.17->selenium) (1.3.0)\n",
      "Requirement already satisfied: cffi>=1.14 in c:\\users\\smhrd1\\anaconda3\\lib\\site-packages (from trio~=0.17->selenium) (1.17.1)\n",
      "Requirement already satisfied: wsproto>=0.14 in c:\\users\\smhrd1\\anaconda3\\lib\\site-packages (from trio-websocket~=0.9->selenium) (1.2.0)\n",
      "Requirement already satisfied: pysocks!=1.5.7,<2.0,>=1.5.6 in c:\\users\\smhrd1\\anaconda3\\lib\\site-packages (from urllib3[socks]<3,>=1.26->selenium) (1.7.1)\n",
      "Requirement already satisfied: pycparser in c:\\users\\smhrd1\\anaconda3\\lib\\site-packages (from cffi>=1.14->trio~=0.17->selenium) (2.21)\n",
      "Requirement already satisfied: h11<1,>=0.9.0 in c:\\users\\smhrd1\\anaconda3\\lib\\site-packages (from wsproto>=0.14->trio-websocket~=0.9->selenium) (0.14.0)\n"
     ]
    }
   ],
   "source": [
    "# 필요한 라이브러리 import\n",
    "!pip install selenium\n",
    "from selenium import webdriver as wb\n",
    "# 키보드 라이브러리\"\n",
    "from selenium.webdriver.common.keys import Keys\n",
    "# 선택자 라이브러리\n",
    "from selenium.webdriver.common.by import By"
   ]
  },
  {
   "cell_type": "code",
   "execution_count": null,
   "id": "59e0d261-e27a-4446-acc2-f02f3c32e8af",
   "metadata": {},
   "outputs": [],
   "source": []
  },
  {
   "cell_type": "code",
   "execution_count": 65,
   "id": "a4e2d214-de94-44e1-981a-727c74673524",
   "metadata": {},
   "outputs": [],
   "source": [
    "# 크롬 브라우저 실행\n",
    "#크롬 창에 대한 역할\n",
    "driver = wb.Chrome()\n"
   ]
  },
  {
   "cell_type": "code",
   "execution_count": 66,
   "id": "ca386db9-a313-48b2-bad8-9bd4566eb2b3",
   "metadata": {
    "scrolled": true
   },
   "outputs": [],
   "source": [
    "# \"네이버 메인페이지\" 주소를 주고 이동하라고 시킴\n",
    "driver.get(\"https://www.naver.com\")"
   ]
  },
  {
   "cell_type": "code",
   "execution_count": 67,
   "id": "b47720a7-ae08-46be-976f-dd036c979a1c",
   "metadata": {},
   "outputs": [],
   "source": [
    "# 검색창 요소를 찾기\n",
    "# 검색창에 \"롯데월드\" 단어를 보내기(입력)\n",
    "\n",
    "# 검색을 해보자!\n",
    "# .find_element() -> 필요한 요소 찾는 명령\n",
    "# .find_elements() -> 복수개의 요소 찾는 명령\n",
    "search = driver.find_element(By.ID, \"query\")\n",
    "# send_keys() -> 특정 값을 전달할 수 있음\n",
    "search.send_keys(\"롯데월드\")"
   ]
  },
  {
   "cell_type": "code",
   "execution_count": 68,
   "id": "2b153fe9-c1b3-4cdf-ba12-3f6a2c95dbad",
   "metadata": {},
   "outputs": [],
   "source": [
    "# 검색창 대상으로 \"엔터\"\n",
    "# 엔터 치기\n",
    "search.send_keys(Keys.ENTER)"
   ]
  },
  {
   "cell_type": "code",
   "execution_count": 31,
   "id": "44de75df-3bd2-4b93-9594-2148397de965",
   "metadata": {},
   "outputs": [],
   "source": [
    "#lnb > div.lnb_group > div > div.lnb_nav_area._nav_area_root > div > div.api_flicking_wrap._conveyer_root > div:nth-child(8) > a"
   ]
  },
  {
   "cell_type": "code",
   "execution_count": 69,
   "id": "1add81ec-6f60-45e6-9276-f81e5ebb1fc9",
   "metadata": {},
   "outputs": [],
   "source": [
    "# 뉴스 탭 클릭해보기 \n",
    "# 특정 요소를 선택할때, 개발자 도구에서 태그 우클릭 > [copy] -> [copy selector] 누르면\n",
    "# 그 요소의 고유 선택자를 가져올 수 있는데, 복사한 전체를 사용해야 할지, 아니면 뒷부분만 사용해도 될지는 판단해보기!\n",
    "tab = driver.find_element(By.CSS_SELECTOR, \"#lnb > div.lnb_group > div > div.lnb_nav_area._nav_area_root > div > div.api_flicking_wrap._conveyer_root > div:nth-child(8) > a\")\n",
    "tab.click()"
   ]
  },
  {
   "cell_type": "code",
   "execution_count": 70,
   "id": "c0d5377e-ca5d-4101-bb35-e973fb664c68",
   "metadata": {},
   "outputs": [],
   "source": [
    "import time\n",
    "body = driver.find_element(By.TAG_NAME, \"body\")\n"
   ]
  },
  {
   "cell_type": "code",
   "execution_count": 71,
   "id": "5ce789cf-ea38-454b-9219-36b620e61a16",
   "metadata": {},
   "outputs": [],
   "source": [
    "news_list = []"
   ]
  },
  {
   "cell_type": "code",
   "execution_count": 73,
   "id": "3bdf6041-a542-4d86-bc8d-65ed02552f3a",
   "metadata": {
    "scrolled": true
   },
   "outputs": [
    {
     "data": {
      "text/plain": [
       "[]"
      ]
     },
     "execution_count": 73,
     "metadata": {},
     "output_type": "execute_result"
    }
   ],
   "source": [
    "for i in range(5):\n",
    "    body.send_keys(Keys.END)\n",
    "    time.sleep(1)\n",
    "\n",
    "news = driver.find_elements(By.CLASS_NAME, 'news_class')\n",
    "\n",
    "for item in range(len(news)) :\n",
    "    news_list.append(item.text)\n",
    "\n",
    "news_list"
   ]
  },
  {
   "cell_type": "code",
   "execution_count": 74,
   "id": "cd216d23-08f9-48aa-a2a8-b9ce98b42f58",
   "metadata": {
    "scrolled": true
   },
   "outputs": [],
   "source": [
    "#뉴스 타이틀 수집\n",
    "news = driver.find_elements()\n",
    "#1번째 : #sp_nws1 > div.news_wrap.api_ani_send > div > div.news_contents > a.news_tit\n",
    "#2번째 : #sp_nws6 > div.news_wrap.api_ani_send > div > div.news_contents > a.news_tit\n",
    "#3번째 : #sp_nws11 > div.news_wrap.api_ani_send > div > div.news_contents > a.news_tit\n",
    "\n",
    "news = driver.find_elements(By.CSS_SELECTOR, \"a.news_tit\")"
   ]
  },
  {
   "cell_type": "code",
   "execution_count": 75,
   "id": "8761c038-f1cf-4f36-a732-e2981bd72fa7",
   "metadata": {},
   "outputs": [
    {
     "data": {
      "text/plain": [
       "50"
      ]
     },
     "execution_count": 75,
     "metadata": {},
     "output_type": "execute_result"
    }
   ],
   "source": [
    "len(news)"
   ]
  },
  {
   "cell_type": "code",
   "execution_count": 76,
   "id": "831a6752-e081-4e02-be45-1c47f4ed18ec",
   "metadata": {
    "scrolled": true
   },
   "outputs": [
    {
     "data": {
      "text/plain": [
       "[<selenium.webdriver.remote.webelement.WebElement (session=\"ab491c0fbe5ef7f3c94a73fd099bf306\", element=\"f.884A95DCA4CD26B0AC0828B353D44826.d.219A3049C5176CF7E801A3DA02A29197.e.172\")>,\n",
       " <selenium.webdriver.remote.webelement.WebElement (session=\"ab491c0fbe5ef7f3c94a73fd099bf306\", element=\"f.884A95DCA4CD26B0AC0828B353D44826.d.219A3049C5176CF7E801A3DA02A29197.e.198\")>,\n",
       " <selenium.webdriver.remote.webelement.WebElement (session=\"ab491c0fbe5ef7f3c94a73fd099bf306\", element=\"f.884A95DCA4CD26B0AC0828B353D44826.d.219A3049C5176CF7E801A3DA02A29197.e.199\")>,\n",
       " <selenium.webdriver.remote.webelement.WebElement (session=\"ab491c0fbe5ef7f3c94a73fd099bf306\", element=\"f.884A95DCA4CD26B0AC0828B353D44826.d.219A3049C5176CF7E801A3DA02A29197.e.200\")>,\n",
       " <selenium.webdriver.remote.webelement.WebElement (session=\"ab491c0fbe5ef7f3c94a73fd099bf306\", element=\"f.884A95DCA4CD26B0AC0828B353D44826.d.219A3049C5176CF7E801A3DA02A29197.e.201\")>,\n",
       " <selenium.webdriver.remote.webelement.WebElement (session=\"ab491c0fbe5ef7f3c94a73fd099bf306\", element=\"f.884A95DCA4CD26B0AC0828B353D44826.d.219A3049C5176CF7E801A3DA02A29197.e.202\")>,\n",
       " <selenium.webdriver.remote.webelement.WebElement (session=\"ab491c0fbe5ef7f3c94a73fd099bf306\", element=\"f.884A95DCA4CD26B0AC0828B353D44826.d.219A3049C5176CF7E801A3DA02A29197.e.203\")>,\n",
       " <selenium.webdriver.remote.webelement.WebElement (session=\"ab491c0fbe5ef7f3c94a73fd099bf306\", element=\"f.884A95DCA4CD26B0AC0828B353D44826.d.219A3049C5176CF7E801A3DA02A29197.e.204\")>,\n",
       " <selenium.webdriver.remote.webelement.WebElement (session=\"ab491c0fbe5ef7f3c94a73fd099bf306\", element=\"f.884A95DCA4CD26B0AC0828B353D44826.d.219A3049C5176CF7E801A3DA02A29197.e.205\")>,\n",
       " <selenium.webdriver.remote.webelement.WebElement (session=\"ab491c0fbe5ef7f3c94a73fd099bf306\", element=\"f.884A95DCA4CD26B0AC0828B353D44826.d.219A3049C5176CF7E801A3DA02A29197.e.206\")>,\n",
       " <selenium.webdriver.remote.webelement.WebElement (session=\"ab491c0fbe5ef7f3c94a73fd099bf306\", element=\"f.884A95DCA4CD26B0AC0828B353D44826.d.219A3049C5176CF7E801A3DA02A29197.e.207\")>,\n",
       " <selenium.webdriver.remote.webelement.WebElement (session=\"ab491c0fbe5ef7f3c94a73fd099bf306\", element=\"f.884A95DCA4CD26B0AC0828B353D44826.d.219A3049C5176CF7E801A3DA02A29197.e.208\")>,\n",
       " <selenium.webdriver.remote.webelement.WebElement (session=\"ab491c0fbe5ef7f3c94a73fd099bf306\", element=\"f.884A95DCA4CD26B0AC0828B353D44826.d.219A3049C5176CF7E801A3DA02A29197.e.209\")>,\n",
       " <selenium.webdriver.remote.webelement.WebElement (session=\"ab491c0fbe5ef7f3c94a73fd099bf306\", element=\"f.884A95DCA4CD26B0AC0828B353D44826.d.219A3049C5176CF7E801A3DA02A29197.e.210\")>,\n",
       " <selenium.webdriver.remote.webelement.WebElement (session=\"ab491c0fbe5ef7f3c94a73fd099bf306\", element=\"f.884A95DCA4CD26B0AC0828B353D44826.d.219A3049C5176CF7E801A3DA02A29197.e.211\")>,\n",
       " <selenium.webdriver.remote.webelement.WebElement (session=\"ab491c0fbe5ef7f3c94a73fd099bf306\", element=\"f.884A95DCA4CD26B0AC0828B353D44826.d.219A3049C5176CF7E801A3DA02A29197.e.212\")>,\n",
       " <selenium.webdriver.remote.webelement.WebElement (session=\"ab491c0fbe5ef7f3c94a73fd099bf306\", element=\"f.884A95DCA4CD26B0AC0828B353D44826.d.219A3049C5176CF7E801A3DA02A29197.e.213\")>,\n",
       " <selenium.webdriver.remote.webelement.WebElement (session=\"ab491c0fbe5ef7f3c94a73fd099bf306\", element=\"f.884A95DCA4CD26B0AC0828B353D44826.d.219A3049C5176CF7E801A3DA02A29197.e.214\")>,\n",
       " <selenium.webdriver.remote.webelement.WebElement (session=\"ab491c0fbe5ef7f3c94a73fd099bf306\", element=\"f.884A95DCA4CD26B0AC0828B353D44826.d.219A3049C5176CF7E801A3DA02A29197.e.215\")>,\n",
       " <selenium.webdriver.remote.webelement.WebElement (session=\"ab491c0fbe5ef7f3c94a73fd099bf306\", element=\"f.884A95DCA4CD26B0AC0828B353D44826.d.219A3049C5176CF7E801A3DA02A29197.e.216\")>,\n",
       " <selenium.webdriver.remote.webelement.WebElement (session=\"ab491c0fbe5ef7f3c94a73fd099bf306\", element=\"f.884A95DCA4CD26B0AC0828B353D44826.d.219A3049C5176CF7E801A3DA02A29197.e.217\")>,\n",
       " <selenium.webdriver.remote.webelement.WebElement (session=\"ab491c0fbe5ef7f3c94a73fd099bf306\", element=\"f.884A95DCA4CD26B0AC0828B353D44826.d.219A3049C5176CF7E801A3DA02A29197.e.218\")>,\n",
       " <selenium.webdriver.remote.webelement.WebElement (session=\"ab491c0fbe5ef7f3c94a73fd099bf306\", element=\"f.884A95DCA4CD26B0AC0828B353D44826.d.219A3049C5176CF7E801A3DA02A29197.e.219\")>,\n",
       " <selenium.webdriver.remote.webelement.WebElement (session=\"ab491c0fbe5ef7f3c94a73fd099bf306\", element=\"f.884A95DCA4CD26B0AC0828B353D44826.d.219A3049C5176CF7E801A3DA02A29197.e.220\")>,\n",
       " <selenium.webdriver.remote.webelement.WebElement (session=\"ab491c0fbe5ef7f3c94a73fd099bf306\", element=\"f.884A95DCA4CD26B0AC0828B353D44826.d.219A3049C5176CF7E801A3DA02A29197.e.221\")>,\n",
       " <selenium.webdriver.remote.webelement.WebElement (session=\"ab491c0fbe5ef7f3c94a73fd099bf306\", element=\"f.884A95DCA4CD26B0AC0828B353D44826.d.219A3049C5176CF7E801A3DA02A29197.e.222\")>,\n",
       " <selenium.webdriver.remote.webelement.WebElement (session=\"ab491c0fbe5ef7f3c94a73fd099bf306\", element=\"f.884A95DCA4CD26B0AC0828B353D44826.d.219A3049C5176CF7E801A3DA02A29197.e.223\")>,\n",
       " <selenium.webdriver.remote.webelement.WebElement (session=\"ab491c0fbe5ef7f3c94a73fd099bf306\", element=\"f.884A95DCA4CD26B0AC0828B353D44826.d.219A3049C5176CF7E801A3DA02A29197.e.224\")>,\n",
       " <selenium.webdriver.remote.webelement.WebElement (session=\"ab491c0fbe5ef7f3c94a73fd099bf306\", element=\"f.884A95DCA4CD26B0AC0828B353D44826.d.219A3049C5176CF7E801A3DA02A29197.e.225\")>,\n",
       " <selenium.webdriver.remote.webelement.WebElement (session=\"ab491c0fbe5ef7f3c94a73fd099bf306\", element=\"f.884A95DCA4CD26B0AC0828B353D44826.d.219A3049C5176CF7E801A3DA02A29197.e.226\")>,\n",
       " <selenium.webdriver.remote.webelement.WebElement (session=\"ab491c0fbe5ef7f3c94a73fd099bf306\", element=\"f.884A95DCA4CD26B0AC0828B353D44826.d.219A3049C5176CF7E801A3DA02A29197.e.227\")>,\n",
       " <selenium.webdriver.remote.webelement.WebElement (session=\"ab491c0fbe5ef7f3c94a73fd099bf306\", element=\"f.884A95DCA4CD26B0AC0828B353D44826.d.219A3049C5176CF7E801A3DA02A29197.e.228\")>,\n",
       " <selenium.webdriver.remote.webelement.WebElement (session=\"ab491c0fbe5ef7f3c94a73fd099bf306\", element=\"f.884A95DCA4CD26B0AC0828B353D44826.d.219A3049C5176CF7E801A3DA02A29197.e.229\")>,\n",
       " <selenium.webdriver.remote.webelement.WebElement (session=\"ab491c0fbe5ef7f3c94a73fd099bf306\", element=\"f.884A95DCA4CD26B0AC0828B353D44826.d.219A3049C5176CF7E801A3DA02A29197.e.230\")>,\n",
       " <selenium.webdriver.remote.webelement.WebElement (session=\"ab491c0fbe5ef7f3c94a73fd099bf306\", element=\"f.884A95DCA4CD26B0AC0828B353D44826.d.219A3049C5176CF7E801A3DA02A29197.e.231\")>,\n",
       " <selenium.webdriver.remote.webelement.WebElement (session=\"ab491c0fbe5ef7f3c94a73fd099bf306\", element=\"f.884A95DCA4CD26B0AC0828B353D44826.d.219A3049C5176CF7E801A3DA02A29197.e.232\")>,\n",
       " <selenium.webdriver.remote.webelement.WebElement (session=\"ab491c0fbe5ef7f3c94a73fd099bf306\", element=\"f.884A95DCA4CD26B0AC0828B353D44826.d.219A3049C5176CF7E801A3DA02A29197.e.233\")>,\n",
       " <selenium.webdriver.remote.webelement.WebElement (session=\"ab491c0fbe5ef7f3c94a73fd099bf306\", element=\"f.884A95DCA4CD26B0AC0828B353D44826.d.219A3049C5176CF7E801A3DA02A29197.e.234\")>,\n",
       " <selenium.webdriver.remote.webelement.WebElement (session=\"ab491c0fbe5ef7f3c94a73fd099bf306\", element=\"f.884A95DCA4CD26B0AC0828B353D44826.d.219A3049C5176CF7E801A3DA02A29197.e.235\")>,\n",
       " <selenium.webdriver.remote.webelement.WebElement (session=\"ab491c0fbe5ef7f3c94a73fd099bf306\", element=\"f.884A95DCA4CD26B0AC0828B353D44826.d.219A3049C5176CF7E801A3DA02A29197.e.236\")>,\n",
       " <selenium.webdriver.remote.webelement.WebElement (session=\"ab491c0fbe5ef7f3c94a73fd099bf306\", element=\"f.884A95DCA4CD26B0AC0828B353D44826.d.219A3049C5176CF7E801A3DA02A29197.e.237\")>,\n",
       " <selenium.webdriver.remote.webelement.WebElement (session=\"ab491c0fbe5ef7f3c94a73fd099bf306\", element=\"f.884A95DCA4CD26B0AC0828B353D44826.d.219A3049C5176CF7E801A3DA02A29197.e.238\")>,\n",
       " <selenium.webdriver.remote.webelement.WebElement (session=\"ab491c0fbe5ef7f3c94a73fd099bf306\", element=\"f.884A95DCA4CD26B0AC0828B353D44826.d.219A3049C5176CF7E801A3DA02A29197.e.239\")>,\n",
       " <selenium.webdriver.remote.webelement.WebElement (session=\"ab491c0fbe5ef7f3c94a73fd099bf306\", element=\"f.884A95DCA4CD26B0AC0828B353D44826.d.219A3049C5176CF7E801A3DA02A29197.e.240\")>,\n",
       " <selenium.webdriver.remote.webelement.WebElement (session=\"ab491c0fbe5ef7f3c94a73fd099bf306\", element=\"f.884A95DCA4CD26B0AC0828B353D44826.d.219A3049C5176CF7E801A3DA02A29197.e.241\")>,\n",
       " <selenium.webdriver.remote.webelement.WebElement (session=\"ab491c0fbe5ef7f3c94a73fd099bf306\", element=\"f.884A95DCA4CD26B0AC0828B353D44826.d.219A3049C5176CF7E801A3DA02A29197.e.242\")>,\n",
       " <selenium.webdriver.remote.webelement.WebElement (session=\"ab491c0fbe5ef7f3c94a73fd099bf306\", element=\"f.884A95DCA4CD26B0AC0828B353D44826.d.219A3049C5176CF7E801A3DA02A29197.e.243\")>,\n",
       " <selenium.webdriver.remote.webelement.WebElement (session=\"ab491c0fbe5ef7f3c94a73fd099bf306\", element=\"f.884A95DCA4CD26B0AC0828B353D44826.d.219A3049C5176CF7E801A3DA02A29197.e.244\")>,\n",
       " <selenium.webdriver.remote.webelement.WebElement (session=\"ab491c0fbe5ef7f3c94a73fd099bf306\", element=\"f.884A95DCA4CD26B0AC0828B353D44826.d.219A3049C5176CF7E801A3DA02A29197.e.245\")>,\n",
       " <selenium.webdriver.remote.webelement.WebElement (session=\"ab491c0fbe5ef7f3c94a73fd099bf306\", element=\"f.884A95DCA4CD26B0AC0828B353D44826.d.219A3049C5176CF7E801A3DA02A29197.e.246\")>]"
      ]
     },
     "execution_count": 76,
     "metadata": {},
     "output_type": "execute_result"
    }
   ],
   "source": [
    "news"
   ]
  },
  {
   "cell_type": "code",
   "execution_count": null,
   "id": "a0b9d3d6-6b32-43fc-a8ae-59be54e10082",
   "metadata": {},
   "outputs": [],
   "source": []
  }
 ],
 "metadata": {
  "kernelspec": {
   "display_name": "Python 3 (ipykernel)",
   "language": "python",
   "name": "python3"
  },
  "language_info": {
   "codemirror_mode": {
    "name": "ipython",
    "version": 3
   },
   "file_extension": ".py",
   "mimetype": "text/x-python",
   "name": "python",
   "nbconvert_exporter": "python",
   "pygments_lexer": "ipython3",
   "version": "3.12.7"
  }
 },
 "nbformat": 4,
 "nbformat_minor": 5
}
