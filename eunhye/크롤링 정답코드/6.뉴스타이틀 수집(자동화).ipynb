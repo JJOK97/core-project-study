{
 "cells": [
  {
   "cell_type": "code",
   "execution_count": 20,
   "id": "27f43aa2-6638-4e18-84cd-a60362227577",
   "metadata": {},
   "outputs": [],
   "source": [
    "# 필요한 라이브러리 import\n",
    "from selenium import webdriver as wb\n",
    "from selenium.webdriver.common.by import By\n",
    "from selenium.webdriver.common.keys import Keys\n",
    "\n",
    "import time"
   ]
  },
  {
   "cell_type": "code",
   "execution_count": 21,
   "id": "145f16f2-ce76-48b6-9fcf-5eb6df861aa3",
   "metadata": {},
   "outputs": [],
   "source": [
    "# 크롬 브라우저 실행\n",
    "driver = wb.Chrome()"
   ]
  },
  {
   "cell_type": "code",
   "execution_count": 22,
   "id": "83a04eab-ffd1-465f-8a50-47a9460f5a44",
   "metadata": {},
   "outputs": [],
   "source": [
    "# \"네이버 메인페이지\" 주소를 주고 이동하라고 시킴\n",
    "driver.get(\"http://www.naver.com\")"
   ]
  },
  {
   "cell_type": "code",
   "execution_count": 23,
   "id": "38f6ab77-379c-4c24-a2b6-04a1604b5b19",
   "metadata": {},
   "outputs": [],
   "source": [
    "# 검색창 요소를 찾기\n",
    "search = driver.find_element(By.CSS_SELECTOR, \"#query\")\n",
    "# 검색창에 \"롯데월드\" 단어를 보내기 (입력)\n",
    "search.send_keys(\"롯데월드\")"
   ]
  },
  {
   "cell_type": "code",
   "execution_count": 24,
   "id": "99c6d30b-8f5b-4096-b7b0-724a3ecd1b54",
   "metadata": {},
   "outputs": [],
   "source": [
    "# 검색창 대상으로 \"엔터\"\n",
    "search.send_keys(Keys.ENTER)"
   ]
  },
  {
   "cell_type": "code",
   "execution_count": 25,
   "id": "4690ffc7-33ee-49b0-a06a-e05e6ae4c415",
   "metadata": {},
   "outputs": [],
   "source": [
    "# 뉴스 탭 클릭해보기\n",
    "# 특정 요소를 선택할 때, 개발자 도구에서 태그 우클릭->[copy]->[copy selector] 누르면\n",
    "# 그 요소의 고유 선택자를 가져올 수 있는데\n",
    "# 복사한 전체를 사용해야 할지, 아니면 뒷부분만 사용해도 될지는 판단해보기!!!\n",
    "tab = driver.find_element(By.CSS_SELECTOR, \"#lnb > div.lnb_group > div > div.lnb_nav_area._nav_area_root > div > div.api_flicking_wrap._conveyer_root > div:nth-child(8) > a\")\n",
    "tab.click()"
   ]
  },
  {
   "cell_type": "code",
   "execution_count": 27,
   "id": "b9d65401-f078-4b9d-bfa0-86d163e84b84",
   "metadata": {},
   "outputs": [],
   "source": [
    "body = driver.find_element(By.TAG_NAME, \"body\")\n",
    "\n",
    "for i in range(5) :\n",
    "    body.send_keys(Keys.END)\n",
    "    time.sleep(1)"
   ]
  },
  {
   "cell_type": "code",
   "execution_count": 28,
   "id": "69a48be9-f38c-4a82-b983-d1ad3e0b723b",
   "metadata": {},
   "outputs": [],
   "source": [
    "# 뉴스 타이틀 수집\n",
    "news = driver.find_elements(By.CSS_SELECTOR, \"a.news_tit\")"
   ]
  },
  {
   "cell_type": "code",
   "execution_count": 30,
   "id": "cc43b003-6389-42fe-aa8b-cb6e640ad58e",
   "metadata": {},
   "outputs": [
    {
     "data": {
      "text/plain": [
       "'롯데월드에서 만나는 bhc 콜팝의 이야기…산호세점 정식 오픈'"
      ]
     },
     "execution_count": 30,
     "metadata": {},
     "output_type": "execute_result"
    }
   ],
   "source": [
    "news[0].text"
   ]
  },
  {
   "cell_type": "code",
   "execution_count": 37,
   "id": "86bcfcb4-4e4c-474f-a36b-8a4328d1dc60",
   "metadata": {},
   "outputs": [],
   "source": [
    "news_list = []\n",
    "\n",
    "for i in range(len(news)) :\n",
    "    news_list.append(news[i].text)"
   ]
  },
  {
   "cell_type": "code",
   "execution_count": 39,
   "id": "38507720-1d8c-44e1-a8c3-5e7bab8664b4",
   "metadata": {
    "scrolled": true
   },
   "outputs": [
    {
     "data": {
      "text/plain": [
       "60"
      ]
     },
     "execution_count": 39,
     "metadata": {},
     "output_type": "execute_result"
    }
   ],
   "source": [
    "len(news_list)"
   ]
  },
  {
   "cell_type": "code",
   "execution_count": null,
   "id": "e838feed-1a08-4d11-ac62-b5320af8420a",
   "metadata": {},
   "outputs": [],
   "source": []
  },
  {
   "cell_type": "code",
   "execution_count": null,
   "id": "700ea06d-a65d-40c8-9155-1570fad1a6e9",
   "metadata": {},
   "outputs": [],
   "source": []
  },
  {
   "cell_type": "code",
   "execution_count": null,
   "id": "c1e1e8ec-901c-41e5-b0ff-26bdc43d9d14",
   "metadata": {},
   "outputs": [],
   "source": []
  }
 ],
 "metadata": {
  "kernelspec": {
   "display_name": "Python 3 (ipykernel)",
   "language": "python",
   "name": "python3"
  },
  "language_info": {
   "codemirror_mode": {
    "name": "ipython",
    "version": 3
   },
   "file_extension": ".py",
   "mimetype": "text/x-python",
   "name": "python",
   "nbconvert_exporter": "python",
   "pygments_lexer": "ipython3",
   "version": "3.12.7"
  }
 },
 "nbformat": 4,
 "nbformat_minor": 5
}
