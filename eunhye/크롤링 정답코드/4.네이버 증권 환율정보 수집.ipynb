{
 "cells": [
  {
   "cell_type": "code",
   "execution_count": 1,
   "id": "a8d90f44-ac70-443a-b907-4c625fc48591",
   "metadata": {},
   "outputs": [],
   "source": [
    "import requests as req\n",
    "from bs4 import BeautifulSoup as bs"
   ]
  },
  {
   "cell_type": "code",
   "execution_count": 2,
   "id": "a8f75440-5c29-417c-b034-5e8a5ca4e61c",
   "metadata": {},
   "outputs": [],
   "source": [
    "res = req.get(\"https://finance.naver.com/marketindex/?tabSel=exchange#tab_section\")"
   ]
  },
  {
   "cell_type": "code",
   "execution_count": 4,
   "id": "042bd6b3-6996-4867-bed4-fe97ddef06f3",
   "metadata": {},
   "outputs": [],
   "source": [
    "soup = bs(res.text, \"lxml\")"
   ]
  },
  {
   "cell_type": "code",
   "execution_count": 8,
   "id": "b91daaed-2ecf-4403-8d80-01176f17aed8",
   "metadata": {},
   "outputs": [
    {
     "data": {
      "text/plain": [
       "[]"
      ]
     },
     "execution_count": 8,
     "metadata": {},
     "output_type": "execute_result"
    }
   ],
   "source": [
    "soup.select(\"td.sale\")\n",
    "# 이 표는 iframe이기 때문에 조회가 되지 않는다"
   ]
  },
  {
   "cell_type": "markdown",
   "id": "1e2d1c55-a18b-4315-9080-979786df322e",
   "metadata": {},
   "source": [
    "### iframe 데이터 처리\n",
    "- iframe 데이터는 화면상에 정보는 보이지만, 실제 데이터는 다른 공간에 존재함"
   ]
  },
  {
   "cell_type": "code",
   "execution_count": null,
   "id": "b2126131-b920-4a8c-a40b-8cbd544873c9",
   "metadata": {},
   "outputs": [],
   "source": [
    "# 다른 공간에 존재하는 iframe 데이터를 가지고 오려면\n",
    "# 해결법 : 실제 데이터가 존재하는 공간의 URL로 요청을 보내야 한다!\n",
    "# 위치 : ifrmae 태그의 src 경로를 사용\n",
    "#       대부분 경로는 상대경로로 작성되있음\n",
    "#       절대경로+상대경로를 합쳐서 요청 URL 제작"
   ]
  },
  {
   "cell_type": "code",
   "execution_count": 9,
   "id": "f331f0f5-72fa-4ee4-b92d-57d6ff20b22b",
   "metadata": {},
   "outputs": [],
   "source": [
    "res = req.get(\"https://finance.naver.com/marketindex/exchangeList.naver\")\n",
    "soup = bs(res.text, \"lxml\")"
   ]
  },
  {
   "cell_type": "code",
   "execution_count": 10,
   "id": "d9c472f4-a31c-48ff-ac20-655e4857e8ca",
   "metadata": {},
   "outputs": [],
   "source": [
    "title = soup.select(\"td.tit > a\")"
   ]
  },
  {
   "cell_type": "code",
   "execution_count": 15,
   "id": "96dbd7ff-ec3b-48b8-8b0f-cd147d8438f8",
   "metadata": {},
   "outputs": [],
   "source": [
    "title_list = []\n",
    "# 개행문자나 공백을 지울 때는 strip() 활용\n",
    "for i in title :\n",
    "    title_list.append(i.text.strip())"
   ]
  },
  {
   "cell_type": "code",
   "execution_count": 16,
   "id": "275efcdf-60b4-4627-9312-96482149777b",
   "metadata": {},
   "outputs": [
    {
     "data": {
      "text/plain": [
       "['미국 USD',\n",
       " '유럽연합 EUR',\n",
       " '일본 JPY (100엔)',\n",
       " '중국 CNY',\n",
       " '홍콩 HKD',\n",
       " '대만 TWD',\n",
       " '영국 GBP',\n",
       " '오만 OMR',\n",
       " '캐나다 CAD',\n",
       " '스위스 CHF',\n",
       " '스웨덴 SEK',\n",
       " '호주 AUD',\n",
       " '뉴질랜드 NZD',\n",
       " '체코 CZK',\n",
       " '칠레 CLP',\n",
       " '튀르키예 TRY',\n",
       " '몽골 MNT',\n",
       " '이스라엘 ILS',\n",
       " '덴마크 DKK',\n",
       " '노르웨이 NOK',\n",
       " '사우디아라비아 SAR',\n",
       " '쿠웨이트 KWD',\n",
       " '바레인 BHD',\n",
       " '아랍에미리트 AED',\n",
       " '요르단 JOD',\n",
       " '이집트 EGP',\n",
       " '태국 THB',\n",
       " '싱가포르 SGD',\n",
       " '말레이시아 MYR',\n",
       " '인도네시아 IDR 100',\n",
       " '카타르 QAR',\n",
       " '카자흐스탄 KZT',\n",
       " '브루나이 BND',\n",
       " '인도 INR',\n",
       " '파키스탄 PKR',\n",
       " '방글라데시 BDT',\n",
       " '필리핀 PHP',\n",
       " '멕시코 MXN',\n",
       " '브라질 BRL',\n",
       " '베트남 VND 100',\n",
       " '남아프리카 공화국 ZAR',\n",
       " '러시아 RUB',\n",
       " '헝가리 HUF',\n",
       " '폴란드 PLN',\n",
       " '스리랑카 LKR',\n",
       " '알제리 DZD',\n",
       " '케냐 KES',\n",
       " '콜롬비아 COP',\n",
       " '탄자니아 TZS',\n",
       " '네팔 NPR',\n",
       " '루마니아 RON',\n",
       " '리비아 LYD',\n",
       " '마카오 MOP',\n",
       " '미얀마 MMK',\n",
       " '에티오피아 ETB',\n",
       " '우즈베키스탄 UZS',\n",
       " '캄보디아 KHR',\n",
       " '피지 FJD']"
      ]
     },
     "execution_count": 16,
     "metadata": {},
     "output_type": "execute_result"
    }
   ],
   "source": [
    "title_list"
   ]
  },
  {
   "cell_type": "code",
   "execution_count": null,
   "id": "292af7d4-7d46-47c4-9dfb-008731ee0592",
   "metadata": {},
   "outputs": [],
   "source": []
  }
 ],
 "metadata": {
  "kernelspec": {
   "display_name": "Python 3 (ipykernel)",
   "language": "python",
   "name": "python3"
  },
  "language_info": {
   "codemirror_mode": {
    "name": "ipython",
    "version": 3
   },
   "file_extension": ".py",
   "mimetype": "text/x-python",
   "name": "python",
   "nbconvert_exporter": "python",
   "pygments_lexer": "ipython3",
   "version": "3.12.7"
  }
 },
 "nbformat": 4,
 "nbformat_minor": 5
}
