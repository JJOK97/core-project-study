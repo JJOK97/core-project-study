{
 "cells": [
  {
   "cell_type": "code",
   "execution_count": 1,
   "id": "27f43aa2-6638-4e18-84cd-a60362227577",
   "metadata": {
    "collapsed": true,
    "jupyter": {
     "outputs_hidden": true
    },
    "scrolled": true
   },
   "outputs": [
    {
     "name": "stdout",
     "output_type": "stream",
     "text": [
      "Collecting selenium\n",
      "  Downloading selenium-4.31.0-py3-none-any.whl.metadata (7.5 kB)\n",
      "Requirement already satisfied: urllib3<3,>=1.26 in c:\\users\\b\\anaconda3\\lib\\site-packages (from urllib3[socks]<3,>=1.26->selenium) (2.2.3)\n",
      "Collecting trio~=0.17 (from selenium)\n",
      "  Downloading trio-0.29.0-py3-none-any.whl.metadata (8.5 kB)\n",
      "Collecting trio-websocket~=0.9 (from selenium)\n",
      "  Downloading trio_websocket-0.12.2-py3-none-any.whl.metadata (5.1 kB)\n",
      "Requirement already satisfied: certifi>=2021.10.8 in c:\\users\\b\\anaconda3\\lib\\site-packages (from selenium) (2024.8.30)\n",
      "Requirement already satisfied: typing_extensions~=4.9 in c:\\users\\b\\anaconda3\\lib\\site-packages (from selenium) (4.11.0)\n",
      "Requirement already satisfied: websocket-client~=1.8 in c:\\users\\b\\anaconda3\\lib\\site-packages (from selenium) (1.8.0)\n",
      "Collecting attrs>=23.2.0 (from trio~=0.17->selenium)\n",
      "  Downloading attrs-25.3.0-py3-none-any.whl.metadata (10 kB)\n",
      "Requirement already satisfied: sortedcontainers in c:\\users\\b\\anaconda3\\lib\\site-packages (from trio~=0.17->selenium) (2.4.0)\n",
      "Requirement already satisfied: idna in c:\\users\\b\\anaconda3\\lib\\site-packages (from trio~=0.17->selenium) (3.7)\n",
      "Collecting outcome (from trio~=0.17->selenium)\n",
      "  Using cached outcome-1.3.0.post0-py2.py3-none-any.whl.metadata (2.6 kB)\n",
      "Requirement already satisfied: sniffio>=1.3.0 in c:\\users\\b\\anaconda3\\lib\\site-packages (from trio~=0.17->selenium) (1.3.0)\n",
      "Requirement already satisfied: cffi>=1.14 in c:\\users\\b\\anaconda3\\lib\\site-packages (from trio~=0.17->selenium) (1.17.1)\n",
      "Collecting wsproto>=0.14 (from trio-websocket~=0.9->selenium)\n",
      "  Using cached wsproto-1.2.0-py3-none-any.whl.metadata (5.6 kB)\n",
      "Requirement already satisfied: pysocks!=1.5.7,<2.0,>=1.5.6 in c:\\users\\b\\anaconda3\\lib\\site-packages (from urllib3[socks]<3,>=1.26->selenium) (1.7.1)\n",
      "Requirement already satisfied: pycparser in c:\\users\\b\\anaconda3\\lib\\site-packages (from cffi>=1.14->trio~=0.17->selenium) (2.21)\n",
      "Requirement already satisfied: h11<1,>=0.9.0 in c:\\users\\b\\anaconda3\\lib\\site-packages (from wsproto>=0.14->trio-websocket~=0.9->selenium) (0.14.0)\n",
      "Downloading selenium-4.31.0-py3-none-any.whl (9.4 MB)\n",
      "   ---------------------------------------- 0.0/9.4 MB ? eta -:--:--\n",
      "   -- ------------------------------------- 0.5/9.4 MB 3.4 MB/s eta 0:00:03\n",
      "   --- ------------------------------------ 0.8/9.4 MB 2.2 MB/s eta 0:00:04\n",
      "   ----- ---------------------------------- 1.3/9.4 MB 2.7 MB/s eta 0:00:03\n",
      "   ------- -------------------------------- 1.8/9.4 MB 2.6 MB/s eta 0:00:03\n",
      "   ------------ --------------------------- 2.9/9.4 MB 2.9 MB/s eta 0:00:03\n",
      "   -------------- ------------------------- 3.4/9.4 MB 2.9 MB/s eta 0:00:03\n",
      "   --------------- ------------------------ 3.7/9.4 MB 2.8 MB/s eta 0:00:03\n",
      "   ------------------- -------------------- 4.5/9.4 MB 2.9 MB/s eta 0:00:02\n",
      "   ---------------------- ----------------- 5.2/9.4 MB 3.0 MB/s eta 0:00:02\n",
      "   ------------------------ --------------- 5.8/9.4 MB 3.0 MB/s eta 0:00:02\n",
      "   ---------------------------- ----------- 6.6/9.4 MB 3.0 MB/s eta 0:00:01\n",
      "   --------------------------------- ------ 7.9/9.4 MB 3.3 MB/s eta 0:00:01\n",
      "   ----------------------------------- ---- 8.4/9.4 MB 3.3 MB/s eta 0:00:01\n",
      "   ---------------------------------------  9.2/9.4 MB 3.3 MB/s eta 0:00:01\n",
      "   ---------------------------------------- 9.4/9.4 MB 3.2 MB/s eta 0:00:00\n",
      "Downloading trio-0.29.0-py3-none-any.whl (492 kB)\n",
      "Downloading trio_websocket-0.12.2-py3-none-any.whl (21 kB)\n",
      "Downloading attrs-25.3.0-py3-none-any.whl (63 kB)\n",
      "Using cached outcome-1.3.0.post0-py2.py3-none-any.whl (10 kB)\n",
      "Using cached wsproto-1.2.0-py3-none-any.whl (24 kB)\n",
      "Installing collected packages: wsproto, attrs, outcome, trio, trio-websocket, selenium\n",
      "  Attempting uninstall: attrs\n",
      "    Found existing installation: attrs 23.1.0\n",
      "    Uninstalling attrs-23.1.0:\n",
      "      Successfully uninstalled attrs-23.1.0\n",
      "Successfully installed attrs-25.3.0 outcome-1.3.0.post0 selenium-4.31.0 trio-0.29.0 trio-websocket-0.12.2 wsproto-1.2.0\n"
     ]
    }
   ],
   "source": [
    "# selenium 라이브러리 설치\n",
    "!pip install selenium"
   ]
  },
  {
   "cell_type": "code",
   "execution_count": 3,
   "id": "43cb15d4-a50b-42be-8bb3-063683b536bf",
   "metadata": {},
   "outputs": [],
   "source": [
    "# 라이브러리 호출\n",
    "# webdriver : 크롬 창 역할\n",
    "from selenium import webdriver as wb\n",
    "# 키보드 라이브러리\n",
    "from selenium.webdriver.common.keys import Keys\n",
    "# 선택자 라이브러리\n",
    "from selenium.webdriver.common.by import By"
   ]
  },
  {
   "cell_type": "code",
   "execution_count": 5,
   "id": "076f0fc8-07ab-4b7a-bfa3-f67c1b77194d",
   "metadata": {},
   "outputs": [],
   "source": [
    "# 크롬 창에 대한 역할\n",
    "driver = wb.Chrome()"
   ]
  },
  {
   "cell_type": "code",
   "execution_count": 7,
   "id": "de2f0cd2-b450-4faa-bfca-fee95e571188",
   "metadata": {},
   "outputs": [],
   "source": [
    "# 페이지 이동\n",
    "driver.get(\"https://www.naver.com/\")"
   ]
  },
  {
   "cell_type": "code",
   "execution_count": 8,
   "id": "73ce42a5-983a-41ca-bc38-dbb3b2a2f0be",
   "metadata": {},
   "outputs": [],
   "source": [
    "# 검색을 해보자!\n",
    "# .find_element() -> 필요한 요소 찾는 명령\n",
    "# .find_elements() -> 복수개의 요소 찾는 명령\n",
    "search = driver.find_element(By.ID, \"query\")"
   ]
  },
  {
   "cell_type": "code",
   "execution_count": 9,
   "id": "61f746c3-250e-4bff-baf5-bf51a0eb0b46",
   "metadata": {},
   "outputs": [],
   "source": [
    "# .send_keys() -> 특정 값을 전달할 수 있음\n",
    "search.send_keys(\"주말날씨\")"
   ]
  },
  {
   "cell_type": "code",
   "execution_count": 11,
   "id": "55be2246-08e2-4720-b67e-43cb7b85654d",
   "metadata": {},
   "outputs": [],
   "source": [
    "# 엔터치기\n",
    "search.send_keys(Keys.ENTER)"
   ]
  },
  {
   "cell_type": "code",
   "execution_count": 12,
   "id": "437df805-bc26-46f7-bb1a-7409ad602832",
   "metadata": {},
   "outputs": [],
   "source": [
    "# 화면 스크롤 하는 방법\n",
    "body = driver.find_element(By.TAG_NAME, \"body\")\n",
    "body.send_keys(Keys.END)"
   ]
  },
  {
   "cell_type": "code",
   "execution_count": 13,
   "id": "0ba28342-71c1-42d1-b32d-ec3c174ce61b",
   "metadata": {},
   "outputs": [],
   "source": [
    "# 페이지 뒤로가기\n",
    "# 태그X. 크롬이 가지고 있는 기능임!\n",
    "driver.back()"
   ]
  },
  {
   "cell_type": "code",
   "execution_count": 15,
   "id": "96481593-c5ef-47db-810a-5261d25dfe6a",
   "metadata": {},
   "outputs": [],
   "source": [
    "# 화면 전환(=깜빡)이 일어나면 (검색, 뒤로가기)\n",
    "# 컴퓨터는 모든 기억을 잃어버림..\n",
    "# 그래서 필요한 요소를 다시 검색해야 함!\n",
    "search = driver.find_element(By.ID, \"query\")\n",
    "search.send_keys(\"정보처리기사\")"
   ]
  },
  {
   "cell_type": "code",
   "execution_count": 16,
   "id": "867f762e-f7c1-47ff-b523-22f2fc18abba",
   "metadata": {},
   "outputs": [],
   "source": [
    "# 검색 버튼을 클릭\n",
    "search_btn = driver.find_element(By.CLASS_NAME, \"btn_search\")\n",
    "\n",
    "search_btn.click()"
   ]
  },
  {
   "cell_type": "code",
   "execution_count": 17,
   "id": "88333477-5628-4d93-b73a-f341c5509efe",
   "metadata": {},
   "outputs": [],
   "source": [
    "# 크롬창 종료\n",
    "driver.quit()"
   ]
  },
  {
   "cell_type": "code",
   "execution_count": null,
   "id": "a8f09098-edbc-40ff-8d3a-05ece056e328",
   "metadata": {},
   "outputs": [],
   "source": []
  }
 ],
 "metadata": {
  "kernelspec": {
   "display_name": "Python 3 (ipykernel)",
   "language": "python",
   "name": "python3"
  },
  "language_info": {
   "codemirror_mode": {
    "name": "ipython",
    "version": 3
   },
   "file_extension": ".py",
   "mimetype": "text/x-python",
   "name": "python",
   "nbconvert_exporter": "python",
   "pygments_lexer": "ipython3",
   "version": "3.12.7"
  }
 },
 "nbformat": 4,
 "nbformat_minor": 5
}
