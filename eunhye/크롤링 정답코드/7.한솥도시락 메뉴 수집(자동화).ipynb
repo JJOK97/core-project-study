{
 "cells": [
  {
   "cell_type": "markdown",
   "id": "cafaed84-0062-428b-92c9-2f3edbaf25ce",
   "metadata": {},
   "source": [
    "1. 필요한 라이브러리 import\n",
    "2. 크롬창 열어라\n",
    "3. 한솥 메뉴 사이트 접속해라\n",
    "4. '더보기' 버튼을 다섯번 눌러라 (쉬어가면서 눌러라)\n",
    "5. 전체 메뉴/가격 데이터를 각각 리스트에 담아라 (menu_list, price_list)\n",
    "   \n",
    "- 더보기 버튼은 5번 눌러야 함!"
   ]
  },
  {
   "cell_type": "code",
   "execution_count": 5,
   "id": "a9bd09fb-d2ee-4ffc-a857-43cef7d6951b",
   "metadata": {},
   "outputs": [],
   "source": [
    "# 필요한 라이브러리 import\n",
    "from selenium import webdriver as wb\n",
    "from selenium.webdriver.common.by import By\n",
    "from selenium.webdriver.common.keys import Keys\n",
    "\n",
    "import time"
   ]
  },
  {
   "cell_type": "code",
   "execution_count": 6,
   "id": "1a3421c1-a182-4115-ae09-1ed14678f8f3",
   "metadata": {},
   "outputs": [],
   "source": [
    "driver = wb.Chrome()\n",
    "driver.get(\"https://www.hsd.co.kr/menu/menu_list\")"
   ]
  },
  {
   "cell_type": "code",
   "execution_count": 12,
   "id": "7b480352-474c-4f58-b3ab-6a39a230d7f9",
   "metadata": {},
   "outputs": [],
   "source": [
    "btn = driver.find_element(By.CSS_SELECTOR, \"#btn_more > span > a\")\n",
    "for i in range(5) :\n",
    "    btn.click\n",
    "    time.sleep(1)"
   ]
  },
  {
   "cell_type": "code",
   "execution_count": 17,
   "id": "60b9a60a-d221-4c0c-937f-cf225d7fa113",
   "metadata": {},
   "outputs": [],
   "source": [
    "menu = driver.find_elements(By.CSS_SELECTOR, \".h.fz_03\")\n",
    "price = driver.find_elements(By.CSS_SELECTOR, \"div.item-price>strong\")"
   ]
  },
  {
   "cell_type": "code",
   "execution_count": 18,
   "id": "7b5ef0fe-b292-4a69-bb35-89d66572b29b",
   "metadata": {},
   "outputs": [],
   "source": [
    "menu_list = []\n",
    "price_list = []\n",
    "for i in range(len(menu)) :\n",
    "    menu_list.append(menu[i].text)\n",
    "    price_list.append(price[i].text)"
   ]
  },
  {
   "cell_type": "code",
   "execution_count": 16,
   "id": "d762a3b5-4772-40bb-a9cb-dc2725d88263",
   "metadata": {
    "collapsed": true,
    "jupyter": {
     "outputs_hidden": true
    }
   },
   "outputs": [
    {
     "name": "stdout",
     "output_type": "stream",
     "text": [
      "['제육야채 감초고추장 비빔밥', '진달래', '해바라기', '매화', '돈치 고기고기', '돈까스도련님 고기고기', '새치 고기고기', '칠리 찹쌀탕수육도련님', '제육볶음', '한우 함박스테이크& 청양 토네이도 소세지', '돈까스도련님', '한우 함박스테이크&토네이도 소세지', '제육돈까스 도련님', '돈치스팸', '치킨제육', '소불고기', '믹스후라이', '동백', '송정식 떡갈비', '송정식 떡갈비 Ⅱ', '메가치킨제육', '치킨마요 김치찌개 정식', '치킨마요 부대찌개 정식', '빅치킨마요 김치찌개 정식', '빅치킨마요 부대찌개 정식', '제육 김치찌개 정식', '메가스팸마요', '스팸마요', '메가치킨마요', '왕치킨마요', '빅치킨마요', '치킨마요', '참치마요', '돈치마요', '돈까스 카레', '스팸 김치볶음밥', '김치볶음밥', '스팸 철판볶음밥', '소불고기 철판볶음밥', '묵은지 김치찌개', '부대찌개', '빅 제많덮(빅 제육 많이 덮밥)', '제많덮(제육 많이 덮밥)', '스페셜 하이라이스', '핫 치즈 닭갈비덮밥', '오리지널 치즈 닭갈비덮밥', '숯불직화구이 덮밥', '마파두부 덮밥', '왕카레돈까스덮밥', '새우돈까스 덮밥', '돈까스 덮밥', '소불고기 감초고추장 비빔밥', '시골제육 두부강된장 비빔밥', '참치야채 감초고추장 비빔밥', '튼튼도시락', '단품 묵은지 김치찌개', '단품 카레', '반찬 순살 고등어 간장구이', '단품 부대찌개', '반찬 치킨', '반찬 고기고기', '반찬 돈까스도련님', '반찬 제육볶음', '반찬 토네이도 소세지', '반찬 돈까스', '3종 미니반찬B', '3종 미니반찬A', '오징어젓갈', '한솥 두부강된장소스', '한솥 감초볶음고추장소스', '김치', '무말랭이 무침', '한솥밥', '현미밥', '케이준후라이', '해시 포테이토 스틱', '치즈버터 해시 포테이토 스틱', '허니버터 해시 포테이토 스틱', '미니 찹쌀탕수육', '뉴 감자고로케', '미니 찹쌀핫도그', '멘치카츠', '통현미 닭강정(소)', '통현미 닭강정(중)', '후라이드 순살(소)_양념치킨소스', '후라이드 순살(소)_케이준소스', '후라이드 순살(중)', '치킹 반반순살(양념, 후라이드)', '치킹 반반순살(후라이드)', '제주녹차 미니꿀호떡']\n"
     ]
    }
   ],
   "source": [
    "print(menu_list)"
   ]
  },
  {
   "cell_type": "code",
   "execution_count": 19,
   "id": "f7e163d3-56e8-4807-a036-e901343a1257",
   "metadata": {
    "collapsed": true,
    "jupyter": {
     "outputs_hidden": true
    }
   },
   "outputs": [
    {
     "name": "stdout",
     "output_type": "stream",
     "text": [
      "['3,800', '8,000', '10,000', '10,500', '6,100', '6,600', '7,100', '4,500', '4,700', '8,900', '4,900', '8,900', '4,900', '5,000', '5,000', '5,700', '6,000', '6,200', '6,900', '6,900', '7,800', '7,100', '7,600', '7,700', '8,200', '8,800', '5,900', '4,000', '6,200', '5,100', '4,400', '3,800', '3,600', '4,100', '4,800', '4,900', '4,100', '4,900', '5,100', '5,000', '6,100', '6,900', '5,900', '5,900', '6,100', '6,100', '6,000', '5,000', '6,100', '4,400', '4,300', '5,700', '5,500', '3,800', '5,300', '4,400', '2,900', '3,900', '4,900', '3,800', '3,600', '4,100', '3,500', '3,200', '2,900', '1,300', '1,300', '600', '1,800', '500', '500', '500', '1,000', '1,700', '1,900', '2,000', '2,200', '2,200', '2,300', '2,700', '2,800', '2,800', '3,500', '8,500', '4,000', '4,000', '7,500', '16,900', '16,900', '2,500']\n"
     ]
    }
   ],
   "source": [
    "print(price_list)"
   ]
  },
  {
   "cell_type": "code",
   "execution_count": null,
   "id": "f81ee7d3-91ff-416a-a73f-cf013cc1dd56",
   "metadata": {},
   "outputs": [],
   "source": [
    "# 데이터프레임 형태로 데이터 정리해보기!"
   ]
  },
  {
   "cell_type": "code",
   "execution_count": null,
   "id": "ec1da40b-4f80-4c06-8630-e8c6687a15c9",
   "metadata": {},
   "outputs": [],
   "source": [
    "#전체 코드\n",
    "from selenium import webdriver as wb\n",
    "from selenium.webdriver.common.by import By\n",
    "from selenium.webdriver.common.keys import Keys\n",
    "import time\n",
    "\n",
    "driver = wb.Chrome()\n",
    "driver.get(\"https://www.hsd.co.kr/menu/menu_list\")\n",
    "\n",
    "btn = driver.find_element(By.CSS_SELECTOR, \"#btn_more > span > a\")\n",
    "for i in range(5) :\n",
    "    btn.click\n",
    "    time.sleep(1)\n",
    "\n",
    "menu = driver.find_elements(By.CSS_SELECTOR, \".h.fz_03\")\n",
    "price = driver.find_elements(By.CSS_SELECTOR, \"div.item-price>strong\")\n",
    "\n",
    "menu_list = []\n",
    "price_list = []\n",
    "\n",
    "for i in range(len(menu)) :\n",
    "    menu_list.append(menu[i].text)\n",
    "    price_list.append(price[i].text)"
   ]
  }
 ],
 "metadata": {
  "kernelspec": {
   "display_name": "Python 3 (ipykernel)",
   "language": "python",
   "name": "python3"
  },
  "language_info": {
   "codemirror_mode": {
    "name": "ipython",
    "version": 3
   },
   "file_extension": ".py",
   "mimetype": "text/x-python",
   "name": "python",
   "nbconvert_exporter": "python",
   "pygments_lexer": "ipython3",
   "version": "3.12.7"
  }
 },
 "nbformat": 4,
 "nbformat_minor": 5
}
