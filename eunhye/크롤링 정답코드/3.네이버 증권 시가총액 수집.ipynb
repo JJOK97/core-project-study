{
 "cells": [
  {
   "cell_type": "markdown",
   "id": "ba2389ee-50ed-4322-a381-44b95a6e2592",
   "metadata": {},
   "source": [
    "#### 네이버 증권 - 시가총액 데이터 수집\n",
    "##### 종목명만 리스트에 저장 \n",
    "##### ['삼성전자', 'SK하이닉스', 'LG에너지솔루션' .. ]\n",
    "1. 필요한 라이브러리 import\n",
    "2. 특정 웹페이지의 정보를 가져오라고 요청\n",
    "3. 응답된 데이터가 많아요 -> html내용만 필요하다\n",
    "4. 받아온 html은 거대한 String... -> 파싱\n",
    "5. 많은 \"태그\"들을 가지고 있는 상태가 됨\n",
    "6. 특정 선택자에 해당하는 요소들만 빼서 리스트화\n",
    "7. 리스트 안에 들어있는건... \"요소\" 우리가 필요한건... \"content\"  -> 가공"
   ]
  },
  {
   "cell_type": "code",
   "execution_count": 1,
   "id": "35108abd-3075-4af1-b247-f8c540f3f8b3",
   "metadata": {},
   "outputs": [],
   "source": [
    "import requests as req\n",
    "from bs4 import BeautifulSoup as bs"
   ]
  },
  {
   "cell_type": "code",
   "execution_count": 2,
   "id": "164d2fce-d890-4d8b-bff9-4b586240236e",
   "metadata": {},
   "outputs": [],
   "source": [
    "# 네이버 시가총액 사이트 정보 요청\n",
    "res = req.get(\"https://finance.naver.com/sise/sise_market_sum.naver\")"
   ]
  },
  {
   "cell_type": "code",
   "execution_count": 5,
   "id": "4948149a-3e1c-4a50-ba1c-8b1f8cbddb3c",
   "metadata": {},
   "outputs": [],
   "source": [
    "# 응답받은 많은 정보들 중에서, html 내용만 다시 한번 선택\n",
    "# 다시 선택한 데이터는 하나의 String으로 합쳐져 있음\n",
    "# 거대한 String -> 태그를 이해할 수 있는 형태로 가공\n",
    "soup = bs(res.text, \"lxml\")"
   ]
  },
  {
   "cell_type": "code",
   "execution_count": 11,
   "id": "a518a661-9885-4ade-bb8c-b49d68240e17",
   "metadata": {},
   "outputs": [
    {
     "data": {
      "text/plain": [
       "50"
      ]
     },
     "execution_count": 11,
     "metadata": {},
     "output_type": "execute_result"
    }
   ],
   "source": [
    "title = soup.select(\"a.tltle\")\n",
    "price = soup.select(\"table.type_2 > tbody > tr > td:nth-child(3)\")\n",
    "len(price)"
   ]
  },
  {
   "cell_type": "code",
   "execution_count": 12,
   "id": "f70a6ccc-cb47-4f30-8298-11ef2638ed5f",
   "metadata": {},
   "outputs": [],
   "source": [
    "# 순수 텍스트만 남게 변형\n",
    "title_list = []\n",
    "price_list = []\n",
    "\n",
    "for i in range(len(title)) :\n",
    "    title_list.append(title[i].text)\n",
    "    price_list.append(price[i].text)"
   ]
  },
  {
   "cell_type": "code",
   "execution_count": 17,
   "id": "d82616cf-6f7c-49d6-b7ab-6e81fc225219",
   "metadata": {},
   "outputs": [],
   "source": [
    "# cvs 형태로 저장\n",
    "import pandas as pd\n",
    "dic = {\"종목명\" : title_list, \"가격\" : price_list}\n",
    "siga = pd.DataFrame(dic)\n",
    "siga.to_csv(\"시가총액.csv\", encoding=\"euc-kr\")"
   ]
  },
  {
   "cell_type": "code",
   "execution_count": null,
   "id": "2185c4c0-f15d-4ccd-b6e2-6774a7374012",
   "metadata": {},
   "outputs": [],
   "source": []
  }
 ],
 "metadata": {
  "kernelspec": {
   "display_name": "Python 3 (ipykernel)",
   "language": "python",
   "name": "python3"
  },
  "language_info": {
   "codemirror_mode": {
    "name": "ipython",
    "version": 3
   },
   "file_extension": ".py",
   "mimetype": "text/x-python",
   "name": "python",
   "nbconvert_exporter": "python",
   "pygments_lexer": "ipython3",
   "version": "3.12.7"
  }
 },
 "nbformat": 4,
 "nbformat_minor": 5
}
