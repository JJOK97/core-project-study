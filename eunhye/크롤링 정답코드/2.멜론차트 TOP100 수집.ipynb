{
 "cells": [
  {
   "cell_type": "code",
   "execution_count": 2,
   "id": "c3bf9af9-cd9b-4c45-b669-74f1137f7ff9",
   "metadata": {},
   "outputs": [],
   "source": [
    "import requests as req\n",
    "from bs4 import BeautifulSoup as bs"
   ]
  },
  {
   "cell_type": "code",
   "execution_count": 3,
   "id": "59ae8e58-ee62-4664-80d1-8da1a36a8ff9",
   "metadata": {},
   "outputs": [],
   "source": [
    "head = {\"User-Agent\" : \"Mozilla/5.0 (Windows NT 10.0; Win64; x64) AppleWebKit/537.36 (KHTML, like Gecko) Chrome/135.0.0.0 Safari/537.36\"}\n",
    "res = req.get(\"https://www.melon.com/chart/index.htm\", headers=head)"
   ]
  },
  {
   "cell_type": "code",
   "execution_count": 4,
   "id": "de29abe7-949c-491e-9a8f-4dd43109d8a3",
   "metadata": {},
   "outputs": [],
   "source": [
    "res.text\n",
    "soup = bs(res.text, \"lxml\")"
   ]
  },
  {
   "cell_type": "code",
   "execution_count": 5,
   "id": "afb324e0-4b20-4a9e-b7c4-351354ba6abd",
   "metadata": {
    "collapsed": true,
    "jupyter": {
     "outputs_hidden": true
    }
   },
   "outputs": [
    {
     "name": "stdout",
     "output_type": "stream",
     "text": [
      "[<a href=\"javascript:melon.play.playSong('1000002721',38589554);\" title=\"TOO BAD (feat. Anderson .Paak) 재생\">TOO BAD (feat. Anderson .Paak)</a>, <a href=\"javascript:melon.play.playSong('1000002721',38629386);\" title=\"like JENNIE 재생\">like JENNIE</a>, <a href=\"javascript:melon.play.playSong('1000002721',38429074);\" title=\"모르시나요(PROD.로코베리) 재생\">모르시나요(PROD.로코베리)</a>, <a href=\"javascript:melon.play.playSong('1000002721',36397952);\" title=\"Drowning 재생\">Drowning</a>, <a href=\"javascript:melon.play.playSong('1000002721',38242510);\" title=\"HOME SWEET HOME (feat. 태양, 대성) 재생\">HOME SWEET HOME (feat. 태양, 대성)</a>, <a href=\"javascript:melon.play.playSong('1000002721',38123338);\" title=\"나는 반딧불 재생\">나는 반딧불</a>, <a href=\"javascript:melon.play.playSong('1000002721',38444825);\" title=\"REBEL HEART 재생\">REBEL HEART</a>, <a href=\"javascript:melon.play.playSong('1000002721',38123332);\" title=\"Whiplash 재생\">Whiplash</a>, <a href=\"javascript:melon.play.playSong('1000002721',38426197);\" title=\"오늘만 I LOVE YOU 재생\">오늘만 I LOVE YOU</a>, <a href=\"javascript:melon.play.playSong('1000002721',38660167);\" title=\"HOT 재생\">HOT</a>, <a href=\"javascript:melon.play.playSong('1000002721',38635449);\" title=\"Flower 재생\">Flower</a>, <a href=\"javascript:melon.play.playSong('1000002721',38120327);\" title=\"APT. 재생\">APT.</a>, <a href=\"javascript:melon.play.playSong('1000002721',37323944);\" title=\"HAPPY 재생\">HAPPY</a>, <a href=\"javascript:melon.play.playSong('1000002721',38516958);\" title=\"ATTITUDE 재생\">ATTITUDE</a>, <a href=\"javascript:melon.play.playSong('1000002721',38560939);\" title=\"I DO ME 재생\">I DO ME</a>, <a href=\"javascript:melon.play.playSong('1000002721',38300904);\" title=\"toxic till the end 재생\">toxic till the end</a>, <a href=\"javascript:melon.play.playSong('1000002721',38104031);\" title=\"내게 사랑이 뭐냐고 물어본다면 재생\">내게 사랑이 뭐냐고 물어본다면</a>, <a href=\"javascript:melon.play.playSong('1000002721',38791775);\" title=\"천국보다 아름다운 재생\">천국보다 아름다운</a>, <a href=\"javascript:melon.play.playSong('1000002721',34061322);\" title=\"사랑은 늘 도망가 재생\">사랑은 늘 도망가</a>, <a href=\"javascript:melon.play.playSong('1000002721',38536472);\" title=\"미치게 그리워서 재생\">미치게 그리워서</a>, <a href=\"javascript:melon.play.playSong('1000002721',37390939);\" title=\"소나기 재생\">소나기</a>, <a href=\"javascript:melon.play.playSong('1000002721',38589557);\" title=\"TAKE ME 재생\">TAKE ME</a>, <a href=\"javascript:melon.play.playSong('1000002721',38164895);\" title=\"PO￦ER 재생\">PO￦ER</a>, <a href=\"javascript:melon.play.playSong('1000002721',31927275);\" title=\"한 페이지가 될 수 있게 재생\">한 페이지가 될 수 있게</a>, <a href=\"javascript:melon.play.playSong('1000002721',37323943);\" title=\"Welcome to the Show 재생\">Welcome to the Show</a>, <a href=\"javascript:melon.play.playSong('1000002721',37228861);\" title=\"천상연 재생\">천상연</a>, <a href=\"javascript:melon.play.playSong('1000002721',38071559);\" title=\"청춘만화 재생\">청춘만화</a>, <a href=\"javascript:melon.play.playSong('1000002721',37901626);\" title=\"Die With A Smile 재생\">Die With A Smile</a>, <a href=\"javascript:melon.play.playSong('1000002721',34908740);\" title=\"우리들의 블루스 재생\">우리들의 블루스</a>, <a href=\"javascript:melon.play.playSong('1000002721',37524037);\" title=\"Supernova 재생\">Supernova</a>, <a href=\"javascript:melon.play.playSong('1000002721',38161297);\" title=\"DRIP 재생\">DRIP</a>, <a href=\"javascript:melon.play.playSong('1000002721',30232719);\" title=\"예뻤어 재생\">예뻤어</a>, <a href=\"javascript:melon.play.playSong('1000002721',38583620);\" title=\"MY LOVE(2025) 재생\">MY LOVE(2025)</a>, <a href=\"javascript:melon.play.playSong('1000002721',32061975);\" title=\"어떻게 이별까지 사랑하겠어, 널 사랑하는 거지 재생\">어떻게 이별까지 사랑하겠어, 널 사랑하는 거지</a>, <a href=\"javascript:melon.play.playSong('1000002721',37491072);\" title=\"온기 재생\">온기</a>, <a href=\"javascript:melon.play.playSong('1000002721',35008524);\" title=\"다시 만날 수 있을까 재생\">다시 만날 수 있을까</a>, <a href=\"javascript:melon.play.playSong('1000002721',36502910);\" title=\"모래 알갱이 재생\">모래 알갱이</a>, <a href=\"javascript:melon.play.playSong('1000002721',37491071);\" title=\"Home 재생\">Home</a>, <a href=\"javascript:melon.play.playSong('1000002721',32508053);\" title=\"이제 나만 믿어요 재생\">이제 나만 믿어요</a>, <a href=\"javascript:melon.play.playSong('1000002721',37069064);\" title=\"슬픈 초대장 재생\">슬픈 초대장</a>, <a href=\"javascript:melon.play.playSong('1000002721',37145732);\" title=\"Love wins all 재생\">Love wins all</a>, <a href=\"javascript:melon.play.playSong('1000002721',38786616);\" title=\"poppop 재생\">poppop</a>, <a href=\"javascript:melon.play.playSong('1000002721',38077932);\" title=\"UP (KARINA Solo) 재생\">UP (KARINA Solo)</a>, <a href=\"javascript:melon.play.playSong('1000002721',38583704);\" title=\"The Chase 재생\">The Chase</a>, <a href=\"javascript:melon.play.playSong('1000002721',35008525);\" title=\"무지개 재생\">무지개</a>, <a href=\"javascript:melon.play.playSong('1000002721',38022274);\" title=\"내 이름 맑음 재생\">내 이름 맑음</a>, <a href=\"javascript:melon.play.playSong('1000002721',38517300);\" title=\"Dash 재생\">Dash</a>, <a href=\"javascript:melon.play.playSong('1000002721',35834583);\" title=\"London Boy 재생\">London Boy</a>, <a href=\"javascript:melon.play.playSong('1000002721',36699489);\" title=\"그대만 있다면 (여름날 우리 X 너드커넥션 (Nerd Connection)) 재생\">그대만 있다면 (여름날 우리 X 너드커넥션 (Nerd Connection))</a>, <a href=\"javascript:melon.play.playSong('1000002721',36855841);\" title=\"Do or Die 재생\">Do or Die</a>, <a href=\"javascript:melon.play.playSong('1000002721',37375706);\" title=\"청혼하지 않을 이유를 못 찾았어 재생\">청혼하지 않을 이유를 못 찾았어</a>, <a href=\"javascript:melon.play.playSong('1000002721',30461396);\" title=\"무제(無題) (Untitled, 2014) 재생\">무제(無題) (Untitled, 2014)</a>, <a href=\"javascript:melon.play.playSong('1000002721',38733032);\" title=\"어제보다 슬픈 오늘 재생\">어제보다 슬픈 오늘</a>, <a href=\"javascript:melon.play.playSong('1000002721',38656643);\" title=\"이렇게 좋아해 본 적이 없어요 재생\">이렇게 좋아해 본 적이 없어요</a>, <a href=\"javascript:melon.play.playSong('1000002721',35008534);\" title=\"인생찬가 재생\">인생찬가</a>, <a href=\"javascript:melon.play.playSong('1000002721',37373234);\" title=\"고민중독 재생\">고민중독</a>, <a href=\"javascript:melon.play.playSong('1000002721',4446485);\" title=\"너의 모든 순간 재생\">너의 모든 순간</a>, <a href=\"javascript:melon.play.playSong('1000002721',34657844);\" title=\"사랑인가 봐 재생\">사랑인가 봐</a>, <a href=\"javascript:melon.play.playSong('1000002721',37053556);\" title=\"에피소드 재생\">에피소드</a>, <a href=\"javascript:melon.play.playSong('1000002721',37140709);\" title=\"첫 만남은 계획대로 되지 않아 재생\">첫 만남은 계획대로 되지 않아</a>, <a href=\"javascript:melon.play.playSong('1000002721',37023625);\" title=\"비의 랩소디 재생\">비의 랩소디</a>, <a href=\"javascript:melon.play.playSong('1000002721',38626852);\" title=\"너에게 닿기를 재생\">너에게 닿기를</a>, <a href=\"javascript:melon.play.playSong('1000002721',37347911);\" title=\"Magnetic 재생\">Magnetic</a>, <a href=\"javascript:melon.play.playSong('1000002721',31666417);\" title=\"주저하는 연인들을 위해 재생\">주저하는 연인들을 위해</a>, <a href=\"javascript:melon.play.playSong('1000002721',37563682);\" title=\"How Sweet 재생\">How Sweet</a>, <a href=\"javascript:melon.play.playSong('1000002721',30962526);\" title=\"모든 날, 모든 순간 (Every day, Every Moment) 재생\">모든 날, 모든 순간 (Every day, Every Moment)</a>, <a href=\"javascript:melon.play.playSong('1000002721',37138469);\" title=\"나는 아픈 건 딱 질색이니까 재생\">나는 아픈 건 딱 질색이니까</a>, <a href=\"javascript:melon.play.playSong('1000002721',33496587);\" title=\"다정히 내 이름을 부르면 재생\">다정히 내 이름을 부르면</a>, <a href=\"javascript:melon.play.playSong('1000002721',38195515);\" title=\"너와의 모든 지금 재생\">너와의 모든 지금</a>, <a href=\"javascript:melon.play.playSong('1000002721',38087937);\" title=\"Mantra 재생\">Mantra</a>, <a href=\"javascript:melon.play.playSong('1000002721',36382580);\" title=\"헤어지자 말해요 재생\">헤어지자 말해요</a>, <a href=\"javascript:melon.play.playSong('1000002721',38517301);\" title=\"RIZZ 재생\">RIZZ</a>, <a href=\"javascript:melon.play.playSong('1000002721',37884934);\" title=\"Supersonic 재생\">Supersonic</a>, <a href=\"javascript:melon.play.playSong('1000002721',38661887);\" title=\"숙녀에게 재생\">숙녀에게</a>, <a href=\"javascript:melon.play.playSong('1000002721',36356993);\" title=\"I AM 재생\">I AM</a>, <a href=\"javascript:melon.play.playSong('1000002721',30244931);\" title=\"봄날 재생\">봄날</a>, <a href=\"javascript:melon.play.playSong('1000002721',38786618);\" title=\"Melt Inside My Pocket 재생\">Melt Inside My Pocket</a>, <a href=\"javascript:melon.play.playSong('1000002721',38517302);\" title=\"Island 재생\">Island</a>, <a href=\"javascript:melon.play.playSong('1000002721',38633431);\" title=\"Sweet Dreams (feat. Miguel) 재생\">Sweet Dreams (feat. Miguel)</a>, <a href=\"javascript:melon.play.playSong('1000002721',37657039);\" title=\"Small girl (feat. 도경수(D.O.)) 재생\">Small girl (feat. 도경수(D.O.))</a>, <a href=\"javascript:melon.play.playSong('1000002721',34451383);\" title=\"인사 재생\">인사</a>, <a href=\"javascript:melon.play.playSong('1000002721',36617841);\" title=\"Seven (feat. Latto) - Clean Ver. 재생\">Seven (feat. Latto) - Clean Ver.</a>, <a href=\"javascript:melon.play.playSong('1000002721',38517299);\" title=\"Chroma Drift 재생\">Chroma Drift</a>, <a href=\"javascript:melon.play.playSong('1000002721',35454426);\" title=\"Hype Boy 재생\">Hype Boy</a>, <a href=\"javascript:melon.play.playSong('1000002721',37946921);\" title=\"녹아내려요 재생\">녹아내려요</a>, <a href=\"javascript:melon.play.playSong('1000002721',35008530);\" title=\"보금자리 재생\">보금자리</a>, <a href=\"javascript:melon.play.playSong('1000002721',34431086);\" title=\"취중고백 재생\">취중고백</a>, <a href=\"javascript:melon.play.playSong('1000002721',38517303);\" title=\"12:32 (A to T) 재생\">12:32 (A to T)</a>, <a href=\"javascript:melon.play.playSong('1000002721',37344905);\" title=\"미안해 미워해 사랑해 재생\">미안해 미워해 사랑해</a>, <a href=\"javascript:melon.play.playSong('1000002721',36616378);\" title=\"사막에서 꽃을 피우듯 재생\">사막에서 꽃을 피우듯</a>, <a href=\"javascript:melon.play.playSong('1000002721',37524038);\" title=\"Armageddon 재생\">Armageddon</a>, <a href=\"javascript:melon.play.playSong('1000002721',38786620);\" title=\"1000 재생\">1000</a>, <a href=\"javascript:melon.play.playSong('1000002721',37928381);\" title=\"LOVE ATTACK 재생\">LOVE ATTACK</a>, <a href=\"javascript:melon.play.playSong('1000002721',35945927);\" title=\"Ditto 재생\">Ditto</a>, <a href=\"javascript:melon.play.playSong('1000002721',34941788);\" title=\"살기 위해서 재생\">살기 위해서</a>, <a href=\"javascript:melon.play.playSong('1000002721',37693124);\" title=\"Sticky 재생\">Sticky</a>, <a href=\"javascript:melon.play.playSong('1000002721',38589555);\" title=\"DRAMA 재생\">DRAMA</a>, <a href=\"javascript:melon.play.playSong('1000002721',37463572);\" title=\"해야 (HEYA) 재생\">해야 (HEYA)</a>, <a href=\"javascript:melon.play.playSong('1000002721',37659322);\" title=\"Supernatural 재생\">Supernatural</a>, <a href=\"javascript:melon.play.playSong('1000002721',38557707);\" title=\"earthquake 재생\">earthquake</a>]\n"
     ]
    }
   ],
   "source": [
    "# 클래스명을 여러개 가지고 있을 경우에는 공백을 지우고 .으로 이어준다\n",
    "singer = soup.select(\"div.ellipsis.rank02 > span\")\n",
    "song = soup.select(\"div.ellipsis.rank01 > span > a\")\n",
    "\n",
    "# 순수 텍스트 정보 담은 리스트 제작\n",
    "singer_list = []\n",
    "song_list = []\n",
    "for i in range(len(singer)) :\n",
    "    singer_list.append(singer[i].text)\n",
    "    song_list.append(song[i].text)"
   ]
  },
  {
   "cell_type": "code",
   "execution_count": 30,
   "id": "635825fd-1ac1-400b-b0cf-865d0a8e5e8f",
   "metadata": {},
   "outputs": [
    {
     "name": "stdout",
     "output_type": "stream",
     "text": [
      "['G-DRAGON', '조째즈', 'WOODZ', '제니 (JENNIE)', 'G-DRAGON', '황가람', 'IVE (아이브)', 'aespa', 'BOYNEXTDOOR', '로제 (ROSÉ)', 'Bruno Mars', 'LE SSERAFIM (르세라핌)', '오반(OVAN)', 'DAY6 (데이식스)', 'IVE (아이브)', '로제 (ROSÉ)', '로이킴', '이클립스 (ECLIPSE)', 'KiiiKiii (키키)', 'G-DRAGON', '황가람', 'G-DRAGON', '이창섭', 'DAY6 (데이식스)', 'DAY6 (데이식스)', '임영웅', 'aespa', 'Lady Gaga', 'Bruno Mars', 'AKMU (악뮤)', 'DAY6 (데이식스)', '이무진', 'BABYMONSTER', 'PLAVE', '순순희(지환)', '아이유', '이예은', '아샤트리', '전건호', '임영웅', '너드커넥션 (Nerd Connection)', 'aespa', '임영웅', '이무진', 'QWER', '성시경', 'G-DRAGON', '멜로망스', 'Hearts2Hearts (하츠투하츠)', 'QWER', '임영웅', '임재현', 'TWS (투어스)', 'PLAVE', '임영웅', '폴킴', 'PLAVE', '잔나비', '임영웅', '이무진', '아일릿(ILLIT)', 'NewJeans', '임영웅', '경서예지', '전건호', 'PLAVE', '(여자)아이들', '박재정', '방탄소년단', 'BOYNEXTDOOR', 'PLAVE', '제니 (JENNIE)', '프로미스나인', 'IVE (아이브)', '우디 (Woody)', '범진', '재쓰비 (JAESSBEE)', '정국', '이영지', 'Crush', '10CM', 'NewJeans', '임영웅', '김민석', '임영웅', '임영웅', '임영웅', '임영웅', '우디 (Woody)', 'NewJeans', '송필근', 'j-hope', 'Miguel', 'aespa', '순순희', 'KISS OF LIFE', 'DAY6 (데이식스)', 'IVE (아이브)', 'G-DRAGON', '임영웅', 'NewJeans']\n",
      "['TOO BAD (feat. Anderson .Paak)', '모르시나요(PROD.로코베리)', 'Drowning', 'like JENNIE', 'HOME SWEET HOME (feat. 태양, 대성)', '나는 반딧불', 'REBEL HEART', 'Whiplash', '오늘만 I LOVE YOU', 'APT.', 'HOT', 'Flower', 'HAPPY', 'ATTITUDE', 'toxic till the end', '내게 사랑이 뭐냐고 물어본다면', '소나기', 'I DO ME', 'PO￦ER', '미치게 그리워서', 'TAKE ME', '천상연', '한 페이지가 될 수 있게', 'Welcome to the Show', '사랑은 늘 도망가', 'Supernova', 'Die With A Smile', '어떻게 이별까지 사랑하겠어, 널 사랑하는 거지', '예뻤어', '청춘만화', 'DRIP', 'Dash', '슬픈 초대장', 'Love wins all', 'MY LOVE(2025)', '우리들의 블루스', '그대만 있다면 (여름날 우리 X 너드커넥션 (Nerd Connection))', 'UP (KARINA Solo)', '온기', '청혼하지 않을 이유를 못 찾았어', '내 이름 맑음', '너의 모든 순간', '무제(無題) (Untitled, 2014)', '사랑인가 봐', 'The Chase', '고민중독', '모래 알갱이', '비의 랩소디', '첫 만남은 계획대로 되지 않아', 'RIZZ', 'Home', '모든 날, 모든 순간 (Every day, Every Moment)', 'Island', '주저하는 연인들을 위해', '다시 만날 수 있을까', '에피소드', 'Magnetic', 'How Sweet', '이제 나만 믿어요', '다정히 내 이름을 부르면', 'Chroma Drift', '나는 아픈 건 딱 질색이니까', '헤어지자 말해요', '봄날', '이렇게 좋아해 본 적이 없어요', '12:32 (A to T)', 'Mantra', 'Supersonic', 'I AM', '어제보다 슬픈 오늘', '인사', '너와의 모든 지금', 'Seven (feat. Latto) - Clean Ver.', 'Small girl (feat. 도경수(D.O.))', '미안해 미워해 사랑해', '너에게 닿기를', 'Hype Boy', 'Do or Die', '취중고백', '무지개', '인생찬가', 'Polaroid', 'London Boy', '사막에서 꽃을 피우듯', 'Ditto', '숙녀에게', 'Sweet Dreams (feat. Miguel)', 'Armageddon', '살기 위해서', 'Sticky', '녹아내려요', '해야 (HEYA)', 'DRAMA', '연애편지', 'Supernatural', 'number one girl', 'earthquake', 'Igloo', 'To. X', '보금자리']\n"
     ]
    }
   ],
   "source": [
    "print(singer_list)\n",
    "print(song_list)"
   ]
  },
  {
   "cell_type": "code",
   "execution_count": 28,
   "id": "759dfa68-542e-4958-b3e1-9391631ab8c2",
   "metadata": {
    "collapsed": true,
    "jupyter": {
     "outputs_hidden": true
    }
   },
   "outputs": [
    {
     "data": {
      "text/plain": [
       "[<a href=\"javascript:melon.play.playSong('1000002721',38589554);\" title=\"TOO BAD (feat. Anderson .Paak) 재생\">TOO BAD (feat. Anderson .Paak)</a>,\n",
       " <a href=\"javascript:melon.play.playSong('1000002721',38429074);\" title=\"모르시나요(PROD.로코베리) 재생\">모르시나요(PROD.로코베리)</a>,\n",
       " <a href=\"javascript:melon.play.playSong('1000002721',36397952);\" title=\"Drowning 재생\">Drowning</a>,\n",
       " <a href=\"javascript:melon.play.playSong('1000002721',38629386);\" title=\"like JENNIE 재생\">like JENNIE</a>,\n",
       " <a href=\"javascript:melon.play.playSong('1000002721',38242510);\" title=\"HOME SWEET HOME (feat. 태양, 대성) 재생\">HOME SWEET HOME (feat. 태양, 대성)</a>,\n",
       " <a href=\"javascript:melon.play.playSong('1000002721',38123338);\" title=\"나는 반딧불 재생\">나는 반딧불</a>,\n",
       " <a href=\"javascript:melon.play.playSong('1000002721',38444825);\" title=\"REBEL HEART 재생\">REBEL HEART</a>,\n",
       " <a href=\"javascript:melon.play.playSong('1000002721',38123332);\" title=\"Whiplash 재생\">Whiplash</a>,\n",
       " <a href=\"javascript:melon.play.playSong('1000002721',38426197);\" title=\"오늘만 I LOVE YOU 재생\">오늘만 I LOVE YOU</a>,\n",
       " <a href=\"javascript:melon.play.playSong('1000002721',38120327);\" title=\"APT. 재생\">APT.</a>,\n",
       " <a href=\"javascript:melon.play.playSong('1000002721',38660167);\" title=\"HOT 재생\">HOT</a>,\n",
       " <a href=\"javascript:melon.play.playSong('1000002721',38635449);\" title=\"Flower 재생\">Flower</a>,\n",
       " <a href=\"javascript:melon.play.playSong('1000002721',37323944);\" title=\"HAPPY 재생\">HAPPY</a>,\n",
       " <a href=\"javascript:melon.play.playSong('1000002721',38516958);\" title=\"ATTITUDE 재생\">ATTITUDE</a>,\n",
       " <a href=\"javascript:melon.play.playSong('1000002721',38300904);\" title=\"toxic till the end 재생\">toxic till the end</a>,\n",
       " <a href=\"javascript:melon.play.playSong('1000002721',38104031);\" title=\"내게 사랑이 뭐냐고 물어본다면 재생\">내게 사랑이 뭐냐고 물어본다면</a>,\n",
       " <a href=\"javascript:melon.play.playSong('1000002721',37390939);\" title=\"소나기 재생\">소나기</a>,\n",
       " <a href=\"javascript:melon.play.playSong('1000002721',38560939);\" title=\"I DO ME 재생\">I DO ME</a>,\n",
       " <a href=\"javascript:melon.play.playSong('1000002721',38164895);\" title=\"PO￦ER 재생\">PO￦ER</a>,\n",
       " <a href=\"javascript:melon.play.playSong('1000002721',38536472);\" title=\"미치게 그리워서 재생\">미치게 그리워서</a>,\n",
       " <a href=\"javascript:melon.play.playSong('1000002721',38589557);\" title=\"TAKE ME 재생\">TAKE ME</a>,\n",
       " <a href=\"javascript:melon.play.playSong('1000002721',37228861);\" title=\"천상연 재생\">천상연</a>,\n",
       " <a href=\"javascript:melon.play.playSong('1000002721',31927275);\" title=\"한 페이지가 될 수 있게 재생\">한 페이지가 될 수 있게</a>,\n",
       " <a href=\"javascript:melon.play.playSong('1000002721',37323943);\" title=\"Welcome to the Show 재생\">Welcome to the Show</a>,\n",
       " <a href=\"javascript:melon.play.playSong('1000002721',34061322);\" title=\"사랑은 늘 도망가 재생\">사랑은 늘 도망가</a>,\n",
       " <a href=\"javascript:melon.play.playSong('1000002721',37524037);\" title=\"Supernova 재생\">Supernova</a>,\n",
       " <a href=\"javascript:melon.play.playSong('1000002721',37901626);\" title=\"Die With A Smile 재생\">Die With A Smile</a>,\n",
       " <a href=\"javascript:melon.play.playSong('1000002721',32061975);\" title=\"어떻게 이별까지 사랑하겠어, 널 사랑하는 거지 재생\">어떻게 이별까지 사랑하겠어, 널 사랑하는 거지</a>,\n",
       " <a href=\"javascript:melon.play.playSong('1000002721',30232719);\" title=\"예뻤어 재생\">예뻤어</a>,\n",
       " <a href=\"javascript:melon.play.playSong('1000002721',38071559);\" title=\"청춘만화 재생\">청춘만화</a>,\n",
       " <a href=\"javascript:melon.play.playSong('1000002721',38161297);\" title=\"DRIP 재생\">DRIP</a>,\n",
       " <a href=\"javascript:melon.play.playSong('1000002721',38517300);\" title=\"Dash 재생\">Dash</a>,\n",
       " <a href=\"javascript:melon.play.playSong('1000002721',37069064);\" title=\"슬픈 초대장 재생\">슬픈 초대장</a>,\n",
       " <a href=\"javascript:melon.play.playSong('1000002721',37145732);\" title=\"Love wins all 재생\">Love wins all</a>,\n",
       " <a href=\"javascript:melon.play.playSong('1000002721',38583620);\" title=\"MY LOVE(2025) 재생\">MY LOVE(2025)</a>,\n",
       " <a href=\"javascript:melon.play.playSong('1000002721',34908740);\" title=\"우리들의 블루스 재생\">우리들의 블루스</a>,\n",
       " <a href=\"javascript:melon.play.playSong('1000002721',36699489);\" title=\"그대만 있다면 (여름날 우리 X 너드커넥션 (Nerd Connection)) 재생\">그대만 있다면 (여름날 우리 X 너드커넥션 (Nerd Connection))</a>,\n",
       " <a href=\"javascript:melon.play.playSong('1000002721',38077932);\" title=\"UP (KARINA Solo) 재생\">UP (KARINA Solo)</a>,\n",
       " <a href=\"javascript:melon.play.playSong('1000002721',37491072);\" title=\"온기 재생\">온기</a>,\n",
       " <a href=\"javascript:melon.play.playSong('1000002721',37375706);\" title=\"청혼하지 않을 이유를 못 찾았어 재생\">청혼하지 않을 이유를 못 찾았어</a>,\n",
       " <a href=\"javascript:melon.play.playSong('1000002721',38022274);\" title=\"내 이름 맑음 재생\">내 이름 맑음</a>,\n",
       " <a href=\"javascript:melon.play.playSong('1000002721',4446485);\" title=\"너의 모든 순간 재생\">너의 모든 순간</a>,\n",
       " <a href=\"javascript:melon.play.playSong('1000002721',30461396);\" title=\"무제(無題) (Untitled, 2014) 재생\">무제(無題) (Untitled, 2014)</a>,\n",
       " <a href=\"javascript:melon.play.playSong('1000002721',34657844);\" title=\"사랑인가 봐 재생\">사랑인가 봐</a>,\n",
       " <a href=\"javascript:melon.play.playSong('1000002721',38583704);\" title=\"The Chase 재생\">The Chase</a>,\n",
       " <a href=\"javascript:melon.play.playSong('1000002721',37373234);\" title=\"고민중독 재생\">고민중독</a>,\n",
       " <a href=\"javascript:melon.play.playSong('1000002721',36502910);\" title=\"모래 알갱이 재생\">모래 알갱이</a>,\n",
       " <a href=\"javascript:melon.play.playSong('1000002721',37023625);\" title=\"비의 랩소디 재생\">비의 랩소디</a>,\n",
       " <a href=\"javascript:melon.play.playSong('1000002721',37140709);\" title=\"첫 만남은 계획대로 되지 않아 재생\">첫 만남은 계획대로 되지 않아</a>,\n",
       " <a href=\"javascript:melon.play.playSong('1000002721',38517301);\" title=\"RIZZ 재생\">RIZZ</a>,\n",
       " <a href=\"javascript:melon.play.playSong('1000002721',37491071);\" title=\"Home 재생\">Home</a>,\n",
       " <a href=\"javascript:melon.play.playSong('1000002721',30962526);\" title=\"모든 날, 모든 순간 (Every day, Every Moment) 재생\">모든 날, 모든 순간 (Every day, Every Moment)</a>,\n",
       " <a href=\"javascript:melon.play.playSong('1000002721',38517302);\" title=\"Island 재생\">Island</a>,\n",
       " <a href=\"javascript:melon.play.playSong('1000002721',31666417);\" title=\"주저하는 연인들을 위해 재생\">주저하는 연인들을 위해</a>,\n",
       " <a href=\"javascript:melon.play.playSong('1000002721',35008524);\" title=\"다시 만날 수 있을까 재생\">다시 만날 수 있을까</a>,\n",
       " <a href=\"javascript:melon.play.playSong('1000002721',37053556);\" title=\"에피소드 재생\">에피소드</a>,\n",
       " <a href=\"javascript:melon.play.playSong('1000002721',37347911);\" title=\"Magnetic 재생\">Magnetic</a>,\n",
       " <a href=\"javascript:melon.play.playSong('1000002721',37563682);\" title=\"How Sweet 재생\">How Sweet</a>,\n",
       " <a href=\"javascript:melon.play.playSong('1000002721',32508053);\" title=\"이제 나만 믿어요 재생\">이제 나만 믿어요</a>,\n",
       " <a href=\"javascript:melon.play.playSong('1000002721',33496587);\" title=\"다정히 내 이름을 부르면 재생\">다정히 내 이름을 부르면</a>,\n",
       " <a href=\"javascript:melon.play.playSong('1000002721',38517299);\" title=\"Chroma Drift 재생\">Chroma Drift</a>,\n",
       " <a href=\"javascript:melon.play.playSong('1000002721',37138469);\" title=\"나는 아픈 건 딱 질색이니까 재생\">나는 아픈 건 딱 질색이니까</a>,\n",
       " <a href=\"javascript:melon.play.playSong('1000002721',36382580);\" title=\"헤어지자 말해요 재생\">헤어지자 말해요</a>,\n",
       " <a href=\"javascript:melon.play.playSong('1000002721',30244931);\" title=\"봄날 재생\">봄날</a>,\n",
       " <a href=\"javascript:melon.play.playSong('1000002721',38656643);\" title=\"이렇게 좋아해 본 적이 없어요 재생\">이렇게 좋아해 본 적이 없어요</a>,\n",
       " <a href=\"javascript:melon.play.playSong('1000002721',38517303);\" title=\"12:32 (A to T) 재생\">12:32 (A to T)</a>,\n",
       " <a href=\"javascript:melon.play.playSong('1000002721',38087937);\" title=\"Mantra 재생\">Mantra</a>,\n",
       " <a href=\"javascript:melon.play.playSong('1000002721',37884934);\" title=\"Supersonic 재생\">Supersonic</a>,\n",
       " <a href=\"javascript:melon.play.playSong('1000002721',36356993);\" title=\"I AM 재생\">I AM</a>,\n",
       " <a href=\"javascript:melon.play.playSong('1000002721',38733032);\" title=\"어제보다 슬픈 오늘 재생\">어제보다 슬픈 오늘</a>,\n",
       " <a href=\"javascript:melon.play.playSong('1000002721',34451383);\" title=\"인사 재생\">인사</a>,\n",
       " <a href=\"javascript:melon.play.playSong('1000002721',38195515);\" title=\"너와의 모든 지금 재생\">너와의 모든 지금</a>,\n",
       " <a href=\"javascript:melon.play.playSong('1000002721',36617841);\" title=\"Seven (feat. Latto) - Clean Ver. 재생\">Seven (feat. Latto) - Clean Ver.</a>,\n",
       " <a href=\"javascript:melon.play.playSong('1000002721',37657039);\" title=\"Small girl (feat. 도경수(D.O.)) 재생\">Small girl (feat. 도경수(D.O.))</a>,\n",
       " <a href=\"javascript:melon.play.playSong('1000002721',37344905);\" title=\"미안해 미워해 사랑해 재생\">미안해 미워해 사랑해</a>,\n",
       " <a href=\"javascript:melon.play.playSong('1000002721',38626852);\" title=\"너에게 닿기를 재생\">너에게 닿기를</a>,\n",
       " <a href=\"javascript:melon.play.playSong('1000002721',35454426);\" title=\"Hype Boy 재생\">Hype Boy</a>,\n",
       " <a href=\"javascript:melon.play.playSong('1000002721',36855841);\" title=\"Do or Die 재생\">Do or Die</a>,\n",
       " <a href=\"javascript:melon.play.playSong('1000002721',34431086);\" title=\"취중고백 재생\">취중고백</a>,\n",
       " <a href=\"javascript:melon.play.playSong('1000002721',35008525);\" title=\"무지개 재생\">무지개</a>,\n",
       " <a href=\"javascript:melon.play.playSong('1000002721',35008534);\" title=\"인생찬가 재생\">인생찬가</a>,\n",
       " <a href=\"javascript:melon.play.playSong('1000002721',35834584);\" title=\"Polaroid 재생\">Polaroid</a>,\n",
       " <a href=\"javascript:melon.play.playSong('1000002721',35834583);\" title=\"London Boy 재생\">London Boy</a>,\n",
       " <a href=\"javascript:melon.play.playSong('1000002721',36616378);\" title=\"사막에서 꽃을 피우듯 재생\">사막에서 꽃을 피우듯</a>,\n",
       " <a href=\"javascript:melon.play.playSong('1000002721',35945927);\" title=\"Ditto 재생\">Ditto</a>,\n",
       " <a href=\"javascript:melon.play.playSong('1000002721',38661887);\" title=\"숙녀에게 재생\">숙녀에게</a>,\n",
       " <a href=\"javascript:melon.play.playSong('1000002721',38633431);\" title=\"Sweet Dreams (feat. Miguel) 재생\">Sweet Dreams (feat. Miguel)</a>,\n",
       " <a href=\"javascript:melon.play.playSong('1000002721',37524038);\" title=\"Armageddon 재생\">Armageddon</a>,\n",
       " <a href=\"javascript:melon.play.playSong('1000002721',34941788);\" title=\"살기 위해서 재생\">살기 위해서</a>,\n",
       " <a href=\"javascript:melon.play.playSong('1000002721',37693124);\" title=\"Sticky 재생\">Sticky</a>,\n",
       " <a href=\"javascript:melon.play.playSong('1000002721',37946921);\" title=\"녹아내려요 재생\">녹아내려요</a>,\n",
       " <a href=\"javascript:melon.play.playSong('1000002721',37463572);\" title=\"해야 (HEYA) 재생\">해야 (HEYA)</a>,\n",
       " <a href=\"javascript:melon.play.playSong('1000002721',38589555);\" title=\"DRAMA 재생\">DRAMA</a>,\n",
       " <a href=\"javascript:melon.play.playSong('1000002721',35008532);\" title=\"연애편지 재생\">연애편지</a>,\n",
       " <a href=\"javascript:melon.play.playSong('1000002721',37659322);\" title=\"Supernatural 재생\">Supernatural</a>,\n",
       " <a href=\"javascript:melon.play.playSong('1000002721',38244575);\" title=\"number one girl 재생\">number one girl</a>,\n",
       " <a href=\"javascript:melon.play.playSong('1000002721',38557707);\" title=\"earthquake 재생\">earthquake</a>,\n",
       " <a href=\"javascript:melon.play.playSong('1000002721',38068560);\" title=\"Igloo 재생\">Igloo</a>,\n",
       " <a href=\"javascript:melon.play.playSong('1000002721',37003911);\" title=\"To. X 재생\">To. X</a>,\n",
       " <a href=\"javascript:melon.play.playSong('1000002721',35008530);\" title=\"보금자리 재생\">보금자리</a>]"
      ]
     },
     "execution_count": 28,
     "metadata": {},
     "output_type": "execute_result"
    }
   ],
   "source": [
    "song"
   ]
  },
  {
   "cell_type": "code",
   "execution_count": 16,
   "id": "9f6011b8-8491-4d9b-8ed7-2c442cd071aa",
   "metadata": {},
   "outputs": [
    {
     "data": {
      "text/plain": [
       "106"
      ]
     },
     "execution_count": 16,
     "metadata": {},
     "output_type": "execute_result"
    }
   ],
   "source": [
    "# 갯수가 정해진 데이터를 수집할 때는 반드시 데이터의 갯수를 체크\n",
    "len(singer)"
   ]
  },
  {
   "cell_type": "code",
   "execution_count": 24,
   "id": "88bfc888-6d13-46e8-96dd-7aec72cffa45",
   "metadata": {},
   "outputs": [
    {
     "data": {
      "text/plain": [
       "<span class=\"checkEllipsis\" style=\"display:none\"><a href=\"javascript:melon.link.goArtistDetail('6984');\" title=\"G-DRAGON - 페이지 이동\">G-DRAGON</a></span>"
      ]
     },
     "execution_count": 24,
     "metadata": {},
     "output_type": "execute_result"
    }
   ],
   "source": [
    "# 부정확한 데이터가 수집되면 반드시 HTML코드 정보를 다시 확인\n",
    "# select_one(수집 데이터의 갯수가 복수면 첫번째 데이터만)\n",
    "# singer = soup.select_one(\"div.ellipsis.rank02 > span.checkEllipsis\")\n",
    "# singer"
   ]
  },
  {
   "cell_type": "code",
   "execution_count": 35,
   "id": "62b5a415-84a1-476a-b237-f2be3ae98344",
   "metadata": {},
   "outputs": [],
   "source": [
    "# 표 제작\n",
    "import pandas as pd"
   ]
  },
  {
   "cell_type": "code",
   "execution_count": 37,
   "id": "f083a8e9-304c-4df8-981a-5df83141447e",
   "metadata": {},
   "outputs": [],
   "source": [
    "dic = {\"가수이름\" : singer_list, \"노래제목\":song_list }\n",
    "melon = pd.DataFrame(dic)\n",
    "\n",
    "# encoding을 해야 한다면\n",
    "# utf-8 / euc-kr / utf-8-sig\n",
    "melon.to_csv(\"멜론차트.csv\", encoding=\"utf-8\")"
   ]
  },
  {
   "cell_type": "code",
   "execution_count": null,
   "id": "6f2c33b1-0279-4988-92aa-66b81a6d4ee2",
   "metadata": {},
   "outputs": [],
   "source": []
  }
 ],
 "metadata": {
  "kernelspec": {
   "display_name": "Python 3 (ipykernel)",
   "language": "python",
   "name": "python3"
  },
  "language_info": {
   "codemirror_mode": {
    "name": "ipython",
    "version": 3
   },
   "file_extension": ".py",
   "mimetype": "text/x-python",
   "name": "python",
   "nbconvert_exporter": "python",
   "pygments_lexer": "ipython3",
   "version": "3.12.7"
  }
 },
 "nbformat": 4,
 "nbformat_minor": 5
}
