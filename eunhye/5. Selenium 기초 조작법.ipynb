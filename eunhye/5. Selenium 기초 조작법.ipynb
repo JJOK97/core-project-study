{
 "cells": [
  {
   "cell_type": "code",
   "execution_count": 82,
   "id": "3def539e-f9c5-453b-ade7-17430cfa08f0",
   "metadata": {
    "scrolled": true
   },
   "outputs": [
    {
     "name": "stdout",
     "output_type": "stream",
     "text": [
      "Requirement already satisfied: selenium in c:\\users\\smhrd1\\anaconda3\\lib\\site-packages (4.31.0)\n",
      "Requirement already satisfied: urllib3<3,>=1.26 in c:\\users\\smhrd1\\anaconda3\\lib\\site-packages (from urllib3[socks]<3,>=1.26->selenium) (2.2.3)\n",
      "Requirement already satisfied: trio~=0.17 in c:\\users\\smhrd1\\anaconda3\\lib\\site-packages (from selenium) (0.29.0)\n",
      "Requirement already satisfied: trio-websocket~=0.9 in c:\\users\\smhrd1\\anaconda3\\lib\\site-packages (from selenium) (0.12.2)\n",
      "Requirement already satisfied: certifi>=2021.10.8 in c:\\users\\smhrd1\\anaconda3\\lib\\site-packages (from selenium) (2024.8.30)\n",
      "Requirement already satisfied: typing_extensions~=4.9 in c:\\users\\smhrd1\\anaconda3\\lib\\site-packages (from selenium) (4.11.0)\n",
      "Requirement already satisfied: websocket-client~=1.8 in c:\\users\\smhrd1\\anaconda3\\lib\\site-packages (from selenium) (1.8.0)\n",
      "Requirement already satisfied: attrs>=23.2.0 in c:\\users\\smhrd1\\anaconda3\\lib\\site-packages (from trio~=0.17->selenium) (25.3.0)\n",
      "Requirement already satisfied: sortedcontainers in c:\\users\\smhrd1\\anaconda3\\lib\\site-packages (from trio~=0.17->selenium) (2.4.0)\n",
      "Requirement already satisfied: idna in c:\\users\\smhrd1\\anaconda3\\lib\\site-packages (from trio~=0.17->selenium) (3.7)\n",
      "Requirement already satisfied: outcome in c:\\users\\smhrd1\\anaconda3\\lib\\site-packages (from trio~=0.17->selenium) (1.3.0.post0)\n",
      "Requirement already satisfied: sniffio>=1.3.0 in c:\\users\\smhrd1\\anaconda3\\lib\\site-packages (from trio~=0.17->selenium) (1.3.0)\n",
      "Requirement already satisfied: cffi>=1.14 in c:\\users\\smhrd1\\anaconda3\\lib\\site-packages (from trio~=0.17->selenium) (1.17.1)\n",
      "Requirement already satisfied: wsproto>=0.14 in c:\\users\\smhrd1\\anaconda3\\lib\\site-packages (from trio-websocket~=0.9->selenium) (1.2.0)\n",
      "Requirement already satisfied: pysocks!=1.5.7,<2.0,>=1.5.6 in c:\\users\\smhrd1\\anaconda3\\lib\\site-packages (from urllib3[socks]<3,>=1.26->selenium) (1.7.1)\n",
      "Requirement already satisfied: pycparser in c:\\users\\smhrd1\\anaconda3\\lib\\site-packages (from cffi>=1.14->trio~=0.17->selenium) (2.21)\n",
      "Requirement already satisfied: h11<1,>=0.9.0 in c:\\users\\smhrd1\\anaconda3\\lib\\site-packages (from wsproto>=0.14->trio-websocket~=0.9->selenium) (0.14.0)\n"
     ]
    }
   ],
   "source": [
    "#selenium 라이브러리 설치\n",
    "!pip install selenium"
   ]
  },
  {
   "cell_type": "code",
   "execution_count": 83,
   "id": "3055ad08-43f5-4630-b90a-379628359bcb",
   "metadata": {},
   "outputs": [],
   "source": [
    "# 라이브러리 호출\n",
    "# webdriver : 크롬 창 역할\n",
    "from selenium import webdriver as wb\n",
    "# 키보드 라이브러리\"\n",
    "from selenium.webdriver.common.keys import Keys\n",
    "# 선택자 라이브러리\n",
    "from selenium.webdriver.common.by import By"
   ]
  },
  {
   "cell_type": "code",
   "execution_count": 84,
   "id": "51951b3a-d477-47c0-86e9-c69a2d0f90e9",
   "metadata": {},
   "outputs": [],
   "source": [
    "#크롬 창에 대한 역할\n",
    "driver = wb.Chrome()"
   ]
  },
  {
   "cell_type": "code",
   "execution_count": 85,
   "id": "9ca1b351-ca35-482d-9b12-d51d98a20800",
   "metadata": {},
   "outputs": [],
   "source": [
    "# 페이지 이동\n",
    "driver.get(\"https://www.naver.com/\")"
   ]
  },
  {
   "cell_type": "code",
   "execution_count": 86,
   "id": "f34f46cd-8e45-4580-b748-06fb83597fe0",
   "metadata": {},
   "outputs": [],
   "source": [
    "# 검색을 해보자!\n",
    "# .find_element() -> 필요한 요소 찾는 명령\n",
    "# .find_elements() -> 복수개의 요소 찾는 명령\n",
    "search = driver.find_element(By.ID, \"query\")"
   ]
  },
  {
   "cell_type": "code",
   "execution_count": 87,
   "id": "c6546481-06e9-4a50-ac10-d0dacb4bb148",
   "metadata": {
    "scrolled": true
   },
   "outputs": [],
   "source": [
    "# send_keys() -> 특정 값을 전달할 수 있음\n",
    "search.send_keys(\"4월인데 추워\")"
   ]
  },
  {
   "cell_type": "code",
   "execution_count": 88,
   "id": "1f42814a-7c7a-4070-8c45-08a3fe5e0c19",
   "metadata": {},
   "outputs": [],
   "source": [
    "# 엔터 치기\n",
    "search.send_keys(Keys.ENTER)"
   ]
  },
  {
   "cell_type": "code",
   "execution_count": 89,
   "id": "df645a49-d971-4120-9d4f-147fac0670c2",
   "metadata": {},
   "outputs": [],
   "source": [
    "# 화면 스크롤 하는 방법\n",
    "body = driver.find_element(By.TAG_NAME, \"body\")"
   ]
  },
  {
   "cell_type": "code",
   "execution_count": 90,
   "id": "9b47937f-3703-4277-b796-b965c2d88489",
   "metadata": {
    "scrolled": true
   },
   "outputs": [
    {
     "ename": "StaleElementReferenceException",
     "evalue": "Message: stale element reference: stale element not found\n  (Session info: chrome=135.0.7049.85); For documentation on this error, please visit: https://www.selenium.dev/documentation/webdriver/troubleshooting/errors#stale-element-reference-exception\nStacktrace:\n\tGetHandleVerifier [0x00007FF752A95335+78597]\n\tGetHandleVerifier [0x00007FF752A95390+78688]\n\t(No symbol) [0x00007FF7528491AA]\n\t(No symbol) [0x00007FF75285F524]\n\t(No symbol) [0x00007FF75285DFF3]\n\t(No symbol) [0x00007FF7528517E9]\n\t(No symbol) [0x00007FF75284F66F]\n\t(No symbol) [0x00007FF752853B1C]\n\t(No symbol) [0x00007FF752853BEF]\n\t(No symbol) [0x00007FF7528A002A]\n\t(No symbol) [0x00007FF7528A00F7]\n\t(No symbol) [0x00007FF752895A6B]\n\t(No symbol) [0x00007FF7528C70EA]\n\t(No symbol) [0x00007FF752891AB6]\n\t(No symbol) [0x00007FF7528C7300]\n\t(No symbol) [0x00007FF7528EF2BB]\n\t(No symbol) [0x00007FF7528C6EC3]\n\t(No symbol) [0x00007FF7528903F8]\n\t(No symbol) [0x00007FF752891163]\n\tGetHandleVerifier [0x00007FF752D3EEED+2870973]\n\tGetHandleVerifier [0x00007FF752D39698+2848360]\n\tGetHandleVerifier [0x00007FF752D56973+2967875]\n\tGetHandleVerifier [0x00007FF752AB017A+188746]\n\tGetHandleVerifier [0x00007FF752AB845F+222255]\n\tGetHandleVerifier [0x00007FF752A9D2B4+111236]\n\tGetHandleVerifier [0x00007FF752A9D462+111666]\n\tGetHandleVerifier [0x00007FF752A83589+5465]\n\tBaseThreadInitThunk [0x00007FFC17F4E8D7+23]\n\tRtlUserThreadStart [0x00007FFC19C714FC+44]\n",
     "output_type": "error",
     "traceback": [
      "\u001b[1;31m---------------------------------------------------------------------------\u001b[0m",
      "\u001b[1;31mStaleElementReferenceException\u001b[0m            Traceback (most recent call last)",
      "Cell \u001b[1;32mIn[90], line 1\u001b[0m\n\u001b[1;32m----> 1\u001b[0m body\u001b[38;5;241m.\u001b[39msend_keys(Keys\u001b[38;5;241m.\u001b[39mEND)\n",
      "File \u001b[1;32m~\\anaconda3\\Lib\\site-packages\\selenium\\webdriver\\remote\\webelement.py:303\u001b[0m, in \u001b[0;36mWebElement.send_keys\u001b[1;34m(self, *value)\u001b[0m\n\u001b[0;32m    300\u001b[0m             remote_files\u001b[38;5;241m.\u001b[39mappend(\u001b[38;5;28mself\u001b[39m\u001b[38;5;241m.\u001b[39m_upload(file))\n\u001b[0;32m    301\u001b[0m         value \u001b[38;5;241m=\u001b[39m \u001b[38;5;28mtuple\u001b[39m(\u001b[38;5;124m\"\u001b[39m\u001b[38;5;130;01m\\n\u001b[39;00m\u001b[38;5;124m\"\u001b[39m\u001b[38;5;241m.\u001b[39mjoin(remote_files))\n\u001b[1;32m--> 303\u001b[0m \u001b[38;5;28mself\u001b[39m\u001b[38;5;241m.\u001b[39m_execute(\n\u001b[0;32m    304\u001b[0m     Command\u001b[38;5;241m.\u001b[39mSEND_KEYS_TO_ELEMENT, {\u001b[38;5;124m\"\u001b[39m\u001b[38;5;124mtext\u001b[39m\u001b[38;5;124m\"\u001b[39m: \u001b[38;5;124m\"\u001b[39m\u001b[38;5;124m\"\u001b[39m\u001b[38;5;241m.\u001b[39mjoin(keys_to_typing(value)), \u001b[38;5;124m\"\u001b[39m\u001b[38;5;124mvalue\u001b[39m\u001b[38;5;124m\"\u001b[39m: keys_to_typing(value)}\n\u001b[0;32m    305\u001b[0m )\n",
      "File \u001b[1;32m~\\anaconda3\\Lib\\site-packages\\selenium\\webdriver\\remote\\webelement.py:572\u001b[0m, in \u001b[0;36mWebElement._execute\u001b[1;34m(self, command, params)\u001b[0m\n\u001b[0;32m    570\u001b[0m     params \u001b[38;5;241m=\u001b[39m {}\n\u001b[0;32m    571\u001b[0m params[\u001b[38;5;124m\"\u001b[39m\u001b[38;5;124mid\u001b[39m\u001b[38;5;124m\"\u001b[39m] \u001b[38;5;241m=\u001b[39m \u001b[38;5;28mself\u001b[39m\u001b[38;5;241m.\u001b[39m_id\n\u001b[1;32m--> 572\u001b[0m \u001b[38;5;28;01mreturn\u001b[39;00m \u001b[38;5;28mself\u001b[39m\u001b[38;5;241m.\u001b[39m_parent\u001b[38;5;241m.\u001b[39mexecute(command, params)\n",
      "File \u001b[1;32m~\\anaconda3\\Lib\\site-packages\\selenium\\webdriver\\remote\\webdriver.py:429\u001b[0m, in \u001b[0;36mWebDriver.execute\u001b[1;34m(self, driver_command, params)\u001b[0m\n\u001b[0;32m    427\u001b[0m response \u001b[38;5;241m=\u001b[39m \u001b[38;5;28mself\u001b[39m\u001b[38;5;241m.\u001b[39mcommand_executor\u001b[38;5;241m.\u001b[39mexecute(driver_command, params)\n\u001b[0;32m    428\u001b[0m \u001b[38;5;28;01mif\u001b[39;00m response:\n\u001b[1;32m--> 429\u001b[0m     \u001b[38;5;28mself\u001b[39m\u001b[38;5;241m.\u001b[39merror_handler\u001b[38;5;241m.\u001b[39mcheck_response(response)\n\u001b[0;32m    430\u001b[0m     response[\u001b[38;5;124m\"\u001b[39m\u001b[38;5;124mvalue\u001b[39m\u001b[38;5;124m\"\u001b[39m] \u001b[38;5;241m=\u001b[39m \u001b[38;5;28mself\u001b[39m\u001b[38;5;241m.\u001b[39m_unwrap_value(response\u001b[38;5;241m.\u001b[39mget(\u001b[38;5;124m\"\u001b[39m\u001b[38;5;124mvalue\u001b[39m\u001b[38;5;124m\"\u001b[39m, \u001b[38;5;28;01mNone\u001b[39;00m))\n\u001b[0;32m    431\u001b[0m     \u001b[38;5;28;01mreturn\u001b[39;00m response\n",
      "File \u001b[1;32m~\\anaconda3\\Lib\\site-packages\\selenium\\webdriver\\remote\\errorhandler.py:232\u001b[0m, in \u001b[0;36mErrorHandler.check_response\u001b[1;34m(self, response)\u001b[0m\n\u001b[0;32m    230\u001b[0m         alert_text \u001b[38;5;241m=\u001b[39m value[\u001b[38;5;124m\"\u001b[39m\u001b[38;5;124malert\u001b[39m\u001b[38;5;124m\"\u001b[39m]\u001b[38;5;241m.\u001b[39mget(\u001b[38;5;124m\"\u001b[39m\u001b[38;5;124mtext\u001b[39m\u001b[38;5;124m\"\u001b[39m)\n\u001b[0;32m    231\u001b[0m     \u001b[38;5;28;01mraise\u001b[39;00m exception_class(message, screen, stacktrace, alert_text)  \u001b[38;5;66;03m# type: ignore[call-arg]  # mypy is not smart enough here\u001b[39;00m\n\u001b[1;32m--> 232\u001b[0m \u001b[38;5;28;01mraise\u001b[39;00m exception_class(message, screen, stacktrace)\n",
      "\u001b[1;31mStaleElementReferenceException\u001b[0m: Message: stale element reference: stale element not found\n  (Session info: chrome=135.0.7049.85); For documentation on this error, please visit: https://www.selenium.dev/documentation/webdriver/troubleshooting/errors#stale-element-reference-exception\nStacktrace:\n\tGetHandleVerifier [0x00007FF752A95335+78597]\n\tGetHandleVerifier [0x00007FF752A95390+78688]\n\t(No symbol) [0x00007FF7528491AA]\n\t(No symbol) [0x00007FF75285F524]\n\t(No symbol) [0x00007FF75285DFF3]\n\t(No symbol) [0x00007FF7528517E9]\n\t(No symbol) [0x00007FF75284F66F]\n\t(No symbol) [0x00007FF752853B1C]\n\t(No symbol) [0x00007FF752853BEF]\n\t(No symbol) [0x00007FF7528A002A]\n\t(No symbol) [0x00007FF7528A00F7]\n\t(No symbol) [0x00007FF752895A6B]\n\t(No symbol) [0x00007FF7528C70EA]\n\t(No symbol) [0x00007FF752891AB6]\n\t(No symbol) [0x00007FF7528C7300]\n\t(No symbol) [0x00007FF7528EF2BB]\n\t(No symbol) [0x00007FF7528C6EC3]\n\t(No symbol) [0x00007FF7528903F8]\n\t(No symbol) [0x00007FF752891163]\n\tGetHandleVerifier [0x00007FF752D3EEED+2870973]\n\tGetHandleVerifier [0x00007FF752D39698+2848360]\n\tGetHandleVerifier [0x00007FF752D56973+2967875]\n\tGetHandleVerifier [0x00007FF752AB017A+188746]\n\tGetHandleVerifier [0x00007FF752AB845F+222255]\n\tGetHandleVerifier [0x00007FF752A9D2B4+111236]\n\tGetHandleVerifier [0x00007FF752A9D462+111666]\n\tGetHandleVerifier [0x00007FF752A83589+5465]\n\tBaseThreadInitThunk [0x00007FFC17F4E8D7+23]\n\tRtlUserThreadStart [0x00007FFC19C714FC+44]\n"
     ]
    }
   ],
   "source": [
    "body.send_keys(Keys.END)"
   ]
  },
  {
   "cell_type": "code",
   "execution_count": null,
   "id": "8317fd00-0b35-429b-b211-8727ce363a19",
   "metadata": {},
   "outputs": [],
   "source": [
    "# 페이지 뒤로 가기\n",
    "# 태그 X, 크롬이 갖고 있는 기능!\n",
    "driver.back()"
   ]
  },
  {
   "cell_type": "code",
   "execution_count": null,
   "id": "ed099995-9549-4893-bf9d-f1f78620b330",
   "metadata": {},
   "outputs": [],
   "source": [
    "# 화면 전환(=깜빡)이 일어날 경우 (검색, 뒤로 가기)\n",
    "# 컴퓨터는 모든기억을 잃어버림\n",
    "# 그래서 필요한 요소를 다시 검색해야 함! \n",
    "# driver.find..."
   ]
  },
  {
   "cell_type": "code",
   "execution_count": null,
   "id": "f6520bec-95bb-4ef4-ad55-dcf2838a7305",
   "metadata": {
    "scrolled": true
   },
   "outputs": [],
   "source": [
    "search = driver.find_element(By.ID, \"query\")\n",
    "search.send_keys(\"정보처리기사\")"
   ]
  },
  {
   "cell_type": "code",
   "execution_count": null,
   "id": "6c138703-f85e-4e37-a4dc-437bbdd750e9",
   "metadata": {},
   "outputs": [],
   "source": [
    "#검색 버튼을 클릭\n",
    "search_btn = driver.find_element(By.CLASS_NAME, \"btn_search\")\n",
    "\n",
    "search_btn.click()"
   ]
  },
  {
   "cell_type": "code",
   "execution_count": 91,
   "id": "f3691b0e-1add-4519-b53e-bc3017a36712",
   "metadata": {},
   "outputs": [
    {
     "name": "stdout",
     "output_type": "stream",
     "text": [
      "#selenium 라이브러리 설치\n",
      "!pip install selenium\n",
      "# 라이브러리 호출\n",
      "# webdriver : 크롬 창 역할\n",
      "from selenium import webdriver as wb\n",
      "# 키보드 라이브러리\"\n",
      "from selenium.webdriver.common.keys import Keys\n",
      "# 선택자 라이브러리\n",
      "from selenium.webdriver.common.by import By\n",
      "#크롬 창에 대한 역할\n",
      "driver = wb.Chrome()\n",
      "# 페이지 이동\n",
      "driver.get(\"https://www.naver.com/\")\n",
      "# 검색을 해보자!\n",
      "# .find_element() -> 필요한 요소 찾는 명령\n",
      "# .find_elements() -> 복수개의 요소 찾는 명령\n",
      "search = driver.find_element(By.ID, \"query\")\n",
      "# send_keys() -> 특정 값을 전달할 수 있음\n",
      "search.send_keys(\"4월인데 추워\")\n",
      "# 엔터 치기\n",
      "search.send_keys(Keys.ENTER)\n",
      "# 화면 스크롤 하는 방법\n",
      "body = driver.find_element(By.TAG_NAME, \"body\")\n",
      "body.send_keys(Keys.END)\n",
      "# 페이지 뒤로 가기\n",
      "# 태그 X, 크롬이 갖고 있는 기능!\n",
      "driver.back()\n",
      "# 화면 전환(=깜빡)이 일어날 경우 (검색, 뒤로 가기)\n",
      "# 컴퓨터는 모든기억을 잃어버림\n",
      "# 그래서 필요한 요소를 다시 검색해야 함! \n",
      "# driver.find...\n",
      "search = driver.find_element(By.ID, \"query\")\n",
      "search.send_keys(\"정보처리기사\")\n",
      "#검색 버튼을 클릭\n",
      "search_btn = driver.find_element(By.CLASS_NAME, \"btn_search\")\n",
      "\n",
      "search_btn.click()\n",
      "#크롬창 종료\n",
      "driver_quit()\n",
      "\n",
      "\n",
      "\n"
     ]
    }
   ],
   "source": [
    "import nbformat\n",
    "\n",
    "# 1. 노트북 파일 열기 (파일 경로는 실제로 존재하는 걸로!)\n",
    "with open(\"5. Selenium 기초 조작법.ipynb\", \"r\", encoding=\"utf-8\") as f:\n",
    "    nb = nbformat.read(f, as_version=4)\n",
    "\n",
    "# 2. 셀 내용 출력\n",
    "for i in range(len(nb.cells)):\n",
    "    print(nb.cells[i].source)\n"
   ]
  },
  {
   "cell_type": "code",
   "execution_count": null,
   "id": "42903ce3-56dd-4c86-8722-4203f020a409",
   "metadata": {},
   "outputs": [],
   "source": []
  },
  {
   "cell_type": "code",
   "execution_count": null,
   "id": "37d2b63b-cd44-4694-b445-616d8f6efbde",
   "metadata": {},
   "outputs": [],
   "source": []
  }
 ],
 "metadata": {
  "kernelspec": {
   "display_name": "Python 3 (ipykernel)",
   "language": "python",
   "name": "python3"
  },
  "language_info": {
   "codemirror_mode": {
    "name": "ipython",
    "version": 3
   },
   "file_extension": ".py",
   "mimetype": "text/x-python",
   "name": "python",
   "nbconvert_exporter": "python",
   "pygments_lexer": "ipython3",
   "version": "3.12.7"
  }
 },
 "nbformat": 4,
 "nbformat_minor": 5
}
