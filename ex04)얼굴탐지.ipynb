{
 "cells": [
  {
   "cell_type": "code",
   "execution_count": 1,
   "id": "6dc863b1-4671-40bf-937f-61580ddbd21d",
   "metadata": {},
   "outputs": [
    {
     "name": "stdout",
     "output_type": "stream",
     "text": [
      "Requirement already satisfied: cvlib in c:\\users\\smhrd\\anaconda3\\lib\\site-packages (0.2.7)\n",
      "Requirement already satisfied: numpy in c:\\users\\smhrd\\anaconda3\\lib\\site-packages (from cvlib) (1.26.4)\n",
      "Requirement already satisfied: progressbar in c:\\users\\smhrd\\anaconda3\\lib\\site-packages (from cvlib) (2.5)\n",
      "Requirement already satisfied: requests in c:\\users\\smhrd\\anaconda3\\lib\\site-packages (from cvlib) (2.32.3)\n",
      "Requirement already satisfied: pillow in c:\\users\\smhrd\\anaconda3\\lib\\site-packages (from cvlib) (10.4.0)\n",
      "Requirement already satisfied: imageio in c:\\users\\smhrd\\anaconda3\\lib\\site-packages (from cvlib) (2.33.1)\n",
      "Requirement already satisfied: imutils in c:\\users\\smhrd\\anaconda3\\lib\\site-packages (from cvlib) (0.5.4)\n",
      "Requirement already satisfied: charset-normalizer<4,>=2 in c:\\users\\smhrd\\anaconda3\\lib\\site-packages (from requests->cvlib) (3.3.2)\n",
      "Requirement already satisfied: idna<4,>=2.5 in c:\\users\\smhrd\\anaconda3\\lib\\site-packages (from requests->cvlib) (3.7)\n",
      "Requirement already satisfied: urllib3<3,>=1.21.1 in c:\\users\\smhrd\\anaconda3\\lib\\site-packages (from requests->cvlib) (2.2.3)\n",
      "Requirement already satisfied: certifi>=2017.4.17 in c:\\users\\smhrd\\anaconda3\\lib\\site-packages (from requests->cvlib) (2024.8.30)\n"
     ]
    }
   ],
   "source": [
    "!pip install cvlib"
   ]
  },
  {
   "cell_type": "code",
   "execution_count": 2,
   "id": "b45ac3f8-3e39-4bca-94a1-d9d85f25bcf3",
   "metadata": {},
   "outputs": [
    {
     "name": "stdout",
     "output_type": "stream",
     "text": [
      "Requirement already satisfied: tensorflow==2.16.2 in c:\\users\\smhrd\\anaconda3\\lib\\site-packages (2.16.2)\n",
      "Requirement already satisfied: tensorflow-intel==2.16.2 in c:\\users\\smhrd\\anaconda3\\lib\\site-packages (from tensorflow==2.16.2) (2.16.2)\n",
      "Requirement already satisfied: absl-py>=1.0.0 in c:\\users\\smhrd\\anaconda3\\lib\\site-packages (from tensorflow-intel==2.16.2->tensorflow==2.16.2) (2.3.0)\n",
      "Requirement already satisfied: astunparse>=1.6.0 in c:\\users\\smhrd\\anaconda3\\lib\\site-packages (from tensorflow-intel==2.16.2->tensorflow==2.16.2) (1.6.3)\n",
      "Requirement already satisfied: flatbuffers>=23.5.26 in c:\\users\\smhrd\\anaconda3\\lib\\site-packages (from tensorflow-intel==2.16.2->tensorflow==2.16.2) (25.2.10)\n",
      "Requirement already satisfied: gast!=0.5.0,!=0.5.1,!=0.5.2,>=0.2.1 in c:\\users\\smhrd\\anaconda3\\lib\\site-packages (from tensorflow-intel==2.16.2->tensorflow==2.16.2) (0.6.0)\n",
      "Requirement already satisfied: google-pasta>=0.1.1 in c:\\users\\smhrd\\anaconda3\\lib\\site-packages (from tensorflow-intel==2.16.2->tensorflow==2.16.2) (0.2.0)\n",
      "Requirement already satisfied: h5py>=3.10.0 in c:\\users\\smhrd\\anaconda3\\lib\\site-packages (from tensorflow-intel==2.16.2->tensorflow==2.16.2) (3.11.0)\n",
      "Requirement already satisfied: libclang>=13.0.0 in c:\\users\\smhrd\\anaconda3\\lib\\site-packages (from tensorflow-intel==2.16.2->tensorflow==2.16.2) (18.1.1)\n",
      "Requirement already satisfied: ml-dtypes~=0.3.1 in c:\\users\\smhrd\\anaconda3\\lib\\site-packages (from tensorflow-intel==2.16.2->tensorflow==2.16.2) (0.3.2)\n",
      "Requirement already satisfied: opt-einsum>=2.3.2 in c:\\users\\smhrd\\anaconda3\\lib\\site-packages (from tensorflow-intel==2.16.2->tensorflow==2.16.2) (3.4.0)\n",
      "Requirement already satisfied: packaging in c:\\users\\smhrd\\anaconda3\\lib\\site-packages (from tensorflow-intel==2.16.2->tensorflow==2.16.2) (24.1)\n",
      "Requirement already satisfied: protobuf!=4.21.0,!=4.21.1,!=4.21.2,!=4.21.3,!=4.21.4,!=4.21.5,<5.0.0dev,>=3.20.3 in c:\\users\\smhrd\\anaconda3\\lib\\site-packages (from tensorflow-intel==2.16.2->tensorflow==2.16.2) (4.25.3)\n",
      "Requirement already satisfied: requests<3,>=2.21.0 in c:\\users\\smhrd\\anaconda3\\lib\\site-packages (from tensorflow-intel==2.16.2->tensorflow==2.16.2) (2.32.3)\n",
      "Requirement already satisfied: setuptools in c:\\users\\smhrd\\anaconda3\\lib\\site-packages (from tensorflow-intel==2.16.2->tensorflow==2.16.2) (75.1.0)\n",
      "Requirement already satisfied: six>=1.12.0 in c:\\users\\smhrd\\anaconda3\\lib\\site-packages (from tensorflow-intel==2.16.2->tensorflow==2.16.2) (1.16.0)\n",
      "Requirement already satisfied: termcolor>=1.1.0 in c:\\users\\smhrd\\anaconda3\\lib\\site-packages (from tensorflow-intel==2.16.2->tensorflow==2.16.2) (3.1.0)\n",
      "Requirement already satisfied: typing-extensions>=3.6.6 in c:\\users\\smhrd\\anaconda3\\lib\\site-packages (from tensorflow-intel==2.16.2->tensorflow==2.16.2) (4.11.0)\n",
      "Requirement already satisfied: wrapt>=1.11.0 in c:\\users\\smhrd\\anaconda3\\lib\\site-packages (from tensorflow-intel==2.16.2->tensorflow==2.16.2) (1.14.1)\n",
      "Requirement already satisfied: grpcio<2.0,>=1.24.3 in c:\\users\\smhrd\\anaconda3\\lib\\site-packages (from tensorflow-intel==2.16.2->tensorflow==2.16.2) (1.72.1)\n",
      "Requirement already satisfied: tensorboard<2.17,>=2.16 in c:\\users\\smhrd\\anaconda3\\lib\\site-packages (from tensorflow-intel==2.16.2->tensorflow==2.16.2) (2.16.2)\n",
      "Requirement already satisfied: keras>=3.0.0 in c:\\users\\smhrd\\anaconda3\\lib\\site-packages (from tensorflow-intel==2.16.2->tensorflow==2.16.2) (3.10.0)\n",
      "Requirement already satisfied: numpy<2.0.0,>=1.26.0 in c:\\users\\smhrd\\anaconda3\\lib\\site-packages (from tensorflow-intel==2.16.2->tensorflow==2.16.2) (1.26.4)\n",
      "Requirement already satisfied: wheel<1.0,>=0.23.0 in c:\\users\\smhrd\\anaconda3\\lib\\site-packages (from astunparse>=1.6.0->tensorflow-intel==2.16.2->tensorflow==2.16.2) (0.44.0)\n",
      "Requirement already satisfied: rich in c:\\users\\smhrd\\anaconda3\\lib\\site-packages (from keras>=3.0.0->tensorflow-intel==2.16.2->tensorflow==2.16.2) (13.7.1)\n",
      "Requirement already satisfied: namex in c:\\users\\smhrd\\anaconda3\\lib\\site-packages (from keras>=3.0.0->tensorflow-intel==2.16.2->tensorflow==2.16.2) (0.1.0)\n",
      "Requirement already satisfied: optree in c:\\users\\smhrd\\anaconda3\\lib\\site-packages (from keras>=3.0.0->tensorflow-intel==2.16.2->tensorflow==2.16.2) (0.16.0)\n",
      "Requirement already satisfied: charset-normalizer<4,>=2 in c:\\users\\smhrd\\anaconda3\\lib\\site-packages (from requests<3,>=2.21.0->tensorflow-intel==2.16.2->tensorflow==2.16.2) (3.3.2)\n",
      "Requirement already satisfied: idna<4,>=2.5 in c:\\users\\smhrd\\anaconda3\\lib\\site-packages (from requests<3,>=2.21.0->tensorflow-intel==2.16.2->tensorflow==2.16.2) (3.7)\n",
      "Requirement already satisfied: urllib3<3,>=1.21.1 in c:\\users\\smhrd\\anaconda3\\lib\\site-packages (from requests<3,>=2.21.0->tensorflow-intel==2.16.2->tensorflow==2.16.2) (2.2.3)\n",
      "Requirement already satisfied: certifi>=2017.4.17 in c:\\users\\smhrd\\anaconda3\\lib\\site-packages (from requests<3,>=2.21.0->tensorflow-intel==2.16.2->tensorflow==2.16.2) (2024.8.30)\n",
      "Requirement already satisfied: markdown>=2.6.8 in c:\\users\\smhrd\\anaconda3\\lib\\site-packages (from tensorboard<2.17,>=2.16->tensorflow-intel==2.16.2->tensorflow==2.16.2) (3.4.1)\n",
      "Requirement already satisfied: tensorboard-data-server<0.8.0,>=0.7.0 in c:\\users\\smhrd\\anaconda3\\lib\\site-packages (from tensorboard<2.17,>=2.16->tensorflow-intel==2.16.2->tensorflow==2.16.2) (0.7.2)\n",
      "Requirement already satisfied: werkzeug>=1.0.1 in c:\\users\\smhrd\\anaconda3\\lib\\site-packages (from tensorboard<2.17,>=2.16->tensorflow-intel==2.16.2->tensorflow==2.16.2) (3.0.3)\n",
      "Requirement already satisfied: MarkupSafe>=2.1.1 in c:\\users\\smhrd\\anaconda3\\lib\\site-packages (from werkzeug>=1.0.1->tensorboard<2.17,>=2.16->tensorflow-intel==2.16.2->tensorflow==2.16.2) (2.1.3)\n",
      "Requirement already satisfied: markdown-it-py>=2.2.0 in c:\\users\\smhrd\\anaconda3\\lib\\site-packages (from rich->keras>=3.0.0->tensorflow-intel==2.16.2->tensorflow==2.16.2) (2.2.0)\n",
      "Requirement already satisfied: pygments<3.0.0,>=2.13.0 in c:\\users\\smhrd\\anaconda3\\lib\\site-packages (from rich->keras>=3.0.0->tensorflow-intel==2.16.2->tensorflow==2.16.2) (2.15.1)\n",
      "Requirement already satisfied: mdurl~=0.1 in c:\\users\\smhrd\\anaconda3\\lib\\site-packages (from markdown-it-py>=2.2.0->rich->keras>=3.0.0->tensorflow-intel==2.16.2->tensorflow==2.16.2) (0.1.0)\n"
     ]
    }
   ],
   "source": [
    "!pip install tensorflow==2.16.2"
   ]
  },
  {
   "cell_type": "code",
   "execution_count": 5,
   "id": "579b2468-b779-4461-ac0b-dc2813f60ae0",
   "metadata": {},
   "outputs": [],
   "source": [
    "import cvlib as cv\n",
    "import cv2\n",
    "import matplotlib.pyplot as plt"
   ]
  },
  {
   "cell_type": "code",
   "execution_count": 4,
   "id": "92b6685d-cac1-465e-8880-7a9eb9898ff4",
   "metadata": {},
   "outputs": [
    {
     "name": "stdout",
     "output_type": "stream",
     "text": [
      "Package                           VersionNote: you may need to restart the kernel to use updated packages.\n",
      "\n",
      "--------------------------------- ------------------\n",
      "absl-py                           2.3.0\n",
      "aiobotocore                       2.12.3\n",
      "aiohappyeyeballs                  2.4.0\n",
      "aiohttp                           3.10.5\n",
      "aioitertools                      0.7.1\n",
      "aiosignal                         1.2.0\n",
      "alabaster                         0.7.16\n",
      "altair                            5.0.1\n",
      "anaconda-anon-usage               0.4.4\n",
      "anaconda-catalogs                 0.2.0\n",
      "anaconda-client                   1.12.3\n",
      "anaconda-cloud-auth               0.5.1\n",
      "anaconda-navigator                2.6.3\n",
      "anaconda-project                  0.11.1\n",
      "annotated-types                   0.6.0\n",
      "anyio                             4.2.0\n",
      "appdirs                           1.4.4\n",
      "archspec                          0.2.3\n",
      "argon2-cffi                       21.3.0\n",
      "argon2-cffi-bindings              21.2.0\n",
      "arrow                             1.2.3\n",
      "astroid                           2.14.2\n",
      "astropy                           6.1.3\n",
      "astropy-iers-data                 0.2024.9.2.0.33.23\n",
      "asttokens                         2.0.5\n",
      "astunparse                        1.6.3\n",
      "async-lru                         2.0.4\n",
      "atomicwrites                      1.4.0\n",
      "attrs                             25.3.0\n",
      "Automat                           20.2.0\n",
      "autopep8                          2.0.4\n",
      "Babel                             2.11.0\n",
      "bcrypt                            3.2.0\n",
      "beautifulsoup4                    4.12.3\n",
      "binaryornot                       0.4.4\n",
      "black                             24.8.0\n",
      "bleach                            4.1.0\n",
      "blinker                           1.6.2\n",
      "bokeh                             3.6.0\n",
      "boltons                           23.0.0\n",
      "botocore                          1.34.69\n",
      "Bottleneck                        1.3.7\n",
      "Brotli                            1.0.9\n",
      "cachetools                        5.3.3\n",
      "certifi                           2024.8.30\n",
      "cffi                              1.17.1\n",
      "chardet                           4.0.0\n",
      "charset-normalizer                3.3.2\n",
      "click                             8.1.7\n",
      "cloudpickle                       3.0.0\n",
      "colorama                          0.4.6\n",
      "colorcet                          3.1.0\n",
      "comm                              0.2.1\n",
      "conda                             24.9.2\n",
      "conda-build                       24.9.0\n",
      "conda-content-trust               0.2.0\n",
      "conda_index                       0.5.0\n",
      "conda-libmamba-solver             24.9.0\n",
      "conda-pack                        0.7.1\n",
      "conda-package-handling            2.3.0\n",
      "conda_package_streaming           0.10.0\n",
      "conda-repo-cli                    1.0.114\n",
      "conda-token                       0.5.0+1.g2209e04\n",
      "constantly                        23.10.4\n",
      "contourpy                         1.2.0\n",
      "cookiecutter                      2.6.0\n",
      "cryptography                      43.0.0\n",
      "cssselect                         1.2.0\n",
      "cvlib                             0.2.7\n",
      "cycler                            0.11.0\n",
      "cytoolz                           0.12.2\n",
      "dask                              2024.8.2\n",
      "dask-expr                         1.1.13\n",
      "datashader                        0.16.3\n",
      "debugpy                           1.6.7\n",
      "decorator                         5.1.1\n",
      "defusedxml                        0.7.1\n",
      "diff-match-patch                  20200713\n",
      "dill                              0.3.8\n",
      "distributed                       2024.8.2\n",
      "distro                            1.9.0\n",
      "docstring-to-markdown             0.11\n",
      "docutils                          0.18.1\n",
      "et-xmlfile                        1.1.0\n",
      "executing                         0.8.3\n",
      "fastjsonschema                    2.16.2\n",
      "filelock                          3.13.1\n",
      "flake8                            7.0.0\n",
      "Flask                             3.0.3\n",
      "flatbuffers                       25.2.10\n",
      "fonttools                         4.51.0\n",
      "frozendict                        2.4.2\n",
      "frozenlist                        1.4.0\n",
      "fsspec                            2024.6.1\n",
      "gast                              0.6.0\n",
      "gensim                            4.3.3\n",
      "gitdb                             4.0.7\n",
      "GitPython                         3.1.43\n",
      "google-pasta                      0.2.0\n",
      "greenlet                          3.0.1\n",
      "grpcio                            1.72.1\n",
      "h11                               0.14.0\n",
      "h5py                              3.11.0\n",
      "HeapDict                          1.0.1\n",
      "holoviews                         1.19.1\n",
      "httpcore                          1.0.2\n",
      "httpx                             0.27.0\n",
      "hvplot                            0.11.0\n",
      "hyperlink                         21.0.0\n",
      "idna                              3.7\n",
      "imagecodecs                       2023.1.23\n",
      "imageio                           2.33.1\n",
      "imagesize                         1.4.1\n",
      "imbalanced-learn                  0.12.3\n",
      "importlib-metadata                7.0.1\n",
      "imutils                           0.5.4\n",
      "incremental                       22.10.0\n",
      "inflection                        0.5.1\n",
      "iniconfig                         1.1.1\n",
      "intake                            2.0.7\n",
      "intervaltree                      3.1.0\n",
      "ipykernel                         6.28.0\n",
      "ipython                           8.27.0\n",
      "ipython-genutils                  0.2.0\n",
      "ipywidgets                        7.8.1\n",
      "isort                             5.13.2\n",
      "itemadapter                       0.3.0\n",
      "itemloaders                       1.1.0\n",
      "itsdangerous                      2.2.0\n",
      "jaraco.classes                    3.2.1\n",
      "jedi                              0.19.1\n",
      "jellyfish                         1.0.1\n",
      "Jinja2                            3.1.4\n",
      "jmespath                          1.0.1\n",
      "joblib                            1.4.2\n",
      "json5                             0.9.6\n",
      "jsonpatch                         1.33\n",
      "jsonpointer                       2.1\n",
      "jsonschema                        4.23.0\n",
      "jsonschema-specifications         2023.7.1\n",
      "jupyter                           1.0.0\n",
      "jupyter_client                    8.6.0\n",
      "jupyter-console                   6.6.3\n",
      "jupyter_core                      5.7.2\n",
      "jupyter-events                    0.10.0\n",
      "jupyter-lsp                       2.2.0\n",
      "jupyter_server                    2.14.1\n",
      "jupyter_server_terminals          0.4.4\n",
      "jupyterlab                        4.2.5\n",
      "jupyterlab-pygments               0.1.2\n",
      "jupyterlab_server                 2.27.3\n",
      "jupyterlab-widgets                1.0.0\n",
      "keras                             3.10.0\n",
      "keyring                           24.3.1\n",
      "kiwisolver                        1.4.4\n",
      "lazy_loader                       0.4\n",
      "lazy-object-proxy                 1.10.0\n",
      "lckr_jupyterlab_variableinspector 3.1.0\n",
      "libarchive-c                      5.1\n",
      "libclang                          18.1.1\n",
      "libmambapy                        1.5.8\n",
      "linkify-it-py                     2.0.0\n",
      "llvmlite                          0.43.0\n",
      "lmdb                              1.4.1\n",
      "locket                            1.0.0\n",
      "lxml                              5.2.1\n",
      "lz4                               4.3.2\n",
      "Markdown                          3.4.1\n",
      "markdown-it-py                    2.2.0\n",
      "MarkupSafe                        2.1.3\n",
      "matplotlib                        3.9.2\n",
      "matplotlib-inline                 0.1.6\n",
      "mccabe                            0.7.0\n",
      "mdit-py-plugins                   0.3.0\n",
      "mdurl                             0.1.0\n",
      "menuinst                          2.1.2\n",
      "mistune                           2.0.4\n",
      "mkl_fft                           1.3.10\n",
      "mkl_random                        1.2.7\n",
      "mkl-service                       2.4.0\n",
      "ml-dtypes                         0.3.2\n",
      "more-itertools                    10.3.0\n",
      "mpmath                            1.3.0\n",
      "msgpack                           1.0.3\n",
      "multidict                         6.0.4\n",
      "multipledispatch                  0.6.0\n",
      "mypy                              1.11.2\n",
      "mypy-extensions                   1.0.0\n",
      "namex                             0.1.0\n",
      "navigator-updater                 0.5.1\n",
      "nbclient                          0.8.0\n",
      "nbconvert                         7.16.4\n",
      "nbformat                          5.10.4\n",
      "nest-asyncio                      1.6.0\n",
      "networkx                          3.3\n",
      "nltk                              3.9.1\n",
      "notebook                          7.2.2\n",
      "notebook_shim                     0.2.3\n",
      "numba                             0.60.0\n",
      "numexpr                           2.8.7\n",
      "numpy                             1.26.4\n",
      "numpydoc                          1.7.0\n",
      "opencv-contrib-python             4.11.0.86\n",
      "openpyxl                          3.1.5\n",
      "opt_einsum                        3.4.0\n",
      "optree                            0.16.0\n",
      "outcome                           1.3.0.post0\n",
      "overrides                         7.4.0\n",
      "packaging                         24.1\n",
      "pandas                            2.2.2\n",
      "pandocfilters                     1.5.0\n",
      "panel                             1.5.2\n",
      "param                             2.1.1\n",
      "paramiko                          2.8.1\n",
      "parsel                            1.8.1\n",
      "parso                             0.8.3\n",
      "partd                             1.4.1\n",
      "pathspec                          0.10.3\n",
      "patsy                             0.5.6\n",
      "pexpect                           4.8.0\n",
      "pickleshare                       0.7.5\n",
      "pillow                            10.4.0\n",
      "pip                               24.2\n",
      "pkce                              1.0.3\n",
      "pkginfo                           1.10.0\n",
      "platformdirs                      3.10.0\n",
      "plotly                            5.24.1\n",
      "pluggy                            1.0.0\n",
      "ply                               3.11\n",
      "progressbar                       2.5\n",
      "prometheus-client                 0.14.1\n",
      "prompt-toolkit                    3.0.43\n",
      "Protego                           0.1.16\n",
      "protobuf                          4.25.3\n",
      "psutil                            5.9.0\n",
      "ptyprocess                        0.7.0\n",
      "pure-eval                         0.2.2\n",
      "py-cpuinfo                        9.0.0\n",
      "pyarrow                           16.1.0\n",
      "pyasn1                            0.4.8\n",
      "pyasn1-modules                    0.2.8\n",
      "pycodestyle                       2.11.1\n",
      "pycosat                           0.6.6\n",
      "pycparser                         2.21\n",
      "pyct                              0.5.0\n",
      "pycurl                            7.45.3\n",
      "pydantic                          2.8.2\n",
      "pydantic_core                     2.20.1\n",
      "pydeck                            0.8.0\n",
      "PyDispatcher                      2.0.5\n",
      "pydocstyle                        6.3.0\n",
      "pyerfa                            2.0.1.4\n",
      "pyflakes                          3.2.0\n",
      "Pygments                          2.15.1\n",
      "PyJWT                             2.8.0\n",
      "pylint                            2.16.2\n",
      "pylint-venv                       3.0.3\n",
      "pyls-spyder                       0.4.0\n",
      "PyNaCl                            1.5.0\n",
      "pyodbc                            5.1.0\n",
      "pyOpenSSL                         24.2.1\n",
      "pyparsing                         3.1.2\n",
      "PyQt5                             5.15.10\n",
      "PyQt5-sip                         12.13.0\n",
      "PyQtWebEngine                     5.15.6\n",
      "PySocks                           1.7.1\n",
      "pytesseract                       0.3.13\n",
      "pytest                            7.4.4\n",
      "python-dateutil                   2.9.0.post0\n",
      "python-dotenv                     0.21.0\n",
      "python-json-logger                2.0.7\n",
      "python-lsp-black                  2.0.0\n",
      "python-lsp-jsonrpc                1.1.2\n",
      "python-lsp-server                 1.10.0\n",
      "python-slugify                    5.0.2\n",
      "pytoolconfig                      1.2.6\n",
      "pytz                              2024.1\n",
      "pyviz_comms                       3.0.2\n",
      "PyWavelets                        1.7.0\n",
      "pywin32                           305.1\n",
      "pywin32-ctypes                    0.2.2\n",
      "pywinpty                          2.0.10\n",
      "PyYAML                            6.0.1\n",
      "pyzmq                             25.1.2\n",
      "QDarkStyle                        3.2.3\n",
      "qstylizer                         0.2.2\n",
      "QtAwesome                         1.3.1\n",
      "qtconsole                         5.5.1\n",
      "QtPy                              2.4.1\n",
      "queuelib                          1.6.2\n",
      "referencing                       0.30.2\n",
      "regex                             2024.9.11\n",
      "requests                          2.32.3\n",
      "requests-file                     1.5.1\n",
      "requests-toolbelt                 1.0.0\n",
      "rfc3339-validator                 0.1.4\n",
      "rfc3986-validator                 0.1.1\n",
      "rich                              13.7.1\n",
      "rope                              1.12.0\n",
      "rpds-py                           0.10.6\n",
      "Rtree                             1.0.1\n",
      "ruamel.yaml                       0.18.6\n",
      "ruamel.yaml.clib                  0.2.8\n",
      "ruamel-yaml-conda                 0.17.21\n",
      "s3fs                              2024.6.1\n",
      "scikit-image                      0.24.0\n",
      "scikit-learn                      1.5.1\n",
      "scipy                             1.13.1\n",
      "Scrapy                            2.11.1\n",
      "seaborn                           0.13.0\n",
      "selenium                          4.31.0\n",
      "semver                            3.0.2\n",
      "Send2Trash                        1.8.2\n",
      "service-identity                  18.1.0\n",
      "setuptools                        75.1.0\n",
      "sip                               6.7.12\n",
      "six                               1.16.0\n",
      "smart-open                        5.2.1\n",
      "smmap                             4.0.0\n",
      "sniffio                           1.3.0\n",
      "snowballstemmer                   2.2.0\n",
      "sortedcontainers                  2.4.0\n",
      "soupsieve                         2.5\n",
      "Sphinx                            7.3.7\n",
      "sphinxcontrib-applehelp           1.0.2\n",
      "sphinxcontrib-devhelp             1.0.2\n",
      "sphinxcontrib-htmlhelp            2.0.0\n",
      "sphinxcontrib-jsmath              1.0.1\n",
      "sphinxcontrib-qthelp              1.0.3\n",
      "sphinxcontrib-serializinghtml     1.1.10\n",
      "spyder                            5.5.1\n",
      "spyder-kernels                    2.5.0\n",
      "SQLAlchemy                        2.0.34\n",
      "stack-data                        0.2.0\n",
      "statsmodels                       0.14.2\n",
      "streamlit                         1.37.1\n",
      "sympy                             1.13.2\n",
      "tables                            3.10.1\n",
      "tabulate                          0.9.0\n",
      "tblib                             1.7.0\n",
      "tenacity                          8.2.3\n",
      "tensorboard                       2.16.2\n",
      "tensorboard-data-server           0.7.2\n",
      "tensorflow                        2.16.2\n",
      "tensorflow-intel                  2.16.2\n",
      "termcolor                         3.1.0\n",
      "terminado                         0.17.1\n",
      "text-unidecode                    1.3\n",
      "textdistance                      4.2.1\n",
      "threadpoolctl                     3.5.0\n",
      "three-merge                       0.1.1\n",
      "tifffile                          2023.4.12\n",
      "tinycss2                          1.2.1\n",
      "tldextract                        5.1.2\n",
      "toml                              0.10.2\n",
      "tomli                             2.0.1\n",
      "tomlkit                           0.11.1\n",
      "toolz                             0.12.0\n",
      "tornado                           6.4.1\n",
      "tqdm                              4.66.5\n",
      "traitlets                         5.14.3\n",
      "trio                              0.29.0\n",
      "trio-websocket                    0.12.2\n",
      "truststore                        0.8.0\n",
      "Twisted                           23.10.0\n",
      "twisted-iocpsupport               1.0.2\n",
      "typing_extensions                 4.11.0\n",
      "tzdata                            2023.3\n",
      "uc-micro-py                       1.0.1\n",
      "ujson                             5.10.0\n",
      "unicodedata2                      15.1.0\n",
      "Unidecode                         1.3.8\n",
      "urllib3                           2.2.3\n",
      "w3lib                             2.1.2\n",
      "watchdog                          4.0.1\n",
      "wcwidth                           0.2.5\n",
      "webencodings                      0.5.1\n",
      "websocket-client                  1.8.0\n",
      "Werkzeug                          3.0.3\n",
      "whatthepatch                      1.0.2\n",
      "wheel                             0.44.0\n",
      "widgetsnbextension                3.6.6\n",
      "win-inet-pton                     1.1.0\n",
      "wrapt                             1.14.1\n",
      "wsproto                           1.2.0\n",
      "xarray                            2023.6.0\n",
      "xlwings                           0.32.1\n",
      "xyzservices                       2022.9.0\n",
      "yapf                              0.40.2\n",
      "yarl                              1.11.0\n",
      "zict                              3.0.0\n",
      "zipp                              3.17.0\n",
      "zope.interface                    5.4.0\n",
      "zstandard                         0.23.0\n"
     ]
    }
   ],
   "source": [
    "pip list"
   ]
  },
  {
   "cell_type": "markdown",
   "id": "de6f637c-4eb9-487b-b0bc-926fa3cfe159",
   "metadata": {},
   "source": [
    "이미지에서 얼굴 탐지"
   ]
  },
  {
   "cell_type": "code",
   "execution_count": 7,
   "id": "f7f28578-b6a1-47fd-b017-f1665945da19",
   "metadata": {},
   "outputs": [
    {
     "name": "stdout",
     "output_type": "stream",
     "text": [
      "[[22, 191, 123, 317], [238, 103, 329, 207], [464, 65, 557, 170]]\n",
      "[0.9990305, 0.9981894, 0.97535056]\n"
     ]
    }
   ],
   "source": [
    "img = cv2.imread('./data/cute.png')\n",
    "faces, conf = cv.detect_face(img)  #detect_face : 얼굴탐지 도구 \n",
    "print(faces) #얼굴 좌표 \n",
    "print(conf) #신뢰도 =정확도\n",
    "\n",
    "cv2.imshow('cute',img)\n",
    "cv2.waitKey(0)\n",
    "cv2.destroyAllWindows()"
   ]
  },
  {
   "cell_type": "code",
   "execution_count": 12,
   "id": "8766274c-7070-48e4-a647-e20219f94190",
   "metadata": {},
   "outputs": [],
   "source": [
    "#이미지에 사각형 도형 출력하기\n",
    "import numpy as np\n",
    "img_bg = np.zeros((480,640,3))\n",
    "line_color = [0,255,0]\n",
    "line_thick = 4\n",
    "\n",
    "#cv2.ractangle(이미지, 좌상단, 우하단, 색상, 두께)\n",
    "cv2.rectangle(img_bg, (0,240),(240,480), line_color, line_thick)\n",
    "cv2.rectangle(img_bg, (360,240),(600,480), line_color, cv2.FILLED) #속이 꽉찬 사각형\n",
    "\n",
    "\n",
    "cv2.imshow('img_bg1',img_bg)\n",
    "cv2.waitKey(0)\n",
    "cv2.destroyAllWindows()"
   ]
  },
  {
   "cell_type": "code",
   "execution_count": 13,
   "id": "6548ea2d-6c12-4652-ad49-0695db590fb4",
   "metadata": {},
   "outputs": [
    {
     "data": {
      "text/plain": [
       "[22, 191, 123, 317]"
      ]
     },
     "execution_count": 13,
     "metadata": {},
     "output_type": "execute_result"
    }
   ],
   "source": [
    "#첫 번째 사람의 얼굴 좌표\n",
    "faces[0]\n",
    "#첫 번쨰 사람의 좌상단 좌표"
   ]
  },
  {
   "cell_type": "code",
   "execution_count": 21,
   "id": "83db397f-82a1-43f3-89f1-dca7d7e31c9e",
   "metadata": {},
   "outputs": [],
   "source": [
    "img= cv2.imread('./data/cute.png')\n",
    "faces, conf = cv.detect_face(img)\n",
    "color = [0, 255,255]\n",
    "line_th = 3\n",
    "\n",
    "#여러 명의 얼굴에 사각형\n",
    "for i in range(len(faces)) :\n",
    "    # i는 0,1,2\n",
    "\n",
    "    #putText(이미지, 텍스트 위치, 글꼴 , 글씨 크기, 색깔, 두께)\n",
    "    cv2.putText(img, f'{conf[i]}', (faces[i][0] ,faces[i][1]-10), cv2.FONT_HERSHEY_PLAIN, 2, color, 2)\n",
    "\n",
    "    #cv2.ractangle(이미지, 좌상단, 우하단, 색상, 두께)\n",
    "    cv2.rectangle(img,(faces[i][0], faces[i][1]), (faces[i][2],faces[i][3]), color, line_th)\n",
    "\n",
    "cv2.imshow('cute', img)\n",
    "cv2.waitKey(0)\n",
    "cv2.destroyAllWindows()\n",
    "               "
   ]
  },
  {
   "cell_type": "code",
   "execution_count": 33,
   "id": "e10c1781-b990-499e-9f96-822a978ac767",
   "metadata": {},
   "outputs": [],
   "source": [
    "img= cv2.imread('./data/cute.png')\n",
    "faces, conf = cv.detect_face(img)\n",
    "color = [0, 255,255]\n",
    "line_th = 3\n",
    "\n",
    "#여러 명의 얼굴에 사각형\n",
    "''' for i in range(len(faces)) :\n",
    "    # i는 0,1,2\n",
    "\n",
    "    #putText(이미지, 텍스트 위치, 글꼴 , 글씨 크기, 색깔, 두께)\n",
    "    cv2.putText(img, f'{conf[i]}', (faces[i][0] ,faces[i][1]-10), cv2.FONT_HERSHEY_PLAIN, 2, color, 2)\n",
    "\n",
    "    #cv2.ractangle(이미지, 좌상단, 우하단, 색상, 두께)\n",
    "    cv2.rectangle(img,(faces[i][0], faces[i][1]), (faces[i][2],faces[i][3]), color, line_th)\n",
    "'''\n",
    "#감지된 얼굴에 사각형 씌워주고, 정확토 출력하는 코드\n",
    "for (x,y,x2,y2), c in zip(faces, conf) : #3명이라 3번 반복\n",
    "    cv2.putText(img, f'{c:.2f}', (x ,y-10), cv2.FONT_HERSHEY_PLAIN, 2, color, 2)\n",
    "    cv2.rectangle(img,(x, y), (x2,y2), color, line_th)\n",
    "\n",
    "cv2.imshow('cute', img)\n",
    "cv2.waitKey(0)\n",
    "cv2.destroyAllWindows()\n",
    "               "
   ]
  },
  {
   "cell_type": "code",
   "execution_count": 25,
   "id": "6a9460cd-c7ce-4126-a8f0-1e437839688d",
   "metadata": {},
   "outputs": [
    {
     "data": {
      "text/plain": [
       "[([22, 191, 123, 317], 0.9990305),\n",
       " ([238, 103, 329, 207], 0.9981894),\n",
       " ([464, 65, 557, 170], 0.97535056)]"
      ]
     },
     "execution_count": 25,
     "metadata": {},
     "output_type": "execute_result"
    }
   ],
   "source": [
    "list(zip(faces, conf))"
   ]
  },
  {
   "cell_type": "code",
   "execution_count": 26,
   "id": "884ef02a-000a-4ee8-b666-c4d65261492a",
   "metadata": {},
   "outputs": [],
   "source": [
    "(x,y,x2,y2), c= list(zip(faces, conf))[0]"
   ]
  },
  {
   "cell_type": "code",
   "execution_count": 27,
   "id": "e100e914-928e-4743-8318-c295065e1257",
   "metadata": {},
   "outputs": [
    {
     "data": {
      "text/plain": [
       "22"
      ]
     },
     "execution_count": 27,
     "metadata": {},
     "output_type": "execute_result"
    }
   ],
   "source": [
    "x"
   ]
  },
  {
   "cell_type": "code",
   "execution_count": 28,
   "id": "747e7db8-d534-415d-9e9c-9dd17239e50e",
   "metadata": {},
   "outputs": [
    {
     "data": {
      "text/plain": [
       "191"
      ]
     },
     "execution_count": 28,
     "metadata": {},
     "output_type": "execute_result"
    }
   ],
   "source": [
    "y"
   ]
  },
  {
   "cell_type": "code",
   "execution_count": 29,
   "id": "6761c334-fc64-49f0-b337-4cabf40fe6bf",
   "metadata": {},
   "outputs": [
    {
     "data": {
      "text/plain": [
       "123"
      ]
     },
     "execution_count": 29,
     "metadata": {},
     "output_type": "execute_result"
    }
   ],
   "source": [
    "x2"
   ]
  },
  {
   "cell_type": "markdown",
   "id": "5664a053-09df-4970-b897-e0629091ee18",
   "metadata": {},
   "source": [
    "- 카메라 얼굴 탐지 출력하기"
   ]
  },
  {
   "cell_type": "code",
   "execution_count": 43,
   "id": "ba278e0b-d75a-45fd-a8c8-99df29ade23b",
   "metadata": {},
   "outputs": [
    {
     "name": "stdout",
     "output_type": "stream",
     "text": [
      "사용자에 의해서 영상이 종료됩니다.\n"
     ]
    }
   ],
   "source": [
    "cap = cv2.VideoCapture(0)\n",
    "color = [0,255,255]\n",
    "line_th = 3\n",
    "cnt = 0\n",
    "\n",
    "while True: \n",
    "    try :\n",
    "        ch, frame = cap.read() # ch : 성공여부, frame : 프레임 저장\n",
    "        \n",
    "        #cv2.flip(대상이미지, 1) : 좌우반전\n",
    "        flip_frame = cv2. flip(frame, 1)\n",
    "        \n",
    "        #실패할 경우 while문 멈추기\n",
    "        if not ch : #ch가 false일 경우 조건문이 실행\n",
    "            print('동영상 재생 끝 or 동영상 읽기 실패')\n",
    "            break\n",
    "\n",
    "        #얼굴 탐지(찾기)\n",
    "        faces, conf = cv.detect_face(flip_frame)\n",
    "        # faces 각 얼굴의 좌표\n",
    "        # conf 각 얼굴의 정확도 \n",
    "\n",
    "        # cv2.putText(이미지, 텍스트, 위치, 글꼴)\n",
    "        for (x,y,x2,y2),c in zip(faces, conf) : \n",
    "            cv2.putText(flip_frame, f'{c:.2f}', (x,y-10), cv2.FONT_HERSHEY_PLAIN, 2, color, 2)\n",
    "            cv2.rectangle(flip_frame, (x,y),(x2,y2),color, line_th)\n",
    "\n",
    "        cv2.imshow('video',flip_frame)\n",
    "        key = cv2.waitKey(33)\n",
    "        if key == ord('q'):\n",
    "            print('사용자에 의해서 영상이 종료됩니다.')\n",
    "            break\n",
    "\n",
    "        #사진찍기, 프레임 저장하기 \n",
    "        if key == ord('w'):\n",
    "            cnt +=1 \n",
    "            print(f'./data/face_dt{cnt}.png 사진저장')\n",
    "            cv2.imwrite(f'./data/face_dt{cnt}.png', flip_frame, params=[cv2.IMWRITE_PNG_COMPRESSION,0])\n",
    "    \n",
    "    except:  \n",
    "        print('카메라 읽기 실패 or 영상이 끝남')\n",
    "        cap.release() # 카메라 연결 해제\n",
    "        cv2.destroyAllWindows()\n",
    "\n",
    "#try문 안에 있는 while문에서 break로 나갔을 경우\n",
    "cap.release()\n",
    "cv2.destroyAllWindows()\n",
    "        \n",
    "        "
   ]
  },
  {
   "cell_type": "code",
   "execution_count": 38,
   "id": "4bcdb136-9202-4729-9b04-dbc27060d261",
   "metadata": {},
   "outputs": [
    {
     "name": "stdout",
     "output_type": "stream",
     "text": [
      "선언되지 않은 변수입니다.\n"
     ]
    }
   ],
   "source": [
    "# 얼굴 인식이 안 됐을 때, 에러가 발생하는 경우가 존재\n",
    "# 카메라를 읽도록 재실행 연결\n",
    "# 인식이 안 될 경우는 카메라 꺼지도록 설정 \n",
    "#try-except : 예외처리 \n",
    "try : \n",
    "    print(dsad)\n",
    "except : \n",
    "    print('선언되지 않은 변수입니다.')"
   ]
  },
  {
   "cell_type": "code",
   "execution_count": null,
   "id": "d328ec5a-562a-465d-9f2e-8633f4bc56f0",
   "metadata": {},
   "outputs": [],
   "source": []
  },
  {
   "cell_type": "code",
   "execution_count": null,
   "id": "4e863c7c-2f4d-43da-9a5d-451322626719",
   "metadata": {},
   "outputs": [],
   "source": []
  },
  {
   "cell_type": "code",
   "execution_count": null,
   "id": "de6c1d5e-b468-4c91-984b-29d1175a01ea",
   "metadata": {},
   "outputs": [],
   "source": []
  },
  {
   "cell_type": "code",
   "execution_count": null,
   "id": "72c4ab55-b632-4a1d-8cdc-a6f284e7942d",
   "metadata": {},
   "outputs": [],
   "source": []
  },
  {
   "cell_type": "code",
   "execution_count": null,
   "id": "cdff7610-4c28-414e-912d-88839ac1c69c",
   "metadata": {},
   "outputs": [],
   "source": []
  },
  {
   "cell_type": "code",
   "execution_count": null,
   "id": "88473b0f-d711-4425-a21d-e5bfc8a48cb0",
   "metadata": {},
   "outputs": [],
   "source": []
  },
  {
   "cell_type": "code",
   "execution_count": null,
   "id": "98f4d756-b2d7-4a9f-8ff4-f5a25b5de54c",
   "metadata": {},
   "outputs": [],
   "source": []
  },
  {
   "cell_type": "code",
   "execution_count": null,
   "id": "d2fc2bdf-dbac-4aba-843e-15cec6f0be34",
   "metadata": {},
   "outputs": [],
   "source": []
  },
  {
   "cell_type": "code",
   "execution_count": null,
   "id": "8a304b81-52c0-48df-aba8-808eb4aaf530",
   "metadata": {},
   "outputs": [],
   "source": []
  },
  {
   "cell_type": "code",
   "execution_count": null,
   "id": "b3152340-4f1e-439f-9bfb-36a34f7c5da5",
   "metadata": {},
   "outputs": [],
   "source": []
  },
  {
   "cell_type": "code",
   "execution_count": null,
   "id": "84b7f40f-22cf-492a-be0c-ce2ef2d7c6d1",
   "metadata": {},
   "outputs": [],
   "source": []
  },
  {
   "cell_type": "code",
   "execution_count": null,
   "id": "9e829dcb-73c4-4712-a20e-a04a11fd4101",
   "metadata": {},
   "outputs": [],
   "source": []
  },
  {
   "cell_type": "code",
   "execution_count": null,
   "id": "c4df989d-0908-405e-85b4-2472901b1fcf",
   "metadata": {},
   "outputs": [],
   "source": []
  },
  {
   "cell_type": "code",
   "execution_count": null,
   "id": "54f9ff84-2b90-4b27-af35-6bbc5b2b95ee",
   "metadata": {},
   "outputs": [],
   "source": []
  },
  {
   "cell_type": "code",
   "execution_count": null,
   "id": "421bc3c2-ea73-42a2-a0ce-01e1c1abfc4f",
   "metadata": {},
   "outputs": [],
   "source": []
  },
  {
   "cell_type": "code",
   "execution_count": null,
   "id": "fa906b5d-0da4-492c-96e5-5c35c42b4248",
   "metadata": {},
   "outputs": [],
   "source": []
  },
  {
   "cell_type": "code",
   "execution_count": null,
   "id": "6b677d18-7ae9-4cec-8f3a-a8db1e724e52",
   "metadata": {},
   "outputs": [],
   "source": []
  },
  {
   "cell_type": "code",
   "execution_count": null,
   "id": "43eaa2b9-3205-40f1-8b2f-4a15a51d202c",
   "metadata": {},
   "outputs": [],
   "source": []
  },
  {
   "cell_type": "code",
   "execution_count": null,
   "id": "b541d935-7051-4315-b1d9-b52a1104777d",
   "metadata": {},
   "outputs": [],
   "source": []
  },
  {
   "cell_type": "code",
   "execution_count": null,
   "id": "191c7d92-5125-4062-b4aa-fa74f26e200d",
   "metadata": {},
   "outputs": [],
   "source": []
  },
  {
   "cell_type": "code",
   "execution_count": null,
   "id": "fbc532e7-fc72-4ea0-a212-fb9ba8a308b7",
   "metadata": {},
   "outputs": [],
   "source": []
  },
  {
   "cell_type": "code",
   "execution_count": null,
   "id": "090f753c-2411-4558-950a-91e6913c60cc",
   "metadata": {},
   "outputs": [],
   "source": []
  },
  {
   "cell_type": "code",
   "execution_count": null,
   "id": "e9d79c15-d477-4e49-b70a-085f9f3fcef1",
   "metadata": {},
   "outputs": [],
   "source": []
  },
  {
   "cell_type": "code",
   "execution_count": null,
   "id": "9dc52abc-73e4-4efc-8295-516e573e49f0",
   "metadata": {},
   "outputs": [],
   "source": []
  },
  {
   "cell_type": "code",
   "execution_count": null,
   "id": "7dd6ef65-e94d-4287-8cde-7c53a9d2b464",
   "metadata": {},
   "outputs": [],
   "source": []
  },
  {
   "cell_type": "code",
   "execution_count": null,
   "id": "0113ede5-f171-44fb-9fe8-d8b3f68de3ce",
   "metadata": {},
   "outputs": [],
   "source": []
  },
  {
   "cell_type": "code",
   "execution_count": null,
   "id": "1abbe74e-b81d-489e-9a83-f110fec695c5",
   "metadata": {},
   "outputs": [],
   "source": []
  },
  {
   "cell_type": "code",
   "execution_count": null,
   "id": "beb5749f-c680-4591-b41c-29965243a2a9",
   "metadata": {},
   "outputs": [],
   "source": []
  },
  {
   "cell_type": "code",
   "execution_count": null,
   "id": "c6c41b8f-5105-42c5-b534-0980a76b9c58",
   "metadata": {},
   "outputs": [],
   "source": []
  },
  {
   "cell_type": "code",
   "execution_count": null,
   "id": "94d35b70-de22-439c-a740-707a988c264f",
   "metadata": {},
   "outputs": [],
   "source": []
  },
  {
   "cell_type": "code",
   "execution_count": null,
   "id": "3e0653a7-8c45-4461-a312-687efee46655",
   "metadata": {},
   "outputs": [],
   "source": []
  },
  {
   "cell_type": "code",
   "execution_count": null,
   "id": "5bf802a4-332b-4cf4-9bde-7e09e2054bc4",
   "metadata": {},
   "outputs": [],
   "source": []
  },
  {
   "cell_type": "code",
   "execution_count": null,
   "id": "374d3b51-0977-41b0-af32-6ab0621721aa",
   "metadata": {},
   "outputs": [],
   "source": []
  },
  {
   "cell_type": "code",
   "execution_count": null,
   "id": "84325a9d-44b8-4634-bfe6-300b86e8ea1c",
   "metadata": {},
   "outputs": [],
   "source": []
  },
  {
   "cell_type": "code",
   "execution_count": null,
   "id": "7561f7a7-a182-4329-85e9-738bc3ea22c3",
   "metadata": {},
   "outputs": [],
   "source": []
  },
  {
   "cell_type": "code",
   "execution_count": null,
   "id": "38160376-4226-42a5-b342-5a93db095b59",
   "metadata": {},
   "outputs": [],
   "source": []
  },
  {
   "cell_type": "code",
   "execution_count": null,
   "id": "b0decd8d-fee0-4880-a70a-71cf64d91eb8",
   "metadata": {},
   "outputs": [],
   "source": []
  },
  {
   "cell_type": "code",
   "execution_count": null,
   "id": "720c02c7-fe94-4bce-a9d8-f68e2f3b8f91",
   "metadata": {},
   "outputs": [],
   "source": []
  },
  {
   "cell_type": "code",
   "execution_count": null,
   "id": "a5be479d-d413-4ec8-98b7-b9de91172ae2",
   "metadata": {},
   "outputs": [],
   "source": []
  },
  {
   "cell_type": "code",
   "execution_count": null,
   "id": "a088e427-7661-4f29-9771-dcd7d744fade",
   "metadata": {},
   "outputs": [],
   "source": []
  },
  {
   "cell_type": "code",
   "execution_count": null,
   "id": "82e215f2-2fd3-4f03-b6a5-e8e27638a39f",
   "metadata": {},
   "outputs": [],
   "source": []
  },
  {
   "cell_type": "code",
   "execution_count": null,
   "id": "ab01a47d-a09b-47a6-aca4-3e8b85932129",
   "metadata": {},
   "outputs": [],
   "source": []
  }
 ],
 "metadata": {
  "kernelspec": {
   "display_name": "Python 3 (ipykernel)",
   "language": "python",
   "name": "python3"
  },
  "language_info": {
   "codemirror_mode": {
    "name": "ipython",
    "version": 3
   },
   "file_extension": ".py",
   "mimetype": "text/x-python",
   "name": "python",
   "nbconvert_exporter": "python",
   "pygments_lexer": "ipython3",
   "version": "3.12.7"
  }
 },
 "nbformat": 4,
 "nbformat_minor": 5
}
