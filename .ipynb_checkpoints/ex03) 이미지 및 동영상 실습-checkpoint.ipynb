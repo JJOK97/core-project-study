{
 "cells": [
  {
   "cell_type": "code",
   "execution_count": 1,
   "id": "7f1a73ea-f5a3-4dbe-8b55-37cdea9d54f3",
   "metadata": {},
   "outputs": [],
   "source": [
    "import cv2\n",
    "import matplotlib.pyplot as plt"
   ]
  },
  {
   "cell_type": "code",
   "execution_count": 2,
   "id": "2f68210f-63dd-4137-9ee7-5bf78e819448",
   "metadata": {},
   "outputs": [
    {
     "name": "stdout",
     "output_type": "stream",
     "text": [
      "113\n"
     ]
    }
   ],
   "source": [
    "# cv2 이미지 출력하는 기능 실행\n",
    "img = cv2.imread('./data/pets.jpg')\n",
    "\n",
    "cv2.imshow('pet', img)\n",
    "\n",
    "#언제까지 창이 켜져 있게 할 건지\n",
    "# 닫힘 기능\n",
    "print( cv2.waitKey(0)) # 무한대기\n",
    "cv2.destroyAllWindows() \n"
   ]
  },
  {
   "cell_type": "markdown",
   "id": "2c8a1af0-fa1c-426a-bee4-1d8af6b40c53",
   "metadata": {},
   "source": [
    "### 동영상 출력하기\n",
    "- cv2. waitKey(밀리초) : 동영상이 실행되는 시간에 대해서 제어\n",
    "- cv2. waitKey() : 사용자의 키보드로부터 입력된 값을 반환  -> 윈도우 창 꺼지는 기능 "
   ]
  },
  {
   "cell_type": "code",
   "execution_count": 8,
   "id": "63da54c7-4dc5-4814-a3e3-52feafce7d59",
   "metadata": {},
   "outputs": [
    {
     "name": "stdout",
     "output_type": "stream",
     "text": [
      "사용자에 의해 영상이 종료\n"
     ]
    }
   ],
   "source": [
    "cap = cv2.VideoCapture('./data/dogs.mp4') #영상(비디오 객체) 가져옴\n",
    "\n",
    "while True: #계속 실행, 동영상 : 연속적인 이미지\n",
    "    ch, frame = cap.read() # ch : 성공여부(T or F), frame: 받아온 이미지\n",
    "\n",
    "    # 실패할 경우 while 멈추기\n",
    "    #False일 경우 실행되는 문장\n",
    "    if not ch:\n",
    "        print('동영상 재생 끝 or 읽기 실패')\n",
    "        break\n",
    "\n",
    "    # 제대로 읽었을 경우\n",
    "    cv2.imshow('video1', frame) # [중요!!] 동영상도 이미지 출력과 같은 이치, while문 안에 있기 때문에 연속 출력되어 동영상으로 보이는 것.\n",
    "\n",
    "    # q라고 하는 알파벳을 클릭 > 동영상 윈도우창 꺼짐\n",
    "    key = cv2.waitKey(33) # 속도 제어, 사용자 입력값은 key에 저장\n",
    "\n",
    "    #통상 33 정도 넣으면 프레임이 자연스러움. waitKey(1000) 입력 시, 1초마다 이미지 보여져 동영상처럼 보이지 않게 됨.\n",
    "    \n",
    "    #if key == 'q': \n",
    "    if key == ord('q'): #아스키코드로 바꿔줌\n",
    "        print('사용자에 의해 영상이 종료')\n",
    "        break\n",
    "\n",
    "cap.release() # 카메라 연결 자원 해제\n",
    "cv2.destroyAllWindows()"
   ]
  },
  {
   "cell_type": "code",
   "execution_count": null,
   "id": "b619efa7-03a7-4979-8f26-6e00d137d434",
   "metadata": {},
   "outputs": [],
   "source": []
  },
  {
   "cell_type": "code",
   "execution_count": 10,
   "id": "0ea284d6-47c8-4e78-a774-80bd707ef58a",
   "metadata": {},
   "outputs": [
    {
     "name": "stdout",
     "output_type": "stream",
     "text": [
      "사용자에 의해 영상이 종료\n"
     ]
    }
   ],
   "source": [
    "cap = cv2.VideoCapture(0) #영상(비디오 객체) 가져옴\n",
    "\n",
    "while True: #계속 실행, 동영상 : 연속적인 이미지\n",
    "    ch, frame = cap.read() # ch : 성공여부(T or F), frame: 받아온 이미지\n",
    "\n",
    "    # 실패할 경우 while 멈추기\n",
    "    #False일 경우 실행되는 문장\n",
    "    if not ch:\n",
    "        print('동영상 재생 끝 or 읽기 실패')\n",
    "        break\n",
    "\n",
    "    # 제대로 읽었을 경우\n",
    "    cv2.imshow('video1', frame) # [중요!!] 동영상도 이미지 출력과 같은 이치, while문 안에 있기 때문에 연속 출력되어 동영상으로 보이는 것.\n",
    "\n",
    "    # q라고 하는 알파벳을 클릭 > 동영상 윈도우창 꺼짐\n",
    "    key = cv2.waitKey(33) # 속도 제어, 사용자 입력값은 key에 저장\n",
    "\n",
    "    #통상 33 정도 넣으면 프레임이 자연스러움. waitKey(1000) 입력 시, 1초마다 이미지 보여져 동영상처럼 보이지 않게 됨.\n",
    "    \n",
    "    #if key == 'q': \n",
    "    if key == ord('q'): #아스키코드로 바꿔줌\n",
    "        print('사용자에 의해 영상이 종료')\n",
    "        break\n",
    "\n",
    "cap.release() # 카메라 연결 자원 해제\n",
    "cv2.destroyAllWindows()"
   ]
  },
  {
   "cell_type": "code",
   "execution_count": null,
   "id": "e2842366-3b83-4f4d-a97c-8f65d8b9d7c0",
   "metadata": {},
   "outputs": [],
   "source": []
  },
  {
   "cell_type": "code",
   "execution_count": 3,
   "id": "234a7140-0387-4edc-a967-11e07b039c0a",
   "metadata": {},
   "outputs": [
    {
     "name": "stdout",
     "output_type": "stream",
     "text": [
      "./data/dog_img1.png 사진 저장\n",
      "./data/dog_img2.png 사진 저장\n",
      "./data/dog_img3.png 사진 저장\n",
      "사용자에 의해 영상이 종료\n"
     ]
    }
   ],
   "source": [
    "cap = cv2.VideoCapture(0) #영상(비디오 객체) 가져옴\n",
    "cnt = 0\n",
    "\n",
    "while True: #계속 실행, 동영상 : 연속적인 이미지\n",
    "    ch, frame = cap.read() # ch : 성공여부(T or F), frame: 받아온 이미지\n",
    "\n",
    "    # 실패할 경우 while 멈추기\n",
    "    #False일 경우 실행되는 문장\n",
    "    if not ch:\n",
    "        print('동영상 재생 끝 or 읽기 실패')\n",
    "        break\n",
    "\n",
    "    # 제대로 읽었을 경우\n",
    "    cv2.imshow('video1', frame) # [중요!!] 동영상도 이미지 출력과 같은 이치, while문 안에 있기 때문에 연속 출력되어 동영상으로 보이는 것.\n",
    "\n",
    "    # q라고 하는 알파벳을 클릭 > 동영상 윈도우창 꺼짐\n",
    "    key = cv2.waitKey(33) # 속도 제어, 사용자 입력값은 key에 저장\n",
    "\n",
    "    #통상 33 정도 넣으면 프레임이 자연스러움. waitKey(1000) 입력 시, 1초마다 이미지 보여져 동영상처럼 보이지 않게 됨.\n",
    "    \n",
    "    #if key == 'q': \n",
    "    if key == ord('q'): #아스키코드로 바꿔줌\n",
    "        print('사용자에 의해 영상이 종료')\n",
    "        break\n",
    "\n",
    "    #사진 찍기, 프레임 저장하기 \n",
    "    if key == ord('w') : #사용자가 'w'를 입력한다면 \n",
    "        cnt += 1\n",
    "        print(f'./data/dog_img{cnt}.png 사진 저장')\n",
    "        cv2.imwrite(f'./data/dog_img{cnt}.png', frame, params=[cv2.IMWRITE_PNG_COMPRESSION,0])\n",
    "        #imwrite 이미지 저장 함수\n",
    "        #imwrite(경로, 저장할 이미지, 이미지 저장시의 옵션 (압축 정도, 0ㅇㄹ 경우 최고화질))\n",
    "\n",
    "cap.release() # 카메라 연결 자원 해제\n",
    "cv2.destroyAllWindows()"
   ]
  },
  {
   "cell_type": "code",
   "execution_count": null,
   "id": "f9901ff8-f1e5-4012-b889-200c0e9e7b9e",
   "metadata": {},
   "outputs": [],
   "source": [
    "plt.xticks([]) #격자 표시 제거\n",
    "plt.yticks([]) # 격자 표시 제거\n",
    "for i in range(1,5) :\n",
    "    selca = cv2.imread(f'./data/dog_img{i}.png')\n",
    "    selca = cv2.cvtColor(selca, cv2.COLOR_BGR2RGB)\n",
    "    plt.subplot(2,2,i)\n",
    "    plt.xticks([]) #격자 표시 제거\n",
    "    plt.yticks([]) # 격자 표시 제거\n",
    "    plt.imshow(selca)\n",
    "               "
   ]
  },
  {
   "cell_type": "code",
   "execution_count": null,
   "id": "70e4470d-a364-41cc-9417-006c08f76aaa",
   "metadata": {},
   "outputs": [],
   "source": []
  },
  {
   "cell_type": "code",
   "execution_count": null,
   "id": "5da72624-5c7d-4471-8482-955c3d4bcf67",
   "metadata": {},
   "outputs": [],
   "source": []
  },
  {
   "cell_type": "code",
   "execution_count": null,
   "id": "b5569835-2f7d-4a3d-a02a-11513303501b",
   "metadata": {},
   "outputs": [],
   "source": []
  },
  {
   "cell_type": "code",
   "execution_count": null,
   "id": "0926cb29-b60a-40e3-bf15-7f14fff8d81e",
   "metadata": {},
   "outputs": [],
   "source": []
  },
  {
   "cell_type": "code",
   "execution_count": null,
   "id": "92a97f40-0161-4ed1-8e33-025be4ac262b",
   "metadata": {},
   "outputs": [],
   "source": []
  },
  {
   "cell_type": "code",
   "execution_count": null,
   "id": "e7503b10-95a4-4dca-aefe-28d6e9ad0a26",
   "metadata": {},
   "outputs": [],
   "source": []
  },
  {
   "cell_type": "code",
   "execution_count": null,
   "id": "2c1aa9a6-8aa3-42bb-beb9-09b4264e91ff",
   "metadata": {},
   "outputs": [],
   "source": []
  },
  {
   "cell_type": "code",
   "execution_count": null,
   "id": "46c677a1-19d6-4876-b1ff-59266a121390",
   "metadata": {},
   "outputs": [],
   "source": []
  },
  {
   "cell_type": "code",
   "execution_count": null,
   "id": "760c8696-0eee-4936-9179-613b97a97c4c",
   "metadata": {},
   "outputs": [],
   "source": []
  },
  {
   "cell_type": "code",
   "execution_count": null,
   "id": "e52c799b-ed54-4eac-bc92-b04355c09cd0",
   "metadata": {},
   "outputs": [],
   "source": []
  },
  {
   "cell_type": "code",
   "execution_count": null,
   "id": "ce79cf40-8570-40bb-ac42-2e806fb93e9f",
   "metadata": {},
   "outputs": [],
   "source": []
  },
  {
   "cell_type": "code",
   "execution_count": null,
   "id": "ef2c1ba9-72c1-4690-9867-fab3f108d622",
   "metadata": {},
   "outputs": [],
   "source": []
  },
  {
   "cell_type": "code",
   "execution_count": null,
   "id": "91901852-4301-4868-9568-6f44196a1630",
   "metadata": {},
   "outputs": [],
   "source": []
  },
  {
   "cell_type": "code",
   "execution_count": null,
   "id": "20a240da-29e2-42a2-8f3c-417142cb8019",
   "metadata": {},
   "outputs": [],
   "source": []
  },
  {
   "cell_type": "code",
   "execution_count": null,
   "id": "646f02de-95fc-481f-b2c0-363d2a24af22",
   "metadata": {},
   "outputs": [],
   "source": []
  },
  {
   "cell_type": "code",
   "execution_count": null,
   "id": "7a6c5ec9-c703-409b-8a63-2c1b7c41feb2",
   "metadata": {},
   "outputs": [],
   "source": []
  },
  {
   "cell_type": "code",
   "execution_count": null,
   "id": "29f1ea9a-bdcc-446c-a38d-fcaa9dbaf610",
   "metadata": {},
   "outputs": [],
   "source": []
  },
  {
   "cell_type": "code",
   "execution_count": null,
   "id": "b5a7bb8d-4dbe-4bbf-a216-85e2a90dc884",
   "metadata": {},
   "outputs": [],
   "source": []
  },
  {
   "cell_type": "code",
   "execution_count": null,
   "id": "318538d7-fe4e-4bc5-8c11-6adfa662b9a2",
   "metadata": {},
   "outputs": [],
   "source": []
  },
  {
   "cell_type": "code",
   "execution_count": null,
   "id": "1f506ff3-325a-4d45-8d5d-cb7bdb499aec",
   "metadata": {},
   "outputs": [],
   "source": []
  },
  {
   "cell_type": "code",
   "execution_count": null,
   "id": "c7b09e43-f0ca-4f41-9a0a-2e6d824bda8c",
   "metadata": {},
   "outputs": [],
   "source": []
  },
  {
   "cell_type": "code",
   "execution_count": null,
   "id": "5989a572-d67e-4c98-89da-89e4c397d4ed",
   "metadata": {},
   "outputs": [],
   "source": []
  },
  {
   "cell_type": "code",
   "execution_count": null,
   "id": "62c4ffa6-f175-41e3-81d6-e3016c5de151",
   "metadata": {},
   "outputs": [],
   "source": []
  },
  {
   "cell_type": "code",
   "execution_count": null,
   "id": "cb7073da-0195-41a2-9bb0-734e1c6eda85",
   "metadata": {},
   "outputs": [],
   "source": []
  },
  {
   "cell_type": "code",
   "execution_count": null,
   "id": "9788a628-08e5-4e28-aa83-a2cdddbe2491",
   "metadata": {},
   "outputs": [],
   "source": []
  },
  {
   "cell_type": "code",
   "execution_count": null,
   "id": "05a1a278-d552-4c23-8d1b-b85edd04b953",
   "metadata": {},
   "outputs": [],
   "source": []
  },
  {
   "cell_type": "code",
   "execution_count": null,
   "id": "66f4a0f9-3aca-4fc1-b510-dc68bbb11c3b",
   "metadata": {},
   "outputs": [],
   "source": []
  },
  {
   "cell_type": "code",
   "execution_count": null,
   "id": "e01a7ac5-da42-499b-bc04-77ba72fb3f7b",
   "metadata": {},
   "outputs": [],
   "source": []
  },
  {
   "cell_type": "code",
   "execution_count": null,
   "id": "68b3eaec-bdc0-4d6a-8e21-9707a822c535",
   "metadata": {},
   "outputs": [],
   "source": []
  },
  {
   "cell_type": "code",
   "execution_count": null,
   "id": "41ddcb4c-5cea-4a45-91c7-033afe1844db",
   "metadata": {},
   "outputs": [],
   "source": []
  },
  {
   "cell_type": "code",
   "execution_count": null,
   "id": "89d97bfb-e740-40dc-b22d-14a1d8a04580",
   "metadata": {},
   "outputs": [],
   "source": []
  },
  {
   "cell_type": "code",
   "execution_count": null,
   "id": "caf16b90-e587-4bb1-a6df-87e8d1fb78d3",
   "metadata": {},
   "outputs": [],
   "source": []
  },
  {
   "cell_type": "code",
   "execution_count": null,
   "id": "a51ed41f-9fe5-40ba-b257-ea0e695880fc",
   "metadata": {},
   "outputs": [],
   "source": []
  },
  {
   "cell_type": "code",
   "execution_count": null,
   "id": "89a60618-f14e-4057-9281-587b8269fadc",
   "metadata": {},
   "outputs": [],
   "source": []
  },
  {
   "cell_type": "code",
   "execution_count": null,
   "id": "5abd7ca5-086b-45a4-9fe3-799fef2fb680",
   "metadata": {},
   "outputs": [],
   "source": []
  },
  {
   "cell_type": "code",
   "execution_count": null,
   "id": "51e2eaaa-9ab3-423d-b553-f3259a3731e2",
   "metadata": {},
   "outputs": [],
   "source": []
  },
  {
   "cell_type": "code",
   "execution_count": null,
   "id": "c548722d-ac56-4046-b3a7-63e9c9d526e0",
   "metadata": {},
   "outputs": [],
   "source": []
  },
  {
   "cell_type": "code",
   "execution_count": null,
   "id": "a83fcb7b-58de-42e9-b922-696445e833d5",
   "metadata": {},
   "outputs": [],
   "source": []
  },
  {
   "cell_type": "code",
   "execution_count": null,
   "id": "4a3cc2d1-7b36-4324-ab2a-013932f4b88f",
   "metadata": {},
   "outputs": [],
   "source": []
  },
  {
   "cell_type": "code",
   "execution_count": null,
   "id": "30d11a44-b93f-4584-a019-a8bd99474b35",
   "metadata": {},
   "outputs": [],
   "source": []
  },
  {
   "cell_type": "code",
   "execution_count": null,
   "id": "708733d3-81c7-48c6-b7b2-0a26e800a775",
   "metadata": {},
   "outputs": [],
   "source": []
  },
  {
   "cell_type": "code",
   "execution_count": null,
   "id": "1d59de94-1f76-46fd-8625-d2725fd894a4",
   "metadata": {},
   "outputs": [],
   "source": []
  },
  {
   "cell_type": "code",
   "execution_count": null,
   "id": "1a25ee77-8fec-45f2-b016-934588cd05a8",
   "metadata": {},
   "outputs": [],
   "source": []
  },
  {
   "cell_type": "code",
   "execution_count": null,
   "id": "9456d1a5-de61-46f0-b899-25264086c594",
   "metadata": {},
   "outputs": [],
   "source": []
  },
  {
   "cell_type": "code",
   "execution_count": null,
   "id": "bfea8fe3-c2f4-4646-a000-eaf46f5220d4",
   "metadata": {},
   "outputs": [],
   "source": []
  },
  {
   "cell_type": "code",
   "execution_count": null,
   "id": "5bd457e3-44db-4541-98d9-7755de4b244e",
   "metadata": {},
   "outputs": [],
   "source": []
  },
  {
   "cell_type": "code",
   "execution_count": null,
   "id": "54a0c907-3b9e-488d-b904-1197043fd9ff",
   "metadata": {},
   "outputs": [],
   "source": []
  },
  {
   "cell_type": "code",
   "execution_count": null,
   "id": "9bf95be5-204c-41fd-8a8b-227a83732374",
   "metadata": {},
   "outputs": [],
   "source": []
  },
  {
   "cell_type": "code",
   "execution_count": null,
   "id": "929442f3-8da9-41cb-a840-2fff76cc77fd",
   "metadata": {},
   "outputs": [],
   "source": []
  },
  {
   "cell_type": "code",
   "execution_count": null,
   "id": "47ed2da6-b90e-4d9d-891e-ac4000f6559e",
   "metadata": {},
   "outputs": [],
   "source": []
  },
  {
   "cell_type": "code",
   "execution_count": null,
   "id": "bcdfccf0-72f9-4c99-83bb-3ebb2cf18dde",
   "metadata": {},
   "outputs": [],
   "source": []
  },
  {
   "cell_type": "code",
   "execution_count": null,
   "id": "ff1d3874-8d5e-4197-9e4d-de00db90ec2e",
   "metadata": {},
   "outputs": [],
   "source": []
  },
  {
   "cell_type": "code",
   "execution_count": null,
   "id": "70e2c274-981d-48d1-824f-32ea0630a362",
   "metadata": {},
   "outputs": [],
   "source": []
  },
  {
   "cell_type": "code",
   "execution_count": null,
   "id": "556dd271-39b7-4e27-9f3a-2a4e06518008",
   "metadata": {},
   "outputs": [],
   "source": []
  },
  {
   "cell_type": "code",
   "execution_count": null,
   "id": "f7e12ed8-bb57-4804-aa52-58c56f6846a9",
   "metadata": {},
   "outputs": [],
   "source": []
  },
  {
   "cell_type": "code",
   "execution_count": null,
   "id": "e7c9d30f-2778-483f-a5f9-8eadba8cd8da",
   "metadata": {},
   "outputs": [],
   "source": []
  },
  {
   "cell_type": "code",
   "execution_count": null,
   "id": "1951bd0b-ee8d-4bf4-8f99-5a3f25b62338",
   "metadata": {},
   "outputs": [],
   "source": []
  },
  {
   "cell_type": "code",
   "execution_count": null,
   "id": "d6c0cbf4-e686-4f79-9b3f-d4130921c462",
   "metadata": {},
   "outputs": [],
   "source": []
  },
  {
   "cell_type": "code",
   "execution_count": null,
   "id": "911dfeab-51e0-4346-a112-56fff5bea3fb",
   "metadata": {},
   "outputs": [],
   "source": []
  },
  {
   "cell_type": "code",
   "execution_count": null,
   "id": "4921160b-2b8f-4ca9-bc94-3bf83c0da7a4",
   "metadata": {},
   "outputs": [],
   "source": []
  },
  {
   "cell_type": "code",
   "execution_count": null,
   "id": "ea667b81-e5cf-494b-9b42-a04e37d8c4bb",
   "metadata": {},
   "outputs": [],
   "source": []
  },
  {
   "cell_type": "code",
   "execution_count": null,
   "id": "b7e4ffdb-2f07-411e-8e55-0ce8144308c0",
   "metadata": {},
   "outputs": [],
   "source": []
  },
  {
   "cell_type": "code",
   "execution_count": null,
   "id": "5199febb-6bac-477e-8e8a-3954db62898a",
   "metadata": {},
   "outputs": [],
   "source": []
  },
  {
   "cell_type": "code",
   "execution_count": null,
   "id": "9fdd642c-de19-4189-afcb-6e04bf3c63d7",
   "metadata": {},
   "outputs": [],
   "source": []
  },
  {
   "cell_type": "code",
   "execution_count": null,
   "id": "26ad378e-95bf-4826-9151-d5048932d208",
   "metadata": {},
   "outputs": [],
   "source": []
  },
  {
   "cell_type": "code",
   "execution_count": null,
   "id": "2f8109de-0bd7-4944-889e-dfa74422192d",
   "metadata": {},
   "outputs": [],
   "source": []
  },
  {
   "cell_type": "code",
   "execution_count": null,
   "id": "ed2ed521-6db8-42f0-904c-0ace71e684bf",
   "metadata": {},
   "outputs": [],
   "source": []
  },
  {
   "cell_type": "code",
   "execution_count": null,
   "id": "fac90d05-167e-4645-9735-970dc738090f",
   "metadata": {},
   "outputs": [],
   "source": []
  },
  {
   "cell_type": "code",
   "execution_count": null,
   "id": "335d979b-a41b-4bea-b9fb-177c91360faf",
   "metadata": {},
   "outputs": [],
   "source": []
  },
  {
   "cell_type": "code",
   "execution_count": null,
   "id": "977b9c6a-a2c5-4dcc-82be-a93840c4cf50",
   "metadata": {},
   "outputs": [],
   "source": []
  },
  {
   "cell_type": "code",
   "execution_count": null,
   "id": "8fe5ff99-c26e-4e38-8cfd-c3da72ff9ec2",
   "metadata": {},
   "outputs": [],
   "source": []
  },
  {
   "cell_type": "code",
   "execution_count": null,
   "id": "db891b35-22be-446f-88a1-309d401ab1a9",
   "metadata": {},
   "outputs": [],
   "source": []
  },
  {
   "cell_type": "code",
   "execution_count": null,
   "id": "6d5988b9-ab32-42a0-8da9-b8c97e3b6c44",
   "metadata": {},
   "outputs": [],
   "source": []
  },
  {
   "cell_type": "code",
   "execution_count": null,
   "id": "dff17890-642c-4b08-8b6b-15360d018fed",
   "metadata": {},
   "outputs": [],
   "source": []
  },
  {
   "cell_type": "code",
   "execution_count": null,
   "id": "707b30af-7788-4cb6-b2a7-424c235ebd20",
   "metadata": {},
   "outputs": [],
   "source": []
  },
  {
   "cell_type": "code",
   "execution_count": null,
   "id": "19709fa4-86e8-4add-8ecf-83412fabda55",
   "metadata": {},
   "outputs": [],
   "source": []
  },
  {
   "cell_type": "code",
   "execution_count": null,
   "id": "c9ce1191-3130-4287-9ab3-3ff65eef9b1c",
   "metadata": {},
   "outputs": [],
   "source": []
  },
  {
   "cell_type": "code",
   "execution_count": null,
   "id": "0dda621e-fac8-4217-b4af-00878a8899a0",
   "metadata": {},
   "outputs": [],
   "source": []
  }
 ],
 "metadata": {
  "kernelspec": {
   "display_name": "Python 3 (ipykernel)",
   "language": "python",
   "name": "python3"
  },
  "language_info": {
   "codemirror_mode": {
    "name": "ipython",
    "version": 3
   },
   "file_extension": ".py",
   "mimetype": "text/x-python",
   "name": "python",
   "nbconvert_exporter": "python",
   "pygments_lexer": "ipython3",
   "version": "3.12.7"
  }
 },
 "nbformat": 4,
 "nbformat_minor": 5
}
